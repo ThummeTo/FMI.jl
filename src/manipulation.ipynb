{
 "cells": [
  {
   "cell_type": "markdown",
   "metadata": {},
   "source": [
    "# Manipulate a function\n",
    "Tutorial by Johannes Stoljar, Tobias Thummerer\n",
    "\n",
    "## License\n",
    "Copyright (c) 2021 Tobias Thummerer, Lars Mikelsons, Josef Kircher, Johannes Stoljar\n",
    "\n",
    "Licensed under the MIT license. See [LICENSE](https://github.com/thummeto/FMI.jl/blob/main/LICENSE) file in the project root for details.\n",
    "\n",
    "## Motivation\n",
    "This Julia Package *FMI.jl* is motivated by the use of simulation models in Julia. Here the FMI specification is implemented. FMI (*Functional Mock-up Interface*) is a free standard ([fmi-standard.org](http://fmi-standard.org/)) that defines a container and an interface to exchange dynamic models using a combination of XML files, binaries and C code zipped into a single file. The user can thus use simulation models in the form of an FMU (*Functional Mock-up Units*). Besides loading the FMU, the user can also set values for parameters and states and simulate the FMU both as co-simulation and model exchange simulation.\n",
    "\n",
    "## Introduction to the example\n",
    "This example shows how to overwrite a library function with an own function. For this the FMU model is simulated first without changes. Then the function `fmi2GetReal()` is overwritten and simulated again. Both simulations are displayed in a graph to show the change caused by overwriting the function. The model used is a one-dimensional spring pendulum with friction. The object-orientated structure of the *SpringFrictionPendulum1D* can be seen in the following graphic.\n",
    "\n",
    "![svg](https://github.com/thummeto/FMI.jl/blob/main/docs/src/examples/pics/SpringFrictionPendulum1D.svg?raw=true)  \n",
    "\n",
    "\n",
    "## Target group\n",
    "The example is primarily intended for users who work in the field of simulations. The example wants to show how simple it is to use FMUs in Julia.\n",
    "\n",
    "\n",
    "## Other formats\n",
    "Besides, this [Jupyter Notebook](https://github.com/thummeto/FMI.jl/blob/main/example/manipulation.ipynb) there is also a [Julia file](https://github.com/thummeto/FMI.jl/blob/main/example/manipulation.jl) with the same name, which contains only the code cells and for the documentation there is a [Markdown file](https://github.com/thummeto/FMI.jl/blob/main/docs/src/examples/manipulation.md) corresponding to the notebook.  \n",
    "\n",
    "\n",
    "## Getting started\n",
    "\n",
    "### Installation prerequisites\n",
    "|     | Description                       | Command                   | Alternative                                    |   \n",
    "|:----|:----------------------------------|:--------------------------|:-----------------------------------------------|\n",
    "| 1.  | Enter Package Manager via         | ]                         |                                                |\n",
    "| 2.  | Install FMI via                   | add FMI                   | add \" https://github.com/ThummeTo/FMI.jl \"     |\n",
    "| 3.  | Install FMIZoo via                | add FMIZoo                | add \" https://github.com/ThummeTo/FMIZoo.jl \"  |\n",
    "| 4.  | Install FMICore via               | add FMICore               | add \" https://github.com/ThummeTo/FMICore.jl \" |\n",
    "| 5.  | Install Plots via                 | add Plots                 |                                                |"
   ]
  },
  {
   "cell_type": "markdown",
   "metadata": {},
   "source": [
    "## Code section\n",
    "\n",
    "To run the example, the previously installed packages must be included. "
   ]
  },
  {
   "cell_type": "code",
   "execution_count": 1,
   "metadata": {
    "execution": {
     "iopub.execute_input": "2022-05-24T15:05:05.916000Z",
     "iopub.status.busy": "2022-05-24T15:05:04.955000Z",
     "iopub.status.idle": "2022-05-24T15:05:35.479000Z",
     "shell.execute_reply": "2022-05-24T15:05:35.382000Z"
    },
    "scrolled": false
   },
   "outputs": [
    {
     "name": "stderr",
     "output_type": "stream",
     "text": [
      "┌ Warning: Replacing docs for `FMI.fmiPlot :: Tuple{FMU2Solution}` in module `FMI`\n",
      "└ @ Base.Docs docs/Docs.jl:240\n"
     ]
    }
   ],
   "source": [
    "# imports\n",
    "using FMI\n",
    "using FMIZoo\n",
    "using FMICore\n",
    "using Plots"
   ]
  },
  {
   "cell_type": "markdown",
   "metadata": {},
   "source": [
    "### Simulation setup\n",
    "\n",
    "Next, the start time and end time of the simulation are set."
   ]
  },
  {
   "cell_type": "code",
   "execution_count": 2,
   "metadata": {
    "execution": {
     "iopub.execute_input": "2022-05-24T15:05:46.559000Z",
     "iopub.status.busy": "2022-05-24T15:05:35.482000Z",
     "iopub.status.idle": "2022-05-24T15:05:47.511000Z",
     "shell.execute_reply": "2022-05-24T15:05:47.511000Z"
    },
    "scrolled": false
   },
   "outputs": [
    {
     "data": {
      "text/plain": [
       "8.0"
      ]
     },
     "execution_count": 2,
     "metadata": {},
     "output_type": "execute_result"
    }
   ],
   "source": [
    "tStart = 0.0\n",
    "tStop = 8.0"
   ]
  },
  {
   "cell_type": "markdown",
   "metadata": {},
   "source": [
    "### Import FMU\n",
    "\n",
    "In the next lines of code the FMU model from *FMIZoo.jl* is loaded and the information about the FMU is shown."
   ]
  },
  {
   "cell_type": "code",
   "execution_count": 3,
   "metadata": {
    "execution": {
     "iopub.execute_input": "2022-05-24T15:05:47.516000Z",
     "iopub.status.busy": "2022-05-24T15:05:47.515000Z",
     "iopub.status.idle": "2022-05-24T15:05:53.086000Z",
     "shell.execute_reply": "2022-05-24T15:05:53.085000Z"
    },
    "scrolled": false
   },
   "outputs": [
    {
     "name": "stderr",
     "output_type": "stream",
     "text": [
      "┌ Info: fmi2Unzip(...): Successfully unzipped 29 files at `/tmp/fmijl_AxClYk/SpringFrictionPendulum1D`.\n",
      "└ @ FMIImport /home/runner/.julia/packages/FMIImport/S8pFT/src/FMI2_ext.jl:75\n",
      "┌ Info: fmi2Load(...): FMU resources location is `file:////tmp/fmijl_AxClYk/SpringFrictionPendulum1D/resources`\n",
      "└ @ FMIImport /home/runner/.julia/packages/FMIImport/S8pFT/src/FMI2_ext.jl:190\n",
      "┌ Info: fmi2Load(...): FMU supports both CS and ME, using CS as default if nothing specified.\n",
      "└ @ FMIImport /home/runner/.julia/packages/FMIImport/S8pFT/src/FMI2_ext.jl:193\n"
     ]
    },
    {
     "name": "stdout",
     "output_type": "stream",
     "text": [
      "#################### Begin information for FMU ####################\n",
      "\tModel name:\t\t\tSpringFrictionPendulum1D\n",
      "\tFMI-Version:\t\t\t2.0\n",
      "\tGUID:\t\t\t\t{df491d8d-0598-4495-913e-5b025e54d7f2}\n",
      "\tGeneration tool:\t\tDymola Version 2022x (64-bit), 2021-10-08\n",
      "\tGeneration time:\t\t2022-03-03T15:09:18Z\n",
      "\tVar. naming conv.:\t\tstructured\n",
      "\tEvent indicators:\t\t24\n",
      "\tInputs:\t\t\t\t0\n",
      "\tOutputs:\t\t\t0\n",
      "\tStates:\t\t\t\t2\n",
      "\t\t33554432 [\"mass.s\"]\n",
      "\t\t33554433 [\"mass.v\", \"mass.v_relfric\"]\n",
      "\tSupports Co-Simulation:\t\ttrue\n",
      "\t\tModel identifier:\tSpringFrictionPendulum1D\n",
      "\t\tGet/Set State:\t\ttrue\n",
      "\t\tSerialize State:\ttrue\n",
      "\t\tDir. Derivatives:\ttrue\n",
      "\t\tVar. com. steps:\ttrue\n",
      "\t\tInput interpol.:\ttrue\n",
      "\t\tMax order out. der.:\t1\n",
      "\tSupports Model-Exchange:\ttrue\n",
      "\t\tModel identifier:\tSpringFrictionPendulum1D\n",
      "\t\tGet/Set State:\t\ttrue\n",
      "\t\tSerialize State:\ttrue\n",
      "\t\tDir. Derivatives:\ttrue\n",
      "##################### End information for FMU #####################\n"
     ]
    }
   ],
   "source": [
    "# we use an FMU from the FMIZoo.jl\n",
    "pathToFMU = get_model_filename(\"SpringFrictionPendulum1D\", \"Dymola\", \"2022x\")\n",
    "\n",
    "myFMU = fmiLoad(pathToFMU)\n",
    "\n",
    "fmiInfo(myFMU)"
   ]
  },
  {
   "cell_type": "markdown",
   "metadata": {},
   "source": [
    "### Simulate FMU\n",
    "\n",
    "In the next steps the recorded value is defined. The recorded value is the position of the mass. In the function `fmiSimulateME()` the FMU is simulated in model-exchange mode (ME) with an adaptive step size. In addition, the start and end time and the recorded variables are specified."
   ]
  },
  {
   "cell_type": "code",
   "execution_count": 4,
   "metadata": {
    "execution": {
     "iopub.execute_input": "2022-05-24T15:05:53.089000Z",
     "iopub.status.busy": "2022-05-24T15:05:53.089000Z",
     "iopub.status.idle": "2022-05-24T15:06:16.714000Z",
     "shell.execute_reply": "2022-05-24T15:06:16.714000Z"
    }
   },
   "outputs": [
    {
     "name": "stderr",
     "output_type": "stream",
     "text": [
      "\u001b[34mSimulating ME-FMU ... 100%|██████████████████████████████| Time: 0:00:13\u001b[39m\n"
     ]
    },
    {
     "data": {
      "text/plain": [
       "Model name:\n",
       "\tSpringFrictionPendulum1D\n",
       "Success:\n",
       "\ttrue\n",
       "States [110]:\n",
       "\t0.0\t[0.5, 0.0]\n",
       "\t2.3529411764719727e-11\t[0.5, 1.0e-10]\n",
       "\t1.0000023529411766e-5\t[0.5000000002125017, 4.250030186348503e-5]\n",
       "\t0.00011000002352941177\t[0.5000000257134062, 0.0004675245102952289]\n",
       "\t0.0011100000235294118\t[0.5000026191281834, 0.004719970360497647]\n",
       "\t0.011110000023529413\t[0.5002631686645611, 0.047449647283752144]\n",
       "\t0.03982466736770743\t[0.5034050123596227, 0.17168075110950387]\n",
       "\t0.09972054285078226\t[0.5215006197560228, 0.43204954153497455]\n",
       "\t0.16481836271111422\t[0.5585747156842935, 0.703758265932321]\n",
       "\t...\n",
       "\t8.0\t[1.0668213438183276, -1.0000099359121942e-10]\n",
       "Values [110]:\n",
       "\t0.0\t(0.5,)\n",
       "\t2.3529411764719727e-11\t(0.5,)\n",
       "\t1.0000023529411766e-5\t(0.5000000002125017,)\n",
       "\t0.00011000002352941177\t(0.5000000257134062,)\n",
       "\t0.0011100000235294118\t(0.5000026191281834,)\n",
       "\t0.011110000023529413\t(0.5002631686645611,)\n",
       "\t0.03982466736770743\t(0.5034050123596227,)\n",
       "\t0.09972054285078226\t(0.5215006197560228,)\n",
       "\t0.16481836271111422\t(0.5585747156842935,)\n",
       "\t...\n",
       "\t8.0\t(1.0668213438183276,)\n",
       "Events [6]:\n",
       "\tState-Event #11 @ 0.0s\n",
       "\tState-Event #11 @ 0.9939s\n",
       "\tState-Event #19 @ 1.9881s\n",
       "\tState-Event #11 @ 2.9829s\n",
       "\tState-Event #19 @ 3.9787s\n",
       "\tState-Event #11 @ 4.9768s\n"
      ]
     },
     "execution_count": 4,
     "metadata": {},
     "output_type": "execute_result"
    }
   ],
   "source": [
    "vrs = [\"mass.s\"]\n",
    "\n",
    "simData = fmiSimulateME(myFMU, tStart, tStop; recordValues=vrs)"
   ]
  },
  {
   "cell_type": "markdown",
   "metadata": {},
   "source": [
    "### Plotting FMU\n",
    "\n",
    "After the simulation is finished, the result of the FMU for the model-exchange mode can be plotted. In the plot for the FMU it can be seen that the oscillation continues to decrease due to the effect of the friction. If you simulate long enough, the oscillation comes to a standstill in a certain time."
   ]
  },
  {
   "cell_type": "code",
   "execution_count": 5,
   "metadata": {
    "execution": {
     "iopub.execute_input": "2022-05-24T15:06:16.718000Z",
     "iopub.status.busy": "2022-05-24T15:06:16.718000Z",
     "iopub.status.idle": "2022-05-24T15:06:41.814000Z",
     "shell.execute_reply": "2022-05-24T15:06:41.814000Z"
    },
    "scrolled": false
   },
   "outputs": [
    {
     "data": {
      "image/svg+xml": [
       "<?xml version=\"1.0\" encoding=\"utf-8\"?>\n",
       "<svg xmlns=\"http://www.w3.org/2000/svg\" xmlns:xlink=\"http://www.w3.org/1999/xlink\" width=\"600\" height=\"400\" viewBox=\"0 0 2400 1600\">\n",
       "<defs>\n",
       "  <clipPath id=\"clip020\">\n",
       "    <rect x=\"0\" y=\"0\" width=\"2400\" height=\"1600\"/>\n",
       "  </clipPath>\n",
       "</defs>\n",
       "<path clip-path=\"url(#clip020)\" d=\"\n",
       "M0 1600 L2400 1600 L2400 0 L0 0  Z\n",
       "  \" fill=\"#ffffff\" fill-rule=\"evenodd\" fill-opacity=\"1\"/>\n",
       "<defs>\n",
       "  <clipPath id=\"clip021\">\n",
       "    <rect x=\"480\" y=\"0\" width=\"1681\" height=\"1600\"/>\n",
       "  </clipPath>\n",
       "</defs>\n",
       "<path clip-path=\"url(#clip020)\" d=\"\n",
       "M156.274 1423.18 L2352.76 1423.18 L2352.76 47.2441 L156.274 47.2441  Z\n",
       "  \" fill=\"#ffffff\" fill-rule=\"evenodd\" fill-opacity=\"1\"/>\n",
       "<defs>\n",
       "  <clipPath id=\"clip022\">\n",
       "    <rect x=\"156\" y=\"47\" width=\"2197\" height=\"1377\"/>\n",
       "  </clipPath>\n",
       "</defs>\n",
       "<polyline clip-path=\"url(#clip022)\" style=\"stroke:#000000; stroke-linecap:butt; stroke-linejoin:round; stroke-width:2; stroke-opacity:0.1; fill:none\" points=\"\n",
       "  218.439,1423.18 218.439,47.2441 \n",
       "  \"/>\n",
       "<polyline clip-path=\"url(#clip022)\" style=\"stroke:#000000; stroke-linecap:butt; stroke-linejoin:round; stroke-width:2; stroke-opacity:0.1; fill:none\" points=\"\n",
       "  736.477,1423.18 736.477,47.2441 \n",
       "  \"/>\n",
       "<polyline clip-path=\"url(#clip022)\" style=\"stroke:#000000; stroke-linecap:butt; stroke-linejoin:round; stroke-width:2; stroke-opacity:0.1; fill:none\" points=\"\n",
       "  1254.52,1423.18 1254.52,47.2441 \n",
       "  \"/>\n",
       "<polyline clip-path=\"url(#clip022)\" style=\"stroke:#000000; stroke-linecap:butt; stroke-linejoin:round; stroke-width:2; stroke-opacity:0.1; fill:none\" points=\"\n",
       "  1772.55,1423.18 1772.55,47.2441 \n",
       "  \"/>\n",
       "<polyline clip-path=\"url(#clip022)\" style=\"stroke:#000000; stroke-linecap:butt; stroke-linejoin:round; stroke-width:2; stroke-opacity:0.1; fill:none\" points=\"\n",
       "  2290.59,1423.18 2290.59,47.2441 \n",
       "  \"/>\n",
       "<polyline clip-path=\"url(#clip020)\" style=\"stroke:#000000; stroke-linecap:butt; stroke-linejoin:round; stroke-width:4; stroke-opacity:1; fill:none\" points=\"\n",
       "  156.274,1423.18 2352.76,1423.18 \n",
       "  \"/>\n",
       "<polyline clip-path=\"url(#clip020)\" style=\"stroke:#000000; stroke-linecap:butt; stroke-linejoin:round; stroke-width:4; stroke-opacity:1; fill:none\" points=\"\n",
       "  218.439,1423.18 218.439,1404.28 \n",
       "  \"/>\n",
       "<polyline clip-path=\"url(#clip020)\" style=\"stroke:#000000; stroke-linecap:butt; stroke-linejoin:round; stroke-width:4; stroke-opacity:1; fill:none\" points=\"\n",
       "  736.477,1423.18 736.477,1404.28 \n",
       "  \"/>\n",
       "<polyline clip-path=\"url(#clip020)\" style=\"stroke:#000000; stroke-linecap:butt; stroke-linejoin:round; stroke-width:4; stroke-opacity:1; fill:none\" points=\"\n",
       "  1254.52,1423.18 1254.52,1404.28 \n",
       "  \"/>\n",
       "<polyline clip-path=\"url(#clip020)\" style=\"stroke:#000000; stroke-linecap:butt; stroke-linejoin:round; stroke-width:4; stroke-opacity:1; fill:none\" points=\"\n",
       "  1772.55,1423.18 1772.55,1404.28 \n",
       "  \"/>\n",
       "<polyline clip-path=\"url(#clip020)\" style=\"stroke:#000000; stroke-linecap:butt; stroke-linejoin:round; stroke-width:4; stroke-opacity:1; fill:none\" points=\"\n",
       "  2290.59,1423.18 2290.59,1404.28 \n",
       "  \"/>\n",
       "<path clip-path=\"url(#clip020)\" d=\"M218.439 1454.1 Q214.828 1454.1 212.999 1457.66 Q211.193 1461.2 211.193 1468.33 Q211.193 1475.44 212.999 1479.01 Q214.828 1482.55 218.439 1482.55 Q222.073 1482.55 223.879 1479.01 Q225.707 1475.44 225.707 1468.33 Q225.707 1461.2 223.879 1457.66 Q222.073 1454.1 218.439 1454.1 M218.439 1450.39 Q224.249 1450.39 227.304 1455 Q230.383 1459.58 230.383 1468.33 Q230.383 1477.06 227.304 1481.67 Q224.249 1486.25 218.439 1486.25 Q212.629 1486.25 209.55 1481.67 Q206.494 1477.06 206.494 1468.33 Q206.494 1459.58 209.55 1455 Q212.629 1450.39 218.439 1450.39 Z\" fill=\"#000000\" fill-rule=\"evenodd\" fill-opacity=\"1\" /><path clip-path=\"url(#clip020)\" d=\"M731.13 1481.64 L747.449 1481.64 L747.449 1485.58 L725.505 1485.58 L725.505 1481.64 Q728.167 1478.89 732.75 1474.26 Q737.357 1469.61 738.537 1468.27 Q740.782 1465.74 741.662 1464.01 Q742.565 1462.25 742.565 1460.56 Q742.565 1457.8 740.62 1456.07 Q738.699 1454.33 735.597 1454.33 Q733.398 1454.33 730.945 1455.09 Q728.514 1455.86 725.736 1457.41 L725.736 1452.69 Q728.56 1451.55 731.014 1450.97 Q733.468 1450.39 735.505 1450.39 Q740.875 1450.39 744.069 1453.08 Q747.264 1455.77 747.264 1460.26 Q747.264 1462.39 746.454 1464.31 Q745.667 1466.2 743.56 1468.8 Q742.981 1469.47 739.88 1472.69 Q736.778 1475.88 731.13 1481.64 Z\" fill=\"#000000\" fill-rule=\"evenodd\" fill-opacity=\"1\" /><path clip-path=\"url(#clip020)\" d=\"M1257.52 1455.09 L1245.72 1473.54 L1257.52 1473.54 L1257.52 1455.09 M1256.3 1451.02 L1262.18 1451.02 L1262.18 1473.54 L1267.11 1473.54 L1267.11 1477.43 L1262.18 1477.43 L1262.18 1485.58 L1257.52 1485.58 L1257.52 1477.43 L1241.92 1477.43 L1241.92 1472.92 L1256.3 1451.02 Z\" fill=\"#000000\" fill-rule=\"evenodd\" fill-opacity=\"1\" /><path clip-path=\"url(#clip020)\" d=\"M1772.96 1466.44 Q1769.81 1466.44 1767.96 1468.59 Q1766.13 1470.74 1766.13 1474.49 Q1766.13 1478.22 1767.96 1480.39 Q1769.81 1482.55 1772.96 1482.55 Q1776.11 1482.55 1777.94 1480.39 Q1779.79 1478.22 1779.79 1474.49 Q1779.79 1470.74 1777.94 1468.59 Q1776.11 1466.44 1772.96 1466.44 M1782.24 1451.78 L1782.24 1456.04 Q1780.48 1455.21 1778.68 1454.77 Q1776.89 1454.33 1775.13 1454.33 Q1770.5 1454.33 1768.05 1457.45 Q1765.62 1460.58 1765.27 1466.9 Q1766.64 1464.89 1768.7 1463.82 Q1770.76 1462.73 1773.24 1462.73 Q1778.44 1462.73 1781.45 1465.9 Q1784.49 1469.05 1784.49 1474.49 Q1784.49 1479.82 1781.34 1483.03 Q1778.19 1486.25 1772.96 1486.25 Q1766.96 1486.25 1763.79 1481.67 Q1760.62 1477.06 1760.62 1468.33 Q1760.62 1460.14 1764.51 1455.28 Q1768.4 1450.39 1774.95 1450.39 Q1776.71 1450.39 1778.49 1450.74 Q1780.3 1451.09 1782.24 1451.78 Z\" fill=\"#000000\" fill-rule=\"evenodd\" fill-opacity=\"1\" /><path clip-path=\"url(#clip020)\" d=\"M2290.59 1469.17 Q2287.26 1469.17 2285.34 1470.95 Q2283.44 1472.73 2283.44 1475.86 Q2283.44 1478.98 2285.34 1480.77 Q2287.26 1482.55 2290.59 1482.55 Q2293.92 1482.55 2295.85 1480.77 Q2297.77 1478.96 2297.77 1475.86 Q2297.77 1472.73 2295.85 1470.95 Q2293.95 1469.17 2290.59 1469.17 M2285.92 1467.18 Q2282.91 1466.44 2281.22 1464.38 Q2279.55 1462.32 2279.55 1459.35 Q2279.55 1455.21 2282.49 1452.8 Q2285.45 1450.39 2290.59 1450.39 Q2295.75 1450.39 2298.69 1452.8 Q2301.63 1455.21 2301.63 1459.35 Q2301.63 1462.32 2299.94 1464.38 Q2298.28 1466.44 2295.29 1467.18 Q2298.67 1467.96 2300.54 1470.26 Q2302.44 1472.55 2302.44 1475.86 Q2302.44 1480.88 2299.36 1483.57 Q2296.31 1486.25 2290.59 1486.25 Q2284.87 1486.25 2281.8 1483.57 Q2278.74 1480.88 2278.74 1475.86 Q2278.74 1472.55 2280.64 1470.26 Q2282.54 1467.96 2285.92 1467.18 M2284.2 1459.79 Q2284.2 1462.48 2285.87 1463.98 Q2287.56 1465.49 2290.59 1465.49 Q2293.6 1465.49 2295.29 1463.98 Q2297 1462.48 2297 1459.79 Q2297 1457.11 2295.29 1455.6 Q2293.6 1454.1 2290.59 1454.1 Q2287.56 1454.1 2285.87 1455.6 Q2284.2 1457.11 2284.2 1459.79 Z\" fill=\"#000000\" fill-rule=\"evenodd\" fill-opacity=\"1\" /><path clip-path=\"url(#clip020)\" d=\"M1202.83 1522.27 L1202.83 1532.4 L1214.89 1532.4 L1214.89 1536.95 L1202.83 1536.95 L1202.83 1556.3 Q1202.83 1560.66 1204 1561.9 Q1205.21 1563.14 1208.87 1563.14 L1214.89 1563.14 L1214.89 1568.04 L1208.87 1568.04 Q1202.09 1568.04 1199.52 1565.53 Q1196.94 1562.98 1196.94 1556.3 L1196.94 1536.95 L1192.64 1536.95 L1192.64 1532.4 L1196.94 1532.4 L1196.94 1522.27 L1202.83 1522.27 Z\" fill=\"#000000\" fill-rule=\"evenodd\" fill-opacity=\"1\" /><path clip-path=\"url(#clip020)\" d=\"M1242.77 1518.52 L1256.27 1518.52 L1256.27 1523.07 L1248.63 1523.07 L1248.63 1572.09 L1256.27 1572.09 L1256.27 1576.64 L1242.77 1576.64 L1242.77 1518.52 Z\" fill=\"#000000\" fill-rule=\"evenodd\" fill-opacity=\"1\" /><path clip-path=\"url(#clip020)\" d=\"M1291.47 1533.45 L1291.47 1538.98 Q1288.99 1537.71 1286.31 1537.07 Q1283.64 1536.44 1280.77 1536.44 Q1276.41 1536.44 1274.22 1537.77 Q1272.05 1539.11 1272.05 1541.79 Q1272.05 1543.82 1273.61 1545 Q1275.17 1546.15 1279.88 1547.2 L1281.89 1547.64 Q1288.13 1548.98 1290.74 1551.43 Q1293.38 1553.85 1293.38 1558.21 Q1293.38 1563.17 1289.43 1566.07 Q1285.52 1568.97 1278.64 1568.97 Q1275.78 1568.97 1272.66 1568.39 Q1269.57 1567.85 1266.13 1566.74 L1266.13 1560.69 Q1269.38 1562.38 1272.53 1563.24 Q1275.68 1564.07 1278.77 1564.07 Q1282.91 1564.07 1285.13 1562.66 Q1287.36 1561.23 1287.36 1558.65 Q1287.36 1556.27 1285.74 1554.99 Q1284.15 1553.72 1278.7 1552.54 L1276.67 1552.07 Q1271.23 1550.92 1268.81 1548.56 Q1266.39 1546.18 1266.39 1542.04 Q1266.39 1537.01 1269.95 1534.27 Q1273.52 1531.54 1280.07 1531.54 Q1283.32 1531.54 1286.18 1532.01 Q1289.05 1532.49 1291.47 1533.45 Z\" fill=\"#000000\" fill-rule=\"evenodd\" fill-opacity=\"1\" /><path clip-path=\"url(#clip020)\" d=\"M1316.39 1518.52 L1316.39 1576.64 L1302.89 1576.64 L1302.89 1572.09 L1310.5 1572.09 L1310.5 1523.07 L1302.89 1523.07 L1302.89 1518.52 L1316.39 1518.52 Z\" fill=\"#000000\" fill-rule=\"evenodd\" fill-opacity=\"1\" /><polyline clip-path=\"url(#clip022)\" style=\"stroke:#000000; stroke-linecap:butt; stroke-linejoin:round; stroke-width:2; stroke-opacity:0.1; fill:none\" points=\"\n",
       "  156.274,1243.97 2352.76,1243.97 \n",
       "  \"/>\n",
       "<polyline clip-path=\"url(#clip022)\" style=\"stroke:#000000; stroke-linecap:butt; stroke-linejoin:round; stroke-width:2; stroke-opacity:0.1; fill:none\" points=\"\n",
       "  156.274,963.428 2352.76,963.428 \n",
       "  \"/>\n",
       "<polyline clip-path=\"url(#clip022)\" style=\"stroke:#000000; stroke-linecap:butt; stroke-linejoin:round; stroke-width:2; stroke-opacity:0.1; fill:none\" points=\"\n",
       "  156.274,682.888 2352.76,682.888 \n",
       "  \"/>\n",
       "<polyline clip-path=\"url(#clip022)\" style=\"stroke:#000000; stroke-linecap:butt; stroke-linejoin:round; stroke-width:2; stroke-opacity:0.1; fill:none\" points=\"\n",
       "  156.274,402.348 2352.76,402.348 \n",
       "  \"/>\n",
       "<polyline clip-path=\"url(#clip022)\" style=\"stroke:#000000; stroke-linecap:butt; stroke-linejoin:round; stroke-width:2; stroke-opacity:0.1; fill:none\" points=\"\n",
       "  156.274,121.808 2352.76,121.808 \n",
       "  \"/>\n",
       "<polyline clip-path=\"url(#clip020)\" style=\"stroke:#000000; stroke-linecap:butt; stroke-linejoin:round; stroke-width:4; stroke-opacity:1; fill:none\" points=\"\n",
       "  156.274,1423.18 156.274,47.2441 \n",
       "  \"/>\n",
       "<polyline clip-path=\"url(#clip020)\" style=\"stroke:#000000; stroke-linecap:butt; stroke-linejoin:round; stroke-width:4; stroke-opacity:1; fill:none\" points=\"\n",
       "  156.274,1243.97 175.172,1243.97 \n",
       "  \"/>\n",
       "<polyline clip-path=\"url(#clip020)\" style=\"stroke:#000000; stroke-linecap:butt; stroke-linejoin:round; stroke-width:4; stroke-opacity:1; fill:none\" points=\"\n",
       "  156.274,963.428 175.172,963.428 \n",
       "  \"/>\n",
       "<polyline clip-path=\"url(#clip020)\" style=\"stroke:#000000; stroke-linecap:butt; stroke-linejoin:round; stroke-width:4; stroke-opacity:1; fill:none\" points=\"\n",
       "  156.274,682.888 175.172,682.888 \n",
       "  \"/>\n",
       "<polyline clip-path=\"url(#clip020)\" style=\"stroke:#000000; stroke-linecap:butt; stroke-linejoin:round; stroke-width:4; stroke-opacity:1; fill:none\" points=\"\n",
       "  156.274,402.348 175.172,402.348 \n",
       "  \"/>\n",
       "<polyline clip-path=\"url(#clip020)\" style=\"stroke:#000000; stroke-linecap:butt; stroke-linejoin:round; stroke-width:4; stroke-opacity:1; fill:none\" points=\"\n",
       "  156.274,121.808 175.172,121.808 \n",
       "  \"/>\n",
       "<path clip-path=\"url(#clip020)\" d=\"M62.9365 1229.77 Q59.3254 1229.77 57.4967 1233.33 Q55.6912 1236.87 55.6912 1244 Q55.6912 1251.11 57.4967 1254.67 Q59.3254 1258.22 62.9365 1258.22 Q66.5707 1258.22 68.3763 1254.67 Q70.205 1251.11 70.205 1244 Q70.205 1236.87 68.3763 1233.33 Q66.5707 1229.77 62.9365 1229.77 M62.9365 1226.06 Q68.7467 1226.06 71.8022 1230.67 Q74.8809 1235.25 74.8809 1244 Q74.8809 1252.73 71.8022 1257.34 Q68.7467 1261.92 62.9365 1261.92 Q57.1264 1261.92 54.0477 1257.34 Q50.9921 1252.73 50.9921 1244 Q50.9921 1235.25 54.0477 1230.67 Q57.1264 1226.06 62.9365 1226.06 Z\" fill=\"#000000\" fill-rule=\"evenodd\" fill-opacity=\"1\" /><path clip-path=\"url(#clip020)\" d=\"M83.0984 1255.37 L87.9827 1255.37 L87.9827 1261.25 L83.0984 1261.25 L83.0984 1255.37 Z\" fill=\"#000000\" fill-rule=\"evenodd\" fill-opacity=\"1\" /><path clip-path=\"url(#clip020)\" d=\"M108.746 1242.1 Q105.598 1242.1 103.746 1244.26 Q101.918 1246.41 101.918 1250.16 Q101.918 1253.89 103.746 1256.06 Q105.598 1258.22 108.746 1258.22 Q111.895 1258.22 113.723 1256.06 Q115.575 1253.89 115.575 1250.16 Q115.575 1246.41 113.723 1244.26 Q111.895 1242.1 108.746 1242.1 M118.029 1227.45 L118.029 1231.71 Q116.27 1230.88 114.464 1230.44 Q112.682 1230 110.922 1230 Q106.293 1230 103.839 1233.12 Q101.409 1236.25 101.061 1242.57 Q102.427 1240.55 104.487 1239.49 Q106.547 1238.4 109.024 1238.4 Q114.233 1238.4 117.242 1241.57 Q120.274 1244.72 120.274 1250.16 Q120.274 1255.48 117.126 1258.7 Q113.978 1261.92 108.746 1261.92 Q102.751 1261.92 99.5798 1257.34 Q96.4085 1252.73 96.4085 1244 Q96.4085 1235.81 100.297 1230.95 Q104.186 1226.06 110.737 1226.06 Q112.496 1226.06 114.279 1226.41 Q116.084 1226.76 118.029 1227.45 Z\" fill=\"#000000\" fill-rule=\"evenodd\" fill-opacity=\"1\" /><path clip-path=\"url(#clip020)\" d=\"M63.1911 949.227 Q59.58 949.227 57.7513 952.792 Q55.9458 956.333 55.9458 963.463 Q55.9458 970.569 57.7513 974.134 Q59.58 977.676 63.1911 977.676 Q66.8254 977.676 68.6309 974.134 Q70.4596 970.569 70.4596 963.463 Q70.4596 956.333 68.6309 952.792 Q66.8254 949.227 63.1911 949.227 M63.1911 945.523 Q69.0013 945.523 72.0568 950.13 Q75.1355 954.713 75.1355 963.463 Q75.1355 972.19 72.0568 976.796 Q69.0013 981.379 63.1911 981.379 Q57.381 981.379 54.3023 976.796 Q51.2468 972.19 51.2468 963.463 Q51.2468 954.713 54.3023 950.13 Q57.381 945.523 63.1911 945.523 Z\" fill=\"#000000\" fill-rule=\"evenodd\" fill-opacity=\"1\" /><path clip-path=\"url(#clip020)\" d=\"M83.3531 974.829 L88.2373 974.829 L88.2373 980.708 L83.3531 980.708 L83.3531 974.829 Z\" fill=\"#000000\" fill-rule=\"evenodd\" fill-opacity=\"1\" /><path clip-path=\"url(#clip020)\" d=\"M108.422 964.296 Q105.089 964.296 103.168 966.079 Q101.27 967.861 101.27 970.986 Q101.27 974.111 103.168 975.893 Q105.089 977.676 108.422 977.676 Q111.756 977.676 113.677 975.893 Q115.598 974.088 115.598 970.986 Q115.598 967.861 113.677 966.079 Q111.779 964.296 108.422 964.296 M103.746 962.305 Q100.737 961.565 99.0474 959.505 Q97.3808 957.444 97.3808 954.481 Q97.3808 950.338 100.321 947.931 Q103.284 945.523 108.422 945.523 Q113.584 945.523 116.524 947.931 Q119.464 950.338 119.464 954.481 Q119.464 957.444 117.774 959.505 Q116.108 961.565 113.121 962.305 Q116.501 963.092 118.376 965.384 Q120.274 967.676 120.274 970.986 Q120.274 976.009 117.195 978.694 Q114.14 981.379 108.422 981.379 Q102.705 981.379 99.6261 978.694 Q96.5706 976.009 96.5706 970.986 Q96.5706 967.676 98.4687 965.384 Q100.367 963.092 103.746 962.305 M102.034 954.921 Q102.034 957.606 103.7 959.111 Q105.39 960.616 108.422 960.616 Q111.432 960.616 113.121 959.111 Q114.834 957.606 114.834 954.921 Q114.834 952.236 113.121 950.731 Q111.432 949.227 108.422 949.227 Q105.39 949.227 103.7 950.731 Q102.034 952.236 102.034 954.921 Z\" fill=\"#000000\" fill-rule=\"evenodd\" fill-opacity=\"1\" /><path clip-path=\"url(#clip020)\" d=\"M53.9088 696.233 L61.5476 696.233 L61.5476 669.867 L53.2375 671.534 L53.2375 667.275 L61.5013 665.608 L66.1772 665.608 L66.1772 696.233 L73.8161 696.233 L73.8161 700.168 L53.9088 700.168 L53.9088 696.233 Z\" fill=\"#000000\" fill-rule=\"evenodd\" fill-opacity=\"1\" /><path clip-path=\"url(#clip020)\" d=\"M83.2605 694.288 L88.1447 694.288 L88.1447 700.168 L83.2605 700.168 L83.2605 694.288 Z\" fill=\"#000000\" fill-rule=\"evenodd\" fill-opacity=\"1\" /><path clip-path=\"url(#clip020)\" d=\"M108.33 668.687 Q104.719 668.687 102.89 672.252 Q101.084 675.793 101.084 682.923 Q101.084 690.029 102.89 693.594 Q104.719 697.136 108.33 697.136 Q111.964 697.136 113.77 693.594 Q115.598 690.029 115.598 682.923 Q115.598 675.793 113.77 672.252 Q111.964 668.687 108.33 668.687 M108.33 664.983 Q114.14 664.983 117.195 669.59 Q120.274 674.173 120.274 682.923 Q120.274 691.65 117.195 696.256 Q114.14 700.839 108.33 700.839 Q102.52 700.839 99.4409 696.256 Q96.3854 691.65 96.3854 682.923 Q96.3854 674.173 99.4409 669.59 Q102.52 664.983 108.33 664.983 Z\" fill=\"#000000\" fill-rule=\"evenodd\" fill-opacity=\"1\" /><path clip-path=\"url(#clip020)\" d=\"M55.506 415.693 L63.1448 415.693 L63.1448 389.327 L54.8347 390.994 L54.8347 386.735 L63.0985 385.068 L67.7744 385.068 L67.7744 415.693 L75.4133 415.693 L75.4133 419.628 L55.506 419.628 L55.506 415.693 Z\" fill=\"#000000\" fill-rule=\"evenodd\" fill-opacity=\"1\" /><path clip-path=\"url(#clip020)\" d=\"M84.8577 413.748 L89.7419 413.748 L89.7419 419.628 L84.8577 419.628 L84.8577 413.748 Z\" fill=\"#000000\" fill-rule=\"evenodd\" fill-opacity=\"1\" /><path clip-path=\"url(#clip020)\" d=\"M103.955 415.693 L120.274 415.693 L120.274 419.628 L98.3298 419.628 L98.3298 415.693 Q100.992 412.938 105.575 408.309 Q110.182 403.656 111.362 402.313 Q113.608 399.79 114.487 398.054 Q115.39 396.295 115.39 394.605 Q115.39 391.85 113.445 390.114 Q111.524 388.378 108.422 388.378 Q106.223 388.378 103.77 389.142 Q101.339 389.906 98.5613 391.457 L98.5613 386.735 Q101.385 385.6 103.839 385.022 Q106.293 384.443 108.33 384.443 Q113.7 384.443 116.895 387.128 Q120.089 389.813 120.089 394.304 Q120.089 396.434 119.279 398.355 Q118.492 400.253 116.385 402.846 Q115.807 403.517 112.705 406.735 Q109.603 409.929 103.955 415.693 Z\" fill=\"#000000\" fill-rule=\"evenodd\" fill-opacity=\"1\" /><path clip-path=\"url(#clip020)\" d=\"M53.4227 135.153 L61.0615 135.153 L61.0615 108.787 L52.7514 110.454 L52.7514 106.195 L61.0152 104.528 L65.6911 104.528 L65.6911 135.153 L73.33 135.153 L73.33 139.088 L53.4227 139.088 L53.4227 135.153 Z\" fill=\"#000000\" fill-rule=\"evenodd\" fill-opacity=\"1\" /><path clip-path=\"url(#clip020)\" d=\"M82.7744 133.208 L87.6586 133.208 L87.6586 139.088 L82.7744 139.088 L82.7744 133.208 Z\" fill=\"#000000\" fill-rule=\"evenodd\" fill-opacity=\"1\" /><path clip-path=\"url(#clip020)\" d=\"M110.691 108.602 L98.8854 127.051 L110.691 127.051 L110.691 108.602 M109.464 104.528 L115.344 104.528 L115.344 127.051 L120.274 127.051 L120.274 130.94 L115.344 130.94 L115.344 139.088 L110.691 139.088 L110.691 130.94 L95.0891 130.94 L95.0891 126.426 L109.464 104.528 Z\" fill=\"#000000\" fill-rule=\"evenodd\" fill-opacity=\"1\" /><polyline clip-path=\"url(#clip022)\" style=\"stroke:#009af9; stroke-linecap:butt; stroke-linejoin:round; stroke-width:4; stroke-opacity:1; fill:none\" points=\"\n",
       "  218.439,1384.24 218.439,1384.24 218.441,1384.24 218.467,1384.24 218.726,1384.23 221.316,1383.87 228.754,1379.46 244.268,1354.08 261.13,1302.08 281.851,1205.98 \n",
       "  302.573,1079.88 323.294,931.686 344.016,770.781 364.737,607.406 385.459,451.964 406.181,314.366 426.902,203.449 447.624,126.517 468.345,89.133 475.871,86.1857 \n",
       "  496.592,102.178 517.314,150.188 538.035,228.143 558.757,331.558 579.478,454.057 600.2,587.928 620.921,724.676 641.643,855.589 662.364,972.292 683.086,1067.24 \n",
       "  703.807,1134.09 724.529,1167.92 733.396,1171.36 754.118,1158.88 774.839,1121.34 795.561,1060.19 816.282,978.793 837.004,882.062 857.725,776.016 878.447,667.357 \n",
       "  899.168,563.007 919.89,469.678 940.611,393.479 961.333,339.607 982.054,312.175 991.059,309.314 1011.78,318.059 1032.5,344.436 1053.22,387.571 1073.94,445.251 \n",
       "  1094.67,514.132 1115.39,590.011 1136.11,668.139 1156.83,743.538 1177.55,811.317 1198.27,866.958 1219,906.544 1239.72,926.908 1248.99,929.132 1269.71,924.532 \n",
       "  1290.43,910.612 1311.15,887.721 1331.87,856.896 1352.6,819.795 1373.32,778.582 1394.04,735.781 1414.76,694.11 1435.48,656.306 1456.2,624.97 1476.92,602.421 \n",
       "  1497.65,590.584 1507.53,589.158 1528.25,589.158 1548.97,589.158 1569.69,589.158 1590.41,589.158 1611.13,589.158 1631.86,589.158 1652.58,589.158 1673.3,589.158 \n",
       "  1694.02,589.158 1714.74,589.158 1735.46,589.158 1756.18,589.158 1776.91,589.158 1797.63,589.158 1818.35,589.158 1839.07,589.158 1859.79,589.158 1880.51,589.158 \n",
       "  1901.24,589.158 1921.96,589.158 1942.68,589.158 1963.4,589.158 1984.12,589.158 2004.84,589.158 2025.56,589.158 2046.29,589.158 2067.01,589.158 2087.73,589.158 \n",
       "  2108.45,589.158 2129.17,589.158 2149.89,589.158 2170.62,589.158 2191.34,589.158 2212.06,589.158 2232.78,589.158 2253.5,589.158 2274.22,589.158 2290.59,589.158 \n",
       "  \n",
       "  \"/>\n",
       "<polyline clip-path=\"url(#clip022)\" style=\"stroke:#0000ff; stroke-linecap:butt; stroke-linejoin:round; stroke-width:4; stroke-opacity:1; fill:none\" stroke-dasharray=\"16, 10\" points=\"\n",
       "  218.439,1384.24 218.439,86.1857 \n",
       "  \"/>\n",
       "<polyline clip-path=\"url(#clip022)\" style=\"stroke:#0000ff; stroke-linecap:butt; stroke-linejoin:round; stroke-width:4; stroke-opacity:1; fill:none\" stroke-dasharray=\"16, 10\" points=\"\n",
       "  475.871,1384.24 475.871,86.1857 \n",
       "  \"/>\n",
       "<polyline clip-path=\"url(#clip022)\" style=\"stroke:#0000ff; stroke-linecap:butt; stroke-linejoin:round; stroke-width:4; stroke-opacity:1; fill:none\" stroke-dasharray=\"16, 10\" points=\"\n",
       "  733.396,1384.24 733.396,86.1857 \n",
       "  \"/>\n",
       "<polyline clip-path=\"url(#clip022)\" style=\"stroke:#0000ff; stroke-linecap:butt; stroke-linejoin:round; stroke-width:4; stroke-opacity:1; fill:none\" stroke-dasharray=\"16, 10\" points=\"\n",
       "  991.059,1384.24 991.059,86.1857 \n",
       "  \"/>\n",
       "<polyline clip-path=\"url(#clip022)\" style=\"stroke:#0000ff; stroke-linecap:butt; stroke-linejoin:round; stroke-width:4; stroke-opacity:1; fill:none\" stroke-dasharray=\"16, 10\" points=\"\n",
       "  1248.99,1384.24 1248.99,86.1857 \n",
       "  \"/>\n",
       "<polyline clip-path=\"url(#clip022)\" style=\"stroke:#0000ff; stroke-linecap:butt; stroke-linejoin:round; stroke-width:4; stroke-opacity:1; fill:none\" stroke-dasharray=\"16, 10\" points=\"\n",
       "  1507.53,1384.24 1507.53,86.1857 \n",
       "  \"/>\n",
       "<path clip-path=\"url(#clip020)\" d=\"\n",
       "M1586.11 248.629 L2279.54 248.629 L2279.54 93.1086 L1586.11 93.1086  Z\n",
       "  \" fill=\"#ffffff\" fill-rule=\"evenodd\" fill-opacity=\"1\"/>\n",
       "<polyline clip-path=\"url(#clip020)\" style=\"stroke:#000000; stroke-linecap:butt; stroke-linejoin:round; stroke-width:4; stroke-opacity:1; fill:none\" points=\"\n",
       "  1586.11,248.629 2279.54,248.629 2279.54,93.1086 1586.11,93.1086 1586.11,248.629 \n",
       "  \"/>\n",
       "<polyline clip-path=\"url(#clip020)\" style=\"stroke:#009af9; stroke-linecap:butt; stroke-linejoin:round; stroke-width:4; stroke-opacity:1; fill:none\" points=\"\n",
       "  1610.52,144.949 1756.95,144.949 \n",
       "  \"/>\n",
       "<path clip-path=\"url(#clip020)\" d=\"M1801.7 141.28 Q1803.3 138.409 1805.52 137.044 Q1807.75 135.678 1810.75 135.678 Q1814.81 135.678 1817 138.525 Q1819.2 141.349 1819.2 146.581 L1819.2 162.229 L1814.92 162.229 L1814.92 146.719 Q1814.92 142.993 1813.6 141.187 Q1812.28 139.382 1809.57 139.382 Q1806.26 139.382 1804.34 141.581 Q1802.42 143.78 1802.42 147.576 L1802.42 162.229 L1798.14 162.229 L1798.14 146.719 Q1798.14 142.969 1796.82 141.187 Q1795.5 139.382 1792.75 139.382 Q1789.48 139.382 1787.56 141.604 Q1785.64 143.803 1785.64 147.576 L1785.64 162.229 L1781.36 162.229 L1781.36 136.303 L1785.64 136.303 L1785.64 140.331 Q1787.1 137.946 1789.13 136.812 Q1791.17 135.678 1793.97 135.678 Q1796.8 135.678 1798.76 137.113 Q1800.75 138.548 1801.7 141.28 Z\" fill=\"#000000\" fill-rule=\"evenodd\" fill-opacity=\"1\" /><path clip-path=\"url(#clip020)\" d=\"M1839.48 149.196 Q1834.32 149.196 1832.33 150.377 Q1830.34 151.557 1830.34 154.405 Q1830.34 156.673 1831.82 158.016 Q1833.32 159.335 1835.89 159.335 Q1839.43 159.335 1841.56 156.835 Q1843.72 154.312 1843.72 150.145 L1843.72 149.196 L1839.48 149.196 M1847.98 147.437 L1847.98 162.229 L1843.72 162.229 L1843.72 158.293 Q1842.26 160.655 1840.08 161.789 Q1837.91 162.9 1834.76 162.9 Q1830.78 162.9 1828.42 160.678 Q1826.08 158.432 1826.08 154.682 Q1826.08 150.307 1829 148.085 Q1831.93 145.863 1837.75 145.863 L1843.72 145.863 L1843.72 145.446 Q1843.72 142.507 1841.77 140.909 Q1839.85 139.289 1836.36 139.289 Q1834.13 139.289 1832.03 139.821 Q1829.92 140.354 1827.98 141.419 L1827.98 137.483 Q1830.31 136.581 1832.51 136.141 Q1834.71 135.678 1836.8 135.678 Q1842.42 135.678 1845.2 138.594 Q1847.98 141.511 1847.98 147.437 Z\" fill=\"#000000\" fill-rule=\"evenodd\" fill-opacity=\"1\" /><path clip-path=\"url(#clip020)\" d=\"M1873.28 137.067 L1873.28 141.094 Q1871.47 140.169 1869.53 139.706 Q1867.58 139.243 1865.5 139.243 Q1862.33 139.243 1860.73 140.215 Q1859.16 141.187 1859.16 143.131 Q1859.16 144.613 1860.29 145.469 Q1861.43 146.303 1864.85 147.067 L1866.31 147.391 Q1870.85 148.363 1872.74 150.145 Q1874.67 151.905 1874.67 155.076 Q1874.67 158.687 1871.8 160.793 Q1868.95 162.9 1863.95 162.9 Q1861.87 162.9 1859.6 162.483 Q1857.35 162.09 1854.85 161.28 L1854.85 156.881 Q1857.21 158.108 1859.5 158.733 Q1861.8 159.335 1864.04 159.335 Q1867.05 159.335 1868.67 158.317 Q1870.29 157.275 1870.29 155.4 Q1870.29 153.664 1869.11 152.738 Q1867.95 151.812 1863.99 150.956 L1862.51 150.608 Q1858.56 149.775 1856.8 148.062 Q1855.04 146.326 1855.04 143.317 Q1855.04 139.659 1857.63 137.669 Q1860.22 135.678 1864.99 135.678 Q1867.35 135.678 1869.43 136.025 Q1871.52 136.372 1873.28 137.067 Z\" fill=\"#000000\" fill-rule=\"evenodd\" fill-opacity=\"1\" /><path clip-path=\"url(#clip020)\" d=\"M1897.98 137.067 L1897.98 141.094 Q1896.17 140.169 1894.23 139.706 Q1892.28 139.243 1890.2 139.243 Q1887.03 139.243 1885.43 140.215 Q1883.86 141.187 1883.86 143.131 Q1883.86 144.613 1884.99 145.469 Q1886.12 146.303 1889.55 147.067 L1891.01 147.391 Q1895.55 148.363 1897.44 150.145 Q1899.37 151.905 1899.37 155.076 Q1899.37 158.687 1896.49 160.793 Q1893.65 162.9 1888.65 162.9 Q1886.56 162.9 1884.3 162.483 Q1882.05 162.09 1879.55 161.28 L1879.55 156.881 Q1881.91 158.108 1884.2 158.733 Q1886.49 159.335 1888.74 159.335 Q1891.75 159.335 1893.37 158.317 Q1894.99 157.275 1894.99 155.4 Q1894.99 153.664 1893.81 152.738 Q1892.65 151.812 1888.69 150.956 L1887.21 150.608 Q1883.25 149.775 1881.49 148.062 Q1879.74 146.326 1879.74 143.317 Q1879.74 139.659 1882.33 137.669 Q1884.92 135.678 1889.69 135.678 Q1892.05 135.678 1894.13 136.025 Q1896.22 136.372 1897.98 137.067 Z\" fill=\"#000000\" fill-rule=\"evenodd\" fill-opacity=\"1\" /><path clip-path=\"url(#clip020)\" d=\"M1906.75 156.349 L1911.63 156.349 L1911.63 162.229 L1906.75 162.229 L1906.75 156.349 Z\" fill=\"#000000\" fill-rule=\"evenodd\" fill-opacity=\"1\" /><path clip-path=\"url(#clip020)\" d=\"M1937.74 137.067 L1937.74 141.094 Q1935.94 140.169 1933.99 139.706 Q1932.05 139.243 1929.97 139.243 Q1926.8 139.243 1925.2 140.215 Q1923.62 141.187 1923.62 143.131 Q1923.62 144.613 1924.76 145.469 Q1925.89 146.303 1929.32 147.067 L1930.78 147.391 Q1935.31 148.363 1937.21 150.145 Q1939.13 151.905 1939.13 155.076 Q1939.13 158.687 1936.26 160.793 Q1933.42 162.9 1928.42 162.9 Q1926.33 162.9 1924.06 162.483 Q1921.82 162.09 1919.32 161.28 L1919.32 156.881 Q1921.68 158.108 1923.97 158.733 Q1926.26 159.335 1928.51 159.335 Q1931.52 159.335 1933.14 158.317 Q1934.76 157.275 1934.76 155.4 Q1934.76 153.664 1933.58 152.738 Q1932.42 151.812 1928.46 150.956 L1926.98 150.608 Q1923.02 149.775 1921.26 148.062 Q1919.5 146.326 1919.5 143.317 Q1919.5 139.659 1922.1 137.669 Q1924.69 135.678 1929.46 135.678 Q1931.82 135.678 1933.9 136.025 Q1935.99 136.372 1937.74 137.067 Z\" fill=\"#000000\" fill-rule=\"evenodd\" fill-opacity=\"1\" /><path clip-path=\"url(#clip020)\" d=\"M1971.22 126.257 Q1968.11 131.581 1966.61 136.789 Q1965.11 141.997 1965.11 147.344 Q1965.11 152.692 1966.61 157.946 Q1968.14 163.178 1971.22 168.479 L1967.51 168.479 Q1964.04 163.039 1962.3 157.784 Q1960.59 152.53 1960.59 147.344 Q1960.59 142.182 1962.3 136.951 Q1964.02 131.72 1967.51 126.257 L1971.22 126.257 Z\" fill=\"#000000\" fill-rule=\"evenodd\" fill-opacity=\"1\" /><path clip-path=\"url(#clip020)\" d=\"M1994.25 143.594 Q1997.61 144.312 1999.48 146.581 Q2001.38 148.849 2001.38 152.182 Q2001.38 157.298 1997.86 160.099 Q1994.34 162.9 1987.86 162.9 Q1985.68 162.9 1983.37 162.46 Q1981.08 162.043 1978.62 161.187 L1978.62 156.673 Q1980.57 157.807 1982.88 158.386 Q1985.2 158.965 1987.72 158.965 Q1992.12 158.965 1994.41 157.229 Q1996.73 155.493 1996.73 152.182 Q1996.73 149.127 1994.57 147.414 Q1992.44 145.678 1988.62 145.678 L1984.6 145.678 L1984.6 141.835 L1988.81 141.835 Q1992.26 141.835 1994.09 140.469 Q1995.92 139.081 1995.92 136.488 Q1995.92 133.826 1994.02 132.414 Q1992.14 130.979 1988.62 130.979 Q1986.7 130.979 1984.5 131.395 Q1982.3 131.812 1979.67 132.692 L1979.67 128.525 Q1982.33 127.784 1984.64 127.414 Q1986.98 127.044 1989.04 127.044 Q1994.36 127.044 1997.47 129.474 Q2000.57 131.882 2000.57 136.002 Q2000.57 138.872 1998.92 140.863 Q1997.28 142.831 1994.25 143.594 Z\" fill=\"#000000\" fill-rule=\"evenodd\" fill-opacity=\"1\" /><path clip-path=\"url(#clip020)\" d=\"M2024.41 143.594 Q2027.77 144.312 2029.64 146.581 Q2031.54 148.849 2031.54 152.182 Q2031.54 157.298 2028.02 160.099 Q2024.5 162.9 2018.02 162.9 Q2015.85 162.9 2013.53 162.46 Q2011.24 162.043 2008.79 161.187 L2008.79 156.673 Q2010.73 157.807 2013.05 158.386 Q2015.36 158.965 2017.88 158.965 Q2022.28 158.965 2024.57 157.229 Q2026.89 155.493 2026.89 152.182 Q2026.89 149.127 2024.73 147.414 Q2022.61 145.678 2018.79 145.678 L2014.76 145.678 L2014.76 141.835 L2018.97 141.835 Q2022.42 141.835 2024.25 140.469 Q2026.08 139.081 2026.08 136.488 Q2026.08 133.826 2024.18 132.414 Q2022.3 130.979 2018.79 130.979 Q2016.86 130.979 2014.67 131.395 Q2012.47 131.812 2009.83 132.692 L2009.83 128.525 Q2012.49 127.784 2014.8 127.414 Q2017.14 127.044 2019.2 127.044 Q2024.53 127.044 2027.63 129.474 Q2030.73 131.882 2030.73 136.002 Q2030.73 138.872 2029.09 140.863 Q2027.44 142.831 2024.41 143.594 Z\" fill=\"#000000\" fill-rule=\"evenodd\" fill-opacity=\"1\" /><path clip-path=\"url(#clip020)\" d=\"M2040.45 127.669 L2058.81 127.669 L2058.81 131.604 L2044.73 131.604 L2044.73 140.076 Q2045.75 139.729 2046.77 139.567 Q2047.79 139.382 2048.81 139.382 Q2054.6 139.382 2057.98 142.553 Q2061.36 145.724 2061.36 151.141 Q2061.36 156.719 2057.88 159.821 Q2054.41 162.9 2048.09 162.9 Q2045.92 162.9 2043.65 162.53 Q2041.4 162.159 2038.99 161.418 L2038.99 156.719 Q2041.08 157.854 2043.3 158.409 Q2045.52 158.965 2048 158.965 Q2052 158.965 2054.34 156.858 Q2056.68 154.752 2056.68 151.141 Q2056.68 147.53 2054.34 145.423 Q2052 143.317 2048 143.317 Q2046.12 143.317 2044.25 143.733 Q2042.4 144.15 2040.45 145.03 L2040.45 127.669 Z\" fill=\"#000000\" fill-rule=\"evenodd\" fill-opacity=\"1\" /><path clip-path=\"url(#clip020)\" d=\"M2070.61 127.669 L2088.97 127.669 L2088.97 131.604 L2074.9 131.604 L2074.9 140.076 Q2075.92 139.729 2076.93 139.567 Q2077.95 139.382 2078.97 139.382 Q2084.76 139.382 2088.14 142.553 Q2091.52 145.724 2091.52 151.141 Q2091.52 156.719 2088.04 159.821 Q2084.57 162.9 2078.25 162.9 Q2076.08 162.9 2073.81 162.53 Q2071.56 162.159 2069.16 161.418 L2069.16 156.719 Q2071.24 157.854 2073.46 158.409 Q2075.68 158.965 2078.16 158.965 Q2082.17 158.965 2084.5 156.858 Q2086.84 154.752 2086.84 151.141 Q2086.84 147.53 2084.5 145.423 Q2082.17 143.317 2078.16 143.317 Q2076.29 143.317 2074.41 143.733 Q2072.56 144.15 2070.61 145.03 L2070.61 127.669 Z\" fill=\"#000000\" fill-rule=\"evenodd\" fill-opacity=\"1\" /><path clip-path=\"url(#clip020)\" d=\"M2113.58 131.743 L2101.77 150.192 L2113.58 150.192 L2113.58 131.743 M2112.35 127.669 L2118.23 127.669 L2118.23 150.192 L2123.16 150.192 L2123.16 154.081 L2118.23 154.081 L2118.23 162.229 L2113.58 162.229 L2113.58 154.081 L2097.98 154.081 L2097.98 149.567 L2112.35 127.669 Z\" fill=\"#000000\" fill-rule=\"evenodd\" fill-opacity=\"1\" /><path clip-path=\"url(#clip020)\" d=\"M2143.74 131.743 L2131.93 150.192 L2143.74 150.192 L2143.74 131.743 M2142.51 127.669 L2148.39 127.669 L2148.39 150.192 L2153.32 150.192 L2153.32 154.081 L2148.39 154.081 L2148.39 162.229 L2143.74 162.229 L2143.74 154.081 L2128.14 154.081 L2128.14 149.567 L2142.51 127.669 Z\" fill=\"#000000\" fill-rule=\"evenodd\" fill-opacity=\"1\" /><path clip-path=\"url(#clip020)\" d=\"M2175.22 143.594 Q2178.58 144.312 2180.45 146.581 Q2182.35 148.849 2182.35 152.182 Q2182.35 157.298 2178.83 160.099 Q2175.31 162.9 2168.83 162.9 Q2166.66 162.9 2164.34 162.46 Q2162.05 162.043 2159.6 161.187 L2159.6 156.673 Q2161.54 157.807 2163.85 158.386 Q2166.17 158.965 2168.69 158.965 Q2173.09 158.965 2175.38 157.229 Q2177.7 155.493 2177.7 152.182 Q2177.7 149.127 2175.54 147.414 Q2173.41 145.678 2169.6 145.678 L2165.57 145.678 L2165.57 141.835 L2169.78 141.835 Q2173.23 141.835 2175.06 140.469 Q2176.89 139.081 2176.89 136.488 Q2176.89 133.826 2174.99 132.414 Q2173.11 130.979 2169.6 130.979 Q2167.67 130.979 2165.47 131.395 Q2163.28 131.812 2160.64 132.692 L2160.64 128.525 Q2163.3 127.784 2165.61 127.414 Q2167.95 127.044 2170.01 127.044 Q2175.34 127.044 2178.44 129.474 Q2181.54 131.882 2181.54 136.002 Q2181.54 138.872 2179.9 140.863 Q2178.25 142.831 2175.22 143.594 Z\" fill=\"#000000\" fill-rule=\"evenodd\" fill-opacity=\"1\" /><path clip-path=\"url(#clip020)\" d=\"M2195.24 158.293 L2211.56 158.293 L2211.56 162.229 L2189.62 162.229 L2189.62 158.293 Q2192.28 155.539 2196.86 150.909 Q2201.47 146.256 2202.65 144.914 Q2204.9 142.391 2205.78 140.655 Q2206.68 138.895 2206.68 137.206 Q2206.68 134.451 2204.73 132.715 Q2202.81 130.979 2199.71 130.979 Q2197.51 130.979 2195.06 131.743 Q2192.63 132.507 2189.85 134.057 L2189.85 129.335 Q2192.67 128.201 2195.13 127.622 Q2197.58 127.044 2199.62 127.044 Q2204.99 127.044 2208.18 129.729 Q2211.38 132.414 2211.38 136.905 Q2211.38 139.034 2210.57 140.956 Q2209.78 142.854 2207.67 145.446 Q2207.1 146.118 2203.99 149.335 Q2200.89 152.53 2195.24 158.293 Z\" fill=\"#000000\" fill-rule=\"evenodd\" fill-opacity=\"1\" /><path clip-path=\"url(#clip020)\" d=\"M2220.1 126.257 L2223.81 126.257 Q2227.28 131.72 2228.99 136.951 Q2230.73 142.182 2230.73 147.344 Q2230.73 152.53 2228.99 157.784 Q2227.28 163.039 2223.81 168.479 L2220.1 168.479 Q2223.18 163.178 2224.69 157.946 Q2226.22 152.692 2226.22 147.344 Q2226.22 141.997 2224.69 136.789 Q2223.18 131.581 2220.1 126.257 Z\" fill=\"#000000\" fill-rule=\"evenodd\" fill-opacity=\"1\" /><polyline clip-path=\"url(#clip020)\" style=\"stroke:#0000ff; stroke-linecap:butt; stroke-linejoin:round; stroke-width:4; stroke-opacity:1; fill:none\" stroke-dasharray=\"16, 10\" points=\"\n",
       "  1610.52,196.789 1756.95,196.789 \n",
       "  \"/>\n",
       "<path clip-path=\"url(#clip020)\" d=\"M1803.6 180.643 L1803.6 185.203 Q1800.94 183.93 1798.58 183.305 Q1796.22 182.68 1794.02 182.68 Q1790.2 182.68 1788.12 184.161 Q1786.06 185.643 1786.06 188.374 Q1786.06 190.666 1787.42 191.847 Q1788.81 193.004 1792.65 193.722 L1795.48 194.3 Q1800.71 195.296 1803.19 197.819 Q1805.69 200.319 1805.69 204.532 Q1805.69 209.555 1802.31 212.147 Q1798.95 214.74 1792.44 214.74 Q1789.99 214.74 1787.21 214.184 Q1784.46 213.629 1781.5 212.541 L1781.5 207.726 Q1784.34 209.323 1787.07 210.133 Q1789.81 210.944 1792.44 210.944 Q1796.45 210.944 1798.62 209.37 Q1800.8 207.796 1800.8 204.879 Q1800.8 202.333 1799.23 200.897 Q1797.68 199.462 1794.11 198.745 L1791.26 198.189 Q1786.03 197.147 1783.69 194.925 Q1781.36 192.703 1781.36 188.745 Q1781.36 184.161 1784.57 181.522 Q1787.81 178.884 1793.49 178.884 Q1795.92 178.884 1798.44 179.323 Q1800.96 179.763 1803.6 180.643 Z\" fill=\"#000000\" fill-rule=\"evenodd\" fill-opacity=\"1\" /><path clip-path=\"url(#clip020)\" d=\"M1817 180.782 L1817 188.143 L1825.78 188.143 L1825.78 191.453 L1817 191.453 L1817 205.527 Q1817 208.698 1817.86 209.601 Q1818.74 210.504 1821.4 210.504 L1825.78 210.504 L1825.78 214.069 L1821.4 214.069 Q1816.47 214.069 1814.6 212.24 Q1812.72 210.388 1812.72 205.527 L1812.72 191.453 L1809.6 191.453 L1809.6 188.143 L1812.72 188.143 L1812.72 180.782 L1817 180.782 Z\" fill=\"#000000\" fill-rule=\"evenodd\" fill-opacity=\"1\" /><path clip-path=\"url(#clip020)\" d=\"M1843.16 201.036 Q1838 201.036 1836.01 202.217 Q1834.02 203.397 1834.02 206.245 Q1834.02 208.513 1835.5 209.856 Q1837 211.175 1839.57 211.175 Q1843.12 211.175 1845.25 208.675 Q1847.4 206.152 1847.4 201.985 L1847.4 201.036 L1843.16 201.036 M1851.66 199.277 L1851.66 214.069 L1847.4 214.069 L1847.4 210.133 Q1845.94 212.495 1843.76 213.629 Q1841.59 214.74 1838.44 214.74 Q1834.46 214.74 1832.1 212.518 Q1829.76 210.272 1829.76 206.522 Q1829.76 202.147 1832.68 199.925 Q1835.62 197.703 1841.43 197.703 L1847.4 197.703 L1847.4 197.286 Q1847.4 194.347 1845.45 192.749 Q1843.53 191.129 1840.04 191.129 Q1837.81 191.129 1835.71 191.661 Q1833.6 192.194 1831.66 193.259 L1831.66 189.323 Q1834 188.421 1836.19 187.981 Q1838.39 187.518 1840.48 187.518 Q1846.1 187.518 1848.88 190.434 Q1851.66 193.351 1851.66 199.277 Z\" fill=\"#000000\" fill-rule=\"evenodd\" fill-opacity=\"1\" /><path clip-path=\"url(#clip020)\" d=\"M1864.64 180.782 L1864.64 188.143 L1873.42 188.143 L1873.42 191.453 L1864.64 191.453 L1864.64 205.527 Q1864.64 208.698 1865.5 209.601 Q1866.38 210.504 1869.04 210.504 L1873.42 210.504 L1873.42 214.069 L1869.04 214.069 Q1864.11 214.069 1862.24 212.24 Q1860.36 210.388 1860.36 205.527 L1860.36 191.453 L1857.24 191.453 L1857.24 188.143 L1860.36 188.143 L1860.36 180.782 L1864.64 180.782 Z\" fill=\"#000000\" fill-rule=\"evenodd\" fill-opacity=\"1\" /><path clip-path=\"url(#clip020)\" d=\"M1901.19 200.041 L1901.19 202.124 L1881.61 202.124 Q1881.89 206.522 1884.25 208.837 Q1886.63 211.129 1890.87 211.129 Q1893.32 211.129 1895.62 210.527 Q1897.93 209.925 1900.2 208.721 L1900.2 212.749 Q1897.91 213.721 1895.5 214.231 Q1893.09 214.74 1890.62 214.74 Q1884.41 214.74 1880.78 211.129 Q1877.17 207.518 1877.17 201.36 Q1877.17 194.995 1880.59 191.268 Q1884.04 187.518 1889.87 187.518 Q1895.11 187.518 1898.14 190.897 Q1901.19 194.254 1901.19 200.041 M1896.93 198.791 Q1896.89 195.296 1894.97 193.212 Q1893.07 191.129 1889.92 191.129 Q1886.36 191.129 1884.2 193.143 Q1882.07 195.157 1881.75 198.814 L1896.93 198.791 Z\" fill=\"#000000\" fill-rule=\"evenodd\" fill-opacity=\"1\" /><path clip-path=\"url(#clip020)\" d=\"M1945.43 200.041 L1945.43 202.124 L1925.85 202.124 Q1926.12 206.522 1928.49 208.837 Q1930.87 211.129 1935.11 211.129 Q1937.56 211.129 1939.85 210.527 Q1942.17 209.925 1944.43 208.721 L1944.43 212.749 Q1942.14 213.721 1939.74 214.231 Q1937.33 214.74 1934.85 214.74 Q1928.65 214.74 1925.01 211.129 Q1921.4 207.518 1921.4 201.36 Q1921.4 194.995 1924.83 191.268 Q1928.28 187.518 1934.11 187.518 Q1939.34 187.518 1942.37 190.897 Q1945.43 194.254 1945.43 200.041 M1941.17 198.791 Q1941.12 195.296 1939.2 193.212 Q1937.3 191.129 1934.16 191.129 Q1930.59 191.129 1928.44 193.143 Q1926.31 195.157 1925.99 198.814 L1941.17 198.791 Z\" fill=\"#000000\" fill-rule=\"evenodd\" fill-opacity=\"1\" /><path clip-path=\"url(#clip020)\" d=\"M1949.36 188.143 L1953.88 188.143 L1961.98 209.902 L1970.08 188.143 L1974.6 188.143 L1964.87 214.069 L1959.09 214.069 L1949.36 188.143 Z\" fill=\"#000000\" fill-rule=\"evenodd\" fill-opacity=\"1\" /><path clip-path=\"url(#clip020)\" d=\"M2002.65 200.041 L2002.65 202.124 L1983.07 202.124 Q1983.35 206.522 1985.71 208.837 Q1988.09 211.129 1992.33 211.129 Q1994.78 211.129 1997.07 210.527 Q1999.39 209.925 2001.66 208.721 L2001.66 212.749 Q1999.36 213.721 1996.96 214.231 Q1994.55 214.74 1992.07 214.74 Q1985.87 214.74 1982.24 211.129 Q1978.62 207.518 1978.62 201.36 Q1978.62 194.995 1982.05 191.268 Q1985.5 187.518 1991.33 187.518 Q1996.56 187.518 1999.6 190.897 Q2002.65 194.254 2002.65 200.041 M1998.39 198.791 Q1998.35 195.296 1996.42 193.212 Q1994.53 191.129 1991.38 191.129 Q1987.81 191.129 1985.66 193.143 Q1983.53 195.157 1983.21 198.814 L1998.39 198.791 Z\" fill=\"#000000\" fill-rule=\"evenodd\" fill-opacity=\"1\" /><path clip-path=\"url(#clip020)\" d=\"M2031.19 198.421 L2031.19 214.069 L2026.93 214.069 L2026.93 198.559 Q2026.93 194.879 2025.5 193.05 Q2024.06 191.222 2021.19 191.222 Q2017.74 191.222 2015.75 193.421 Q2013.76 195.62 2013.76 199.416 L2013.76 214.069 L2009.48 214.069 L2009.48 188.143 L2013.76 188.143 L2013.76 192.171 Q2015.29 189.833 2017.35 188.675 Q2019.43 187.518 2022.14 187.518 Q2026.61 187.518 2028.9 190.296 Q2031.19 193.05 2031.19 198.421 Z\" fill=\"#000000\" fill-rule=\"evenodd\" fill-opacity=\"1\" /><path clip-path=\"url(#clip020)\" d=\"M2043.9 180.782 L2043.9 188.143 L2052.67 188.143 L2052.67 191.453 L2043.9 191.453 L2043.9 205.527 Q2043.9 208.698 2044.76 209.601 Q2045.64 210.504 2048.3 210.504 L2052.67 210.504 L2052.67 214.069 L2048.3 214.069 Q2043.37 214.069 2041.49 212.24 Q2039.62 210.388 2039.62 205.527 L2039.62 191.453 L2036.49 191.453 L2036.49 188.143 L2039.62 188.143 L2039.62 180.782 L2043.9 180.782 Z\" fill=\"#000000\" fill-rule=\"evenodd\" fill-opacity=\"1\" /><path clip-path=\"url(#clip020)\" d=\"M2068.51 178.097 Q2065.41 183.421 2063.9 188.629 Q2062.4 193.837 2062.4 199.184 Q2062.4 204.532 2063.9 209.786 Q2065.43 215.018 2068.51 220.319 L2064.8 220.319 Q2061.33 214.879 2059.6 209.624 Q2057.88 204.37 2057.88 199.184 Q2057.88 194.022 2059.6 188.791 Q2061.31 183.56 2064.8 178.097 L2068.51 178.097 Z\" fill=\"#000000\" fill-rule=\"evenodd\" fill-opacity=\"1\" /><path clip-path=\"url(#clip020)\" d=\"M2093.3 188.907 L2093.3 192.934 Q2091.49 192.009 2089.55 191.546 Q2087.6 191.083 2085.52 191.083 Q2082.35 191.083 2080.75 192.055 Q2079.18 193.027 2079.18 194.971 Q2079.18 196.453 2080.31 197.309 Q2081.45 198.143 2084.87 198.907 L2086.33 199.231 Q2090.87 200.203 2092.77 201.985 Q2094.69 203.745 2094.69 206.916 Q2094.69 210.527 2091.82 212.633 Q2088.97 214.74 2083.97 214.74 Q2081.89 214.74 2079.62 214.323 Q2077.37 213.93 2074.87 213.12 L2074.87 208.721 Q2077.23 209.948 2079.53 210.573 Q2081.82 211.175 2084.06 211.175 Q2087.07 211.175 2088.69 210.157 Q2090.31 209.115 2090.31 207.24 Q2090.31 205.504 2089.13 204.578 Q2087.98 203.652 2084.02 202.796 L2082.54 202.448 Q2078.58 201.615 2076.82 199.902 Q2075.06 198.166 2075.06 195.157 Q2075.06 191.499 2077.65 189.509 Q2080.24 187.518 2085.01 187.518 Q2087.37 187.518 2089.46 187.865 Q2091.54 188.212 2093.3 188.907 Z\" fill=\"#000000\" fill-rule=\"evenodd\" fill-opacity=\"1\" /><path clip-path=\"url(#clip020)\" d=\"M2100.8 178.097 L2104.5 178.097 Q2107.98 183.56 2109.69 188.791 Q2111.42 194.022 2111.42 199.184 Q2111.42 204.37 2109.69 209.624 Q2107.98 214.879 2104.5 220.319 L2100.8 220.319 Q2103.88 215.018 2105.38 209.786 Q2106.91 204.532 2106.91 199.184 Q2106.91 193.837 2105.38 188.629 Q2103.88 183.421 2100.8 178.097 Z\" fill=\"#000000\" fill-rule=\"evenodd\" fill-opacity=\"1\" /></svg>\n"
      ]
     },
     "execution_count": 5,
     "metadata": {},
     "output_type": "execute_result"
    }
   ],
   "source": [
    "fig = fmiPlot(simData, states=false)"
   ]
  },
  {
   "cell_type": "markdown",
   "metadata": {},
   "source": [
    "### Override Function\n",
    "\n",
    "After overwriting a function, the previous one is no longer accessible. The original function `fmi2GetReal()` is cached by storing the address of the pointer. The addresses of the pointers are kept in the FMU and are thus accessible."
   ]
  },
  {
   "cell_type": "code",
   "execution_count": 6,
   "metadata": {
    "execution": {
     "iopub.execute_input": "2022-05-24T15:06:41.820000Z",
     "iopub.status.busy": "2022-05-24T15:06:41.819000Z",
     "iopub.status.idle": "2022-05-24T15:06:42.710000Z",
     "shell.execute_reply": "2022-05-24T15:06:42.710000Z"
    }
   },
   "outputs": [
    {
     "data": {
      "text/plain": [
       "Ptr{Nothing} @0x00007fa504ca1faf"
      ]
     },
     "execution_count": 6,
     "metadata": {},
     "output_type": "execute_result"
    }
   ],
   "source": [
    "# save, where the original `fmi2GetReal` function was stored, so we can access it in our new function\n",
    "originalGetReal = myFMU.cGetReal"
   ]
  },
  {
   "cell_type": "markdown",
   "metadata": {},
   "source": [
    "To overwrite the function `fmi2GetReal!()`, the function header of the new custom function must be identical to the previous one. The function header looks like `fmi2GetReal!(cfunc::Ptr{Nothing}, c::fmi2Component, vr::Union{Array{fmi2ValueReference}, Ptr{fmi2ValueReference}}, nvr::Csize_t, value::Union{Array{fmi2Real}, Ptr{fmi2Real}})::fmi2Status`. The information how the FMI2 function are structured can be seen from [FMICore.jl](https://github.com/ThummeTo/FMICore.jl/blob/main/src/FMI2_c.jl#L718) or the FMI2.0.3-specification.\n",
    "\n",
    "In the new implementation the original function is called by the previously stored pointer. Next there is a special handling if `value` is a pointer to an array. In this case the pointer is treated as an array, so that the entries are accessible. Otherwise, each value in `value` is multiplied by two. Finally, the original state of the original function is output."
   ]
  },
  {
   "cell_type": "code",
   "execution_count": 7,
   "metadata": {
    "execution": {
     "iopub.execute_input": "2022-05-24T15:06:42.716000Z",
     "iopub.status.busy": "2022-05-24T15:06:42.716000Z",
     "iopub.status.idle": "2022-05-24T15:06:43.882000Z",
     "shell.execute_reply": "2022-05-24T15:06:43.882000Z"
    }
   },
   "outputs": [
    {
     "data": {
      "text/plain": [
       "myGetReal! (generic function with 1 method)"
      ]
     },
     "execution_count": 7,
     "metadata": {},
     "output_type": "execute_result"
    }
   ],
   "source": [
    "function myGetReal!(c::fmi2Component, vr::Union{Array{fmi2ValueReference}, Ptr{fmi2ValueReference}}, \n",
    "                    nvr::Csize_t, value::Union{Array{fmi2Real}, Ptr{fmi2Real}})\n",
    "    # first, we do what the original function does\n",
    "    status = fmi2GetReal!(originalGetReal, c, vr, nvr, value)\n",
    "\n",
    "    # if we have a pointer to an array, we must interprete it as array to access elements\n",
    "    if isa(value, Ptr{fmi2Real})\n",
    "        value = unsafe_wrap(Array{fmi2Real}, value, nvr, own=false)\n",
    "    end\n",
    "\n",
    "    # now, we multiply every value by two (just for fun!)\n",
    "    for i in 1:nvr \n",
    "        value[i] *= 2.0 \n",
    "    end \n",
    "\n",
    "    # return the original status\n",
    "    return status\n",
    "end"
   ]
  },
  {
   "cell_type": "markdown",
   "metadata": {},
   "source": [
    "In the next command the original function is overwritten with the new defined function, for which the command `fmiSetFctGetReal()` is called."
   ]
  },
  {
   "cell_type": "code",
   "execution_count": 8,
   "metadata": {
    "execution": {
     "iopub.execute_input": "2022-05-24T15:06:43.887000Z",
     "iopub.status.busy": "2022-05-24T15:06:43.887000Z",
     "iopub.status.idle": "2022-05-24T15:06:43.906000Z",
     "shell.execute_reply": "2022-05-24T15:06:43.906000Z"
    }
   },
   "outputs": [
    {
     "data": {
      "text/plain": [
       "Ptr{Nothing} @0x00007fa54dafdfc0"
      ]
     },
     "execution_count": 8,
     "metadata": {},
     "output_type": "execute_result"
    }
   ],
   "source": [
    "# no we overwrite the original function\n",
    "fmiSetFctGetReal(myFMU, myGetReal!)"
   ]
  },
  {
   "cell_type": "markdown",
   "metadata": {},
   "source": [
    "### Simulate and Plot FMU with modified function\n",
    "\n",
    "As before, the identical command is called here for simulation. This is also a model exchange simulation. Immediately afterwards, the results are added to the previous graph as a dashed line."
   ]
  },
  {
   "cell_type": "code",
   "execution_count": 9,
   "metadata": {
    "execution": {
     "iopub.execute_input": "2022-05-24T15:06:43.910000Z",
     "iopub.status.busy": "2022-05-24T15:06:43.910000Z",
     "iopub.status.idle": "2022-05-24T15:06:44.437000Z",
     "shell.execute_reply": "2022-05-24T15:06:44.437000Z"
    }
   },
   "outputs": [
    {
     "data": {
      "image/svg+xml": [
       "<?xml version=\"1.0\" encoding=\"utf-8\"?>\n",
       "<svg xmlns=\"http://www.w3.org/2000/svg\" xmlns:xlink=\"http://www.w3.org/1999/xlink\" width=\"600\" height=\"400\" viewBox=\"0 0 2400 1600\">\n",
       "<defs>\n",
       "  <clipPath id=\"clip060\">\n",
       "    <rect x=\"0\" y=\"0\" width=\"2400\" height=\"1600\"/>\n",
       "  </clipPath>\n",
       "</defs>\n",
       "<path clip-path=\"url(#clip060)\" d=\"\n",
       "M0 1600 L2400 1600 L2400 0 L0 0  Z\n",
       "  \" fill=\"#ffffff\" fill-rule=\"evenodd\" fill-opacity=\"1\"/>\n",
       "<defs>\n",
       "  <clipPath id=\"clip061\">\n",
       "    <rect x=\"480\" y=\"0\" width=\"1681\" height=\"1600\"/>\n",
       "  </clipPath>\n",
       "</defs>\n",
       "<path clip-path=\"url(#clip060)\" d=\"\n",
       "M155.765 1423.18 L2352.76 1423.18 L2352.76 47.2441 L155.765 47.2441  Z\n",
       "  \" fill=\"#ffffff\" fill-rule=\"evenodd\" fill-opacity=\"1\"/>\n",
       "<defs>\n",
       "  <clipPath id=\"clip062\">\n",
       "    <rect x=\"155\" y=\"47\" width=\"2198\" height=\"1377\"/>\n",
       "  </clipPath>\n",
       "</defs>\n",
       "<polyline clip-path=\"url(#clip062)\" style=\"stroke:#000000; stroke-linecap:butt; stroke-linejoin:round; stroke-width:2; stroke-opacity:0.1; fill:none\" points=\"\n",
       "  217.944,1423.18 217.944,47.2441 \n",
       "  \"/>\n",
       "<polyline clip-path=\"url(#clip062)\" style=\"stroke:#000000; stroke-linecap:butt; stroke-linejoin:round; stroke-width:2; stroke-opacity:0.1; fill:none\" points=\"\n",
       "  736.102,1423.18 736.102,47.2441 \n",
       "  \"/>\n",
       "<polyline clip-path=\"url(#clip062)\" style=\"stroke:#000000; stroke-linecap:butt; stroke-linejoin:round; stroke-width:2; stroke-opacity:0.1; fill:none\" points=\"\n",
       "  1254.26,1423.18 1254.26,47.2441 \n",
       "  \"/>\n",
       "<polyline clip-path=\"url(#clip062)\" style=\"stroke:#000000; stroke-linecap:butt; stroke-linejoin:round; stroke-width:2; stroke-opacity:0.1; fill:none\" points=\"\n",
       "  1772.42,1423.18 1772.42,47.2441 \n",
       "  \"/>\n",
       "<polyline clip-path=\"url(#clip062)\" style=\"stroke:#000000; stroke-linecap:butt; stroke-linejoin:round; stroke-width:2; stroke-opacity:0.1; fill:none\" points=\"\n",
       "  2290.58,1423.18 2290.58,47.2441 \n",
       "  \"/>\n",
       "<polyline clip-path=\"url(#clip060)\" style=\"stroke:#000000; stroke-linecap:butt; stroke-linejoin:round; stroke-width:4; stroke-opacity:1; fill:none\" points=\"\n",
       "  155.765,1423.18 2352.76,1423.18 \n",
       "  \"/>\n",
       "<polyline clip-path=\"url(#clip060)\" style=\"stroke:#000000; stroke-linecap:butt; stroke-linejoin:round; stroke-width:4; stroke-opacity:1; fill:none\" points=\"\n",
       "  217.944,1423.18 217.944,1404.28 \n",
       "  \"/>\n",
       "<polyline clip-path=\"url(#clip060)\" style=\"stroke:#000000; stroke-linecap:butt; stroke-linejoin:round; stroke-width:4; stroke-opacity:1; fill:none\" points=\"\n",
       "  736.102,1423.18 736.102,1404.28 \n",
       "  \"/>\n",
       "<polyline clip-path=\"url(#clip060)\" style=\"stroke:#000000; stroke-linecap:butt; stroke-linejoin:round; stroke-width:4; stroke-opacity:1; fill:none\" points=\"\n",
       "  1254.26,1423.18 1254.26,1404.28 \n",
       "  \"/>\n",
       "<polyline clip-path=\"url(#clip060)\" style=\"stroke:#000000; stroke-linecap:butt; stroke-linejoin:round; stroke-width:4; stroke-opacity:1; fill:none\" points=\"\n",
       "  1772.42,1423.18 1772.42,1404.28 \n",
       "  \"/>\n",
       "<polyline clip-path=\"url(#clip060)\" style=\"stroke:#000000; stroke-linecap:butt; stroke-linejoin:round; stroke-width:4; stroke-opacity:1; fill:none\" points=\"\n",
       "  2290.58,1423.18 2290.58,1404.28 \n",
       "  \"/>\n",
       "<path clip-path=\"url(#clip060)\" d=\"M217.944 1454.1 Q214.333 1454.1 212.504 1457.66 Q210.699 1461.2 210.699 1468.33 Q210.699 1475.44 212.504 1479.01 Q214.333 1482.55 217.944 1482.55 Q221.578 1482.55 223.384 1479.01 Q225.212 1475.44 225.212 1468.33 Q225.212 1461.2 223.384 1457.66 Q221.578 1454.1 217.944 1454.1 M217.944 1450.39 Q223.754 1450.39 226.81 1455 Q229.888 1459.58 229.888 1468.33 Q229.888 1477.06 226.81 1481.67 Q223.754 1486.25 217.944 1486.25 Q212.134 1486.25 209.055 1481.67 Q206 1477.06 206 1468.33 Q206 1459.58 209.055 1455 Q212.134 1450.39 217.944 1450.39 Z\" fill=\"#000000\" fill-rule=\"evenodd\" fill-opacity=\"1\" /><path clip-path=\"url(#clip060)\" d=\"M730.755 1481.64 L747.074 1481.64 L747.074 1485.58 L725.13 1485.58 L725.13 1481.64 Q727.792 1478.89 732.375 1474.26 Q736.982 1469.61 738.162 1468.27 Q740.408 1465.74 741.287 1464.01 Q742.19 1462.25 742.19 1460.56 Q742.19 1457.8 740.246 1456.07 Q738.324 1454.33 735.223 1454.33 Q733.023 1454.33 730.57 1455.09 Q728.139 1455.86 725.361 1457.41 L725.361 1452.69 Q728.186 1451.55 730.639 1450.97 Q733.093 1450.39 735.13 1450.39 Q740.5 1450.39 743.695 1453.08 Q746.889 1455.77 746.889 1460.26 Q746.889 1462.39 746.079 1464.31 Q745.292 1466.2 743.185 1468.8 Q742.607 1469.47 739.505 1472.69 Q736.403 1475.88 730.755 1481.64 Z\" fill=\"#000000\" fill-rule=\"evenodd\" fill-opacity=\"1\" /><path clip-path=\"url(#clip060)\" d=\"M1257.27 1455.09 L1245.46 1473.54 L1257.27 1473.54 L1257.27 1455.09 M1256.04 1451.02 L1261.92 1451.02 L1261.92 1473.54 L1266.85 1473.54 L1266.85 1477.43 L1261.92 1477.43 L1261.92 1485.58 L1257.27 1485.58 L1257.27 1477.43 L1241.67 1477.43 L1241.67 1472.92 L1256.04 1451.02 Z\" fill=\"#000000\" fill-rule=\"evenodd\" fill-opacity=\"1\" /><path clip-path=\"url(#clip060)\" d=\"M1772.82 1466.44 Q1769.68 1466.44 1767.82 1468.59 Q1766 1470.74 1766 1474.49 Q1766 1478.22 1767.82 1480.39 Q1769.68 1482.55 1772.82 1482.55 Q1775.97 1482.55 1777.8 1480.39 Q1779.65 1478.22 1779.65 1474.49 Q1779.65 1470.74 1777.8 1468.59 Q1775.97 1466.44 1772.82 1466.44 M1782.11 1451.78 L1782.11 1456.04 Q1780.35 1455.21 1778.54 1454.77 Q1776.76 1454.33 1775 1454.33 Q1770.37 1454.33 1767.92 1457.45 Q1765.49 1460.58 1765.14 1466.9 Q1766.5 1464.89 1768.56 1463.82 Q1770.62 1462.73 1773.1 1462.73 Q1778.31 1462.73 1781.32 1465.9 Q1784.35 1469.05 1784.35 1474.49 Q1784.35 1479.82 1781.2 1483.03 Q1778.06 1486.25 1772.82 1486.25 Q1766.83 1486.25 1763.66 1481.67 Q1760.49 1477.06 1760.49 1468.33 Q1760.49 1460.14 1764.37 1455.28 Q1768.26 1450.39 1774.81 1450.39 Q1776.57 1450.39 1778.36 1450.74 Q1780.16 1451.09 1782.11 1451.78 Z\" fill=\"#000000\" fill-rule=\"evenodd\" fill-opacity=\"1\" /><path clip-path=\"url(#clip060)\" d=\"M2290.58 1469.17 Q2287.24 1469.17 2285.32 1470.95 Q2283.42 1472.73 2283.42 1475.86 Q2283.42 1478.98 2285.32 1480.77 Q2287.24 1482.55 2290.58 1482.55 Q2293.91 1482.55 2295.83 1480.77 Q2297.75 1478.96 2297.75 1475.86 Q2297.75 1472.73 2295.83 1470.95 Q2293.93 1469.17 2290.58 1469.17 M2285.9 1467.18 Q2282.89 1466.44 2281.2 1464.38 Q2279.54 1462.32 2279.54 1459.35 Q2279.54 1455.21 2282.48 1452.8 Q2285.44 1450.39 2290.58 1450.39 Q2295.74 1450.39 2298.68 1452.8 Q2301.62 1455.21 2301.62 1459.35 Q2301.62 1462.32 2299.93 1464.38 Q2298.26 1466.44 2295.28 1467.18 Q2298.66 1467.96 2300.53 1470.26 Q2302.43 1472.55 2302.43 1475.86 Q2302.43 1480.88 2299.35 1483.57 Q2296.29 1486.25 2290.58 1486.25 Q2284.86 1486.25 2281.78 1483.57 Q2278.73 1480.88 2278.73 1475.86 Q2278.73 1472.55 2280.62 1470.26 Q2282.52 1467.96 2285.9 1467.18 M2284.19 1459.79 Q2284.19 1462.48 2285.85 1463.98 Q2287.54 1465.49 2290.58 1465.49 Q2293.59 1465.49 2295.28 1463.98 Q2296.99 1462.48 2296.99 1459.79 Q2296.99 1457.11 2295.28 1455.6 Q2293.59 1454.1 2290.58 1454.1 Q2287.54 1454.1 2285.85 1455.6 Q2284.19 1457.11 2284.19 1459.79 Z\" fill=\"#000000\" fill-rule=\"evenodd\" fill-opacity=\"1\" /><path clip-path=\"url(#clip060)\" d=\"M1202.57 1522.27 L1202.57 1532.4 L1214.63 1532.4 L1214.63 1536.95 L1202.57 1536.95 L1202.57 1556.3 Q1202.57 1560.66 1203.75 1561.9 Q1204.96 1563.14 1208.62 1563.14 L1214.63 1563.14 L1214.63 1568.04 L1208.62 1568.04 Q1201.84 1568.04 1199.26 1565.53 Q1196.68 1562.98 1196.68 1556.3 L1196.68 1536.95 L1192.39 1536.95 L1192.39 1532.4 L1196.68 1532.4 L1196.68 1522.27 L1202.57 1522.27 Z\" fill=\"#000000\" fill-rule=\"evenodd\" fill-opacity=\"1\" /><path clip-path=\"url(#clip060)\" d=\"M1242.52 1518.52 L1256.01 1518.52 L1256.01 1523.07 L1248.37 1523.07 L1248.37 1572.09 L1256.01 1572.09 L1256.01 1576.64 L1242.52 1576.64 L1242.52 1518.52 Z\" fill=\"#000000\" fill-rule=\"evenodd\" fill-opacity=\"1\" /><path clip-path=\"url(#clip060)\" d=\"M1291.21 1533.45 L1291.21 1538.98 Q1288.73 1537.71 1286.06 1537.07 Q1283.38 1536.44 1280.52 1536.44 Q1276.16 1536.44 1273.96 1537.77 Q1271.8 1539.11 1271.8 1541.79 Q1271.8 1543.82 1273.36 1545 Q1274.92 1546.15 1279.63 1547.2 L1281.63 1547.64 Q1287.87 1548.98 1290.48 1551.43 Q1293.12 1553.85 1293.12 1558.21 Q1293.12 1563.17 1289.18 1566.07 Q1285.26 1568.97 1278.39 1568.97 Q1275.52 1568.97 1272.4 1568.39 Q1269.32 1567.85 1265.88 1566.74 L1265.88 1560.69 Q1269.12 1562.38 1272.28 1563.24 Q1275.43 1564.07 1278.51 1564.07 Q1282.65 1564.07 1284.88 1562.66 Q1287.11 1561.23 1287.11 1558.65 Q1287.11 1556.27 1285.48 1554.99 Q1283.89 1553.72 1278.45 1552.54 L1276.41 1552.07 Q1270.97 1550.92 1268.55 1548.56 Q1266.13 1546.18 1266.13 1542.04 Q1266.13 1537.01 1269.7 1534.27 Q1273.26 1531.54 1279.82 1531.54 Q1283.07 1531.54 1285.93 1532.01 Q1288.79 1532.49 1291.21 1533.45 Z\" fill=\"#000000\" fill-rule=\"evenodd\" fill-opacity=\"1\" /><path clip-path=\"url(#clip060)\" d=\"M1316.14 1518.52 L1316.14 1576.64 L1302.64 1576.64 L1302.64 1572.09 L1310.25 1572.09 L1310.25 1523.07 L1302.64 1523.07 L1302.64 1518.52 L1316.14 1518.52 Z\" fill=\"#000000\" fill-rule=\"evenodd\" fill-opacity=\"1\" /><polyline clip-path=\"url(#clip062)\" style=\"stroke:#000000; stroke-linecap:butt; stroke-linejoin:round; stroke-width:2; stroke-opacity:0.1; fill:none\" points=\"\n",
       "  155.765,1384.24 2352.76,1384.24 \n",
       "  \"/>\n",
       "<polyline clip-path=\"url(#clip062)\" style=\"stroke:#000000; stroke-linecap:butt; stroke-linejoin:round; stroke-width:2; stroke-opacity:0.1; fill:none\" points=\"\n",
       "  155.765,1108.15 2352.76,1108.15 \n",
       "  \"/>\n",
       "<polyline clip-path=\"url(#clip062)\" style=\"stroke:#000000; stroke-linecap:butt; stroke-linejoin:round; stroke-width:2; stroke-opacity:0.1; fill:none\" points=\"\n",
       "  155.765,832.061 2352.76,832.061 \n",
       "  \"/>\n",
       "<polyline clip-path=\"url(#clip062)\" style=\"stroke:#000000; stroke-linecap:butt; stroke-linejoin:round; stroke-width:2; stroke-opacity:0.1; fill:none\" points=\"\n",
       "  155.765,555.973 2352.76,555.973 \n",
       "  \"/>\n",
       "<polyline clip-path=\"url(#clip062)\" style=\"stroke:#000000; stroke-linecap:butt; stroke-linejoin:round; stroke-width:2; stroke-opacity:0.1; fill:none\" points=\"\n",
       "  155.765,279.884 2352.76,279.884 \n",
       "  \"/>\n",
       "<polyline clip-path=\"url(#clip060)\" style=\"stroke:#000000; stroke-linecap:butt; stroke-linejoin:round; stroke-width:4; stroke-opacity:1; fill:none\" points=\"\n",
       "  155.765,1423.18 155.765,47.2441 \n",
       "  \"/>\n",
       "<polyline clip-path=\"url(#clip060)\" style=\"stroke:#000000; stroke-linecap:butt; stroke-linejoin:round; stroke-width:4; stroke-opacity:1; fill:none\" points=\"\n",
       "  155.765,1384.24 174.663,1384.24 \n",
       "  \"/>\n",
       "<polyline clip-path=\"url(#clip060)\" style=\"stroke:#000000; stroke-linecap:butt; stroke-linejoin:round; stroke-width:4; stroke-opacity:1; fill:none\" points=\"\n",
       "  155.765,1108.15 174.663,1108.15 \n",
       "  \"/>\n",
       "<polyline clip-path=\"url(#clip060)\" style=\"stroke:#000000; stroke-linecap:butt; stroke-linejoin:round; stroke-width:4; stroke-opacity:1; fill:none\" points=\"\n",
       "  155.765,832.061 174.663,832.061 \n",
       "  \"/>\n",
       "<polyline clip-path=\"url(#clip060)\" style=\"stroke:#000000; stroke-linecap:butt; stroke-linejoin:round; stroke-width:4; stroke-opacity:1; fill:none\" points=\"\n",
       "  155.765,555.973 174.663,555.973 \n",
       "  \"/>\n",
       "<polyline clip-path=\"url(#clip060)\" style=\"stroke:#000000; stroke-linecap:butt; stroke-linejoin:round; stroke-width:4; stroke-opacity:1; fill:none\" points=\"\n",
       "  155.765,279.884 174.663,279.884 \n",
       "  \"/>\n",
       "<path clip-path=\"url(#clip060)\" d=\"M63.5847 1370.04 Q59.9736 1370.04 58.1449 1373.6 Q56.3393 1377.14 56.3393 1384.27 Q56.3393 1391.38 58.1449 1394.94 Q59.9736 1398.49 63.5847 1398.49 Q67.2189 1398.49 69.0244 1394.94 Q70.8531 1391.38 70.8531 1384.27 Q70.8531 1377.14 69.0244 1373.6 Q67.2189 1370.04 63.5847 1370.04 M63.5847 1366.33 Q69.3948 1366.33 72.4503 1370.94 Q75.529 1375.52 75.529 1384.27 Q75.529 1393 72.4503 1397.61 Q69.3948 1402.19 63.5847 1402.19 Q57.7745 1402.19 54.6958 1397.61 Q51.6403 1393 51.6403 1384.27 Q51.6403 1375.52 54.6958 1370.94 Q57.7745 1366.33 63.5847 1366.33 Z\" fill=\"#000000\" fill-rule=\"evenodd\" fill-opacity=\"1\" /><path clip-path=\"url(#clip060)\" d=\"M83.7466 1395.64 L88.6308 1395.64 L88.6308 1401.52 L83.7466 1401.52 L83.7466 1395.64 Z\" fill=\"#000000\" fill-rule=\"evenodd\" fill-opacity=\"1\" /><path clip-path=\"url(#clip060)\" d=\"M98.8622 1366.96 L117.219 1366.96 L117.219 1370.89 L103.145 1370.89 L103.145 1379.37 Q104.163 1379.02 105.182 1378.86 Q106.2 1378.67 107.219 1378.67 Q113.006 1378.67 116.385 1381.84 Q119.765 1385.01 119.765 1390.43 Q119.765 1396.01 116.293 1399.11 Q112.82 1402.19 106.501 1402.19 Q104.325 1402.19 102.057 1401.82 Q99.8113 1401.45 97.4039 1400.71 L97.4039 1396.01 Q99.4872 1397.14 101.709 1397.7 Q103.932 1398.25 106.408 1398.25 Q110.413 1398.25 112.751 1396.15 Q115.089 1394.04 115.089 1390.43 Q115.089 1386.82 112.751 1384.71 Q110.413 1382.61 106.408 1382.61 Q104.534 1382.61 102.659 1383.02 Q100.807 1383.44 98.8622 1384.32 L98.8622 1366.96 Z\" fill=\"#000000\" fill-rule=\"evenodd\" fill-opacity=\"1\" /><path clip-path=\"url(#clip060)\" d=\"M53.3995 1121.49 L61.0384 1121.49 L61.0384 1095.13 L52.7282 1096.8 L52.7282 1092.54 L60.9921 1090.87 L65.668 1090.87 L65.668 1121.49 L73.3068 1121.49 L73.3068 1125.43 L53.3995 1125.43 L53.3995 1121.49 Z\" fill=\"#000000\" fill-rule=\"evenodd\" fill-opacity=\"1\" /><path clip-path=\"url(#clip060)\" d=\"M82.7512 1119.55 L87.6354 1119.55 L87.6354 1125.43 L82.7512 1125.43 L82.7512 1119.55 Z\" fill=\"#000000\" fill-rule=\"evenodd\" fill-opacity=\"1\" /><path clip-path=\"url(#clip060)\" d=\"M107.821 1093.95 Q104.209 1093.95 102.381 1097.51 Q100.575 1101.05 100.575 1108.18 Q100.575 1115.29 102.381 1118.86 Q104.209 1122.4 107.821 1122.4 Q111.455 1122.4 113.26 1118.86 Q115.089 1115.29 115.089 1108.18 Q115.089 1101.05 113.26 1097.51 Q111.455 1093.95 107.821 1093.95 M107.821 1090.24 Q113.631 1090.24 116.686 1094.85 Q119.765 1099.43 119.765 1108.18 Q119.765 1116.91 116.686 1121.52 Q113.631 1126.1 107.821 1126.1 Q102.01 1126.1 98.9317 1121.52 Q95.8761 1116.91 95.8761 1108.18 Q95.8761 1099.43 98.9317 1094.85 Q102.01 1090.24 107.821 1090.24 Z\" fill=\"#000000\" fill-rule=\"evenodd\" fill-opacity=\"1\" /><path clip-path=\"url(#clip060)\" d=\"M54.3949 845.406 L62.0337 845.406 L62.0337 819.041 L53.7236 820.707 L53.7236 816.448 L61.9874 814.781 L66.6633 814.781 L66.6633 845.406 L74.3022 845.406 L74.3022 849.341 L54.3949 849.341 L54.3949 845.406 Z\" fill=\"#000000\" fill-rule=\"evenodd\" fill-opacity=\"1\" /><path clip-path=\"url(#clip060)\" d=\"M83.7466 843.462 L88.6308 843.462 L88.6308 849.341 L83.7466 849.341 L83.7466 843.462 Z\" fill=\"#000000\" fill-rule=\"evenodd\" fill-opacity=\"1\" /><path clip-path=\"url(#clip060)\" d=\"M98.8622 814.781 L117.219 814.781 L117.219 818.716 L103.145 818.716 L103.145 827.189 Q104.163 826.841 105.182 826.679 Q106.2 826.494 107.219 826.494 Q113.006 826.494 116.385 829.665 Q119.765 832.837 119.765 838.253 Q119.765 843.832 116.293 846.934 Q112.82 850.013 106.501 850.013 Q104.325 850.013 102.057 849.642 Q99.8113 849.272 97.4039 848.531 L97.4039 843.832 Q99.4872 844.966 101.709 845.522 Q103.932 846.077 106.408 846.077 Q110.413 846.077 112.751 843.971 Q115.089 841.864 115.089 838.253 Q115.089 834.642 112.751 832.536 Q110.413 830.429 106.408 830.429 Q104.534 830.429 102.659 830.846 Q100.807 831.263 98.8622 832.142 L98.8622 814.781 Z\" fill=\"#000000\" fill-rule=\"evenodd\" fill-opacity=\"1\" /><path clip-path=\"url(#clip060)\" d=\"M56.6171 569.318 L72.9365 569.318 L72.9365 573.253 L50.9921 573.253 L50.9921 569.318 Q53.6541 566.563 58.2375 561.933 Q62.8439 557.281 64.0245 555.938 Q66.2698 553.415 67.1494 551.679 Q68.0522 549.92 68.0522 548.23 Q68.0522 545.475 66.1078 543.739 Q64.1865 542.003 61.0847 542.003 Q58.8856 542.003 56.4319 542.767 Q54.0014 543.531 51.2236 545.082 L51.2236 540.359 Q54.0477 539.225 56.5014 538.647 Q58.955 538.068 60.9921 538.068 Q66.3624 538.068 69.5568 540.753 Q72.7513 543.438 72.7513 547.929 Q72.7513 550.059 71.9411 551.98 Q71.1541 553.878 69.0476 556.471 Q68.4689 557.142 65.367 560.359 Q62.2652 563.554 56.6171 569.318 Z\" fill=\"#000000\" fill-rule=\"evenodd\" fill-opacity=\"1\" /><path clip-path=\"url(#clip060)\" d=\"M82.7512 567.373 L87.6354 567.373 L87.6354 573.253 L82.7512 573.253 L82.7512 567.373 Z\" fill=\"#000000\" fill-rule=\"evenodd\" fill-opacity=\"1\" /><path clip-path=\"url(#clip060)\" d=\"M107.821 541.772 Q104.209 541.772 102.381 545.336 Q100.575 548.878 100.575 556.008 Q100.575 563.114 102.381 566.679 Q104.209 570.22 107.821 570.22 Q111.455 570.22 113.26 566.679 Q115.089 563.114 115.089 556.008 Q115.089 548.878 113.26 545.336 Q111.455 541.772 107.821 541.772 M107.821 538.068 Q113.631 538.068 116.686 542.674 Q119.765 547.258 119.765 556.008 Q119.765 564.734 116.686 569.341 Q113.631 573.924 107.821 573.924 Q102.01 573.924 98.9317 569.341 Q95.8761 564.734 95.8761 556.008 Q95.8761 547.258 98.9317 542.674 Q102.01 538.068 107.821 538.068 Z\" fill=\"#000000\" fill-rule=\"evenodd\" fill-opacity=\"1\" /><path clip-path=\"url(#clip060)\" d=\"M57.6125 293.229 L73.9318 293.229 L73.9318 297.164 L51.9875 297.164 L51.9875 293.229 Q54.6495 290.475 59.2328 285.845 Q63.8393 281.192 65.0198 279.85 Q67.2652 277.326 68.1448 275.59 Q69.0476 273.831 69.0476 272.141 Q69.0476 269.387 67.1032 267.651 Q65.1819 265.915 62.08 265.915 Q59.881 265.915 57.4273 266.678 Q54.9967 267.442 52.219 268.993 L52.219 264.271 Q55.043 263.137 57.4967 262.558 Q59.9504 261.979 61.9874 261.979 Q67.3578 261.979 70.5522 264.665 Q73.7466 267.35 73.7466 271.84 Q73.7466 273.97 72.9365 275.891 Q72.1494 277.789 70.0429 280.382 Q69.4642 281.053 66.3624 284.271 Q63.2606 287.465 57.6125 293.229 Z\" fill=\"#000000\" fill-rule=\"evenodd\" fill-opacity=\"1\" /><path clip-path=\"url(#clip060)\" d=\"M83.7466 291.285 L88.6308 291.285 L88.6308 297.164 L83.7466 297.164 L83.7466 291.285 Z\" fill=\"#000000\" fill-rule=\"evenodd\" fill-opacity=\"1\" /><path clip-path=\"url(#clip060)\" d=\"M98.8622 262.604 L117.219 262.604 L117.219 266.54 L103.145 266.54 L103.145 275.012 Q104.163 274.664 105.182 274.502 Q106.2 274.317 107.219 274.317 Q113.006 274.317 116.385 277.489 Q119.765 280.66 119.765 286.076 Q119.765 291.655 116.293 294.757 Q112.82 297.836 106.501 297.836 Q104.325 297.836 102.057 297.465 Q99.8113 297.095 97.4039 296.354 L97.4039 291.655 Q99.4872 292.789 101.709 293.345 Q103.932 293.9 106.408 293.9 Q110.413 293.9 112.751 291.794 Q115.089 289.688 115.089 286.076 Q115.089 282.465 112.751 280.359 Q110.413 278.252 106.408 278.252 Q104.534 278.252 102.659 278.669 Q100.807 279.086 98.8622 279.965 L98.8622 262.604 Z\" fill=\"#000000\" fill-rule=\"evenodd\" fill-opacity=\"1\" /><polyline clip-path=\"url(#clip062)\" style=\"stroke:#009af9; stroke-linecap:butt; stroke-linejoin:round; stroke-width:4; stroke-opacity:1; fill:none\" points=\"\n",
       "  217.944,1384.24 217.944,1384.24 217.946,1384.24 217.972,1384.24 218.231,1384.24 220.822,1384.09 228.262,1382.36 243.779,1372.37 260.645,1351.89 281.371,1314.07 \n",
       "  302.098,1264.43 322.824,1206.09 343.55,1142.75 364.277,1078.44 385.003,1017.25 405.729,963.08 426.456,919.417 447.182,889.133 467.908,874.416 475.435,873.256 \n",
       "  496.162,879.552 516.888,898.451 537.614,929.138 558.341,969.848 579.067,1018.07 599.793,1070.77 620.52,1124.6 641.246,1176.13 661.972,1222.07 682.699,1259.45 \n",
       "  703.425,1285.77 724.151,1299.08 733.021,1300.44 753.747,1295.53 774.473,1280.75 795.2,1256.67 815.926,1224.63 836.652,1186.56 857.379,1144.81 878.105,1102.04 \n",
       "  898.831,1060.96 919.558,1024.22 940.284,994.223 961.01,973.016 981.737,962.218 990.743,961.091 1011.47,964.534 1032.2,974.917 1052.92,991.897 1073.65,1014.6 \n",
       "  1094.37,1041.72 1115.1,1071.59 1135.83,1102.34 1156.55,1132.02 1177.28,1158.71 1198.01,1180.61 1218.73,1196.19 1239.46,1204.21 1248.73,1205.08 1269.46,1203.27 \n",
       "  1290.18,1197.79 1310.91,1188.78 1331.64,1176.65 1352.36,1162.04 1373.09,1145.82 1393.82,1128.97 1414.54,1112.57 1435.27,1097.69 1455.99,1085.35 1476.72,1076.47 \n",
       "  1497.45,1071.81 1507.33,1071.25 1528.06,1071.25 1548.78,1071.25 1569.51,1071.25 1590.24,1071.25 1610.96,1071.25 1631.69,1071.25 1652.41,1071.25 1673.14,1071.25 \n",
       "  1693.87,1071.25 1714.59,1071.25 1735.32,1071.25 1756.05,1071.25 1776.77,1071.25 1797.5,1071.25 1818.23,1071.25 1838.95,1071.25 1859.68,1071.25 1880.4,1071.25 \n",
       "  1901.13,1071.25 1921.86,1071.25 1942.58,1071.25 1963.31,1071.25 1984.04,1071.25 2004.76,1071.25 2025.49,1071.25 2046.22,1071.25 2066.94,1071.25 2087.67,1071.25 \n",
       "  2108.39,1071.25 2129.12,1071.25 2149.85,1071.25 2170.57,1071.25 2191.3,1071.25 2212.03,1071.25 2232.75,1071.25 2253.48,1071.25 2274.2,1071.25 2290.58,1071.25 \n",
       "  \n",
       "  \"/>\n",
       "<polyline clip-path=\"url(#clip062)\" style=\"stroke:#0000ff; stroke-linecap:butt; stroke-linejoin:round; stroke-width:4; stroke-opacity:1; fill:none\" stroke-dasharray=\"16, 10\" points=\"\n",
       "  217.944,1384.24 217.944,873.256 \n",
       "  \"/>\n",
       "<polyline clip-path=\"url(#clip062)\" style=\"stroke:#0000ff; stroke-linecap:butt; stroke-linejoin:round; stroke-width:4; stroke-opacity:1; fill:none\" stroke-dasharray=\"16, 10\" points=\"\n",
       "  475.435,1384.24 475.435,873.256 \n",
       "  \"/>\n",
       "<polyline clip-path=\"url(#clip062)\" style=\"stroke:#0000ff; stroke-linecap:butt; stroke-linejoin:round; stroke-width:4; stroke-opacity:1; fill:none\" stroke-dasharray=\"16, 10\" points=\"\n",
       "  733.021,1384.24 733.021,873.256 \n",
       "  \"/>\n",
       "<polyline clip-path=\"url(#clip062)\" style=\"stroke:#0000ff; stroke-linecap:butt; stroke-linejoin:round; stroke-width:4; stroke-opacity:1; fill:none\" stroke-dasharray=\"16, 10\" points=\"\n",
       "  990.743,1384.24 990.743,873.256 \n",
       "  \"/>\n",
       "<polyline clip-path=\"url(#clip062)\" style=\"stroke:#0000ff; stroke-linecap:butt; stroke-linejoin:round; stroke-width:4; stroke-opacity:1; fill:none\" stroke-dasharray=\"16, 10\" points=\"\n",
       "  1248.73,1384.24 1248.73,873.256 \n",
       "  \"/>\n",
       "<polyline clip-path=\"url(#clip062)\" style=\"stroke:#0000ff; stroke-linecap:butt; stroke-linejoin:round; stroke-width:4; stroke-opacity:1; fill:none\" stroke-dasharray=\"16, 10\" points=\"\n",
       "  1507.33,1384.24 1507.33,873.256 \n",
       "  \"/>\n",
       "<polyline clip-path=\"url(#clip062)\" style=\"stroke:#c68125; stroke-linecap:butt; stroke-linejoin:round; stroke-width:4; stroke-opacity:1; fill:none\" stroke-dasharray=\"16, 10\" points=\"\n",
       "  217.944,1108.15 217.944,1108.15 217.946,1108.15 217.972,1108.15 218.231,1108.15 220.822,1107.86 228.262,1104.39 243.779,1084.41 260.645,1043.46 281.371,967.805 \n",
       "  302.098,868.53 322.824,751.853 343.55,625.171 364.277,496.545 385.003,374.165 405.729,265.834 426.456,178.508 447.182,117.939 467.908,88.5061 475.435,86.1857 \n",
       "  496.162,98.7769 516.888,136.575 537.614,197.95 558.341,279.368 579.067,375.813 599.793,481.211 620.52,588.872 641.246,691.941 661.972,783.822 682.699,858.573 \n",
       "  703.425,911.206 724.151,937.842 733.021,940.553 753.747,930.727 774.473,901.169 795.2,853.023 815.926,788.941 836.652,712.783 857.379,629.293 878.105,543.745 \n",
       "  898.831,461.59 919.558,388.112 940.284,328.12 961.01,285.705 981.737,264.108 990.743,261.856 1011.47,268.741 1032.2,289.507 1052.92,323.468 1073.65,368.88 \n",
       "  1094.37,423.11 1115.1,482.851 1135.83,544.361 1156.55,603.723 1177.28,657.086 1198.01,700.892 1218.73,732.059 1239.46,748.091 1248.73,749.842 1269.46,746.22 \n",
       "  1290.18,735.261 1310.91,717.239 1331.64,692.97 1352.36,663.76 1373.09,631.313 1393.82,597.616 1414.54,564.808 1435.27,535.045 1455.99,510.374 1476.72,492.621 \n",
       "  1497.45,483.301 1507.33,482.178 1528.06,482.178 1548.78,482.178 1569.51,482.178 1590.24,482.178 1610.96,482.178 1631.69,482.178 1652.41,482.178 1673.14,482.178 \n",
       "  1693.87,482.178 1714.59,482.178 1735.32,482.178 1756.05,482.178 1776.77,482.178 1797.5,482.178 1818.23,482.178 1838.95,482.178 1859.68,482.178 1880.4,482.178 \n",
       "  1901.13,482.178 1921.86,482.178 1942.58,482.178 1963.31,482.178 1984.04,482.178 2004.76,482.178 2025.49,482.178 2046.22,482.178 2066.94,482.178 2087.67,482.178 \n",
       "  2108.39,482.178 2129.12,482.178 2149.85,482.178 2170.57,482.178 2191.3,482.178 2212.03,482.178 2232.75,482.178 2253.48,482.178 2274.2,482.178 2290.58,482.178 \n",
       "  \n",
       "  \"/>\n",
       "<polyline clip-path=\"url(#clip062)\" style=\"stroke:#0000ff; stroke-linecap:butt; stroke-linejoin:round; stroke-width:4; stroke-opacity:1; fill:none\" stroke-dasharray=\"16, 10\" points=\"\n",
       "  217.944,1108.15 217.944,86.1857 \n",
       "  \"/>\n",
       "<polyline clip-path=\"url(#clip062)\" style=\"stroke:#0000ff; stroke-linecap:butt; stroke-linejoin:round; stroke-width:4; stroke-opacity:1; fill:none\" stroke-dasharray=\"16, 10\" points=\"\n",
       "  475.435,1108.15 475.435,86.1857 \n",
       "  \"/>\n",
       "<polyline clip-path=\"url(#clip062)\" style=\"stroke:#0000ff; stroke-linecap:butt; stroke-linejoin:round; stroke-width:4; stroke-opacity:1; fill:none\" stroke-dasharray=\"16, 10\" points=\"\n",
       "  733.021,1108.15 733.021,86.1857 \n",
       "  \"/>\n",
       "<polyline clip-path=\"url(#clip062)\" style=\"stroke:#0000ff; stroke-linecap:butt; stroke-linejoin:round; stroke-width:4; stroke-opacity:1; fill:none\" stroke-dasharray=\"16, 10\" points=\"\n",
       "  990.743,1108.15 990.743,86.1857 \n",
       "  \"/>\n",
       "<polyline clip-path=\"url(#clip062)\" style=\"stroke:#0000ff; stroke-linecap:butt; stroke-linejoin:round; stroke-width:4; stroke-opacity:1; fill:none\" stroke-dasharray=\"16, 10\" points=\"\n",
       "  1248.73,1108.15 1248.73,86.1857 \n",
       "  \"/>\n",
       "<polyline clip-path=\"url(#clip062)\" style=\"stroke:#0000ff; stroke-linecap:butt; stroke-linejoin:round; stroke-width:4; stroke-opacity:1; fill:none\" stroke-dasharray=\"16, 10\" points=\"\n",
       "  1507.33,1108.15 1507.33,86.1857 \n",
       "  \"/>\n",
       "<path clip-path=\"url(#clip060)\" d=\"\n",
       "M1586.04 352.309 L2279.52 352.309 L2279.52 93.1086 L1586.04 93.1086  Z\n",
       "  \" fill=\"#ffffff\" fill-rule=\"evenodd\" fill-opacity=\"1\"/>\n",
       "<polyline clip-path=\"url(#clip060)\" style=\"stroke:#000000; stroke-linecap:butt; stroke-linejoin:round; stroke-width:4; stroke-opacity:1; fill:none\" points=\"\n",
       "  1586.04,352.309 2279.52,352.309 2279.52,93.1086 1586.04,93.1086 1586.04,352.309 \n",
       "  \"/>\n",
       "<polyline clip-path=\"url(#clip060)\" style=\"stroke:#009af9; stroke-linecap:butt; stroke-linejoin:round; stroke-width:4; stroke-opacity:1; fill:none\" points=\"\n",
       "  1610.45,144.949 1756.92,144.949 \n",
       "  \"/>\n",
       "<path clip-path=\"url(#clip060)\" d=\"M1801.68 141.28 Q1803.27 138.409 1805.49 137.044 Q1807.72 135.678 1810.73 135.678 Q1814.78 135.678 1816.98 138.525 Q1819.18 141.349 1819.18 146.581 L1819.18 162.229 L1814.89 162.229 L1814.89 146.719 Q1814.89 142.993 1813.57 141.187 Q1812.25 139.382 1809.55 139.382 Q1806.24 139.382 1804.31 141.581 Q1802.39 143.78 1802.39 147.576 L1802.39 162.229 L1798.11 162.229 L1798.11 146.719 Q1798.11 142.969 1796.79 141.187 Q1795.47 139.382 1792.72 139.382 Q1789.45 139.382 1787.53 141.604 Q1785.61 143.803 1785.61 147.576 L1785.61 162.229 L1781.33 162.229 L1781.33 136.303 L1785.61 136.303 L1785.61 140.331 Q1787.07 137.946 1789.11 136.812 Q1791.14 135.678 1793.94 135.678 Q1796.77 135.678 1798.74 137.113 Q1800.73 138.548 1801.68 141.28 Z\" fill=\"#000000\" fill-rule=\"evenodd\" fill-opacity=\"1\" /><path clip-path=\"url(#clip060)\" d=\"M1839.45 149.196 Q1834.29 149.196 1832.3 150.377 Q1830.31 151.557 1830.31 154.405 Q1830.31 156.673 1831.79 158.016 Q1833.3 159.335 1835.87 159.335 Q1839.41 159.335 1841.54 156.835 Q1843.69 154.312 1843.69 150.145 L1843.69 149.196 L1839.45 149.196 M1847.95 147.437 L1847.95 162.229 L1843.69 162.229 L1843.69 158.293 Q1842.23 160.655 1840.05 161.789 Q1837.88 162.9 1834.73 162.9 Q1830.75 162.9 1828.39 160.678 Q1826.05 158.432 1826.05 154.682 Q1826.05 150.307 1828.97 148.085 Q1831.91 145.863 1837.72 145.863 L1843.69 145.863 L1843.69 145.446 Q1843.69 142.507 1841.74 140.909 Q1839.82 139.289 1836.33 139.289 Q1834.11 139.289 1832 139.821 Q1829.89 140.354 1827.95 141.419 L1827.95 137.483 Q1830.29 136.581 1832.49 136.141 Q1834.68 135.678 1836.77 135.678 Q1842.39 135.678 1845.17 138.594 Q1847.95 141.511 1847.95 147.437 Z\" fill=\"#000000\" fill-rule=\"evenodd\" fill-opacity=\"1\" /><path clip-path=\"url(#clip060)\" d=\"M1873.25 137.067 L1873.25 141.094 Q1871.44 140.169 1869.5 139.706 Q1867.55 139.243 1865.47 139.243 Q1862.3 139.243 1860.7 140.215 Q1859.13 141.187 1859.13 143.131 Q1859.13 144.613 1860.26 145.469 Q1861.4 146.303 1864.82 147.067 L1866.28 147.391 Q1870.82 148.363 1872.72 150.145 Q1874.64 151.905 1874.64 155.076 Q1874.64 158.687 1871.77 160.793 Q1868.92 162.9 1863.92 162.9 Q1861.84 162.9 1859.57 162.483 Q1857.32 162.09 1854.82 161.28 L1854.82 156.881 Q1857.18 158.108 1859.48 158.733 Q1861.77 159.335 1864.01 159.335 Q1867.02 159.335 1868.64 158.317 Q1870.26 157.275 1870.26 155.4 Q1870.26 153.664 1869.08 152.738 Q1867.93 151.812 1863.97 150.956 L1862.49 150.608 Q1858.53 149.775 1856.77 148.062 Q1855.01 146.326 1855.01 143.317 Q1855.01 139.659 1857.6 137.669 Q1860.19 135.678 1864.96 135.678 Q1867.32 135.678 1869.41 136.025 Q1871.49 136.372 1873.25 137.067 Z\" fill=\"#000000\" fill-rule=\"evenodd\" fill-opacity=\"1\" /><path clip-path=\"url(#clip060)\" d=\"M1897.95 137.067 L1897.95 141.094 Q1896.14 140.169 1894.2 139.706 Q1892.25 139.243 1890.17 139.243 Q1887 139.243 1885.4 140.215 Q1883.83 141.187 1883.83 143.131 Q1883.83 144.613 1884.96 145.469 Q1886.1 146.303 1889.52 147.067 L1890.98 147.391 Q1895.52 148.363 1897.42 150.145 Q1899.34 151.905 1899.34 155.076 Q1899.34 158.687 1896.47 160.793 Q1893.62 162.9 1888.62 162.9 Q1886.54 162.9 1884.27 162.483 Q1882.02 162.09 1879.52 161.28 L1879.52 156.881 Q1881.88 158.108 1884.17 158.733 Q1886.47 159.335 1888.71 159.335 Q1891.72 159.335 1893.34 158.317 Q1894.96 157.275 1894.96 155.4 Q1894.96 153.664 1893.78 152.738 Q1892.62 151.812 1888.67 150.956 L1887.18 150.608 Q1883.23 149.775 1881.47 148.062 Q1879.71 146.326 1879.71 143.317 Q1879.71 139.659 1882.3 137.669 Q1884.89 135.678 1889.66 135.678 Q1892.02 135.678 1894.11 136.025 Q1896.19 136.372 1897.95 137.067 Z\" fill=\"#000000\" fill-rule=\"evenodd\" fill-opacity=\"1\" /><path clip-path=\"url(#clip060)\" d=\"M1906.72 156.349 L1911.61 156.349 L1911.61 162.229 L1906.72 162.229 L1906.72 156.349 Z\" fill=\"#000000\" fill-rule=\"evenodd\" fill-opacity=\"1\" /><path clip-path=\"url(#clip060)\" d=\"M1937.72 137.067 L1937.72 141.094 Q1935.91 140.169 1933.97 139.706 Q1932.02 139.243 1929.94 139.243 Q1926.77 139.243 1925.17 140.215 Q1923.6 141.187 1923.6 143.131 Q1923.6 144.613 1924.73 145.469 Q1925.86 146.303 1929.29 147.067 L1930.75 147.391 Q1935.29 148.363 1937.18 150.145 Q1939.11 151.905 1939.11 155.076 Q1939.11 158.687 1936.23 160.793 Q1933.39 162.9 1928.39 162.9 Q1926.3 162.9 1924.04 162.483 Q1921.79 162.09 1919.29 161.28 L1919.29 156.881 Q1921.65 158.108 1923.94 158.733 Q1926.23 159.335 1928.48 159.335 Q1931.49 159.335 1933.11 158.317 Q1934.73 157.275 1934.73 155.4 Q1934.73 153.664 1933.55 152.738 Q1932.39 151.812 1928.43 150.956 L1926.95 150.608 Q1922.99 149.775 1921.23 148.062 Q1919.48 146.326 1919.48 143.317 Q1919.48 139.659 1922.07 137.669 Q1924.66 135.678 1929.43 135.678 Q1931.79 135.678 1933.87 136.025 Q1935.96 136.372 1937.72 137.067 Z\" fill=\"#000000\" fill-rule=\"evenodd\" fill-opacity=\"1\" /><path clip-path=\"url(#clip060)\" d=\"M1971.19 126.257 Q1968.09 131.581 1966.58 136.789 Q1965.08 141.997 1965.08 147.344 Q1965.08 152.692 1966.58 157.946 Q1968.11 163.178 1971.19 168.479 L1967.48 168.479 Q1964.01 163.039 1962.28 157.784 Q1960.56 152.53 1960.56 147.344 Q1960.56 142.182 1962.28 136.951 Q1963.99 131.72 1967.48 126.257 L1971.19 126.257 Z\" fill=\"#000000\" fill-rule=\"evenodd\" fill-opacity=\"1\" /><path clip-path=\"url(#clip060)\" d=\"M1994.22 143.594 Q1997.58 144.312 1999.45 146.581 Q2001.35 148.849 2001.35 152.182 Q2001.35 157.298 1997.83 160.099 Q1994.31 162.9 1987.83 162.9 Q1985.66 162.9 1983.34 162.46 Q1981.05 162.043 1978.6 161.187 L1978.6 156.673 Q1980.54 157.807 1982.85 158.386 Q1985.17 158.965 1987.69 158.965 Q1992.09 158.965 1994.38 157.229 Q1996.7 155.493 1996.7 152.182 Q1996.7 149.127 1994.54 147.414 Q1992.42 145.678 1988.6 145.678 L1984.57 145.678 L1984.57 141.835 L1988.78 141.835 Q1992.23 141.835 1994.06 140.469 Q1995.89 139.081 1995.89 136.488 Q1995.89 133.826 1993.99 132.414 Q1992.11 130.979 1988.6 130.979 Q1986.67 130.979 1984.48 131.395 Q1982.28 131.812 1979.64 132.692 L1979.64 128.525 Q1982.3 127.784 1984.61 127.414 Q1986.95 127.044 1989.01 127.044 Q1994.34 127.044 1997.44 129.474 Q2000.54 131.882 2000.54 136.002 Q2000.54 138.872 1998.9 140.863 Q1997.25 142.831 1994.22 143.594 Z\" fill=\"#000000\" fill-rule=\"evenodd\" fill-opacity=\"1\" /><path clip-path=\"url(#clip060)\" d=\"M2024.38 143.594 Q2027.74 144.312 2029.61 146.581 Q2031.51 148.849 2031.51 152.182 Q2031.51 157.298 2027.99 160.099 Q2024.48 162.9 2017.99 162.9 Q2015.82 162.9 2013.5 162.46 Q2011.21 162.043 2008.76 161.187 L2008.76 156.673 Q2010.7 157.807 2013.02 158.386 Q2015.33 158.965 2017.85 158.965 Q2022.25 158.965 2024.54 157.229 Q2026.86 155.493 2026.86 152.182 Q2026.86 149.127 2024.71 147.414 Q2022.58 145.678 2018.76 145.678 L2014.73 145.678 L2014.73 141.835 L2018.94 141.835 Q2022.39 141.835 2024.22 140.469 Q2026.05 139.081 2026.05 136.488 Q2026.05 133.826 2024.15 132.414 Q2022.28 130.979 2018.76 130.979 Q2016.84 130.979 2014.64 131.395 Q2012.44 131.812 2009.8 132.692 L2009.8 128.525 Q2012.46 127.784 2014.78 127.414 Q2017.11 127.044 2019.17 127.044 Q2024.5 127.044 2027.6 129.474 Q2030.7 131.882 2030.7 136.002 Q2030.7 138.872 2029.06 140.863 Q2027.41 142.831 2024.38 143.594 Z\" fill=\"#000000\" fill-rule=\"evenodd\" fill-opacity=\"1\" /><path clip-path=\"url(#clip060)\" d=\"M2040.42 127.669 L2058.78 127.669 L2058.78 131.604 L2044.71 131.604 L2044.71 140.076 Q2045.72 139.729 2046.74 139.567 Q2047.76 139.382 2048.78 139.382 Q2054.57 139.382 2057.95 142.553 Q2061.33 145.724 2061.33 151.141 Q2061.33 156.719 2057.85 159.821 Q2054.38 162.9 2048.06 162.9 Q2045.89 162.9 2043.62 162.53 Q2041.37 162.159 2038.97 161.418 L2038.97 156.719 Q2041.05 157.854 2043.27 158.409 Q2045.49 158.965 2047.97 158.965 Q2051.97 158.965 2054.31 156.858 Q2056.65 154.752 2056.65 151.141 Q2056.65 147.53 2054.31 145.423 Q2051.97 143.317 2047.97 143.317 Q2046.1 143.317 2044.22 143.733 Q2042.37 144.15 2040.42 145.03 L2040.42 127.669 Z\" fill=\"#000000\" fill-rule=\"evenodd\" fill-opacity=\"1\" /><path clip-path=\"url(#clip060)\" d=\"M2070.59 127.669 L2088.94 127.669 L2088.94 131.604 L2074.87 131.604 L2074.87 140.076 Q2075.89 139.729 2076.91 139.567 Q2077.92 139.382 2078.94 139.382 Q2084.73 139.382 2088.11 142.553 Q2091.49 145.724 2091.49 151.141 Q2091.49 156.719 2088.02 159.821 Q2084.54 162.9 2078.22 162.9 Q2076.05 162.9 2073.78 162.53 Q2071.54 162.159 2069.13 161.418 L2069.13 156.719 Q2071.21 157.854 2073.43 158.409 Q2075.66 158.965 2078.13 158.965 Q2082.14 158.965 2084.47 156.858 Q2086.81 154.752 2086.81 151.141 Q2086.81 147.53 2084.47 145.423 Q2082.14 143.317 2078.13 143.317 Q2076.26 143.317 2074.38 143.733 Q2072.53 144.15 2070.59 145.03 L2070.59 127.669 Z\" fill=\"#000000\" fill-rule=\"evenodd\" fill-opacity=\"1\" /><path clip-path=\"url(#clip060)\" d=\"M2113.55 131.743 L2101.74 150.192 L2113.55 150.192 L2113.55 131.743 M2112.32 127.669 L2118.2 127.669 L2118.2 150.192 L2123.13 150.192 L2123.13 154.081 L2118.2 154.081 L2118.2 162.229 L2113.55 162.229 L2113.55 154.081 L2097.95 154.081 L2097.95 149.567 L2112.32 127.669 Z\" fill=\"#000000\" fill-rule=\"evenodd\" fill-opacity=\"1\" /><path clip-path=\"url(#clip060)\" d=\"M2143.71 131.743 L2131.91 150.192 L2143.71 150.192 L2143.71 131.743 M2142.48 127.669 L2148.36 127.669 L2148.36 150.192 L2153.29 150.192 L2153.29 154.081 L2148.36 154.081 L2148.36 162.229 L2143.71 162.229 L2143.71 154.081 L2128.11 154.081 L2128.11 149.567 L2142.48 127.669 Z\" fill=\"#000000\" fill-rule=\"evenodd\" fill-opacity=\"1\" /><path clip-path=\"url(#clip060)\" d=\"M2175.19 143.594 Q2178.55 144.312 2180.42 146.581 Q2182.32 148.849 2182.32 152.182 Q2182.32 157.298 2178.8 160.099 Q2175.28 162.9 2168.8 162.9 Q2166.63 162.9 2164.31 162.46 Q2162.02 162.043 2159.57 161.187 L2159.57 156.673 Q2161.51 157.807 2163.83 158.386 Q2166.14 158.965 2168.66 158.965 Q2173.06 158.965 2175.35 157.229 Q2177.67 155.493 2177.67 152.182 Q2177.67 149.127 2175.52 147.414 Q2173.39 145.678 2169.57 145.678 L2165.54 145.678 L2165.54 141.835 L2169.75 141.835 Q2173.2 141.835 2175.03 140.469 Q2176.86 139.081 2176.86 136.488 Q2176.86 133.826 2174.96 132.414 Q2173.09 130.979 2169.57 130.979 Q2167.65 130.979 2165.45 131.395 Q2163.25 131.812 2160.61 132.692 L2160.61 128.525 Q2163.27 127.784 2165.59 127.414 Q2167.92 127.044 2169.98 127.044 Q2175.31 127.044 2178.41 129.474 Q2181.51 131.882 2181.51 136.002 Q2181.51 138.872 2179.87 140.863 Q2178.22 142.831 2175.19 143.594 Z\" fill=\"#000000\" fill-rule=\"evenodd\" fill-opacity=\"1\" /><path clip-path=\"url(#clip060)\" d=\"M2195.21 158.293 L2211.53 158.293 L2211.53 162.229 L2189.59 162.229 L2189.59 158.293 Q2192.25 155.539 2196.84 150.909 Q2201.44 146.256 2202.62 144.914 Q2204.87 142.391 2205.75 140.655 Q2206.65 138.895 2206.65 137.206 Q2206.65 134.451 2204.71 132.715 Q2202.78 130.979 2199.68 130.979 Q2197.48 130.979 2195.03 131.743 Q2192.6 132.507 2189.82 134.057 L2189.82 129.335 Q2192.65 128.201 2195.1 127.622 Q2197.55 127.044 2199.59 127.044 Q2204.96 127.044 2208.15 129.729 Q2211.35 132.414 2211.35 136.905 Q2211.35 139.034 2210.54 140.956 Q2209.75 142.854 2207.65 145.446 Q2207.07 146.118 2203.96 149.335 Q2200.86 152.53 2195.21 158.293 Z\" fill=\"#000000\" fill-rule=\"evenodd\" fill-opacity=\"1\" /><path clip-path=\"url(#clip060)\" d=\"M2220.08 126.257 L2223.78 126.257 Q2227.25 131.72 2228.96 136.951 Q2230.7 142.182 2230.7 147.344 Q2230.7 152.53 2228.96 157.784 Q2227.25 163.039 2223.78 168.479 L2220.08 168.479 Q2223.15 163.178 2224.66 157.946 Q2226.19 152.692 2226.19 147.344 Q2226.19 141.997 2224.66 136.789 Q2223.15 131.581 2220.08 126.257 Z\" fill=\"#000000\" fill-rule=\"evenodd\" fill-opacity=\"1\" /><polyline clip-path=\"url(#clip060)\" style=\"stroke:#0000ff; stroke-linecap:butt; stroke-linejoin:round; stroke-width:4; stroke-opacity:1; fill:none\" stroke-dasharray=\"16, 10\" points=\"\n",
       "  1610.45,196.789 1756.92,196.789 \n",
       "  \"/>\n",
       "<path clip-path=\"url(#clip060)\" d=\"M1803.57 180.643 L1803.57 185.203 Q1800.91 183.93 1798.55 183.305 Q1796.19 182.68 1793.99 182.68 Q1790.17 182.68 1788.09 184.161 Q1786.03 185.643 1786.03 188.374 Q1786.03 190.666 1787.39 191.847 Q1788.78 193.004 1792.62 193.722 L1795.45 194.3 Q1800.68 195.296 1803.16 197.819 Q1805.66 200.319 1805.66 204.532 Q1805.66 209.555 1802.28 212.147 Q1798.92 214.74 1792.42 214.74 Q1789.96 214.74 1787.18 214.184 Q1784.43 213.629 1781.47 212.541 L1781.47 207.726 Q1784.31 209.323 1787.05 210.133 Q1789.78 210.944 1792.42 210.944 Q1796.42 210.944 1798.6 209.37 Q1800.77 207.796 1800.77 204.879 Q1800.77 202.333 1799.2 200.897 Q1797.65 199.462 1794.08 198.745 L1791.24 198.189 Q1786 197.147 1783.67 194.925 Q1781.33 192.703 1781.33 188.745 Q1781.33 184.161 1784.55 181.522 Q1787.79 178.884 1793.46 178.884 Q1795.89 178.884 1798.41 179.323 Q1800.93 179.763 1803.57 180.643 Z\" fill=\"#000000\" fill-rule=\"evenodd\" fill-opacity=\"1\" /><path clip-path=\"url(#clip060)\" d=\"M1816.98 180.782 L1816.98 188.143 L1825.75 188.143 L1825.75 191.453 L1816.98 191.453 L1816.98 205.527 Q1816.98 208.698 1817.83 209.601 Q1818.71 210.504 1821.37 210.504 L1825.75 210.504 L1825.75 214.069 L1821.37 214.069 Q1816.44 214.069 1814.57 212.24 Q1812.69 210.388 1812.69 205.527 L1812.69 191.453 L1809.57 191.453 L1809.57 188.143 L1812.69 188.143 L1812.69 180.782 L1816.98 180.782 Z\" fill=\"#000000\" fill-rule=\"evenodd\" fill-opacity=\"1\" /><path clip-path=\"url(#clip060)\" d=\"M1843.13 201.036 Q1837.97 201.036 1835.98 202.217 Q1833.99 203.397 1833.99 206.245 Q1833.99 208.513 1835.47 209.856 Q1836.98 211.175 1839.55 211.175 Q1843.09 211.175 1845.22 208.675 Q1847.37 206.152 1847.37 201.985 L1847.37 201.036 L1843.13 201.036 M1851.63 199.277 L1851.63 214.069 L1847.37 214.069 L1847.37 210.133 Q1845.91 212.495 1843.74 213.629 Q1841.56 214.74 1838.41 214.74 Q1834.43 214.74 1832.07 212.518 Q1829.73 210.272 1829.73 206.522 Q1829.73 202.147 1832.65 199.925 Q1835.59 197.703 1841.4 197.703 L1847.37 197.703 L1847.37 197.286 Q1847.37 194.347 1845.43 192.749 Q1843.5 191.129 1840.01 191.129 Q1837.79 191.129 1835.68 191.661 Q1833.57 192.194 1831.63 193.259 L1831.63 189.323 Q1833.97 188.421 1836.17 187.981 Q1838.36 187.518 1840.45 187.518 Q1846.07 187.518 1848.85 190.434 Q1851.63 193.351 1851.63 199.277 Z\" fill=\"#000000\" fill-rule=\"evenodd\" fill-opacity=\"1\" /><path clip-path=\"url(#clip060)\" d=\"M1864.61 180.782 L1864.61 188.143 L1873.39 188.143 L1873.39 191.453 L1864.61 191.453 L1864.61 205.527 Q1864.61 208.698 1865.47 209.601 Q1866.35 210.504 1869.01 210.504 L1873.39 210.504 L1873.39 214.069 L1869.01 214.069 Q1864.08 214.069 1862.21 212.24 Q1860.33 210.388 1860.33 205.527 L1860.33 191.453 L1857.21 191.453 L1857.21 188.143 L1860.33 188.143 L1860.33 180.782 L1864.61 180.782 Z\" fill=\"#000000\" fill-rule=\"evenodd\" fill-opacity=\"1\" /><path clip-path=\"url(#clip060)\" d=\"M1901.17 200.041 L1901.17 202.124 L1881.58 202.124 Q1881.86 206.522 1884.22 208.837 Q1886.61 211.129 1890.84 211.129 Q1893.3 211.129 1895.59 210.527 Q1897.9 209.925 1900.17 208.721 L1900.17 212.749 Q1897.88 213.721 1895.47 214.231 Q1893.06 214.74 1890.59 214.74 Q1884.38 214.74 1880.75 211.129 Q1877.14 207.518 1877.14 201.36 Q1877.14 194.995 1880.56 191.268 Q1884.01 187.518 1889.85 187.518 Q1895.08 187.518 1898.11 190.897 Q1901.17 194.254 1901.17 200.041 M1896.91 198.791 Q1896.86 195.296 1894.94 193.212 Q1893.04 191.129 1889.89 191.129 Q1886.33 191.129 1884.17 193.143 Q1882.05 195.157 1881.72 198.814 L1896.91 198.791 Z\" fill=\"#000000\" fill-rule=\"evenodd\" fill-opacity=\"1\" /><path clip-path=\"url(#clip060)\" d=\"M1945.4 200.041 L1945.4 202.124 L1925.82 202.124 Q1926.1 206.522 1928.46 208.837 Q1930.84 211.129 1935.08 211.129 Q1937.53 211.129 1939.82 210.527 Q1942.14 209.925 1944.41 208.721 L1944.41 212.749 Q1942.11 213.721 1939.71 214.231 Q1937.3 214.74 1934.82 214.74 Q1928.62 214.74 1924.98 211.129 Q1921.37 207.518 1921.37 201.36 Q1921.37 194.995 1924.8 191.268 Q1928.25 187.518 1934.08 187.518 Q1939.31 187.518 1942.35 190.897 Q1945.4 194.254 1945.4 200.041 M1941.14 198.791 Q1941.1 195.296 1939.17 193.212 Q1937.28 191.129 1934.13 191.129 Q1930.56 191.129 1928.41 193.143 Q1926.28 195.157 1925.96 198.814 L1941.14 198.791 Z\" fill=\"#000000\" fill-rule=\"evenodd\" fill-opacity=\"1\" /><path clip-path=\"url(#clip060)\" d=\"M1949.34 188.143 L1953.85 188.143 L1961.95 209.902 L1970.05 188.143 L1974.57 188.143 L1964.85 214.069 L1959.06 214.069 L1949.34 188.143 Z\" fill=\"#000000\" fill-rule=\"evenodd\" fill-opacity=\"1\" /><path clip-path=\"url(#clip060)\" d=\"M2002.62 200.041 L2002.62 202.124 L1983.04 202.124 Q1983.32 206.522 1985.68 208.837 Q1988.06 211.129 1992.3 211.129 Q1994.75 211.129 1997.04 210.527 Q1999.36 209.925 2001.63 208.721 L2001.63 212.749 Q1999.34 213.721 1996.93 214.231 Q1994.52 214.74 1992.04 214.74 Q1985.84 214.74 1982.21 211.129 Q1978.6 207.518 1978.6 201.36 Q1978.6 194.995 1982.02 191.268 Q1985.47 187.518 1991.3 187.518 Q1996.54 187.518 1999.57 190.897 Q2002.62 194.254 2002.62 200.041 M1998.36 198.791 Q1998.32 195.296 1996.4 193.212 Q1994.5 191.129 1991.35 191.129 Q1987.79 191.129 1985.63 193.143 Q1983.5 195.157 1983.18 198.814 L1998.36 198.791 Z\" fill=\"#000000\" fill-rule=\"evenodd\" fill-opacity=\"1\" /><path clip-path=\"url(#clip060)\" d=\"M2031.16 198.421 L2031.16 214.069 L2026.91 214.069 L2026.91 198.559 Q2026.91 194.879 2025.47 193.05 Q2024.04 191.222 2021.16 191.222 Q2017.72 191.222 2015.73 193.421 Q2013.73 195.62 2013.73 199.416 L2013.73 214.069 L2009.45 214.069 L2009.45 188.143 L2013.73 188.143 L2013.73 192.171 Q2015.26 189.833 2017.32 188.675 Q2019.41 187.518 2022.11 187.518 Q2026.58 187.518 2028.87 190.296 Q2031.16 193.05 2031.16 198.421 Z\" fill=\"#000000\" fill-rule=\"evenodd\" fill-opacity=\"1\" /><path clip-path=\"url(#clip060)\" d=\"M2043.87 180.782 L2043.87 188.143 L2052.65 188.143 L2052.65 191.453 L2043.87 191.453 L2043.87 205.527 Q2043.87 208.698 2044.73 209.601 Q2045.61 210.504 2048.27 210.504 L2052.65 210.504 L2052.65 214.069 L2048.27 214.069 Q2043.34 214.069 2041.47 212.24 Q2039.59 210.388 2039.59 205.527 L2039.59 191.453 L2036.47 191.453 L2036.47 188.143 L2039.59 188.143 L2039.59 180.782 L2043.87 180.782 Z\" fill=\"#000000\" fill-rule=\"evenodd\" fill-opacity=\"1\" /><path clip-path=\"url(#clip060)\" d=\"M2068.48 178.097 Q2065.38 183.421 2063.87 188.629 Q2062.37 193.837 2062.37 199.184 Q2062.37 204.532 2063.87 209.786 Q2065.4 215.018 2068.48 220.319 L2064.78 220.319 Q2061.3 214.879 2059.57 209.624 Q2057.85 204.37 2057.85 199.184 Q2057.85 194.022 2059.57 188.791 Q2061.28 183.56 2064.78 178.097 L2068.48 178.097 Z\" fill=\"#000000\" fill-rule=\"evenodd\" fill-opacity=\"1\" /><path clip-path=\"url(#clip060)\" d=\"M2093.27 188.907 L2093.27 192.934 Q2091.47 192.009 2089.52 191.546 Q2087.58 191.083 2085.49 191.083 Q2082.32 191.083 2080.72 192.055 Q2079.15 193.027 2079.15 194.971 Q2079.15 196.453 2080.28 197.309 Q2081.42 198.143 2084.85 198.907 L2086.3 199.231 Q2090.84 200.203 2092.74 201.985 Q2094.66 203.745 2094.66 206.916 Q2094.66 210.527 2091.79 212.633 Q2088.94 214.74 2083.94 214.74 Q2081.86 214.74 2079.59 214.323 Q2077.35 213.93 2074.85 213.12 L2074.85 208.721 Q2077.21 209.948 2079.5 210.573 Q2081.79 211.175 2084.03 211.175 Q2087.04 211.175 2088.66 210.157 Q2090.28 209.115 2090.28 207.24 Q2090.28 205.504 2089.1 204.578 Q2087.95 203.652 2083.99 202.796 L2082.51 202.448 Q2078.55 201.615 2076.79 199.902 Q2075.03 198.166 2075.03 195.157 Q2075.03 191.499 2077.62 189.509 Q2080.22 187.518 2084.98 187.518 Q2087.35 187.518 2089.43 187.865 Q2091.51 188.212 2093.27 188.907 Z\" fill=\"#000000\" fill-rule=\"evenodd\" fill-opacity=\"1\" /><path clip-path=\"url(#clip060)\" d=\"M2100.77 178.097 L2104.47 178.097 Q2107.95 183.56 2109.66 188.791 Q2111.4 194.022 2111.4 199.184 Q2111.4 204.37 2109.66 209.624 Q2107.95 214.879 2104.47 220.319 L2100.77 220.319 Q2103.85 215.018 2105.35 209.786 Q2106.88 204.532 2106.88 199.184 Q2106.88 193.837 2105.35 188.629 Q2103.85 183.421 2100.77 178.097 Z\" fill=\"#000000\" fill-rule=\"evenodd\" fill-opacity=\"1\" /><polyline clip-path=\"url(#clip060)\" style=\"stroke:#c68125; stroke-linecap:butt; stroke-linejoin:round; stroke-width:4; stroke-opacity:1; fill:none\" stroke-dasharray=\"16, 10\" points=\"\n",
       "  1610.45,248.629 1756.92,248.629 \n",
       "  \"/>\n",
       "<path clip-path=\"url(#clip060)\" d=\"M1801.68 244.96 Q1803.27 242.089 1805.49 240.724 Q1807.72 239.358 1810.73 239.358 Q1814.78 239.358 1816.98 242.205 Q1819.18 245.029 1819.18 250.261 L1819.18 265.909 L1814.89 265.909 L1814.89 250.399 Q1814.89 246.673 1813.57 244.867 Q1812.25 243.062 1809.55 243.062 Q1806.24 243.062 1804.31 245.261 Q1802.39 247.46 1802.39 251.256 L1802.39 265.909 L1798.11 265.909 L1798.11 250.399 Q1798.11 246.649 1796.79 244.867 Q1795.47 243.062 1792.72 243.062 Q1789.45 243.062 1787.53 245.284 Q1785.61 247.483 1785.61 251.256 L1785.61 265.909 L1781.33 265.909 L1781.33 239.983 L1785.61 239.983 L1785.61 244.011 Q1787.07 241.626 1789.11 240.492 Q1791.14 239.358 1793.94 239.358 Q1796.77 239.358 1798.74 240.793 Q1800.73 242.228 1801.68 244.96 Z\" fill=\"#000000\" fill-rule=\"evenodd\" fill-opacity=\"1\" /><path clip-path=\"url(#clip060)\" d=\"M1839.45 252.876 Q1834.29 252.876 1832.3 254.057 Q1830.31 255.237 1830.31 258.085 Q1830.31 260.353 1831.79 261.696 Q1833.3 263.015 1835.87 263.015 Q1839.41 263.015 1841.54 260.515 Q1843.69 257.992 1843.69 253.825 L1843.69 252.876 L1839.45 252.876 M1847.95 251.117 L1847.95 265.909 L1843.69 265.909 L1843.69 261.973 Q1842.23 264.335 1840.05 265.469 Q1837.88 266.58 1834.73 266.58 Q1830.75 266.58 1828.39 264.358 Q1826.05 262.112 1826.05 258.362 Q1826.05 253.987 1828.97 251.765 Q1831.91 249.543 1837.72 249.543 L1843.69 249.543 L1843.69 249.126 Q1843.69 246.187 1841.74 244.589 Q1839.82 242.969 1836.33 242.969 Q1834.11 242.969 1832 243.501 Q1829.89 244.034 1827.95 245.099 L1827.95 241.163 Q1830.29 240.261 1832.49 239.821 Q1834.68 239.358 1836.77 239.358 Q1842.39 239.358 1845.17 242.274 Q1847.95 245.191 1847.95 251.117 Z\" fill=\"#000000\" fill-rule=\"evenodd\" fill-opacity=\"1\" /><path clip-path=\"url(#clip060)\" d=\"M1873.25 240.747 L1873.25 244.774 Q1871.44 243.849 1869.5 243.386 Q1867.55 242.923 1865.47 242.923 Q1862.3 242.923 1860.7 243.895 Q1859.13 244.867 1859.13 246.811 Q1859.13 248.293 1860.26 249.149 Q1861.4 249.983 1864.82 250.747 L1866.28 251.071 Q1870.82 252.043 1872.72 253.825 Q1874.64 255.585 1874.64 258.756 Q1874.64 262.367 1871.77 264.473 Q1868.92 266.58 1863.92 266.58 Q1861.84 266.58 1859.57 266.163 Q1857.32 265.77 1854.82 264.96 L1854.82 260.561 Q1857.18 261.788 1859.48 262.413 Q1861.77 263.015 1864.01 263.015 Q1867.02 263.015 1868.64 261.997 Q1870.26 260.955 1870.26 259.08 Q1870.26 257.344 1869.08 256.418 Q1867.93 255.492 1863.97 254.636 L1862.49 254.288 Q1858.53 253.455 1856.77 251.742 Q1855.01 250.006 1855.01 246.997 Q1855.01 243.339 1857.6 241.349 Q1860.19 239.358 1864.96 239.358 Q1867.32 239.358 1869.41 239.705 Q1871.49 240.052 1873.25 240.747 Z\" fill=\"#000000\" fill-rule=\"evenodd\" fill-opacity=\"1\" /><path clip-path=\"url(#clip060)\" d=\"M1897.95 240.747 L1897.95 244.774 Q1896.14 243.849 1894.2 243.386 Q1892.25 242.923 1890.17 242.923 Q1887 242.923 1885.4 243.895 Q1883.83 244.867 1883.83 246.811 Q1883.83 248.293 1884.96 249.149 Q1886.1 249.983 1889.52 250.747 L1890.98 251.071 Q1895.52 252.043 1897.42 253.825 Q1899.34 255.585 1899.34 258.756 Q1899.34 262.367 1896.47 264.473 Q1893.62 266.58 1888.62 266.58 Q1886.54 266.58 1884.27 266.163 Q1882.02 265.77 1879.52 264.96 L1879.52 260.561 Q1881.88 261.788 1884.17 262.413 Q1886.47 263.015 1888.71 263.015 Q1891.72 263.015 1893.34 261.997 Q1894.96 260.955 1894.96 259.08 Q1894.96 257.344 1893.78 256.418 Q1892.62 255.492 1888.67 254.636 L1887.18 254.288 Q1883.23 253.455 1881.47 251.742 Q1879.71 250.006 1879.71 246.997 Q1879.71 243.339 1882.3 241.349 Q1884.89 239.358 1889.66 239.358 Q1892.02 239.358 1894.11 239.705 Q1896.19 240.052 1897.95 240.747 Z\" fill=\"#000000\" fill-rule=\"evenodd\" fill-opacity=\"1\" /><path clip-path=\"url(#clip060)\" d=\"M1906.72 260.029 L1911.61 260.029 L1911.61 265.909 L1906.72 265.909 L1906.72 260.029 Z\" fill=\"#000000\" fill-rule=\"evenodd\" fill-opacity=\"1\" /><path clip-path=\"url(#clip060)\" d=\"M1937.72 240.747 L1937.72 244.774 Q1935.91 243.849 1933.97 243.386 Q1932.02 242.923 1929.94 242.923 Q1926.77 242.923 1925.17 243.895 Q1923.6 244.867 1923.6 246.811 Q1923.6 248.293 1924.73 249.149 Q1925.86 249.983 1929.29 250.747 L1930.75 251.071 Q1935.29 252.043 1937.18 253.825 Q1939.11 255.585 1939.11 258.756 Q1939.11 262.367 1936.23 264.473 Q1933.39 266.58 1928.39 266.58 Q1926.3 266.58 1924.04 266.163 Q1921.79 265.77 1919.29 264.96 L1919.29 260.561 Q1921.65 261.788 1923.94 262.413 Q1926.23 263.015 1928.48 263.015 Q1931.49 263.015 1933.11 261.997 Q1934.73 260.955 1934.73 259.08 Q1934.73 257.344 1933.55 256.418 Q1932.39 255.492 1928.43 254.636 L1926.95 254.288 Q1922.99 253.455 1921.23 251.742 Q1919.48 250.006 1919.48 246.997 Q1919.48 243.339 1922.07 241.349 Q1924.66 239.358 1929.43 239.358 Q1931.79 239.358 1933.87 239.705 Q1935.96 240.052 1937.72 240.747 Z\" fill=\"#000000\" fill-rule=\"evenodd\" fill-opacity=\"1\" /><path clip-path=\"url(#clip060)\" d=\"M1971.19 229.937 Q1968.09 235.261 1966.58 240.469 Q1965.08 245.677 1965.08 251.024 Q1965.08 256.372 1966.58 261.626 Q1968.11 266.858 1971.19 272.159 L1967.48 272.159 Q1964.01 266.719 1962.28 261.464 Q1960.56 256.21 1960.56 251.024 Q1960.56 245.862 1962.28 240.631 Q1963.99 235.4 1967.48 229.937 L1971.19 229.937 Z\" fill=\"#000000\" fill-rule=\"evenodd\" fill-opacity=\"1\" /><path clip-path=\"url(#clip060)\" d=\"M1994.22 247.274 Q1997.58 247.992 1999.45 250.261 Q2001.35 252.529 2001.35 255.862 Q2001.35 260.978 1997.83 263.779 Q1994.31 266.58 1987.83 266.58 Q1985.66 266.58 1983.34 266.14 Q1981.05 265.723 1978.6 264.867 L1978.6 260.353 Q1980.54 261.487 1982.85 262.066 Q1985.17 262.645 1987.69 262.645 Q1992.09 262.645 1994.38 260.909 Q1996.7 259.173 1996.7 255.862 Q1996.7 252.807 1994.54 251.094 Q1992.42 249.358 1988.6 249.358 L1984.57 249.358 L1984.57 245.515 L1988.78 245.515 Q1992.23 245.515 1994.06 244.149 Q1995.89 242.761 1995.89 240.168 Q1995.89 237.506 1993.99 236.094 Q1992.11 234.659 1988.6 234.659 Q1986.67 234.659 1984.48 235.075 Q1982.28 235.492 1979.64 236.372 L1979.64 232.205 Q1982.3 231.464 1984.61 231.094 Q1986.95 230.724 1989.01 230.724 Q1994.34 230.724 1997.44 233.154 Q2000.54 235.562 2000.54 239.682 Q2000.54 242.552 1998.9 244.543 Q1997.25 246.511 1994.22 247.274 Z\" fill=\"#000000\" fill-rule=\"evenodd\" fill-opacity=\"1\" /><path clip-path=\"url(#clip060)\" d=\"M2024.38 247.274 Q2027.74 247.992 2029.61 250.261 Q2031.51 252.529 2031.51 255.862 Q2031.51 260.978 2027.99 263.779 Q2024.48 266.58 2017.99 266.58 Q2015.82 266.58 2013.5 266.14 Q2011.21 265.723 2008.76 264.867 L2008.76 260.353 Q2010.7 261.487 2013.02 262.066 Q2015.33 262.645 2017.85 262.645 Q2022.25 262.645 2024.54 260.909 Q2026.86 259.173 2026.86 255.862 Q2026.86 252.807 2024.71 251.094 Q2022.58 249.358 2018.76 249.358 L2014.73 249.358 L2014.73 245.515 L2018.94 245.515 Q2022.39 245.515 2024.22 244.149 Q2026.05 242.761 2026.05 240.168 Q2026.05 237.506 2024.15 236.094 Q2022.28 234.659 2018.76 234.659 Q2016.84 234.659 2014.64 235.075 Q2012.44 235.492 2009.8 236.372 L2009.8 232.205 Q2012.46 231.464 2014.78 231.094 Q2017.11 230.724 2019.17 230.724 Q2024.5 230.724 2027.6 233.154 Q2030.7 235.562 2030.7 239.682 Q2030.7 242.552 2029.06 244.543 Q2027.41 246.511 2024.38 247.274 Z\" fill=\"#000000\" fill-rule=\"evenodd\" fill-opacity=\"1\" /><path clip-path=\"url(#clip060)\" d=\"M2040.42 231.349 L2058.78 231.349 L2058.78 235.284 L2044.71 235.284 L2044.71 243.756 Q2045.72 243.409 2046.74 243.247 Q2047.76 243.062 2048.78 243.062 Q2054.57 243.062 2057.95 246.233 Q2061.33 249.404 2061.33 254.821 Q2061.33 260.399 2057.85 263.501 Q2054.38 266.58 2048.06 266.58 Q2045.89 266.58 2043.62 266.21 Q2041.37 265.839 2038.97 265.098 L2038.97 260.399 Q2041.05 261.534 2043.27 262.089 Q2045.49 262.645 2047.97 262.645 Q2051.97 262.645 2054.31 260.538 Q2056.65 258.432 2056.65 254.821 Q2056.65 251.21 2054.31 249.103 Q2051.97 246.997 2047.97 246.997 Q2046.1 246.997 2044.22 247.413 Q2042.37 247.83 2040.42 248.71 L2040.42 231.349 Z\" fill=\"#000000\" fill-rule=\"evenodd\" fill-opacity=\"1\" /><path clip-path=\"url(#clip060)\" d=\"M2070.59 231.349 L2088.94 231.349 L2088.94 235.284 L2074.87 235.284 L2074.87 243.756 Q2075.89 243.409 2076.91 243.247 Q2077.92 243.062 2078.94 243.062 Q2084.73 243.062 2088.11 246.233 Q2091.49 249.404 2091.49 254.821 Q2091.49 260.399 2088.02 263.501 Q2084.54 266.58 2078.22 266.58 Q2076.05 266.58 2073.78 266.21 Q2071.54 265.839 2069.13 265.098 L2069.13 260.399 Q2071.21 261.534 2073.43 262.089 Q2075.66 262.645 2078.13 262.645 Q2082.14 262.645 2084.47 260.538 Q2086.81 258.432 2086.81 254.821 Q2086.81 251.21 2084.47 249.103 Q2082.14 246.997 2078.13 246.997 Q2076.26 246.997 2074.38 247.413 Q2072.53 247.83 2070.59 248.71 L2070.59 231.349 Z\" fill=\"#000000\" fill-rule=\"evenodd\" fill-opacity=\"1\" /><path clip-path=\"url(#clip060)\" d=\"M2113.55 235.423 L2101.74 253.872 L2113.55 253.872 L2113.55 235.423 M2112.32 231.349 L2118.2 231.349 L2118.2 253.872 L2123.13 253.872 L2123.13 257.761 L2118.2 257.761 L2118.2 265.909 L2113.55 265.909 L2113.55 257.761 L2097.95 257.761 L2097.95 253.247 L2112.32 231.349 Z\" fill=\"#000000\" fill-rule=\"evenodd\" fill-opacity=\"1\" /><path clip-path=\"url(#clip060)\" d=\"M2143.71 235.423 L2131.91 253.872 L2143.71 253.872 L2143.71 235.423 M2142.48 231.349 L2148.36 231.349 L2148.36 253.872 L2153.29 253.872 L2153.29 257.761 L2148.36 257.761 L2148.36 265.909 L2143.71 265.909 L2143.71 257.761 L2128.11 257.761 L2128.11 253.247 L2142.48 231.349 Z\" fill=\"#000000\" fill-rule=\"evenodd\" fill-opacity=\"1\" /><path clip-path=\"url(#clip060)\" d=\"M2175.19 247.274 Q2178.55 247.992 2180.42 250.261 Q2182.32 252.529 2182.32 255.862 Q2182.32 260.978 2178.8 263.779 Q2175.28 266.58 2168.8 266.58 Q2166.63 266.58 2164.31 266.14 Q2162.02 265.723 2159.57 264.867 L2159.57 260.353 Q2161.51 261.487 2163.83 262.066 Q2166.14 262.645 2168.66 262.645 Q2173.06 262.645 2175.35 260.909 Q2177.67 259.173 2177.67 255.862 Q2177.67 252.807 2175.52 251.094 Q2173.39 249.358 2169.57 249.358 L2165.54 249.358 L2165.54 245.515 L2169.75 245.515 Q2173.2 245.515 2175.03 244.149 Q2176.86 242.761 2176.86 240.168 Q2176.86 237.506 2174.96 236.094 Q2173.09 234.659 2169.57 234.659 Q2167.65 234.659 2165.45 235.075 Q2163.25 235.492 2160.61 236.372 L2160.61 232.205 Q2163.27 231.464 2165.59 231.094 Q2167.92 230.724 2169.98 230.724 Q2175.31 230.724 2178.41 233.154 Q2181.51 235.562 2181.51 239.682 Q2181.51 242.552 2179.87 244.543 Q2178.22 246.511 2175.19 247.274 Z\" fill=\"#000000\" fill-rule=\"evenodd\" fill-opacity=\"1\" /><path clip-path=\"url(#clip060)\" d=\"M2195.21 261.973 L2211.53 261.973 L2211.53 265.909 L2189.59 265.909 L2189.59 261.973 Q2192.25 259.219 2196.84 254.589 Q2201.44 249.936 2202.62 248.594 Q2204.87 246.071 2205.75 244.335 Q2206.65 242.575 2206.65 240.886 Q2206.65 238.131 2204.71 236.395 Q2202.78 234.659 2199.68 234.659 Q2197.48 234.659 2195.03 235.423 Q2192.6 236.187 2189.82 237.737 L2189.82 233.015 Q2192.65 231.881 2195.1 231.302 Q2197.55 230.724 2199.59 230.724 Q2204.96 230.724 2208.15 233.409 Q2211.35 236.094 2211.35 240.585 Q2211.35 242.714 2210.54 244.636 Q2209.75 246.534 2207.65 249.126 Q2207.07 249.798 2203.96 253.015 Q2200.86 256.21 2195.21 261.973 Z\" fill=\"#000000\" fill-rule=\"evenodd\" fill-opacity=\"1\" /><path clip-path=\"url(#clip060)\" d=\"M2220.08 229.937 L2223.78 229.937 Q2227.25 235.4 2228.96 240.631 Q2230.7 245.862 2230.7 251.024 Q2230.7 256.21 2228.96 261.464 Q2227.25 266.719 2223.78 272.159 L2220.08 272.159 Q2223.15 266.858 2224.66 261.626 Q2226.19 256.372 2226.19 251.024 Q2226.19 245.677 2224.66 240.469 Q2223.15 235.261 2220.08 229.937 Z\" fill=\"#000000\" fill-rule=\"evenodd\" fill-opacity=\"1\" /><polyline clip-path=\"url(#clip060)\" style=\"stroke:#0000ff; stroke-linecap:butt; stroke-linejoin:round; stroke-width:4; stroke-opacity:1; fill:none\" stroke-dasharray=\"16, 10\" points=\"\n",
       "  1610.45,300.469 1756.92,300.469 \n",
       "  \"/>\n",
       "<path clip-path=\"url(#clip060)\" d=\"M1803.57 284.323 L1803.57 288.883 Q1800.91 287.61 1798.55 286.985 Q1796.19 286.36 1793.99 286.36 Q1790.17 286.36 1788.09 287.841 Q1786.03 289.323 1786.03 292.054 Q1786.03 294.346 1787.39 295.527 Q1788.78 296.684 1792.62 297.402 L1795.45 297.98 Q1800.68 298.976 1803.16 301.499 Q1805.66 303.999 1805.66 308.212 Q1805.66 313.235 1802.28 315.827 Q1798.92 318.42 1792.42 318.42 Q1789.96 318.42 1787.18 317.864 Q1784.43 317.309 1781.47 316.221 L1781.47 311.406 Q1784.31 313.003 1787.05 313.813 Q1789.78 314.624 1792.42 314.624 Q1796.42 314.624 1798.6 313.05 Q1800.77 311.476 1800.77 308.559 Q1800.77 306.013 1799.2 304.577 Q1797.65 303.142 1794.08 302.425 L1791.24 301.869 Q1786 300.827 1783.67 298.605 Q1781.33 296.383 1781.33 292.425 Q1781.33 287.841 1784.55 285.202 Q1787.79 282.564 1793.46 282.564 Q1795.89 282.564 1798.41 283.003 Q1800.93 283.443 1803.57 284.323 Z\" fill=\"#000000\" fill-rule=\"evenodd\" fill-opacity=\"1\" /><path clip-path=\"url(#clip060)\" d=\"M1816.98 284.462 L1816.98 291.823 L1825.75 291.823 L1825.75 295.133 L1816.98 295.133 L1816.98 309.207 Q1816.98 312.378 1817.83 313.281 Q1818.71 314.184 1821.37 314.184 L1825.75 314.184 L1825.75 317.749 L1821.37 317.749 Q1816.44 317.749 1814.57 315.92 Q1812.69 314.068 1812.69 309.207 L1812.69 295.133 L1809.57 295.133 L1809.57 291.823 L1812.69 291.823 L1812.69 284.462 L1816.98 284.462 Z\" fill=\"#000000\" fill-rule=\"evenodd\" fill-opacity=\"1\" /><path clip-path=\"url(#clip060)\" d=\"M1843.13 304.716 Q1837.97 304.716 1835.98 305.897 Q1833.99 307.077 1833.99 309.925 Q1833.99 312.193 1835.47 313.536 Q1836.98 314.855 1839.55 314.855 Q1843.09 314.855 1845.22 312.355 Q1847.37 309.832 1847.37 305.665 L1847.37 304.716 L1843.13 304.716 M1851.63 302.957 L1851.63 317.749 L1847.37 317.749 L1847.37 313.813 Q1845.91 316.175 1843.74 317.309 Q1841.56 318.42 1838.41 318.42 Q1834.43 318.42 1832.07 316.198 Q1829.73 313.952 1829.73 310.202 Q1829.73 305.827 1832.65 303.605 Q1835.59 301.383 1841.4 301.383 L1847.37 301.383 L1847.37 300.966 Q1847.37 298.027 1845.43 296.429 Q1843.5 294.809 1840.01 294.809 Q1837.79 294.809 1835.68 295.341 Q1833.57 295.874 1831.63 296.939 L1831.63 293.003 Q1833.97 292.101 1836.17 291.661 Q1838.36 291.198 1840.45 291.198 Q1846.07 291.198 1848.85 294.114 Q1851.63 297.031 1851.63 302.957 Z\" fill=\"#000000\" fill-rule=\"evenodd\" fill-opacity=\"1\" /><path clip-path=\"url(#clip060)\" d=\"M1864.61 284.462 L1864.61 291.823 L1873.39 291.823 L1873.39 295.133 L1864.61 295.133 L1864.61 309.207 Q1864.61 312.378 1865.47 313.281 Q1866.35 314.184 1869.01 314.184 L1873.39 314.184 L1873.39 317.749 L1869.01 317.749 Q1864.08 317.749 1862.21 315.92 Q1860.33 314.068 1860.33 309.207 L1860.33 295.133 L1857.21 295.133 L1857.21 291.823 L1860.33 291.823 L1860.33 284.462 L1864.61 284.462 Z\" fill=\"#000000\" fill-rule=\"evenodd\" fill-opacity=\"1\" /><path clip-path=\"url(#clip060)\" d=\"M1901.17 303.721 L1901.17 305.804 L1881.58 305.804 Q1881.86 310.202 1884.22 312.517 Q1886.61 314.809 1890.84 314.809 Q1893.3 314.809 1895.59 314.207 Q1897.9 313.605 1900.17 312.401 L1900.17 316.429 Q1897.88 317.401 1895.47 317.911 Q1893.06 318.42 1890.59 318.42 Q1884.38 318.42 1880.75 314.809 Q1877.14 311.198 1877.14 305.04 Q1877.14 298.675 1880.56 294.948 Q1884.01 291.198 1889.85 291.198 Q1895.08 291.198 1898.11 294.577 Q1901.17 297.934 1901.17 303.721 M1896.91 302.471 Q1896.86 298.976 1894.94 296.892 Q1893.04 294.809 1889.89 294.809 Q1886.33 294.809 1884.17 296.823 Q1882.05 298.837 1881.72 302.494 L1896.91 302.471 Z\" fill=\"#000000\" fill-rule=\"evenodd\" fill-opacity=\"1\" /><path clip-path=\"url(#clip060)\" d=\"M1945.4 303.721 L1945.4 305.804 L1925.82 305.804 Q1926.1 310.202 1928.46 312.517 Q1930.84 314.809 1935.08 314.809 Q1937.53 314.809 1939.82 314.207 Q1942.14 313.605 1944.41 312.401 L1944.41 316.429 Q1942.11 317.401 1939.71 317.911 Q1937.3 318.42 1934.82 318.42 Q1928.62 318.42 1924.98 314.809 Q1921.37 311.198 1921.37 305.04 Q1921.37 298.675 1924.8 294.948 Q1928.25 291.198 1934.08 291.198 Q1939.31 291.198 1942.35 294.577 Q1945.4 297.934 1945.4 303.721 M1941.14 302.471 Q1941.1 298.976 1939.17 296.892 Q1937.28 294.809 1934.13 294.809 Q1930.56 294.809 1928.41 296.823 Q1926.28 298.837 1925.96 302.494 L1941.14 302.471 Z\" fill=\"#000000\" fill-rule=\"evenodd\" fill-opacity=\"1\" /><path clip-path=\"url(#clip060)\" d=\"M1949.34 291.823 L1953.85 291.823 L1961.95 313.582 L1970.05 291.823 L1974.57 291.823 L1964.85 317.749 L1959.06 317.749 L1949.34 291.823 Z\" fill=\"#000000\" fill-rule=\"evenodd\" fill-opacity=\"1\" /><path clip-path=\"url(#clip060)\" d=\"M2002.62 303.721 L2002.62 305.804 L1983.04 305.804 Q1983.32 310.202 1985.68 312.517 Q1988.06 314.809 1992.3 314.809 Q1994.75 314.809 1997.04 314.207 Q1999.36 313.605 2001.63 312.401 L2001.63 316.429 Q1999.34 317.401 1996.93 317.911 Q1994.52 318.42 1992.04 318.42 Q1985.84 318.42 1982.21 314.809 Q1978.6 311.198 1978.6 305.04 Q1978.6 298.675 1982.02 294.948 Q1985.47 291.198 1991.3 291.198 Q1996.54 291.198 1999.57 294.577 Q2002.62 297.934 2002.62 303.721 M1998.36 302.471 Q1998.32 298.976 1996.4 296.892 Q1994.5 294.809 1991.35 294.809 Q1987.79 294.809 1985.63 296.823 Q1983.5 298.837 1983.18 302.494 L1998.36 302.471 Z\" fill=\"#000000\" fill-rule=\"evenodd\" fill-opacity=\"1\" /><path clip-path=\"url(#clip060)\" d=\"M2031.16 302.101 L2031.16 317.749 L2026.91 317.749 L2026.91 302.239 Q2026.91 298.559 2025.47 296.73 Q2024.04 294.902 2021.16 294.902 Q2017.72 294.902 2015.73 297.101 Q2013.73 299.3 2013.73 303.096 L2013.73 317.749 L2009.45 317.749 L2009.45 291.823 L2013.73 291.823 L2013.73 295.851 Q2015.26 293.513 2017.32 292.355 Q2019.41 291.198 2022.11 291.198 Q2026.58 291.198 2028.87 293.976 Q2031.16 296.73 2031.16 302.101 Z\" fill=\"#000000\" fill-rule=\"evenodd\" fill-opacity=\"1\" /><path clip-path=\"url(#clip060)\" d=\"M2043.87 284.462 L2043.87 291.823 L2052.65 291.823 L2052.65 295.133 L2043.87 295.133 L2043.87 309.207 Q2043.87 312.378 2044.73 313.281 Q2045.61 314.184 2048.27 314.184 L2052.65 314.184 L2052.65 317.749 L2048.27 317.749 Q2043.34 317.749 2041.47 315.92 Q2039.59 314.068 2039.59 309.207 L2039.59 295.133 L2036.47 295.133 L2036.47 291.823 L2039.59 291.823 L2039.59 284.462 L2043.87 284.462 Z\" fill=\"#000000\" fill-rule=\"evenodd\" fill-opacity=\"1\" /><path clip-path=\"url(#clip060)\" d=\"M2068.48 281.777 Q2065.38 287.101 2063.87 292.309 Q2062.37 297.517 2062.37 302.864 Q2062.37 308.212 2063.87 313.466 Q2065.4 318.698 2068.48 323.999 L2064.78 323.999 Q2061.3 318.559 2059.57 313.304 Q2057.85 308.05 2057.85 302.864 Q2057.85 297.702 2059.57 292.471 Q2061.28 287.24 2064.78 281.777 L2068.48 281.777 Z\" fill=\"#000000\" fill-rule=\"evenodd\" fill-opacity=\"1\" /><path clip-path=\"url(#clip060)\" d=\"M2093.27 292.587 L2093.27 296.614 Q2091.47 295.689 2089.52 295.226 Q2087.58 294.763 2085.49 294.763 Q2082.32 294.763 2080.72 295.735 Q2079.15 296.707 2079.15 298.651 Q2079.15 300.133 2080.28 300.989 Q2081.42 301.823 2084.85 302.587 L2086.3 302.911 Q2090.84 303.883 2092.74 305.665 Q2094.66 307.425 2094.66 310.596 Q2094.66 314.207 2091.79 316.313 Q2088.94 318.42 2083.94 318.42 Q2081.86 318.42 2079.59 318.003 Q2077.35 317.61 2074.85 316.8 L2074.85 312.401 Q2077.21 313.628 2079.5 314.253 Q2081.79 314.855 2084.03 314.855 Q2087.04 314.855 2088.66 313.837 Q2090.28 312.795 2090.28 310.92 Q2090.28 309.184 2089.1 308.258 Q2087.95 307.332 2083.99 306.476 L2082.51 306.128 Q2078.55 305.295 2076.79 303.582 Q2075.03 301.846 2075.03 298.837 Q2075.03 295.179 2077.62 293.189 Q2080.22 291.198 2084.98 291.198 Q2087.35 291.198 2089.43 291.545 Q2091.51 291.892 2093.27 292.587 Z\" fill=\"#000000\" fill-rule=\"evenodd\" fill-opacity=\"1\" /><path clip-path=\"url(#clip060)\" d=\"M2100.77 281.777 L2104.47 281.777 Q2107.95 287.24 2109.66 292.471 Q2111.4 297.702 2111.4 302.864 Q2111.4 308.05 2109.66 313.304 Q2107.95 318.559 2104.47 323.999 L2100.77 323.999 Q2103.85 318.698 2105.35 313.466 Q2106.88 308.212 2106.88 302.864 Q2106.88 297.517 2105.35 292.309 Q2103.85 287.101 2100.77 281.777 Z\" fill=\"#000000\" fill-rule=\"evenodd\" fill-opacity=\"1\" /></svg>\n"
      ]
     },
     "execution_count": 9,
     "metadata": {},
     "output_type": "execute_result"
    }
   ],
   "source": [
    "simData = fmiSimulateME(myFMU, tStart, tStop; recordValues=vrs)\n",
    "fmiPlot!(fig, simData; states=false, style=:dash)"
   ]
  },
  {
   "cell_type": "markdown",
   "metadata": {},
   "source": [
    "As expected by overwriting the function, all values are doubled."
   ]
  },
  {
   "cell_type": "markdown",
   "metadata": {},
   "source": [
    "### Unload FMU\n",
    "\n",
    "After plotting the data, the FMU is unloaded and all unpacked data on disc is removed."
   ]
  },
  {
   "cell_type": "code",
   "execution_count": 10,
   "metadata": {
    "execution": {
     "iopub.execute_input": "2022-05-24T15:06:44.442000Z",
     "iopub.status.busy": "2022-05-24T15:06:44.442000Z",
     "iopub.status.idle": "2022-05-24T15:06:44.500000Z",
     "shell.execute_reply": "2022-05-24T15:06:44.500000Z"
    }
   },
   "outputs": [],
   "source": [
    "fmiUnload(myFMU)"
   ]
  },
  {
   "cell_type": "markdown",
   "metadata": {},
   "source": [
    "### Summary\n",
    "\n",
    "In this tutorial it is shown how an existing function of the library can be replaced by an own implementation. Through this possibility, there are almost no limits for the user, whereby the user can customize the function to his liking."
   ]
  }
 ],
 "metadata": {
  "interpreter": {
   "hash": "037537ff7419c497b9325f7d495147943224d408cf5d5ed915294a5b960167b0"
  },
  "jupytext": {
   "cell_metadata_filter": "-all",
   "comment_magics": "false",
   "notebook_metadata_filter": "-all"
  },
  "kernelspec": {
   "display_name": "Julia 1.6.6",
   "language": "julia",
   "name": "julia-1.6"
  },
  "language_info": {
   "file_extension": ".jl",
   "mimetype": "application/julia",
   "name": "julia",
   "version": "1.6.6"
  },
  "nteract": {
   "version": "0.28.0"
  }
 },
 "nbformat": 4,
 "nbformat_minor": 2
}
