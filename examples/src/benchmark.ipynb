{
 "cells": [
  {
   "cell_type": "markdown",
   "metadata": {},
   "source": [
    "# Simulation Benchmarks for FMI.jl\n",
    "by Tobias Thummerer\n",
    "\n",
    "Last update: 19.09.2023\n",
    "\n",
    "🚧 This benchmark is under development 🚧\n",
    "\n",
    "## License"
   ]
  },
  {
   "cell_type": "code",
   "execution_count": null,
   "metadata": {
    "execution": {
     "iopub.execute_input": "2022-10-22T13:26:47.623000Z",
     "iopub.status.busy": "2022-10-22T13:26:46.768000Z",
     "iopub.status.idle": "2022-10-22T13:26:47.904000Z",
     "shell.execute_reply": "2022-10-22T13:26:47.830000Z"
    }
   },
   "outputs": [],
   "source": [
    "# Copyright (c) 2021 Tobias Thummerer, Lars Mikelsons\n",
    "# Licensed under the MIT license. \n",
    "# See LICENSE (https://github.com/thummeto/FMI.jl/blob/main/LICENSE) file in the project root for details."
   ]
  },
  {
   "cell_type": "code",
   "execution_count": null,
   "metadata": {},
   "outputs": [],
   "source": [
    "# we use distributed to check out different FMI.jl versions over different processes\n",
    "using Distributed \n",
    "using Plots\n",
    " \n",
    "# versions to check\n",
    "versions = (\"0.11.0\", \"0.12.0\") # , \"0.13.0\")\n",
    "numVersions = length(versions)\n",
    "\n",
    "# one worker per version\n",
    "workers = addprocs(numVersions) \n",
    "\n",
    "# include benchmarking code\n",
    "include(joinpath(@__DIR__), \"benchmark.jl\")"
   ]
  },
  {
   "cell_type": "markdown",
   "metadata": {},
   "source": [
    "## Benchmark 1\n",
    "Simulation of a vehicle longitudinal dynamics model with six states and time events triggered with 100 Hz. Additional state events, but less than time events. See solver log for details.\n",
    "\n",
    "Model: VLDM (6 states, time- and state-events)\n",
    "\n",
    "Solver: CVODE (tolerance=1e-4)"
   ]
  },
  {
   "cell_type": "code",
   "execution_count": null,
   "metadata": {},
   "outputs": [],
   "source": [
    "@everywhere workers b=benchmark1(fmu, data, cvode)\n",
    "min_times, memories, allocs = runBenchmark(b)\n",
    "resultPlot(versions, min_times, memories)"
   ]
  }
 ],
 "metadata": {
  "interpreter": {
   "hash": "037537ff7419c497b9325f7d495147943224d408cf5d5ed915294a5b960167b0"
  },
  "jupytext": {
   "cell_metadata_filter": "-all",
   "comment_magics": "false",
   "notebook_metadata_filter": "-all"
  },
  "kernelspec": {
   "display_name": "Julia 1.9.3",
   "language": "julia",
   "name": "julia-1.9"
  },
  "language_info": {
   "file_extension": ".jl",
   "mimetype": "application/julia",
   "name": "julia",
   "version": "1.9.3"
  },
  "nteract": {
   "version": "0.28.0"
  }
 },
 "nbformat": 4,
 "nbformat_minor": 2
}
