{
 "cells": [
  {
   "cell_type": "markdown",
   "metadata": {},
   "source": [
    "# Parameterize an FMU\n",
    "Tutorial by Johannes Stoljar, Tobias Thummerer\n",
    "\n",
    "## License\n",
    "Copyright (c) 2021 Tobias Thummerer, Lars Mikelsons, Josef Kircher, Johannes Stoljar\n",
    "\n",
    "Licensed under the MIT license. See [LICENSE](https://github.com/thummeto/FMI.jl/blob/main/LICENSE) file in the project root for details.\n",
    "\n",
    "## Motivation\n",
    "This Julia Package *FMI.jl* is motivated by the use of simulation models in Julia. Here the FMI specification is implemented. FMI (*Functional Mock-up Interface*) is a free standard ([fmi-standard.org](http://fmi-standard.org/)) that defines a container and an interface to exchange dynamic models using a combination of XML files, binaries and C code zipped into a single file. The user can thus use simulation models in the form of an FMU (*Functional Mock-up Units*). Besides loading the FMU, the user can also set values for parameters and states and simulate the FMU both as co-simulation and model exchange simulation.\n",
    "\n",
    "## Introduction to the example\n",
    "This example shows how the parameterization of an FMU works. For this purpose, an IO-FMU model is loaded and the various commands for parameterization are shown on the basis of this model. With this example the user shall be guided how to make certain settings at an FMU.\n",
    "\n",
    "## Target group\n",
    "The example is primarily intended for users who work in the field of simulation exchange. The example wants to show how simple it is to use FMUs in Julia.\n",
    "\n",
    "\n",
    "## Other formats\n",
    "Besides, this [Jupyter Notebook](https://github.com/thummeto/FMI.jl/blob/main/example/CS_simulate.ipynb) there is also a [Julia file](https://github.com/thummeto/FMI.jl/blob/main/example/CS_simulate.jl) with the same name, which contains only the code cells and for the documentation there is a [Markdown file](https://github.com/thummeto/FMI.jl/blob/main/docs/src/examples/CS_simulate.md) corresponding to the notebook.  \n",
    "\n",
    "\n",
    "## Getting started\n",
    "\n",
    "### Installation prerequisites\n",
    "|     | Description                       | Command                   | Alternative                                    |   \n",
    "|:----|:----------------------------------|:--------------------------|:-----------------------------------------------|\n",
    "| 1.  | Enter Package Manager via         | ]                         |                                                |\n",
    "| 2.  | Install FMI via                   | add FMI                   | add \" https://github.com/ThummeTo/FMI.jl \"     |\n",
    "| 3.  | Install FMIZoo via                | add FMIZoo                | add \" https://github.com/ThummeTo/FMIZoo.jl \"  |"
   ]
  },
  {
   "cell_type": "markdown",
   "metadata": {},
   "source": [
    "## Code section\n",
    "\n",
    "To run the example, the previously installed packages must be included. "
   ]
  },
  {
   "cell_type": "code",
   "execution_count": 1,
   "metadata": {
    "execution": {
     "iopub.execute_input": "2022-05-24T15:10:07.858000Z",
     "iopub.status.busy": "2022-05-24T15:10:06.921000Z",
     "iopub.status.idle": "2022-05-24T15:10:24.875000Z",
     "shell.execute_reply": "2022-05-24T15:10:24.775000Z"
    },
    "scrolled": false
   },
   "outputs": [],
   "source": [
    "# imports\n",
    "using FMI\n",
    "using FMIZoo"
   ]
  },
  {
   "cell_type": "markdown",
   "metadata": {},
   "source": [
    "### Simulation setup\n",
    "\n",
    "Next, the start time and end time of the simulation are set."
   ]
  },
  {
   "cell_type": "code",
   "execution_count": 2,
   "metadata": {
    "execution": {
     "iopub.execute_input": "2022-05-24T15:10:25.356000Z",
     "iopub.status.busy": "2022-05-24T15:10:24.878000Z",
     "iopub.status.idle": "2022-05-24T15:10:26.316000Z",
     "shell.execute_reply": "2022-05-24T15:10:26.316000Z"
    },
    "scrolled": false
   },
   "outputs": [
    {
     "data": {
      "text/plain": [
       "8.0"
      ]
     },
     "execution_count": 2,
     "metadata": {},
     "output_type": "execute_result"
    }
   ],
   "source": [
    "tStart = 0.0\n",
    "tStop = 8.0"
   ]
  },
  {
   "cell_type": "markdown",
   "metadata": {},
   "source": [
    "### Import FMU\n",
    "\n",
    "In the next lines of code the FMU model from *FMIZoo.jl* is loaded and the information about the FMU is shown."
   ]
  },
  {
   "cell_type": "code",
   "execution_count": 3,
   "metadata": {
    "execution": {
     "iopub.execute_input": "2022-05-24T15:10:26.321000Z",
     "iopub.status.busy": "2022-05-24T15:10:26.321000Z",
     "iopub.status.idle": "2022-05-24T15:10:32.592000Z",
     "shell.execute_reply": "2022-05-24T15:10:32.592000Z"
    },
    "scrolled": false
   },
   "outputs": [
    {
     "name": "stderr",
     "output_type": "stream",
     "text": [
      "┌ Info: fmi2Unzip(...): Successfully unzipped 29 files at `/tmp/fmijl_DJXsxR/IO`.\n",
      "└ @ FMIImport /home/runner/.julia/packages/FMIImport/S8pFT/src/FMI2_ext.jl:75\n",
      "┌ Info: fmi2Load(...): FMU resources location is `file:////tmp/fmijl_DJXsxR/IO/resources`\n",
      "└ @ FMIImport /home/runner/.julia/packages/FMIImport/S8pFT/src/FMI2_ext.jl:190\n",
      "┌ Info: fmi2Load(...): FMU supports both CS and ME, using CS as default if nothing specified.\n",
      "└ @ FMIImport /home/runner/.julia/packages/FMIImport/S8pFT/src/FMI2_ext.jl:193\n"
     ]
    },
    {
     "name": "stdout",
     "output_type": "stream",
     "text": [
      "#################### Begin information for FMU ####################\n",
      "\tModel name:\t\t\tIO\n",
      "\tFMI-Version:\t\t\t2.0\n",
      "\tGUID:\t\t\t\t{ac3b4a99-4908-40f7-89da-2d5c08b3c4ac}\n",
      "\tGeneration tool:\t\tDymola Version 2022x (64-bit), 2021-10-08\n",
      "\tGeneration time:\t\t2022-03-17T07:40:55Z\n",
      "\tVar. naming conv.:\t\tstructured\n",
      "\tEvent indicators:\t\t4\n",
      "\tInputs:\t\t\t\t3\n",
      "\t\t352321536 [\"u_real\"]\n",
      "\t\t352321537 [\"u_boolean\"]\n",
      "\t\t352321538 [\"u_integer\"]\n",
      "\tOutputs:\t\t\t3\n",
      "\t\t335544320 [\"y_real\"]\n",
      "\t\t335544321 [\"y_boolean\"]\n",
      "\t\t335544322 [\"y_integer\"]\n",
      "\tStates:\t\t\t\t0\n",
      "\tSupports Co-Simulation:\t\ttrue\n",
      "\t\tModel identifier:\tIO\n",
      "\t\tGet/Set State:\t\ttrue\n",
      "\t\tSerialize State:\ttrue\n",
      "\t\tDir. Derivatives:\ttrue\n",
      "\t\tVar. com. steps:\ttrue\n",
      "\t\tInput interpol.:\ttrue\n",
      "\t\tMax order out. der.:\t1\n",
      "\tSupports Model-Exchange:\ttrue\n",
      "\t\tModel identifier:\tIO\n",
      "\t\tGet/Set State:\t\ttrue\n",
      "\t\tSerialize State:\ttrue\n",
      "\t\tDir. Derivatives:\ttrue\n",
      "##################### End information for FMU #####################\n"
     ]
    }
   ],
   "source": [
    "# we use an FMU from the FMIZoo.jl\n",
    "pathToFMU = get_model_filename(\"IO\", \"Dymola\", \"2022x\")\n",
    "\n",
    "myFMU = fmiLoad(pathToFMU)\n",
    "fmiInfo(myFMU)"
   ]
  },
  {
   "cell_type": "markdown",
   "metadata": {},
   "source": [
    "### Instantiate and Setup FMU\n",
    "\n",
    "Next it is necessary to create an instance of the FMU. This is achieved by the command `fmiInstantiate!()`."
   ]
  },
  {
   "cell_type": "code",
   "execution_count": 4,
   "metadata": {
    "execution": {
     "iopub.execute_input": "2022-05-24T15:10:32.595000Z",
     "iopub.status.busy": "2022-05-24T15:10:32.595000Z",
     "iopub.status.idle": "2022-05-24T15:10:33.498000Z",
     "shell.execute_reply": "2022-05-24T15:10:33.498000Z"
    }
   },
   "outputs": [
    {
     "data": {
      "text/plain": [
       "FMU:            IO\n",
       "InstanceName:   [not defined]\n",
       "Address:        Ptr{Nothing} @0x0000000004b942e0\n",
       "State:          fmi2ComponentStateInstantiated\n",
       "Logging:        false\n",
       "FMU time:       -Inf\n",
       "FMU states:     nothing"
      ]
     },
     "execution_count": 4,
     "metadata": {},
     "output_type": "execute_result"
    }
   ],
   "source": [
    "fmiInstantiate!(myFMU; loggingOn=true)"
   ]
  },
  {
   "cell_type": "markdown",
   "metadata": {},
   "source": [
    "In the following code block, start and end time for the simulation is set by the `fmiSetupExperiment()` command."
   ]
  },
  {
   "cell_type": "code",
   "execution_count": 5,
   "metadata": {
    "execution": {
     "iopub.execute_input": "2022-05-24T15:10:33.503000Z",
     "iopub.status.busy": "2022-05-24T15:10:33.503000Z",
     "iopub.status.idle": "2022-05-24T15:10:33.988000Z",
     "shell.execute_reply": "2022-05-24T15:10:33.987000Z"
    }
   },
   "outputs": [
    {
     "data": {
      "text/plain": [
       "0x00000000"
      ]
     },
     "execution_count": 5,
     "metadata": {},
     "output_type": "execute_result"
    }
   ],
   "source": [
    "fmiSetupExperiment(myFMU, tStart, tStop)"
   ]
  },
  {
   "cell_type": "markdown",
   "metadata": {},
   "source": [
    "### Parameterize FMU\n",
    "\n",
    "To parameterize an FMU, the FMU must be in the initialization mode, which is reached with the `fmiEnterInitializationMode()` command."
   ]
  },
  {
   "cell_type": "code",
   "execution_count": 6,
   "metadata": {
    "execution": {
     "iopub.execute_input": "2022-05-24T15:10:33.992000Z",
     "iopub.status.busy": "2022-05-24T15:10:33.991000Z",
     "iopub.status.idle": "2022-05-24T15:10:34.040000Z",
     "shell.execute_reply": "2022-05-24T15:10:34.040000Z"
    }
   },
   "outputs": [
    {
     "data": {
      "text/plain": [
       "0x00000000"
      ]
     },
     "execution_count": 6,
     "metadata": {},
     "output_type": "execute_result"
    }
   ],
   "source": [
    "fmiEnterInitializationMode(myFMU)"
   ]
  },
  {
   "cell_type": "markdown",
   "metadata": {},
   "source": [
    "Within this mode it is then possible to change the different parameters. In this example, for each data type (`real`, `integer`, `boolean` and `string)` a corresponding parameter is selected. At the beginning the initial state of these parameters is displayed with `fmiGet()`."
   ]
  },
  {
   "cell_type": "code",
   "execution_count": 7,
   "metadata": {
    "execution": {
     "iopub.execute_input": "2022-05-24T15:10:34.044000Z",
     "iopub.status.busy": "2022-05-24T15:10:34.044000Z",
     "iopub.status.idle": "2022-05-24T15:10:38.721000Z",
     "shell.execute_reply": "2022-05-24T15:10:38.721000Z"
    }
   },
   "outputs": [
    {
     "data": {
      "text/plain": [
       "4-element Vector{Any}:\n",
       " 0.0\n",
       " 0\n",
       " 0\n",
       "  \"Hello World!\""
      ]
     },
     "execution_count": 7,
     "metadata": {},
     "output_type": "execute_result"
    }
   ],
   "source": [
    "params = [\"p_real\", \"p_integer\", \"p_boolean\", \"p_string\"]\n",
    "fmiGet(myFMU, params)"
   ]
  },
  {
   "cell_type": "markdown",
   "metadata": {},
   "source": [
    "In the next step, a function is defined that generates a random value for each parameter. For the parameter `p_string` a random number is inserted into the string. All parameters are combined to a vector and output."
   ]
  },
  {
   "cell_type": "code",
   "execution_count": 8,
   "metadata": {
    "execution": {
     "iopub.execute_input": "2022-05-24T15:10:38.726000Z",
     "iopub.status.busy": "2022-05-24T15:10:38.726000Z",
     "iopub.status.idle": "2022-05-24T15:10:39.742000Z",
     "shell.execute_reply": "2022-05-24T15:10:39.742000Z"
    }
   },
   "outputs": [
    {
     "data": {
      "text/plain": [
       "generateRandomNumbers (generic function with 1 method)"
      ]
     },
     "execution_count": 8,
     "metadata": {},
     "output_type": "execute_result"
    }
   ],
   "source": [
    "function generateRandomNumbers()\n",
    "    rndReal = 100 * rand()\n",
    "    rndInteger = round(Integer, 100 * rand())\n",
    "    rndBoolean = rand() > 0.5\n",
    "    rndString = \"Random number $(100 * rand())!\"\n",
    "\n",
    "    randValues = [rndReal, rndInteger, rndBoolean, rndString]\n",
    "    println(randValues)\n",
    "    return randValues\n",
    "end"
   ]
  },
  {
   "cell_type": "markdown",
   "metadata": {},
   "source": [
    "The previously defined function is called and the results are displayed in the console."
   ]
  },
  {
   "cell_type": "code",
   "execution_count": 9,
   "metadata": {
    "execution": {
     "iopub.execute_input": "2022-05-24T15:10:39.746000Z",
     "iopub.status.busy": "2022-05-24T15:10:39.746000Z",
     "iopub.status.idle": "2022-05-24T15:10:40.761000Z",
     "shell.execute_reply": "2022-05-24T15:10:40.761000Z"
    }
   },
   "outputs": [
    {
     "name": "stdout",
     "output_type": "stream",
     "text": [
      "Any[87.3783597742214, 4, false, \"Random number 94.5476605809723!\"]\n"
     ]
    }
   ],
   "source": [
    "paramsVal = generateRandomNumbers();"
   ]
  },
  {
   "cell_type": "markdown",
   "metadata": {},
   "source": [
    "#### First variant\n",
    "\n",
    "With this variant it is quickly possible to set all parameters at once. Even different data types can be set with only one command. The command `fmiSet()` selects itself which function is chosen for which data type. After setting the parameters, it is checked whether the corresponding parameters were set correctly. For this the function `fmiGet()` is used as above and afterwards with the macro `@assert` also tested whether the correct values are set."
   ]
  },
  {
   "cell_type": "code",
   "execution_count": 10,
   "metadata": {
    "execution": {
     "iopub.execute_input": "2022-05-24T15:10:40.765000Z",
     "iopub.status.busy": "2022-05-24T15:10:40.765000Z",
     "iopub.status.idle": "2022-05-24T15:10:41.484000Z",
     "shell.execute_reply": "2022-05-24T15:10:41.484000Z"
    }
   },
   "outputs": [
    {
     "name": "stdout",
     "output_type": "stream",
     "text": [
      "Any[87.3783597742214, 4, 0, \"Random number 94.5476605809723!\"]"
     ]
    }
   ],
   "source": [
    "fmiSet(myFMU, params, paramsVal)\n",
    "values = fmiGet(myFMU, params)\n",
    "print(values)\n",
    "\n",
    "@assert paramsVal == values"
   ]
  },
  {
   "cell_type": "markdown",
   "metadata": {},
   "source": [
    "#### Second variant\n",
    "\n",
    "To make sure that the functions work it is necessary to generate random numbers again. As shown already, we call the defined function `generateRandomNumbers()` and output the values."
   ]
  },
  {
   "cell_type": "code",
   "execution_count": 11,
   "metadata": {
    "execution": {
     "iopub.execute_input": "2022-05-24T15:10:41.488000Z",
     "iopub.status.busy": "2022-05-24T15:10:41.488000Z",
     "iopub.status.idle": "2022-05-24T15:10:41.490000Z",
     "shell.execute_reply": "2022-05-24T15:10:41.490000Z"
    }
   },
   "outputs": [
    {
     "name": "stdout",
     "output_type": "stream",
     "text": [
      "Any[70.45219235533683, 37, true, \"Random number 59.487280600206475!\"]\n"
     ]
    }
   ],
   "source": [
    "rndReal, rndInteger, rndBoolean, rndString = generateRandomNumbers();"
   ]
  },
  {
   "cell_type": "markdown",
   "metadata": {},
   "source": [
    "In the second variant, the value for each data type is set separately by the corresponding command. By this variant one has the maximum control and can be sure that also the correct data type is set. To illustrate the functionality of the parameterization with the separate functions, the corresponding get function is also called separately for each data type:\n",
    "* `fmiSetReal()` <---> `fmiGetReal()`\n",
    "* `fmiSetInteger()` <---> `fmiGetInteger()`\n",
    "* `fmiSetBoolean()` <---> `fmiGetBoolean()`\n",
    "* `fmiSetString()` <---> `fmiGetString()`."
   ]
  },
  {
   "cell_type": "code",
   "execution_count": 12,
   "metadata": {
    "execution": {
     "iopub.execute_input": "2022-05-24T15:10:41.495000Z",
     "iopub.status.busy": "2022-05-24T15:10:41.494000Z",
     "iopub.status.idle": "2022-05-24T15:10:43.683000Z",
     "shell.execute_reply": "2022-05-24T15:10:43.683000Z"
    }
   },
   "outputs": [
    {
     "data": {
      "text/plain": [
       "\"70.45219235533683 == 70.45219235533683\""
      ]
     },
     "metadata": {},
     "output_type": "display_data"
    },
    {
     "data": {
      "text/plain": [
       "\"37 == 37\""
      ]
     },
     "metadata": {},
     "output_type": "display_data"
    },
    {
     "data": {
      "text/plain": [
       "\"true == 1\""
      ]
     },
     "metadata": {},
     "output_type": "display_data"
    },
    {
     "data": {
      "text/plain": [
       "\"Random number 59.487280600206475! == Random number 59.487280600206475!\""
      ]
     },
     "metadata": {},
     "output_type": "display_data"
    }
   ],
   "source": [
    "fmiSetReal(myFMU, \"p_real\", rndReal)\n",
    "display(\"$rndReal == $(fmiGetReal(myFMU, \"p_real\"))\")\n",
    "\n",
    "fmiSetInteger(myFMU, \"p_integer\", rndInteger)\n",
    "display(\"$rndInteger == $(fmiGetInteger(myFMU, \"p_integer\"))\")\n",
    "\n",
    "fmiSetBoolean(myFMU, \"p_boolean\", rndBoolean)\n",
    "display(\"$rndBoolean == $(fmiGetBoolean(myFMU, \"p_boolean\"))\")\n",
    "\n",
    "fmiSetString(myFMU, \"p_string\", rndString)\n",
    "display(\"$rndString == $(fmiGetString(myFMU, \"p_string\"))\")"
   ]
  },
  {
   "cell_type": "markdown",
   "metadata": {},
   "source": [
    "After seeing that both variants set the parameters correctly, the initialization mode is terminated with the function `fmiExitInitializationMode()`."
   ]
  },
  {
   "cell_type": "code",
   "execution_count": 13,
   "metadata": {
    "execution": {
     "iopub.execute_input": "2022-05-24T15:10:43.687000Z",
     "iopub.status.busy": "2022-05-24T15:10:43.687000Z",
     "iopub.status.idle": "2022-05-24T15:10:43.737000Z",
     "shell.execute_reply": "2022-05-24T15:10:43.737000Z"
    }
   },
   "outputs": [
    {
     "data": {
      "text/plain": [
       "0x00000000"
      ]
     },
     "execution_count": 13,
     "metadata": {},
     "output_type": "execute_result"
    }
   ],
   "source": [
    "fmiExitInitializationMode(myFMU)"
   ]
  },
  {
   "cell_type": "markdown",
   "metadata": {},
   "source": [
    "### Unload FMU\n",
    "\n",
    "The FMU will be unloaded and all unpacked data on disc will be removed."
   ]
  },
  {
   "cell_type": "code",
   "execution_count": 14,
   "metadata": {
    "execution": {
     "iopub.execute_input": "2022-05-24T15:10:43.741000Z",
     "iopub.status.busy": "2022-05-24T15:10:43.741000Z",
     "iopub.status.idle": "2022-05-24T15:10:43.909000Z",
     "shell.execute_reply": "2022-05-24T15:10:43.909000Z"
    }
   },
   "outputs": [],
   "source": [
    "fmiUnload(myFMU)"
   ]
  },
  {
   "cell_type": "markdown",
   "metadata": {},
   "source": [
    "### Summary\n",
    "\n",
    "Based on this tutorial it can be seen that there are two different variants to set and get parameters.These examples should make it clear to the user how parameters can also be set with different data types."
   ]
  }
 ],
 "metadata": {
  "interpreter": {
   "hash": "037537ff7419c497b9325f7d495147943224d408cf5d5ed915294a5b960167b0"
  },
  "jupytext": {
   "cell_metadata_filter": "-all",
   "comment_magics": "false",
   "notebook_metadata_filter": "-all"
  },
  "kernelspec": {
   "display_name": "Julia 1.6.6",
   "language": "julia",
   "name": "julia-1.6"
  },
  "language_info": {
   "file_extension": ".jl",
   "mimetype": "application/julia",
   "name": "julia",
   "version": "1.6.6"
  },
  "nteract": {
   "version": "0.28.0"
  }
 },
 "nbformat": 4,
 "nbformat_minor": 2
}
