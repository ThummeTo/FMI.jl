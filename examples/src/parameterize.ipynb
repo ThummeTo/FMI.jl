{
 "cells": [
  {
   "cell_type": "markdown",
   "metadata": {},
   "source": [
    "# Manually parameterize an FMU\n",
    "Tutorial by Johannes Stoljar, Tobias Thummerer\n",
    "\n",
    "## License"
   ]
  },
  {
   "cell_type": "code",
   "execution_count": 1,
   "metadata": {
    "execution": {
     "iopub.execute_input": "2022-12-09T13:23:06.541000Z",
     "iopub.status.busy": "2022-12-09T13:23:05.883000Z",
     "iopub.status.idle": "2022-12-09T13:23:06.811000Z",
     "shell.execute_reply": "2022-12-09T13:23:06.738000Z"
    }
   },
   "outputs": [],
   "source": [
    "# Copyright (c) 2021 Tobias Thummerer, Lars Mikelsons, Josef Kircher, Johannes Stoljar\n",
    "# Licensed under the MIT license. \n",
    "# See LICENSE (https://github.com/thummeto/FMI.jl/blob/main/LICENSE) file in the project root for details."
   ]
  },
  {
   "cell_type": "markdown",
   "metadata": {},
   "source": [
    "## Motivation\n",
    "This Julia Package *FMI.jl* is motivated by the use of simulation models in Julia. Here the FMI specification is implemented. FMI (*Functional Mock-up Interface*) is a free standard ([fmi-standard.org](http://fmi-standard.org/)) that defines a container and an interface to exchange dynamic models using a combination of XML files, binaries and C code zipped into a single file. The user can thus use simulation models in the form of an FMU (*Functional Mock-up Units*). Besides loading the FMU, the user can also set values for parameters and states and simulate the FMU both as co-simulation and model exchange simulation.\n",
    "\n",
    "## Introduction to the example\n",
    "This example shows how the manually parameterization of an FMU works if very specific adjustments during system initialization is needed. For this purpose, an IO-FMU model is loaded and the various commands for parameterization are shown on the basis of this model. With this example the user shall be guided how to make certain settings at an FMU. Please note, that parameterization of a simulation is possible in a much easier fashion: Using `fmiSimulate`, `fmiSimulateME` or `fmiSimulateCS` together with a parameter dictionary for the keyword `parameters`.\n",
    "\n",
    "## Target group\n",
    "The example is primarily intended for users who work in the field of simulation exchange. The example wants to show how simple it is to use FMUs in Julia.\n",
    "\n",
    "\n",
    "## Other formats\n",
    "Besides, this [Jupyter Notebook](https://github.com/thummeto/FMI.jl/blob/examples/examples/parameterize.ipynb) there is also a [Julia file](https://github.com/thummeto/FMI.jl/blob/examples/examples/parameterize.jl) with the same name, which contains only the code cells and for the documentation there is a [Markdown file](https://github.com/thummeto/FMI.jl/blob/examples/examples/parameterize.md) corresponding to the notebook.  \n",
    "\n",
    "\n",
    "## Getting started\n",
    "\n",
    "### Installation prerequisites\n",
    "|     | Description                       | Command                   | Alternative                                    |   \n",
    "|:----|:----------------------------------|:--------------------------|:-----------------------------------------------|\n",
    "| 1.  | Enter Package Manager via         | ]                         |                                                |\n",
    "| 2.  | Install FMI via                   | add FMI                   | add \" https://github.com/ThummeTo/FMI.jl \"     |\n",
    "| 3.  | Install FMIZoo via                | add FMIZoo                | add \" https://github.com/ThummeTo/FMIZoo.jl \"  |"
   ]
  },
  {
   "cell_type": "markdown",
   "metadata": {},
   "source": [
    "## Code section\n",
    "\n",
    "To run the example, the previously installed packages must be included. "
   ]
  },
  {
   "cell_type": "code",
   "execution_count": 2,
   "metadata": {
    "execution": {
     "iopub.execute_input": "2022-12-09T13:23:06.813000Z",
     "iopub.status.busy": "2022-12-09T13:23:06.813000Z",
     "iopub.status.idle": "2022-12-09T13:23:18.308000Z",
     "shell.execute_reply": "2022-12-09T13:23:18.308000Z"
    },
    "scrolled": false
   },
   "outputs": [],
   "source": [
    "# imports\n",
    "using FMI\n",
    "using FMIZoo"
   ]
  },
  {
   "cell_type": "markdown",
   "metadata": {},
   "source": [
    "### Simulation setup\n",
    "\n",
    "Next, the start time and end time of the simulation are set."
   ]
  },
  {
   "cell_type": "code",
   "execution_count": 3,
   "metadata": {
    "execution": {
     "iopub.execute_input": "2022-12-09T13:23:18.476000Z",
     "iopub.status.busy": "2022-12-09T13:23:18.310000Z",
     "iopub.status.idle": "2022-12-09T13:23:21.524000Z",
     "shell.execute_reply": "2022-12-09T13:23:21.524000Z"
    },
    "scrolled": false
   },
   "outputs": [
    {
     "data": {
      "text/plain": [
       "2-element Vector{Float64}:\n",
       " 0.0\n",
       " 1.0"
      ]
     },
     "execution_count": 3,
     "metadata": {},
     "output_type": "execute_result"
    }
   ],
   "source": [
    "tStart = 0.0\n",
    "tStop = 1.0\n",
    "tSave = collect(tStart:tStop)"
   ]
  },
  {
   "cell_type": "markdown",
   "metadata": {},
   "source": [
    "### Import FMU\n",
    "\n",
    "In the next lines of code the FMU model from *FMIZoo.jl* is loaded and the information about the FMU is shown."
   ]
  },
  {
   "cell_type": "code",
   "execution_count": 4,
   "metadata": {
    "execution": {
     "iopub.execute_input": "2022-12-09T13:23:21.528000Z",
     "iopub.status.busy": "2022-12-09T13:23:21.527000Z",
     "iopub.status.idle": "2022-12-09T13:23:25.892000Z",
     "shell.execute_reply": "2022-12-09T13:23:25.892000Z"
    },
    "scrolled": false
   },
   "outputs": [
    {
     "name": "stdout",
     "output_type": "stream",
     "text": [
      "#################### Begin information for FMU ####################\n",
      "\tModel name:\t\t\tIO\n",
      "\tFMI-Version:\t\t\t2.0\n",
      "\tGUID:\t\t\t\t{889089a6-481b-41a6-a282-f6ce02a33aa6}\n",
      "\tGeneration tool:\t\tDymola Version 2022x (64-bit), 2021-10-08\n",
      "\tGeneration time:\t\t2022-05-19T06:53:52Z\n",
      "\tVar. naming conv.:\t\tstructured\n",
      "\tEvent indicators:\t\t4\n",
      "\tInputs:\t\t\t\t3\n",
      "\t\t352321536 [\"u_real\"]\n",
      "\t\t352321537 [\"u_boolean\"]\n",
      "\t\t352321538 [\"u_integer\"]\n",
      "\tOutputs:\t\t\t3\n",
      "\t\t335544320 [\"y_real\"]\n",
      "\t\t335544321 [\"y_boolean\"]\n",
      "\t\t335544322 [\"y_integer\"]\n",
      "\tStates:\t\t\t\t0\n",
      "\tSupports Co-Simulation:\t\ttrue\n",
      "\t\tModel identifier:\tIO\n",
      "\t\tGet/Set State:\t\ttrue\n",
      "\t\tSerialize State:\ttrue\n",
      "\t\tDir. Derivatives:\ttrue\n",
      "\t\tVar. com. steps:\ttrue\n",
      "\t\tInput interpol.:\ttrue\n",
      "\t\tMax order out. der.:\t1\n",
      "\tSupports Model-Exchange:\ttrue\n",
      "\t\tModel identifier:\tIO\n",
      "\t\tGet/Set State:\t\ttrue\n",
      "\t\tSerialize State:\ttrue\n",
      "\t\tDir. Derivatives:\ttrue\n",
      "##################### End information for FMU #####################\n"
     ]
    }
   ],
   "source": [
    "# we use an FMU from the FMIZoo.jl\n",
    "pathToFMU = get_model_filename(\"IO\", \"Dymola\", \"2022x\")\n",
    "\n",
    "myFMU = fmiLoad(pathToFMU)\n",
    "fmiInfo(myFMU)"
   ]
  },
  {
   "cell_type": "markdown",
   "metadata": {},
   "source": [
    "### Instantiate and Setup FMU\n",
    "\n",
    "Next it is necessary to create an instance of the FMU. This is achieved by the command `fmiInstantiate!()`."
   ]
  },
  {
   "cell_type": "code",
   "execution_count": 5,
   "metadata": {
    "execution": {
     "iopub.execute_input": "2022-12-09T13:23:25.895000Z",
     "iopub.status.busy": "2022-12-09T13:23:25.895000Z",
     "iopub.status.idle": "2022-12-09T13:23:26.633000Z",
     "shell.execute_reply": "2022-12-09T13:23:26.633000Z"
    }
   },
   "outputs": [
    {
     "data": {
      "text/plain": [
       "FMU:            IO\n",
       "InstanceName:   IO\n",
       "Address:        Ptr{Nothing} @0x00000000056e8e80\n",
       "State:          fmi2ComponentStateInstantiated\n",
       "Logging:        false\n",
       "FMU time:       -Inf\n",
       "FMU states:     nothing"
      ]
     },
     "execution_count": 5,
     "metadata": {},
     "output_type": "execute_result"
    }
   ],
   "source": [
    "fmiInstantiate!(myFMU; loggingOn=true)"
   ]
  },
  {
   "cell_type": "markdown",
   "metadata": {},
   "source": [
    "In the following code block, start and end time for the simulation is set by the `fmiSetupExperiment()` command."
   ]
  },
  {
   "cell_type": "code",
   "execution_count": 6,
   "metadata": {
    "execution": {
     "iopub.execute_input": "2022-12-09T13:23:26.636000Z",
     "iopub.status.busy": "2022-12-09T13:23:26.636000Z",
     "iopub.status.idle": "2022-12-09T13:23:27.007000Z",
     "shell.execute_reply": "2022-12-09T13:23:27.007000Z"
    }
   },
   "outputs": [
    {
     "data": {
      "text/plain": [
       "0x00000000"
      ]
     },
     "execution_count": 6,
     "metadata": {},
     "output_type": "execute_result"
    }
   ],
   "source": [
    "fmiSetupExperiment(myFMU, tStart, tStop)"
   ]
  },
  {
   "cell_type": "markdown",
   "metadata": {},
   "source": [
    "### Parameterize FMU\n",
    "\n",
    "In this example, for each data type (`real`, `boolean`, `integer` and `string`) a corresponding input or parameter is selected. From here on, the inputs and parameters will be referred to as parameters for simplicity."
   ]
  },
  {
   "cell_type": "code",
   "execution_count": 7,
   "metadata": {
    "execution": {
     "iopub.execute_input": "2022-12-09T13:23:27.010000Z",
     "iopub.status.busy": "2022-12-09T13:23:27.010000Z",
     "iopub.status.idle": "2022-12-09T13:23:27.963000Z",
     "shell.execute_reply": "2022-12-09T13:23:27.963000Z"
    }
   },
   "outputs": [
    {
     "data": {
      "text/plain": [
       "4-element Vector{String}:\n",
       " \"p_real\"\n",
       " \"p_boolean\"\n",
       " \"p_integer\"\n",
       " \"p_string\""
      ]
     },
     "execution_count": 7,
     "metadata": {},
     "output_type": "execute_result"
    }
   ],
   "source": [
    "params = [\"p_real\", \"p_boolean\", \"p_integer\", \"p_string\"]"
   ]
  },
  {
   "cell_type": "markdown",
   "metadata": {},
   "source": [
    "At the beginning we want to display the initial state of these parameters, for which the FMU must be in initialization mode. The next function `fmiEnterInitializationMode()` informs the FMU to enter the initialization mode. Before calling this function, the variables can be set. Furthermore, `fmiSetupExperiment()` must be called at least once before calling `fmiEnterInitializationMode()`, in order that the start time is defined."
   ]
  },
  {
   "cell_type": "code",
   "execution_count": 8,
   "metadata": {
    "execution": {
     "iopub.execute_input": "2022-12-09T13:23:27.966000Z",
     "iopub.status.busy": "2022-12-09T13:23:27.966000Z",
     "iopub.status.idle": "2022-12-09T13:23:28.031000Z",
     "shell.execute_reply": "2022-12-09T13:23:28.031000Z"
    },
    "scrolled": true
   },
   "outputs": [
    {
     "data": {
      "text/plain": [
       "0x00000000"
      ]
     },
     "execution_count": 8,
     "metadata": {},
     "output_type": "execute_result"
    }
   ],
   "source": [
    "fmiEnterInitializationMode(myFMU)"
   ]
  },
  {
   "cell_type": "markdown",
   "metadata": {},
   "source": [
    "The initial state of these parameters are displayed with the function `fmiGet()`."
   ]
  },
  {
   "cell_type": "code",
   "execution_count": 9,
   "metadata": {
    "execution": {
     "iopub.execute_input": "2022-12-09T13:23:28.034000Z",
     "iopub.status.busy": "2022-12-09T13:23:28.034000Z",
     "iopub.status.idle": "2022-12-09T13:23:30.231000Z",
     "shell.execute_reply": "2022-12-09T13:23:30.231000Z"
    }
   },
   "outputs": [
    {
     "data": {
      "text/plain": [
       "4-element Vector{Any}:\n",
       " 0.0\n",
       " 0\n",
       " 0\n",
       "  \"Hello World!\""
      ]
     },
     "execution_count": 9,
     "metadata": {},
     "output_type": "execute_result"
    }
   ],
   "source": [
    "fmiGet(myFMU, params)"
   ]
  },
  {
   "cell_type": "markdown",
   "metadata": {},
   "source": [
    "The initialization mode is terminated with the function `fmiExitInitializationMode()`. (For the model exchange FMU type, this function switches off all initialization equations, and enters the event mode implicitly.)"
   ]
  },
  {
   "cell_type": "code",
   "execution_count": 10,
   "metadata": {
    "execution": {
     "iopub.execute_input": "2022-12-09T13:23:30.234000Z",
     "iopub.status.busy": "2022-12-09T13:23:30.234000Z",
     "iopub.status.idle": "2022-12-09T13:23:30.294000Z",
     "shell.execute_reply": "2022-12-09T13:23:30.294000Z"
    }
   },
   "outputs": [
    {
     "data": {
      "text/plain": [
       "0x00000000"
      ]
     },
     "execution_count": 10,
     "metadata": {},
     "output_type": "execute_result"
    }
   ],
   "source": [
    "fmiExitInitializationMode(myFMU)"
   ]
  },
  {
   "cell_type": "markdown",
   "metadata": {},
   "source": [
    "In the next step, a function is defined that generates a random value for each parameter. For the parameter `p_string` a random number is inserted into the string. All parameters are combined to a tuple and output."
   ]
  },
  {
   "cell_type": "code",
   "execution_count": 11,
   "metadata": {
    "execution": {
     "iopub.execute_input": "2022-12-09T13:23:30.297000Z",
     "iopub.status.busy": "2022-12-09T13:23:30.297000Z",
     "iopub.status.idle": "2022-12-09T13:23:30.843000Z",
     "shell.execute_reply": "2022-12-09T13:23:30.843000Z"
    }
   },
   "outputs": [
    {
     "data": {
      "text/plain": [
       "generateRandomNumbers (generic function with 1 method)"
      ]
     },
     "execution_count": 11,
     "metadata": {},
     "output_type": "execute_result"
    }
   ],
   "source": [
    "function generateRandomNumbers()\n",
    "    rndReal = 100 * rand()\n",
    "    rndBoolean = rand() > 0.5\n",
    "    rndInteger = round(Integer, 100 * rand())\n",
    "    rndString = \"Random number $(100 * rand())!\"\n",
    "\n",
    "    return rndReal, rndBoolean, rndInteger, rndString\n",
    "end"
   ]
  },
  {
   "cell_type": "markdown",
   "metadata": {},
   "source": [
    "The previously defined function is called and the results are displayed in the console."
   ]
  },
  {
   "cell_type": "code",
   "execution_count": 12,
   "metadata": {
    "execution": {
     "iopub.execute_input": "2022-12-09T13:23:30.846000Z",
     "iopub.status.busy": "2022-12-09T13:23:30.846000Z",
     "iopub.status.idle": "2022-12-09T13:23:31.368000Z",
     "shell.execute_reply": "2022-12-09T13:23:31.368000Z"
    }
   },
   "outputs": [
    {
     "data": {
      "text/plain": [
       "(76.27924103424854, false, 11, \"Random number 31.465386562245932!\")"
      ]
     },
     "execution_count": 12,
     "metadata": {},
     "output_type": "execute_result"
    }
   ],
   "source": [
    "paramsVal = generateRandomNumbers()"
   ]
  },
  {
   "cell_type": "markdown",
   "metadata": {},
   "source": [
    "#### First variant\n",
    "\n",
    "To show the first variant, it is necessary to terminate and reset the FMU instance. Then, as before, the setup command must be called for the FMU. "
   ]
  },
  {
   "cell_type": "code",
   "execution_count": 13,
   "metadata": {
    "execution": {
     "iopub.execute_input": "2022-12-09T13:23:31.370000Z",
     "iopub.status.busy": "2022-12-09T13:23:31.370000Z",
     "iopub.status.idle": "2022-12-09T13:23:31.524000Z",
     "shell.execute_reply": "2022-12-09T13:23:31.524000Z"
    }
   },
   "outputs": [
    {
     "name": "stdout",
     "output_type": "stream",
     "text": [
      "[\u001b[32mOK\u001b[0m][CvodeStatistics][IO]: Sundials CVode Statistics\n",
      "    Stop time                                : 0.00 s\n",
      "    Simulation time                          : 2.76 s\n",
      "    Number of external steps                 : 0\n",
      "    Number of internal steps                 : 0\n",
      "    Number of non-linear iterations          : 0\n",
      "    Number of non-linear convergence failures: 0\n",
      "    Number of f function evaluations         : 0\n",
      "    Number of g function evaluations         : 0\n",
      "    Number of Jacobian-evaluations (direct)  : 0\n",
      "    Maximum integration order                : 0\n",
      "    Suggested tolerance scale factor         : 1.0\n",
      "    Grouping used                            : no\n",
      "\n",
      "[\u001b[32mOK\u001b[0m][][IO]: Rejected count\n",
      "    Number of external steps                 : 0\n",
      "    Number of internal steps                 : 0\n",
      "    Number of f function evaluations         : 0\n",
      "    Number of Jac function evaluations       : 0\n",
      "\n"
     ]
    },
    {
     "data": {
      "text/plain": [
       "0x00000000"
      ]
     },
     "execution_count": 13,
     "metadata": {},
     "output_type": "execute_result"
    }
   ],
   "source": [
    "fmiTerminate(myFMU)\n",
    "fmiReset(myFMU)\n",
    "fmiSetupExperiment(myFMU, tStart, tStop)"
   ]
  },
  {
   "cell_type": "markdown",
   "metadata": {},
   "source": [
    "In the next step it is possible to set the parameters for the FMU. With the first variant it is quickly possible to set all parameters at once. Even different data types can be set with only one command. The command `fmiSet()` selects itself which function is chosen for which data type.  As long as the output of the function gives the status code 0, setting the parameters has worked."
   ]
  },
  {
   "cell_type": "code",
   "execution_count": 14,
   "metadata": {
    "execution": {
     "iopub.execute_input": "2022-12-09T13:23:31.528000Z",
     "iopub.status.busy": "2022-12-09T13:23:31.527000Z",
     "iopub.status.idle": "2022-12-09T13:23:33.313000Z",
     "shell.execute_reply": "2022-12-09T13:23:33.312000Z"
    }
   },
   "outputs": [
    {
     "data": {
      "text/plain": [
       "4-element Vector{UInt32}:\n",
       " 0x00000000\n",
       " 0x00000000\n",
       " 0x00000000\n",
       " 0x00000000"
      ]
     },
     "execution_count": 14,
     "metadata": {},
     "output_type": "execute_result"
    }
   ],
   "source": [
    "fmiSet(myFMU, params, collect(paramsVal))"
   ]
  },
  {
   "cell_type": "markdown",
   "metadata": {},
   "source": [
    "After setting the parameters, it can be checked whether the corresponding parameters were set correctly. For this the function `fmiGet()` can be used as above. To be able to call the function `fmiGet()` the FMU must be in initialization mode."
   ]
  },
  {
   "cell_type": "code",
   "execution_count": 15,
   "metadata": {
    "execution": {
     "iopub.execute_input": "2022-12-09T13:23:33.315000Z",
     "iopub.status.busy": "2022-12-09T13:23:33.315000Z",
     "iopub.status.idle": "2022-12-09T13:23:33.316000Z",
     "shell.execute_reply": "2022-12-09T13:23:33.316000Z"
    }
   },
   "outputs": [
    {
     "data": {
      "text/plain": [
       "0x00000000"
      ]
     },
     "execution_count": 15,
     "metadata": {},
     "output_type": "execute_result"
    }
   ],
   "source": [
    "fmiEnterInitializationMode(myFMU)\n",
    "# fmiGet(myFMU, params)\n",
    "fmiExitInitializationMode(myFMU)"
   ]
  },
  {
   "cell_type": "markdown",
   "metadata": {},
   "source": [
    "Now the FMU has been initialized correctly, the FMU can be simulated. The `fmiSimulate()` command is used for this purpose. It must be pointed out that the keywords `instantiate=false`, `setup=false` must be set. The keyword `instantiate=false` prevents the simulation command from creating a new FMU instance, otherwise our parameterization will be lost. The keyword `setup=false` prevents the FMU from calling the initialization mode again. The additionally listed keyword `freeInstance=false` prevents that the instance is removed after the simulation. This is only needed in this example, because we want to continue working on the created instance. Another keyword is the `recordValues=parmas[1:3]`, which saves: `p_real`, `p_boolean` and `p_integer` as output. It should be noted that the `fmiSimulate()` function is not capable of outputting string values, so `p_string` is omitted."
   ]
  },
  {
   "cell_type": "code",
   "execution_count": 16,
   "metadata": {
    "execution": {
     "iopub.execute_input": "2022-12-09T13:23:33.319000Z",
     "iopub.status.busy": "2022-12-09T13:23:33.319000Z",
     "iopub.status.idle": "2022-12-09T13:23:39.747000Z",
     "shell.execute_reply": "2022-12-09T13:23:39.747000Z"
    }
   },
   "outputs": [
    {
     "data": {
      "text/plain": [
       "Model name:\n",
       "\tIO\n",
       "Success:\n",
       "\ttrue\n",
       "Values [2]:\n",
       "\t0.0\t(76.27924103424854, 0.0, 11.0)\n",
       "\t1.0\t(76.27924103424854, 0.0, 11.0)\n",
       "Events [0]:\n"
      ]
     },
     "execution_count": 16,
     "metadata": {},
     "output_type": "execute_result"
    }
   ],
   "source": [
    "simData = fmiSimulate(myFMU, tStart, tStop; recordValues=params[1:3], saveat=tSave, \n",
    "                        instantiate=false, setup=false, freeInstance=false, terminate=false, reset=false)"
   ]
  },
  {
   "cell_type": "markdown",
   "metadata": {},
   "source": [
    "#### Second variant\n",
    "\n",
    "To show the second variant, it is necessary to terminate and reset the FMU instance. Then, as before, the setup command must be called for the FMU. "
   ]
  },
  {
   "cell_type": "code",
   "execution_count": 17,
   "metadata": {
    "execution": {
     "iopub.execute_input": "2022-12-09T13:23:39.750000Z",
     "iopub.status.busy": "2022-12-09T13:23:39.750000Z",
     "iopub.status.idle": "2022-12-09T13:23:39.751000Z",
     "shell.execute_reply": "2022-12-09T13:23:39.751000Z"
    }
   },
   "outputs": [
    {
     "name": "stdout",
     "output_type": "stream",
     "text": [
      "[\u001b[32mOK\u001b[0m][CvodeStatistics][IO]: Sundials CVode Statistics\n",
      "    Stop time                                : 1.00 s\n",
      "    Simulation time                          : 6.43 s\n",
      "    Number of external steps                 : 1\n",
      "    Number of internal steps                 : 3\n",
      "    Number of non-linear iterations          : 3\n",
      "    Number of non-linear convergence failures: 0\n",
      "    Number of f function evaluations         : 7\n",
      "    Number of g function evaluations         : 4\n",
      "    Number of Jacobian-evaluations (direct)  : 1\n",
      "    Maximum integration order                : 1\n",
      "    Suggested tolerance scale factor         : 1.0\n",
      "    Grouping used                            : no\n",
      "\n",
      "[\u001b[32mOK\u001b[0m][][IO]: Rejected count\n",
      "    Number of external steps                 : 0\n",
      "    Number of internal steps                 : 0\n",
      "    Number of f function evaluations         : 0\n",
      "    Number of Jac function evaluations       : 0\n",
      "\n"
     ]
    },
    {
     "data": {
      "text/plain": [
       "0x00000000"
      ]
     },
     "execution_count": 17,
     "metadata": {},
     "output_type": "execute_result"
    }
   ],
   "source": [
    "fmiTerminate(myFMU)\n",
    "fmiReset(myFMU)\n",
    "fmiSetupExperiment(myFMU, tStart, tStop)"
   ]
  },
  {
   "cell_type": "markdown",
   "metadata": {},
   "source": [
    "To make sure that the functions work it is necessary to generate random numbers again. As shown already, we call the defined function `generateRandomNumbers()` and output the values."
   ]
  },
  {
   "cell_type": "code",
   "execution_count": 18,
   "metadata": {
    "execution": {
     "iopub.execute_input": "2022-12-09T13:23:39.754000Z",
     "iopub.status.busy": "2022-12-09T13:23:39.754000Z",
     "iopub.status.idle": "2022-12-09T13:23:39.767000Z",
     "shell.execute_reply": "2022-12-09T13:23:39.766000Z"
    }
   },
   "outputs": [
    {
     "data": {
      "text/plain": [
       "(81.23828945311105, true, 20, \"Random number 60.735914188131716!\")"
      ]
     },
     "execution_count": 18,
     "metadata": {},
     "output_type": "execute_result"
    }
   ],
   "source": [
    "rndReal, rndBoolean, rndInteger, rndString = generateRandomNumbers()"
   ]
  },
  {
   "cell_type": "markdown",
   "metadata": {},
   "source": [
    "In the second variant, the value for each data type is set separately by the corresponding command. By this variant one has the maximum control and can be sure that also the correct data type is set. "
   ]
  },
  {
   "cell_type": "code",
   "execution_count": 19,
   "metadata": {
    "execution": {
     "iopub.execute_input": "2022-12-09T13:23:39.769000Z",
     "iopub.status.busy": "2022-12-09T13:23:39.769000Z",
     "iopub.status.idle": "2022-12-09T13:23:40.061000Z",
     "shell.execute_reply": "2022-12-09T13:23:40.061000Z"
    }
   },
   "outputs": [
    {
     "data": {
      "text/plain": [
       "0x00000000"
      ]
     },
     "execution_count": 19,
     "metadata": {},
     "output_type": "execute_result"
    }
   ],
   "source": [
    "fmiSetReal(myFMU, \"p_real\", rndReal)\n",
    "fmiSetBoolean(myFMU, \"p_boolean\", rndBoolean)\n",
    "fmiSetInteger(myFMU, \"p_integer\", rndInteger)\n",
    "fmiSetString(myFMU, \"p_string\", rndString)"
   ]
  },
  {
   "cell_type": "markdown",
   "metadata": {},
   "source": [
    "To illustrate the functionality of the parameterization with the separate functions, the corresponding get function can be also called separately for each data type:\n",
    "* `fmiSetReal()` &#8660; `fmiGetReal()`\n",
    "* `fmiSetBoolean()` &#8660; `fmiGetBoolean()`\n",
    "* `fmiSetInteger()` &#8660; `fmiGetInteger()`\n",
    "* `fmiSetString()` &#8660; `fmiGetString()`.\n",
    "\n",
    "As before, the FMU must be in initialization mode."
   ]
  },
  {
   "cell_type": "code",
   "execution_count": 20,
   "metadata": {
    "execution": {
     "iopub.execute_input": "2022-12-09T13:23:40.064000Z",
     "iopub.status.busy": "2022-12-09T13:23:40.064000Z",
     "iopub.status.idle": "2022-12-09T13:23:40.065000Z",
     "shell.execute_reply": "2022-12-09T13:23:40.065000Z"
    }
   },
   "outputs": [
    {
     "data": {
      "text/plain": [
       "0x00000000"
      ]
     },
     "execution_count": 20,
     "metadata": {},
     "output_type": "execute_result"
    }
   ],
   "source": [
    "fmiEnterInitializationMode(myFMU)\n",
    "# fmiGetReal(myFMU, \"u_real\")\n",
    "# fmiGetBoolean(myFMU, \"u_boolean\")\n",
    "# fmiGetInteger(myFMU, \"u_integer\")\n",
    "# fmiGetString(myFMU, \"p_string\")\n",
    "fmiExitInitializationMode(myFMU)"
   ]
  },
  {
   "cell_type": "markdown",
   "metadata": {},
   "source": [
    "From here on, you may want to simulate the FMU. Please note, that with the default `executionConfig`, it is necessary to prevent a new instantiation using the keyword `instantiate=false`. Otherwise, a new instance is allocated for the simulation-call and the parameters set for the previous instance are not transfered."
   ]
  },
  {
   "cell_type": "code",
   "execution_count": 21,
   "metadata": {
    "execution": {
     "iopub.execute_input": "2022-12-09T13:23:40.067000Z",
     "iopub.status.busy": "2022-12-09T13:23:40.067000Z",
     "iopub.status.idle": "2022-12-09T13:23:40.541000Z",
     "shell.execute_reply": "2022-12-09T13:23:40.541000Z"
    }
   },
   "outputs": [
    {
     "data": {
      "text/plain": [
       "Model name:\n",
       "\tIO\n",
       "Success:\n",
       "\ttrue\n",
       "Values [2]:\n",
       "\t0.0\t(81.23828945311105, 1.0, 20.0)\n",
       "\t1.0\t(81.23828945311105, 1.0, 20.0)\n",
       "Events [0]:\n"
      ]
     },
     "execution_count": 21,
     "metadata": {},
     "output_type": "execute_result"
    }
   ],
   "source": [
    "simData = fmiSimulate(myFMU, tStart, tStop; recordValues=params[1:3], saveat=tSave, \n",
    "                        instantiate=false, setup=false)"
   ]
  },
  {
   "cell_type": "markdown",
   "metadata": {},
   "source": [
    "### Unload FMU\n",
    "\n",
    "The FMU will be unloaded and all unpacked data on disc will be removed."
   ]
  },
  {
   "cell_type": "code",
   "execution_count": 22,
   "metadata": {
    "execution": {
     "iopub.execute_input": "2022-12-09T13:23:40.544000Z",
     "iopub.status.busy": "2022-12-09T13:23:40.544000Z",
     "iopub.status.idle": "2022-12-09T13:23:40.578000Z",
     "shell.execute_reply": "2022-12-09T13:23:40.578000Z"
    }
   },
   "outputs": [],
   "source": [
    "fmiUnload(myFMU)"
   ]
  },
  {
   "cell_type": "markdown",
   "metadata": {},
   "source": [
    "### Summary\n",
    "\n",
    "Based on this tutorial it can be seen that there are two different variants to set and get parameters.These examples should make it clear to the user how parameters can also be set with different data types. As a small reminder, the sequence of commands for the manual parameterization of an FMU is summarized again. \n",
    "\n",
    "`fmiLoad()` &#8594; `fmiInstantiate!()` &#8594; `fmiSetupExperiment()` &#8594; `fmiSetXXX()` &#8594; `fmiEnterInitializationMode()` &#8594; `fmiGetXXX()` &#8594; `fmiExitInitializationMode()` &#8594; `fmiSimualte()` &#8594; `fmiUnload()`"
   ]
  }
 ],
 "metadata": {
  "interpreter": {
   "hash": "037537ff7419c497b9325f7d495147943224d408cf5d5ed915294a5b960167b0"
  },
  "jupytext": {
   "cell_metadata_filter": "-all",
   "comment_magics": "false",
   "notebook_metadata_filter": "-all"
  },
  "kernelspec": {
   "display_name": "Julia 1.6.6",
   "language": "julia",
   "name": "julia-1.6"
  },
  "language_info": {
   "file_extension": ".jl",
   "mimetype": "application/julia",
   "name": "julia",
   "version": "1.6.7"
  },
  "nteract": {
   "version": "0.28.0"
  }
 },
 "nbformat": 4,
 "nbformat_minor": 2
}
