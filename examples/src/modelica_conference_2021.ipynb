{
 "cells": [
  {
   "cell_type": "markdown",
   "metadata": {},
   "source": [
    "# Example from the Modelica Conference 2021\n",
    "Tutorial by Tobias Thummerer, Johannes Stoljar\n",
    "\n",
    "This example was updated over time to keep track with developments and changes in *FMI.jl*.\n",
    "\n",
    "🚧 This tutorial is under revision and will be replaced by an up-to-date version soon 🚧\n",
    "\n",
    "## License"
   ]
  },
  {
   "cell_type": "code",
   "execution_count": null,
   "metadata": {
    "execution": {
     "iopub.execute_input": "2022-10-22T13:16:18.554000Z",
     "iopub.status.busy": "2022-10-22T13:16:17.709000Z",
     "iopub.status.idle": "2022-10-22T13:16:18.840000Z",
     "shell.execute_reply": "2022-10-22T13:16:18.765000Z"
    }
   },
   "outputs": [],
   "source": [
    "# Copyright (c) 2021 Tobias Thummerer, Lars Mikelsons, Josef Kircher, Johannes Stoljar\n",
    "# Licensed under the MIT license. \n",
    "# See LICENSE (https://github.com/thummeto/FMI.jl/blob/main/LICENSE) file in the project root for details."
   ]
  },
  {
   "attachments": {},
   "cell_type": "markdown",
   "metadata": {},
   "source": [
    "## Introduction to the example\n",
    "FMUs can be simulated in multiple ways using *FMI.jl*. You can use a very simple interface, that offers possibilities that satisfy almost any user requirement. However, if you need to build a custom simulation loop for your use case using the core FMI functions, we show that too.\n",
    "\n",
    "![svg](https://github.com/thummeto/FMI.jl/blob/main/docs/src/examples/pics/SpringFrictionPendulum1D.svg?raw=true)  \n",
    "\n",
    "## Other formats\n",
    "Besides, this [Jupyter Notebook](https://github.com/thummeto/FMI.jl/blob/examples/examples/src/modelica_conference_2021.ipynb) there is also a [Julia file](https://github.com/thummeto/FMI.jl/blob/examples/examples/src/modelica_conference_2021.jl) with the same name, which contains only the code cells and for the documentation there is a [Markdown file](https://github.com/thummeto/FMI.jl/blob/examples/examples/src/modelica_conference_2021.md) corresponding to the notebook.  "
   ]
  },
  {
   "cell_type": "markdown",
   "metadata": {},
   "source": [
    "## Code section\n",
    "\n",
    "To run the example, the previously installed packages must be included. "
   ]
  },
  {
   "cell_type": "code",
   "execution_count": null,
   "metadata": {
    "execution": {
     "iopub.execute_input": "2022-10-22T13:16:18.843000Z",
     "iopub.status.busy": "2022-10-22T13:16:18.843000Z",
     "iopub.status.idle": "2022-10-22T13:17:02.927000Z",
     "shell.execute_reply": "2022-10-22T13:17:02.927000Z"
    },
    "scrolled": false
   },
   "outputs": [],
   "source": [
    "# imports\n",
    "using FMI\n",
    "using FMIZoo\n",
    "using Plots"
   ]
  },
  {
   "cell_type": "markdown",
   "metadata": {},
   "source": [
    "### Simulation setup\n",
    "\n",
    "Next, the start time and end time of the simulation are set. Finally, a step size is specified to store the results of the simulation at these time steps."
   ]
  },
  {
   "cell_type": "code",
   "execution_count": null,
   "metadata": {
    "execution": {
     "iopub.execute_input": "2022-10-22T13:17:05.306000Z",
     "iopub.status.busy": "2022-10-22T13:17:02.930000Z",
     "iopub.status.idle": "2022-10-22T13:17:06.057000Z",
     "shell.execute_reply": "2022-10-22T13:17:06.057000Z"
    },
    "scrolled": false
   },
   "outputs": [],
   "source": [
    "tStart = 0.0\n",
    "tStep = 0.1\n",
    "tStop = 8.0\n",
    "tSave = tStart:tStep:tStop"
   ]
  },
  {
   "cell_type": "markdown",
   "metadata": {},
   "source": [
    "### Simple FMU Simulation\n",
    "Next, the FMU model from *FMIZoo.jl* is loaded and the information about the FMU is shown."
   ]
  },
  {
   "cell_type": "code",
   "execution_count": null,
   "metadata": {
    "execution": {
     "iopub.execute_input": "2022-10-22T13:17:06.062000Z",
     "iopub.status.busy": "2022-10-22T13:17:06.061000Z",
     "iopub.status.idle": "2022-10-22T13:17:11.103000Z",
     "shell.execute_reply": "2022-10-22T13:17:11.103000Z"
    }
   },
   "outputs": [],
   "source": [
    "# we use an FMU from the FMIZoo.jl\n",
    "fmu = fmiLoad(\"SpringFrictionPendulum1D\", \"Dymola\", \"2022x\")\n",
    "fmiInfo(fmu)"
   ]
  },
  {
   "cell_type": "markdown",
   "metadata": {},
   "source": [
    "### Easy Simulation\n",
    "In the next commands the FMU is simulated, for which the start and end time and recorded variables are declared. Afterwards the simulation result is plotted. In the plot for the FMU, it can be seen that the oscillation keeps decreasing due to the effect of friction. If one simulates long enough, the oscillation comes to a standstill after a certain time."
   ]
  },
  {
   "cell_type": "code",
   "execution_count": null,
   "metadata": {
    "execution": {
     "iopub.execute_input": "2022-10-22T13:17:11.106000Z",
     "iopub.status.busy": "2022-10-22T13:17:11.106000Z",
     "iopub.status.idle": "2022-10-22T13:18:05.013000Z",
     "shell.execute_reply": "2022-10-22T13:18:05.013000Z"
    },
    "scrolled": false
   },
   "outputs": [],
   "source": [
    "simData = fmiSimulate(fmu, (tStart, tStop); recordValues=[\"mass.s\"], saveat=tSave)\n",
    "plot(simData)"
   ]
  },
  {
   "cell_type": "markdown",
   "metadata": {},
   "source": [
    "After plotting the data, the FMU is unloaded and all unpacked data on disc is removed."
   ]
  },
  {
   "cell_type": "code",
   "execution_count": null,
   "metadata": {
    "execution": {
     "iopub.execute_input": "2022-10-22T13:18:05.018000Z",
     "iopub.status.busy": "2022-10-22T13:18:05.018000Z",
     "iopub.status.idle": "2022-10-22T13:18:05.057000Z",
     "shell.execute_reply": "2022-10-22T13:18:05.057000Z"
    }
   },
   "outputs": [],
   "source": [
    "fmiUnload(fmu)"
   ]
  },
  {
   "cell_type": "markdown",
   "metadata": {},
   "source": [
    "### Custom Simulation\n",
    "\n",
    "In the following type of simulation a more advanced variant is presented, which allows intervening more in the simulation process. Analogous to the simple variant, an FMU model must be loaded."
   ]
  },
  {
   "cell_type": "code",
   "execution_count": null,
   "metadata": {
    "execution": {
     "iopub.execute_input": "2022-10-22T13:18:05.061000Z",
     "iopub.status.busy": "2022-10-22T13:18:05.060000Z",
     "iopub.status.idle": "2022-10-22T13:18:05.160000Z",
     "shell.execute_reply": "2022-10-22T13:18:05.160000Z"
    }
   },
   "outputs": [],
   "source": [
    "fmu = fmiLoad(pathToFMU)"
   ]
  },
  {
   "cell_type": "markdown",
   "metadata": {},
   "source": [
    "Next, it is necessary to create an instance of the FMU, this is achieved by the command `fmi2Instantiate!()`.  "
   ]
  },
  {
   "cell_type": "code",
   "execution_count": null,
   "metadata": {
    "execution": {
     "iopub.execute_input": "2022-10-22T13:18:05.163000Z",
     "iopub.status.busy": "2022-10-22T13:18:05.163000Z",
     "iopub.status.idle": "2022-10-22T13:18:05.510000Z",
     "shell.execute_reply": "2022-10-22T13:18:05.510000Z"
    }
   },
   "outputs": [],
   "source": [
    "instanceFMU = fmi2Instantiate!(fmu)"
   ]
  },
  {
   "cell_type": "markdown",
   "metadata": {},
   "source": [
    "In the following code block, start and end time for the simulation is set by the `fmi2SetupExperiment()` command. Next, the FMU is initialized by the calls of `fmi2EnterInitializationMode()` and `fmi2ExitInitializationMode()`. It would also be possible to set initial states, parameters or inputs at this place in code."
   ]
  },
  {
   "cell_type": "code",
   "execution_count": null,
   "metadata": {
    "execution": {
     "iopub.execute_input": "2022-10-22T13:18:05.514000Z",
     "iopub.status.busy": "2022-10-22T13:18:05.514000Z",
     "iopub.status.idle": "2022-10-22T13:18:05.780000Z",
     "shell.execute_reply": "2022-10-22T13:18:05.780000Z"
    }
   },
   "outputs": [],
   "source": [
    "fmi2SetupExperiment(instanceFMU, tStart, tStop)\n",
    "# set initial model states\n",
    "fmi2EnterInitializationMode(instanceFMU)\n",
    "# get initial model states\n",
    "fmi2ExitInitializationMode(instanceFMU)"
   ]
  },
  {
   "cell_type": "markdown",
   "metadata": {},
   "source": [
    "The actual simulation loop is shown in the following block. Here a simulation step `fmi2DoStep()` with the fixed step size `tStep` is executed. As indicated in the code by the comments, the input values and output values of the FMU could be changed in the simulation loop as desired, whereby the higher possibility of adjustments arises."
   ]
  },
  {
   "cell_type": "code",
   "execution_count": null,
   "metadata": {
    "execution": {
     "iopub.execute_input": "2022-10-22T13:18:05.785000Z",
     "iopub.status.busy": "2022-10-22T13:18:05.784000Z",
     "iopub.status.idle": "2022-10-22T13:18:05.818000Z",
     "shell.execute_reply": "2022-10-22T13:18:05.818000Z"
    }
   },
   "outputs": [],
   "source": [
    "values = []\n",
    "\n",
    "for t in tSave\n",
    "    # set model inputs if any\n",
    "    # ...\n",
    "\n",
    "    fmi2DoStep(instanceFMU, tStep)\n",
    "    \n",
    "    # get model outputs\n",
    "    value = fmi2GetReal(instanceFMU, \"mass.s\")\n",
    "    push!(values, value)\n",
    "end\n",
    "\n",
    "plot(tSave, values)"
   ]
  },
  {
   "cell_type": "markdown",
   "metadata": {},
   "source": [
    "The instantiated FMU must be terminated and then the memory area for the instance can also be deallocated. The last step is to unload the FMU to remove all unpacked data on disc. "
   ]
  },
  {
   "cell_type": "code",
   "execution_count": null,
   "metadata": {
    "execution": {
     "iopub.execute_input": "2022-10-22T13:18:05.822000Z",
     "iopub.status.busy": "2022-10-22T13:18:05.822000Z",
     "iopub.status.idle": "2022-10-22T13:18:05.833000Z",
     "shell.execute_reply": "2022-10-22T13:18:05.833000Z"
    }
   },
   "outputs": [],
   "source": [
    "fmi2Terminate(instanceFMU)\n",
    "fmi2FreeInstance!(instanceFMU)\n",
    "fmi2Unload(fmu)"
   ]
  },
  {
   "cell_type": "markdown",
   "metadata": {},
   "source": [
    "### Summary\n",
    "\n",
    "The tutorial has shown how to use the default simulation command and how to deploy a custom simulation loop."
   ]
  }
 ],
 "metadata": {
  "interpreter": {
   "hash": "037537ff7419c497b9325f7d495147943224d408cf5d5ed915294a5b960167b0"
  },
  "jupytext": {
   "cell_metadata_filter": "-all",
   "comment_magics": "false",
   "notebook_metadata_filter": "-all"
  },
  "kernelspec": {
   "display_name": "Julia 1.8.2",
   "language": "julia",
   "name": "julia-1.8"
  },
  "language_info": {
   "file_extension": ".jl",
   "mimetype": "application/julia",
   "name": "julia",
   "version": "1.8.2"
  },
  "nteract": {
   "version": "0.28.0"
  }
 },
 "nbformat": 4,
 "nbformat_minor": 2
}
