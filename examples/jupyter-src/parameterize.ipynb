{
 "cells": [
  {
   "cell_type": "markdown",
   "source": [
    "# Parameterize a FMU\n",
    "Tutorial by Tobias Thummerer, Johannes Stoljar\n",
    "\n",
    "Last update: 09.08.2023\n",
    "\n",
    "🚧 This tutorial is under revision and will be replaced by an up-to-date version soon 🚧\n",
    "\n",
    "## License"
   ],
   "metadata": {}
  },
  {
   "outputs": [],
   "cell_type": "code",
   "source": [
    "# Copyright (c) 2021 Tobias Thummerer, Lars Mikelsons, Josef Kircher, Johannes Stoljar\n",
    "# Licensed under the MIT license. \n",
    "# See LICENSE (https://github.com/thummeto/FMI.jl/blob/main/LICENSE) file in the project root for details."
   ],
   "metadata": {
    "execution": {
     "iopub.status.idle": "2025-02-11T15:33:26.179000Z",
     "iopub.status.busy": "2025-02-11T15:33:25.428000Z",
     "iopub.execute_input": "2025-02-11T15:33:25.882000Z",
     "shell.execute_reply": "2025-02-11T15:33:26.132000Z"
    }
   },
   "execution_count": 1
  },
  {
   "cell_type": "markdown",
   "source": [
    "## Introduction\n",
    "This example shows how to parameterize a FMU. We will show to possible ways to parameterize: The default option using the parameterization feature of `fmiSimulate`, `fmiSimulateME` or `fmiSimulateCS`. Second, a custom parameterization routine for advanced users. \n",
    "\n",
    "## Other formats\n",
    "Besides, this [Jupyter Notebook](https://github.com/thummeto/FMI.jl/blob/examples/examples/jupyter-src/parameterize.ipynb) there is also a [Julia file](https://github.com/thummeto/FMI.jl/blob/examples/examples/jupyter-src/parameterize.jl) with the same name, which contains only the code cells and for the documentation there is a [Markdown file](https://github.com/thummeto/FMI.jl/blob/examples/examples/jupyter-src/parameterize.md) corresponding to the notebook.  "
   ],
   "attachments": {},
   "metadata": {}
  },
  {
   "cell_type": "markdown",
   "source": [
    "## Code section\n",
    "\n",
    "To run the example, the previously installed packages must be included. "
   ],
   "metadata": {}
  },
  {
   "outputs": [],
   "cell_type": "code",
   "source": [
    "# imports\n",
    "using FMI\n",
    "using FMIZoo"
   ],
   "metadata": {
    "scrolled": false,
    "execution": {
     "iopub.status.idle": "2025-02-11T15:33:27.899000Z",
     "iopub.status.busy": "2025-02-11T15:33:26.179000Z",
     "iopub.execute_input": "2025-02-11T15:33:26.179000Z",
     "shell.execute_reply": "2025-02-11T15:33:27.899000Z"
    }
   },
   "execution_count": 2
  },
  {
   "cell_type": "markdown",
   "source": [
    "### Simulation setup\n",
    "\n",
    "Next, the start time and end time of the simulation are set."
   ],
   "metadata": {}
  },
  {
   "outputs": [
    {
     "output_type": "execute_result",
     "data": {
      "text/plain": [
       "2-element Vector{Float64}:\n",
       " 0.0\n",
       " 1.0"
      ]
     },
     "metadata": {},
     "execution_count": 3
    }
   ],
   "cell_type": "code",
   "source": [
    "tStart = 0.0\n",
    "tStop = 1.0\n",
    "tSave = collect(tStart:tStop)"
   ],
   "metadata": {
    "scrolled": false,
    "execution": {
     "iopub.status.idle": "2025-02-11T15:33:29.884000Z",
     "iopub.status.busy": "2025-02-11T15:33:27.899000Z",
     "iopub.execute_input": "2025-02-11T15:33:28.039000Z",
     "shell.execute_reply": "2025-02-11T15:33:29.884000Z"
    }
   },
   "execution_count": 3
  },
  {
   "cell_type": "markdown",
   "source": [
    "### Import FMU\n",
    "\n",
    "In the next lines of code the FMU model from *FMIZoo.jl* is loaded and the information about the FMU is shown."
   ],
   "metadata": {}
  },
  {
   "outputs": [
    {
     "name": "stdout",
     "output_type": "stream",
     "text": [
      "#################### Begin information for FMU ####################\n",
      "\tModel name:\t\t\tIO\n",
      "\tFMI-Version:\t\t\t2.0\n",
      "\tGUID:\t\t\t\t{889089a6-481b-41a6-a282-f6ce02a33aa6}\n",
      "\tGeneration tool:\t\tDymola Version 2022x (64-bit), 2021-10-08\n",
      "\tGeneration time:\t\t2022-05-19T06:53:52Z\n",
      "\tVar. naming conv.:\t\tstructured\n",
      "\tEvent indicators:\t\t4\n",
      "\tInputs:\t\t\t\t3\n"
     ]
    },
    {
     "name": "stdout",
     "output_type": "stream",
     "text": [
      "\t\t352321536 [\"u_real\"]\n",
      "\t\t352321537 [\"u_boolean\"]\n",
      "\t\t352321538 [\"u_integer\"]\n",
      "\tOutputs:\t\t\t3\n",
      "\t\t335544320 [\"y_real\"]\n",
      "\t\t335544321 [\"y_boolean\"]\n",
      "\t\t335544322 [\"y_integer\"]\n",
      "\tStates:\t\t\t\t0\n",
      "\tParameters:\t\t\t5\n",
      "\t\t16777216 [\"p_real\"]\n",
      "\t\t16777217 [\"p_integer\"]\n",
      "\t\t16777218 [\"p_boolean\"]\n",
      "\t\t16777219 [\"p_enumeration\"]\n",
      "\t\t134217728 [\"p_string\"]\n",
      "\tSupports Co-Simulation:\t\ttrue\n",
      "\t\tModel identifier:\tIO\n",
      "\t\tGet/Set State:\t\ttrue\n",
      "\t\tSerialize State:\ttrue\n",
      "\t\tDir. Derivatives:\ttrue\n",
      "\t\tVar. com. steps:\ttrue\n",
      "\t\tInput interpol.:\ttrue\n",
      "\t\tMax order out. der.:\t1\n",
      "\tSupports Model-Exchange:\ttrue\n",
      "\t\tModel identifier:\tIO\n",
      "\t\tGet/Set State:\t\ttrue\n",
      "\t\tSerialize State:\ttrue\n",
      "\t\tDir. Derivatives:\ttrue\n",
      "##################### End information for FMU #####################\n"
     ]
    }
   ],
   "cell_type": "code",
   "source": [
    "# we use an FMU from the FMIZoo.jl\n",
    "# just replace this line with a local path if you want to use your own FMU\n",
    "pathToFMU = get_model_filename(\"IO\", \"Dymola\", \"2022x\")\n",
    "\n",
    "fmu = loadFMU(pathToFMU)\n",
    "info(fmu)"
   ],
   "metadata": {
    "scrolled": false,
    "execution": {
     "iopub.status.idle": "2025-02-11T15:33:36.279000Z",
     "iopub.status.busy": "2025-02-11T15:33:29.915000Z",
     "iopub.execute_input": "2025-02-11T15:33:29.915000Z",
     "shell.execute_reply": "2025-02-11T15:33:36.279000Z"
    }
   },
   "execution_count": 4
  },
  {
   "cell_type": "markdown",
   "source": [
    "### Option A: Integrated parameterization feature of *FMI.jl*\n",
    "If you are using the commands for simulation integrated in *FMI.jl*, the parameters and initial conditions are set at the correct locations during the initialization process of your FMU. This is the recommended way of parameterizing your model, if you don't have very uncommon requirements regarding initialization."
   ],
   "metadata": {}
  },
  {
   "outputs": [
    {
     "output_type": "execute_result",
     "data": {
      "text/plain": [
       "Dict{String, Any}()"
      ]
     },
     "metadata": {},
     "execution_count": 5
    }
   ],
   "cell_type": "code",
   "source": [
    "dict = Dict{String, Any}()\n",
    "dict"
   ],
   "metadata": {
    "execution": {
     "iopub.status.idle": "2025-02-11T15:33:36.951000Z",
     "iopub.status.busy": "2025-02-11T15:33:36.279000Z",
     "iopub.execute_input": "2025-02-11T15:33:36.279000Z",
     "shell.execute_reply": "2025-02-11T15:33:36.951000Z"
    }
   },
   "execution_count": 5
  },
  {
   "cell_type": "markdown",
   "source": [
    "### Option B: Custom parameterization routine\n",
    "If you have special requirements for initialization and parameterization, you can write your very own parameterization routine.\n",
    "\n",
    "### Instantiate and Setup FMU\n",
    "\n",
    "Next it is necessary to create an instance of the FMU. This is achieved by the command `fmiInstantiate!()`."
   ],
   "metadata": {}
  },
  {
   "outputs": [
    {
     "output_type": "execute_result",
     "data": {
      "text/plain": [
       "FMU:            IO\n",
       "    InstanceName:   IO\n",
       "    Address:        Ptr{Nothing} @0x00000243979379f0\n",
       "    State:          0\n",
       "    Logging:        true\n",
       "    FMU time:       -Inf\n",
       "    FMU states:     nothing"
      ]
     },
     "metadata": {},
     "execution_count": 6
    }
   ],
   "cell_type": "code",
   "source": [
    "c = fmi2Instantiate!(fmu; loggingOn=true)"
   ],
   "metadata": {
    "execution": {
     "iopub.status.idle": "2025-02-11T15:33:37.951000Z",
     "iopub.status.busy": "2025-02-11T15:33:36.951000Z",
     "iopub.execute_input": "2025-02-11T15:33:36.951000Z",
     "shell.execute_reply": "2025-02-11T15:33:37.951000Z"
    }
   },
   "execution_count": 6
  },
  {
   "cell_type": "markdown",
   "source": [
    "In the following code block, start and end time for the simulation is set by the `fmiSetupExperiment()` command."
   ],
   "metadata": {}
  },
  {
   "outputs": [
    {
     "output_type": "execute_result",
     "data": {
      "text/plain": [
       "0x00000000"
      ]
     },
     "metadata": {},
     "execution_count": 7
    }
   ],
   "cell_type": "code",
   "source": [
    "fmi2SetupExperiment(c, tStart, tStop)"
   ],
   "metadata": {
    "execution": {
     "iopub.status.idle": "2025-02-11T15:33:38.123000Z",
     "iopub.status.busy": "2025-02-11T15:33:37.951000Z",
     "iopub.execute_input": "2025-02-11T15:33:37.951000Z",
     "shell.execute_reply": "2025-02-11T15:33:38.123000Z"
    }
   },
   "execution_count": 7
  },
  {
   "cell_type": "markdown",
   "source": [
    "### Parameterize FMU\n",
    "\n",
    "In this example, for each data type (`real`, `boolean`, `integer` and `string`) a corresponding input or parameter is selected. From here on, the inputs and parameters will be referred to as parameters for simplicity."
   ],
   "metadata": {}
  },
  {
   "outputs": [
    {
     "output_type": "execute_result",
     "data": {
      "text/plain": [
       "4-element Vector{String}:\n",
       " \"p_real\"\n",
       " \"p_boolean\"\n",
       " \"p_integer\"\n",
       " \"p_string\""
      ]
     },
     "metadata": {},
     "execution_count": 8
    }
   ],
   "cell_type": "code",
   "source": [
    "params = [\"p_real\", \"p_boolean\", \"p_integer\", \"p_string\"]"
   ],
   "metadata": {
    "execution": {
     "iopub.status.idle": "2025-02-11T15:33:38.514000Z",
     "iopub.status.busy": "2025-02-11T15:33:38.123000Z",
     "iopub.execute_input": "2025-02-11T15:33:38.123000Z",
     "shell.execute_reply": "2025-02-11T15:33:38.514000Z"
    }
   },
   "execution_count": 8
  },
  {
   "cell_type": "markdown",
   "source": [
    "At the beginning we want to display the initial state of these parameters, for which the FMU must be in initialization mode. The next function `fmiEnterInitializationMode()` informs the FMU to enter the initialization mode. Before calling this function, the variables can be set. Furthermore, `fmiSetupExperiment()` must be called at least once before calling `fmiEnterInitializationMode()`, in order that the start time is defined."
   ],
   "metadata": {}
  },
  {
   "outputs": [
    {
     "output_type": "execute_result",
     "data": {
      "text/plain": [
       "0x00000000"
      ]
     },
     "metadata": {},
     "execution_count": 9
    }
   ],
   "cell_type": "code",
   "source": [
    "fmi2EnterInitializationMode(c)"
   ],
   "metadata": {
    "scrolled": true,
    "execution": {
     "iopub.status.idle": "2025-02-11T15:33:38.545000Z",
     "iopub.status.busy": "2025-02-11T15:33:38.514000Z",
     "iopub.execute_input": "2025-02-11T15:33:38.514000Z",
     "shell.execute_reply": "2025-02-11T15:33:38.545000Z"
    }
   },
   "execution_count": 9
  },
  {
   "cell_type": "markdown",
   "source": [
    "The initial state of these parameters are displayed with the function `getValue()`."
   ],
   "metadata": {}
  },
  {
   "outputs": [
    {
     "output_type": "execute_result",
     "data": {
      "text/plain": [
       "4-element Vector{Any}:\n",
       " 0.0\n",
       " 0\n",
       " 0\n",
       "  \"Hello World!\""
      ]
     },
     "metadata": {},
     "execution_count": 10
    }
   ],
   "cell_type": "code",
   "source": [
    "getValue(c, params)"
   ],
   "metadata": {
    "execution": {
     "iopub.status.idle": "2025-02-11T15:33:39.264000Z",
     "iopub.status.busy": "2025-02-11T15:33:38.545000Z",
     "iopub.execute_input": "2025-02-11T15:33:38.545000Z",
     "shell.execute_reply": "2025-02-11T15:33:39.264000Z"
    }
   },
   "execution_count": 10
  },
  {
   "cell_type": "markdown",
   "source": [
    "The initialization mode is terminated with the function `fmi2ExitInitializationMode()`. (For the model exchange FMU type, this function switches off all initialization equations, and enters the event mode implicitly.)"
   ],
   "metadata": {}
  },
  {
   "outputs": [
    {
     "output_type": "execute_result",
     "data": {
      "text/plain": [
       "0x00000000"
      ]
     },
     "metadata": {},
     "execution_count": 11
    }
   ],
   "cell_type": "code",
   "source": [
    "fmi2ExitInitializationMode(c)"
   ],
   "metadata": {
    "execution": {
     "iopub.status.idle": "2025-02-11T15:33:39.296000Z",
     "iopub.status.busy": "2025-02-11T15:33:39.264000Z",
     "iopub.execute_input": "2025-02-11T15:33:39.264000Z",
     "shell.execute_reply": "2025-02-11T15:33:39.296000Z"
    }
   },
   "execution_count": 11
  },
  {
   "cell_type": "markdown",
   "source": [
    "In the next step, a function is defined that generates a random value for each parameter. For the parameter `p_string` a random number is inserted into the string. All parameters are combined to a tuple and output."
   ],
   "metadata": {}
  },
  {
   "outputs": [
    {
     "output_type": "execute_result",
     "data": {
      "text/plain": [
       "generateRandomNumbers (generic function with 1 method)"
      ]
     },
     "metadata": {},
     "execution_count": 12
    }
   ],
   "cell_type": "code",
   "source": [
    "function generateRandomNumbers()\n",
    "    rndReal = 100 * rand()\n",
    "    rndBoolean = rand() > 0.5\n",
    "    rndInteger = round(Integer, 100 * rand())\n",
    "    rndString = \"Random number $(100 * rand())!\"\n",
    "\n",
    "    return rndReal, rndBoolean, rndInteger, rndString\n",
    "end"
   ],
   "metadata": {
    "execution": {
     "iopub.status.idle": "2025-02-11T15:33:39.467000Z",
     "iopub.status.busy": "2025-02-11T15:33:39.296000Z",
     "iopub.execute_input": "2025-02-11T15:33:39.296000Z",
     "shell.execute_reply": "2025-02-11T15:33:39.467000Z"
    }
   },
   "execution_count": 12
  },
  {
   "cell_type": "markdown",
   "source": [
    "The previously defined function is called and the results are displayed in the console."
   ],
   "metadata": {}
  },
  {
   "outputs": [
    {
     "output_type": "execute_result",
     "data": {
      "text/plain": [
       "(13.551497772573107, false, 16, \"Random number 34.42338820567652!\")"
      ]
     },
     "metadata": {},
     "execution_count": 13
    }
   ],
   "cell_type": "code",
   "source": [
    "paramsVal = generateRandomNumbers()"
   ],
   "metadata": {
    "execution": {
     "iopub.status.idle": "2025-02-11T15:33:39.686000Z",
     "iopub.status.busy": "2025-02-11T15:33:39.467000Z",
     "iopub.execute_input": "2025-02-11T15:33:39.467000Z",
     "shell.execute_reply": "2025-02-11T15:33:39.686000Z"
    }
   },
   "execution_count": 13
  },
  {
   "cell_type": "markdown",
   "source": [
    "#### First variant\n",
    "\n",
    "To show the first variant, it is necessary to terminate and reset the FMU instance. Then, as before, the setup command must be called for the FMU. "
   ],
   "metadata": {}
  },
  {
   "outputs": [
    {
     "output_type": "execute_result",
     "data": {
      "text/plain": [
       "0x00000000"
      ]
     },
     "metadata": {},
     "execution_count": 14
    }
   ],
   "cell_type": "code",
   "source": [
    "fmi2Terminate(c)\n",
    "fmi2Reset(c)\n",
    "fmi2SetupExperiment(c, tStart, tStop)"
   ],
   "metadata": {
    "execution": {
     "iopub.status.idle": "2025-02-11T15:33:39.749000Z",
     "iopub.status.busy": "2025-02-11T15:33:39.686000Z",
     "iopub.execute_input": "2025-02-11T15:33:39.686000Z",
     "shell.execute_reply": "2025-02-11T15:33:39.749000Z"
    }
   },
   "execution_count": 14
  },
  {
   "cell_type": "markdown",
   "source": [
    "In the next step it is possible to set the parameters for the FMU. With the first variant it is quickly possible to set all parameters at once. Even different data types can be set with only one command. The command `setValue()` selects itself which function is chosen for which data type.  As long as the output of the function gives the status code 0, setting the parameters has worked."
   ],
   "metadata": {}
  },
  {
   "outputs": [
    {
     "output_type": "execute_result",
     "data": {
      "text/plain": [
       "4-element Vector{UInt32}:\n",
       " 0x00000000\n",
       " 0x00000000\n",
       " 0x00000000\n",
       " 0x00000000"
      ]
     },
     "metadata": {},
     "execution_count": 15
    }
   ],
   "cell_type": "code",
   "source": [
    "setValue(c, params, collect(paramsVal))"
   ],
   "metadata": {
    "execution": {
     "iopub.status.idle": "2025-02-11T15:33:40.530000Z",
     "iopub.status.busy": "2025-02-11T15:33:39.749000Z",
     "iopub.execute_input": "2025-02-11T15:33:39.749000Z",
     "shell.execute_reply": "2025-02-11T15:33:40.530000Z"
    }
   },
   "execution_count": 15
  },
  {
   "cell_type": "markdown",
   "source": [
    "After setting the parameters, it can be checked whether the corresponding parameters were set correctly. For this the function `getValue()` can be used as above. To be able to call the function `getValue()` the FMU must be in initialization mode."
   ],
   "metadata": {}
  },
  {
   "outputs": [
    {
     "output_type": "execute_result",
     "data": {
      "text/plain": [
       "0x00000000"
      ]
     },
     "metadata": {},
     "execution_count": 16
    }
   ],
   "cell_type": "code",
   "source": [
    "fmi2EnterInitializationMode(c)\n",
    "# getValue(c, params)\n",
    "fmi2ExitInitializationMode(c)"
   ],
   "metadata": {
    "execution": {
     "iopub.status.idle": "2025-02-11T15:33:40.546000Z",
     "iopub.status.busy": "2025-02-11T15:33:40.530000Z",
     "iopub.execute_input": "2025-02-11T15:33:40.530000Z",
     "shell.execute_reply": "2025-02-11T15:33:40.546000Z"
    }
   },
   "execution_count": 16
  },
  {
   "cell_type": "markdown",
   "source": [
    "Now the FMU has been initialized correctly, the FMU can be simulated. The `simulate()` command is used for this purpose. It must be pointed out that the keywords `instantiate=false`, `setup=false` must be set. The keyword `instantiate=false` prevents the simulation command from creating a new FMU instance, otherwise our parameterization will be lost. The keyword `setup=false` prevents the FMU from calling the initialization mode again. The additionally listed keyword `freeInstance=false` prevents that the instance is removed after the simulation. This is only needed in this example, because we want to continue working on the created instance. Another keyword is the `recordValues=parmas[1:3]`, which saves: `p_real`, `p_boolean` and `p_integer` as output. It should be noted that the `simulate()` function is not capable of outputting string values, so `p_string` is omitted."
   ],
   "metadata": {}
  },
  {
   "outputs": [
    {
     "output_type": "execute_result",
     "data": {
      "text/plain": [
       "Model name:\n",
       "\tIO\n",
       "Success:\n",
       "\ttrue\n",
       "f(x)-Evaluations:\n",
       "\tIn-place: 0\n",
       "\tOut-of-place: 0\n",
       "Jacobian-Evaluations:\n",
       "\t∂ẋ_∂p: 0\n",
       "\t∂ẋ_∂x: 0\n",
       "\t∂ẋ_∂u: 0\n",
       "\t∂y_∂p: 0\n",
       "\t∂y_∂x: 0\n",
       "\t∂y_∂u: 0\n",
       "\t∂e_∂p: 0\n",
       "\t∂e_∂x: 0\n",
       "\t∂e_∂u: 0\n",
       "\t∂xr_∂xl: 0\n",
       "Gradient-Evaluations:\n",
       "\t∂ẋ_∂t: 0\n",
       "\t∂y_∂t: 0\n",
       "\t∂e_∂t: 0\n",
       "Callback-Evaluations:\n",
       "\tCondition (event-indicators): 0\n",
       "\tTime-Choice (event-instances): 0\n",
       "\tAffect (event-handling): 0\n",
       "\tSave values: 0\n",
       "\tSteps completed: 0\n",
       "Values [2]:\n",
       "\t0.0\t(13.551497772573107, 0.0, 16.0)\n",
       "\t1.0\t(13.551497772573107, 0.0, 16.0)\n",
       "Events [0]:\n"
      ]
     },
     "metadata": {},
     "execution_count": 17
    }
   ],
   "cell_type": "code",
   "source": [
    "simData = simulate(c, (tStart, tStop); recordValues=params[1:3], saveat=tSave, \n",
    "                        instantiate=false, setup=false, freeInstance=false, terminate=false, reset=false)"
   ],
   "metadata": {
    "execution": {
     "iopub.status.idle": "2025-02-11T15:33:43.641000Z",
     "iopub.status.busy": "2025-02-11T15:33:40.546000Z",
     "iopub.execute_input": "2025-02-11T15:33:40.546000Z",
     "shell.execute_reply": "2025-02-11T15:33:43.641000Z"
    }
   },
   "execution_count": 17
  },
  {
   "cell_type": "markdown",
   "source": [
    "#### Second variant\n",
    "\n",
    "To show the second variant, it is necessary to terminate and reset the FMU instance. Then, as before, the setup command must be called for the FMU. "
   ],
   "metadata": {}
  },
  {
   "outputs": [
    {
     "output_type": "execute_result",
     "data": {
      "text/plain": [
       "0x00000000"
      ]
     },
     "metadata": {},
     "execution_count": 18
    }
   ],
   "cell_type": "code",
   "source": [
    "fmi2Terminate(c)\n",
    "fmi2Reset(c)\n",
    "fmi2SetupExperiment(c, tStart, tStop)"
   ],
   "metadata": {
    "execution": {
     "iopub.status.idle": "2025-02-11T15:33:43.641000Z",
     "iopub.status.busy": "2025-02-11T15:33:43.641000Z",
     "iopub.execute_input": "2025-02-11T15:33:43.641000Z",
     "shell.execute_reply": "2025-02-11T15:33:43.641000Z"
    }
   },
   "execution_count": 18
  },
  {
   "cell_type": "markdown",
   "source": [
    "To make sure that the functions work it is necessary to generate random numbers again. As shown already, we call the defined function `generateRandomNumbers()` and output the values."
   ],
   "metadata": {}
  },
  {
   "outputs": [
    {
     "output_type": "execute_result",
     "data": {
      "text/plain": [
       "(51.3912586357273, false, 88, \"Random number 35.88365345642421!\")"
      ]
     },
     "metadata": {},
     "execution_count": 19
    }
   ],
   "cell_type": "code",
   "source": [
    "rndReal, rndBoolean, rndInteger, rndString = generateRandomNumbers()"
   ],
   "metadata": {
    "execution": {
     "iopub.status.idle": "2025-02-11T15:33:43.656000Z",
     "iopub.status.busy": "2025-02-11T15:33:43.641000Z",
     "iopub.execute_input": "2025-02-11T15:33:43.641000Z",
     "shell.execute_reply": "2025-02-11T15:33:43.656000Z"
    }
   },
   "execution_count": 19
  },
  {
   "cell_type": "markdown",
   "source": [
    "In the second variant, the value for each data type is set separately by the corresponding command. By this variant one has the maximum control and can be sure that also the correct data type is set. "
   ],
   "metadata": {}
  },
  {
   "outputs": [
    {
     "output_type": "execute_result",
     "data": {
      "text/plain": [
       "0x00000000"
      ]
     },
     "metadata": {},
     "execution_count": 20
    }
   ],
   "cell_type": "code",
   "source": [
    "fmi2SetReal(c, \"p_real\", rndReal)\n",
    "fmi2SetBoolean(c, \"p_boolean\", rndBoolean)\n",
    "fmi2SetInteger(c, \"p_integer\", rndInteger)\n",
    "fmi2SetString(c, \"p_string\", rndString)"
   ],
   "metadata": {
    "execution": {
     "iopub.status.idle": "2025-02-11T15:33:43.735000Z",
     "iopub.status.busy": "2025-02-11T15:33:43.656000Z",
     "iopub.execute_input": "2025-02-11T15:33:43.656000Z",
     "shell.execute_reply": "2025-02-11T15:33:43.735000Z"
    }
   },
   "execution_count": 20
  },
  {
   "cell_type": "markdown",
   "source": [
    "To illustrate the functionality of the parameterization with the separate functions, the corresponding get function can be also called separately for each data type:\n",
    "* `fmi2SetReal()` &#8660; `fmi2GetReal()`\n",
    "* `fmi2SetBoolean()` &#8660; `fmi2GetBoolean()`\n",
    "* `fmi2SetInteger()` &#8660; `fmi2GetInteger()`\n",
    "* `fmi2SetString()` &#8660; `fmi2GetString()`.\n",
    "\n",
    "As before, the FMU must be in initialization mode."
   ],
   "metadata": {}
  },
  {
   "outputs": [
    {
     "output_type": "execute_result",
     "data": {
      "text/plain": [
       "0x00000000"
      ]
     },
     "metadata": {},
     "execution_count": 21
    }
   ],
   "cell_type": "code",
   "source": [
    "fmi2EnterInitializationMode(c)\n",
    "# fmi2GetReal(c, \"u_real\")\n",
    "# fmi2GetBoolean(c, \"u_boolean\")\n",
    "# fmi2GetInteger(c, \"u_integer\")\n",
    "# fmi2GetString(c, \"p_string\")\n",
    "fmi2ExitInitializationMode(c)"
   ],
   "metadata": {
    "execution": {
     "iopub.status.idle": "2025-02-11T15:33:43.735000Z",
     "iopub.status.busy": "2025-02-11T15:33:43.735000Z",
     "iopub.execute_input": "2025-02-11T15:33:43.735000Z",
     "shell.execute_reply": "2025-02-11T15:33:43.735000Z"
    }
   },
   "execution_count": 21
  },
  {
   "cell_type": "markdown",
   "source": [
    "From here on, you may want to simulate the FMU. Please note, that with the default `executionConfig`, it is necessary to prevent a new instantiation using the keyword `instantiate=false`. Otherwise, a new instance is allocated for the simulation-call and the parameters set for the previous instance are not transfered."
   ],
   "metadata": {}
  },
  {
   "outputs": [
    {
     "output_type": "execute_result",
     "data": {
      "text/plain": [
       "Model name:\n",
       "\tIO\n",
       "Success:\n",
       "\ttrue\n",
       "f(x)-Evaluations:\n",
       "\tIn-place: 0\n",
       "\tOut-of-place: 0\n",
       "Jacobian-Evaluations:\n",
       "\t∂ẋ_∂p: 0\n",
       "\t∂ẋ_∂x: 0\n",
       "\t∂ẋ_∂u: 0\n",
       "\t∂y_∂p: 0\n",
       "\t∂y_∂x: 0\n",
       "\t∂y_∂u: 0\n",
       "\t∂e_∂p: 0\n",
       "\t∂e_∂x: 0\n",
       "\t∂e_∂u: 0\n",
       "\t∂xr_∂xl: 0\n",
       "Gradient-Evaluations:\n",
       "\t∂ẋ_∂t: 0\n",
       "\t∂y_∂t: 0\n",
       "\t∂e_∂t: 0\n",
       "Callback-Evaluations:\n",
       "\tCondition (event-indicators): 0\n",
       "\tTime-Choice (event-instances): 0\n",
       "\tAffect (event-handling): 0\n",
       "\tSave values: 0\n",
       "\tSteps completed: 0\n",
       "Values [2]:\n",
       "\t0.0\t(51.3912586357273, 0.0, 88.0)\n",
       "\t1.0\t(51.3912586357273, 0.0, 88.0)\n",
       "Events [0]:\n"
      ]
     },
     "metadata": {},
     "execution_count": 22
    }
   ],
   "cell_type": "code",
   "source": [
    "simData = simulate(c, (tStart, tStop); recordValues=params[1:3], saveat=tSave, \n",
    "                        instantiate=false, setup=false)"
   ],
   "metadata": {
    "execution": {
     "iopub.status.idle": "2025-02-11T15:33:43.938000Z",
     "iopub.status.busy": "2025-02-11T15:33:43.735000Z",
     "iopub.execute_input": "2025-02-11T15:33:43.735000Z",
     "shell.execute_reply": "2025-02-11T15:33:43.938000Z"
    }
   },
   "execution_count": 22
  },
  {
   "cell_type": "markdown",
   "source": [
    "### Unload FMU\n",
    "\n",
    "The FMU will be unloaded and all unpacked data on disc will be removed."
   ],
   "metadata": {}
  },
  {
   "outputs": [],
   "cell_type": "code",
   "source": [
    "unloadFMU(fmu)"
   ],
   "metadata": {
    "execution": {
     "iopub.status.idle": "2025-02-11T15:33:44.219000Z",
     "iopub.status.busy": "2025-02-11T15:33:43.938000Z",
     "iopub.execute_input": "2025-02-11T15:33:43.938000Z",
     "shell.execute_reply": "2025-02-11T15:33:44.219000Z"
    }
   },
   "execution_count": 23
  },
  {
   "cell_type": "markdown",
   "source": [
    "### Summary\n",
    "\n",
    "Based on this tutorial it can be seen that there are two different variants to set and get parameters.These examples should make it clear to the user how parameters can also be set with different data types. As a small reminder, the sequence of commands for the manual parameterization of an FMU is summarized again. \n",
    "\n",
    "`loadFMU()` &#8594; `fmiInstantiate!()` &#8594; `fmiSetupExperiment()` &#8594; `fmiSetXXX()` &#8594; `fmiEnterInitializationMode()` &#8594; `fmiGetXXX()` &#8594; `fmiExitInitializationMode()` &#8594; `simualte()` &#8594; `unloadFMU()`"
   ],
   "metadata": {}
  }
 ],
 "nbformat_minor": 2,
 "metadata": {
  "language_info": {
   "file_extension": ".jl",
   "mimetype": "application/julia",
   "name": "julia",
   "version": "1.10.8"
  },
  "kernelspec": {
   "name": "julia-1.10",
   "display_name": "Julia 1.10.5",
   "language": "julia"
  },
  "nteract": {
   "version": "0.28.0"
  },
  "jupytext": {
   "comment_magics": "false",
   "cell_metadata_filter": "-all",
   "notebook_metadata_filter": "-all"
  },
  "interpreter": {
   "hash": "037537ff7419c497b9325f7d495147943224d408cf5d5ed915294a5b960167b0"
  }
 },
 "nbformat": 4
}
