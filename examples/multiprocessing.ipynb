{
 "cells": [
  {
   "cell_type": "markdown",
   "metadata": {},
   "source": [
    "# Multiprocessing\n",
    "Tutorial by Jonas Wilfert, Tobias Thummerer\n",
    "\n",
    "## License"
   ]
  },
  {
   "cell_type": "code",
   "execution_count": 1,
   "metadata": {
    "execution": {
     "iopub.execute_input": "2022-09-09T00:12:32.604000Z",
     "iopub.status.busy": "2022-09-09T00:12:31.877000Z",
     "iopub.status.idle": "2022-09-09T00:12:32.926000Z",
     "shell.execute_reply": "2022-09-09T00:12:32.831000Z"
    }
   },
   "outputs": [],
   "source": [
    "# Copyright (c) 2021 Tobias Thummerer, Lars Mikelsons, Josef Kircher, Johannes Stoljar, Jonas Wilfert\n",
    "# Licensed under the MIT license. \n",
    "# See LICENSE (https://github.com/thummeto/FMI.jl/blob/main/LICENSE) file in the project root for details."
   ]
  },
  {
   "cell_type": "markdown",
   "metadata": {},
   "source": [
    "## Motivation\n",
    "This Julia Package *FMI.jl* is motivated by the use of simulation models in Julia. Here the FMI specification is implemented. FMI (*Functional Mock-up Interface*) is a free standard ([fmi-standard.org](http://fmi-standard.org/)) that defines a container and an interface to exchange dynamic models using a combination of XML files, binaries and C code zipped into a single file. The user can thus use simulation models in the form of an FMU (*Functional Mock-up Units*). Besides loading the FMU, the user can also set values for parameters and states and simulate the FMU both as co-simulation and model exchange simulation.\n",
    "\n",
    "## Introduction to the example\n",
    "This example shows how to parallelize the computation of an FMU in FMI.jl. We can compute a batch of FMU-evaluations in parallel with different initial settings.\n",
    "Parallelization can be achieved using multithreading or using multiprocessing. This example shows **multiprocessing**, check `multithreading.ipynb` for multithreading.\n",
    "Advantage of multithreading is a lower communication overhead as well as lower RAM usage.\n",
    "However in some cases multiprocessing can be faster as the garbage collector is not shared.\n",
    "\n",
    "\n",
    "The model used is a one-dimensional spring pendulum with friction. The object-orientated structure of the *SpringFrictionPendulum1D* can be seen in the following graphic.\n",
    "\n",
    "![svg](https://github.com/thummeto/FMI.jl/blob/main/docs/src/examples/pics/SpringFrictionPendulum1D.svg?raw=true)  \n",
    "\n",
    "\n",
    "## Target group\n",
    "The example is primarily intended for users who work in the field of simulations. The example wants to show how simple it is to use FMUs in Julia.\n",
    "\n",
    "\n",
    "## Other formats\n",
    "Besides, this [Jupyter Notebook](https://github.com/thummeto/FMI.jl/blob/examples/examples/multiprocessing.ipynb) there is also a [Julia file](https://github.com/thummeto/FMI.jl/blob/examples/examples/multiprocessing.jl) with the same name, which contains only the code cells and for the documentation there is a [Markdown file](https://github.com/thummeto/FMI.jl/blob/examples/examples/multiprocessing.md) corresponding to the notebook.  \n",
    "\n",
    "\n",
    "## Getting started\n",
    "\n",
    "### Installation prerequisites\n",
    "|     | Description                       | Command                   | Alternative                                    |   \n",
    "|:----|:----------------------------------|:--------------------------|:-----------------------------------------------|\n",
    "| 1.  | Enter Package Manager via         | ]                         |                                                |\n",
    "| 2.  | Install FMI via                   | add FMI                   | add \" https://github.com/ThummeTo/FMI.jl \"     |\n",
    "| 3.  | Install FMIZoo via                | add FMIZoo                | add \" https://github.com/ThummeTo/FMIZoo.jl \"  |\n",
    "| 4.  | Install FMICore via               | add FMICore               | add \" https://github.com/ThummeTo/FMICore.jl \" |\n",
    "| 5.  | Install BenchmarkTools via        | add BenchmarkTools        |                                                |"
   ]
  },
  {
   "cell_type": "markdown",
   "metadata": {},
   "source": [
    "## Code section\n",
    "\n"
   ]
  },
  {
   "cell_type": "markdown",
   "metadata": {},
   "source": [
    "Adding your desired amount of processes:"
   ]
  },
  {
   "cell_type": "code",
   "execution_count": 2,
   "metadata": {
    "execution": {
     "iopub.execute_input": "2022-09-09T00:12:32.934000Z",
     "iopub.status.busy": "2022-09-09T00:12:32.933000Z",
     "iopub.status.idle": "2022-09-09T00:12:46.075000Z",
     "shell.execute_reply": "2022-09-09T00:12:46.075000Z"
    }
   },
   "outputs": [
    {
     "data": {
      "text/plain": [
       "4-element Vector{Int64}:\n",
       " 2\n",
       " 3\n",
       " 4\n",
       " 5"
      ]
     },
     "execution_count": 2,
     "metadata": {},
     "output_type": "execute_result"
    }
   ],
   "source": [
    "using Distributed\n",
    "n_procs = 2\n",
    "addprocs(n_procs; exeflags=`--project=$(Base.active_project()) --threads=auto`, restrict=false)"
   ]
  },
  {
   "cell_type": "markdown",
   "metadata": {},
   "source": [
    "To run the example, the previously installed packages must be included. "
   ]
  },
  {
   "cell_type": "code",
   "execution_count": 3,
   "metadata": {
    "execution": {
     "iopub.execute_input": "2022-09-09T00:12:46.152000Z",
     "iopub.status.busy": "2022-09-09T00:12:46.151000Z",
     "iopub.status.idle": "2022-09-09T00:14:19.604000Z",
     "shell.execute_reply": "2022-09-09T00:14:19.604000Z"
    }
   },
   "outputs": [],
   "source": [
    "# imports\n",
    "@everywhere using FMI\n",
    "@everywhere using FMIZoo\n",
    "@everywhere using BenchmarkTools"
   ]
  },
  {
   "cell_type": "markdown",
   "metadata": {},
   "source": [
    "Checking that we workers have been correctly initialized:"
   ]
  },
  {
   "cell_type": "code",
   "execution_count": 4,
   "metadata": {
    "execution": {
     "iopub.execute_input": "2022-09-09T00:14:20.142000Z",
     "iopub.status.busy": "2022-09-09T00:14:19.610000Z",
     "iopub.status.idle": "2022-09-09T00:14:20.336000Z",
     "shell.execute_reply": "2022-09-09T00:14:20.335000Z"
    }
   },
   "outputs": [
    {
     "name": "stdout",
     "output_type": "stream",
     "text": [
      "Hello World!\n",
      "      From worker 2:\tHello World!\n",
      "      From worker 4:\tHello World!\n",
      "      From worker 3:\tHello World!\n",
      "      From worker 5:\tHello World!\n"
     ]
    }
   ],
   "source": [
    "workers()\n",
    "\n",
    "@everywhere println(\"Hello World!\")\n",
    "\n",
    "# The following lines can be uncommented for more advanced informations about the subprocesses\n",
    "# @everywhere println(pwd())\n",
    "# @everywhere println(Base.active_project())\n",
    "# @everywhere println(gethostname())\n",
    "# @everywhere println(VERSION)\n",
    "# @everywhere println(Threads.nthreads())"
   ]
  },
  {
   "cell_type": "markdown",
   "metadata": {},
   "source": [
    "### Simulation setup\n",
    "\n",
    "Next, the batch size and input values are defined."
   ]
  },
  {
   "cell_type": "code",
   "execution_count": 5,
   "metadata": {
    "execution": {
     "iopub.execute_input": "2022-09-09T00:14:20.341000Z",
     "iopub.status.busy": "2022-09-09T00:14:20.341000Z",
     "iopub.status.idle": "2022-09-09T00:14:27.336000Z",
     "shell.execute_reply": "2022-09-09T00:14:27.336000Z"
    }
   },
   "outputs": [
    {
     "data": {
      "text/plain": [
       "16-element Vector{Vector{Float64}}:\n",
       " [0.4193286388064228, 0.990605039284254]\n",
       " [0.11322083716667741, 0.378893947064983]\n",
       " [0.11436217183957575, 0.286800597364387]\n",
       " [0.6069316527783803, 0.4799878104711084]\n",
       " [0.29129811730030286, 0.0020945549514921336]\n",
       " [0.7026788018414389, 0.10912707633030161]\n",
       " [0.8255745169448985, 0.8435267109426781]\n",
       " [0.0010197145834440757, 0.8227306075620926]\n",
       " [0.8708846878298915, 0.14567798387888153]\n",
       " [0.971098438037741, 0.37113388310930784]\n",
       " [0.5435913980234719, 0.5241797279931613]\n",
       " [0.6675315302096363, 0.5685115782327061]\n",
       " [0.9063688419095104, 0.03619045509459218]\n",
       " [0.4311956831176653, 0.02536467203037529]\n",
       " [0.0679727381315085, 0.9441851868422326]\n",
       " [0.5116400799114527, 0.13304680081505404]"
      ]
     },
     "execution_count": 5,
     "metadata": {},
     "output_type": "execute_result"
    }
   ],
   "source": [
    "\n",
    "# Best if batchSize is a multiple of the threads/cores\n",
    "batchSize = 16\n",
    "\n",
    "# Define an array of arrays randomly\n",
    "input_values = collect(collect.(eachrow(rand(batchSize,2))))"
   ]
  },
  {
   "cell_type": "markdown",
   "metadata": {},
   "source": [
    "### Shared Module\n",
    "For Distributed we need to embed the FMU into its own `module`. This prevents Distributed from trying to serialize and send the FMU over the network, as this can cause issues. This module needs to be made available on all processes using `@everywhere`."
   ]
  },
  {
   "cell_type": "code",
   "execution_count": 6,
   "metadata": {
    "execution": {
     "iopub.execute_input": "2022-09-09T00:14:27.344000Z",
     "iopub.status.busy": "2022-09-09T00:14:27.344000Z",
     "iopub.status.idle": "2022-09-09T00:14:38.336000Z",
     "shell.execute_reply": "2022-09-09T00:14:38.336000Z"
    }
   },
   "outputs": [
    {
     "name": "stderr",
     "output_type": "stream",
     "text": [
      "┌ Info: fmi2Unzip(...): Successfully unzipped 153 files at `C:\\Users\\JOHANN~1\\AppData\\Local\\Temp\\fmijl_v1yZtY\\SpringPendulum1D`.\n",
      "└ @ FMIImport C:\\Users\\Johannes Stoljar\\.julia\\packages\\FMIImport\\g4GUl\\src\\FMI2_ext.jl:76\n",
      "┌ Info: fmi2Load(...): FMU resources location is `file:///C:/Users/JOHANN~1/AppData/Local/Temp/fmijl_v1yZtY/SpringPendulum1D/resources`\n",
      "└ @ FMIImport C:\\Users\\Johannes Stoljar\\.julia\\packages\\FMIImport\\g4GUl\\src\\FMI2_ext.jl:192\n",
      "┌ Info: fmi2Load(...): FMU supports both CS and ME, using CS as default if nothing specified.\n",
      "└ @ FMIImport C:\\Users\\Johannes Stoljar\\.julia\\packages\\FMIImport\\g4GUl\\src\\FMI2_ext.jl:195\n",
      "\u001b[36m\u001b[1m[ \u001b[22m\u001b[39m\u001b[36m\u001b[1mInfo: \u001b[22m\u001b[39mfmi2Unzip(...): Successfully unzipped 153 files at `C:\\Users\\JOHANN~1\\AppData\\Local\\Temp\\fmijl_5TYKrH\\SpringPendulum1D`.\n",
      "\u001b[36m\u001b[1m[ \u001b[22m\u001b[39m\u001b[36m\u001b[1mInfo: \u001b[22m\u001b[39mfmi2Unzip(...): Successfully unzipped 153 files at `C:\\Users\\JOHANN~1\\AppData\\Local\\Temp\\fmijl_5SDLNd\\SpringPendulum1D`.\n",
      "\u001b[36m\u001b[1m[ \u001b[22m\u001b[39m\u001b[36m\u001b[1mInfo: \u001b[22m\u001b[39mfmi2Unzip(...): Successfully unzipped 153 files at `C:\\Users\\JOHANN~1\\AppData\\Local\\Temp\\fmijl_duPhid\\SpringPendulum1D`.\n",
      "\u001b[36m\u001b[1m[ \u001b[22m\u001b[39m\u001b[36m\u001b[1mInfo: \u001b[22m\u001b[39mfmi2Load(...): FMU resources location is `file:///C:/Users/JOHANN~1/AppData/Local/Temp/fmijl_5TYKrH/SpringPendulum1D/resources`\n",
      "\u001b[36m\u001b[1m[ \u001b[22m\u001b[39m\u001b[36m\u001b[1mInfo: \u001b[22m\u001b[39mfmi2Load(...): FMU supports both CS and ME, using CS as default if nothing specified.\n",
      "\u001b[36m\u001b[1m[ \u001b[22m\u001b[39m\u001b[36m\u001b[1mInfo: \u001b[22m\u001b[39mfmi2Load(...): FMU resources location is `file:///C:/Users/JOHANN~1/AppData/Local/Temp/fmijl_5SDLNd/SpringPendulum1D/resources`\n",
      "\u001b[36m\u001b[1m[ \u001b[22m\u001b[39m\u001b[36m\u001b[1mInfo: \u001b[22m\u001b[39mfmi2Load(...): FMU supports both CS and ME, using CS as default if nothing specified.\n",
      "\u001b[36m\u001b[1m[ \u001b[22m\u001b[39m\u001b[36m\u001b[1mInfo: \u001b[22m\u001b[39mfmi2Unzip(...): Successfully unzipped 153 files at `C:\\Users\\JOHANN~1\\AppData\\Local\\Temp\\fmijl_5ecGbn\\SpringPendulum1D`.\n",
      "\u001b[36m\u001b[1m[ \u001b[22m\u001b[39m\u001b[36m\u001b[1mInfo: \u001b[22m\u001b[39mfmi2Load(...): FMU resources location is `file:///C:/Users/JOHANN~1/AppData/Local/Temp/fmijl_duPhid/SpringPendulum1D/resources`\n",
      "\u001b[36m\u001b[1m[ \u001b[22m\u001b[39m\u001b[36m\u001b[1mInfo: \u001b[22m\u001b[39mfmi2Load(...): FMU supports both CS and ME, using CS as default if nothing specified.\n",
      "\u001b[36m\u001b[1m[ \u001b[22m\u001b[39m\u001b[36m\u001b[1mInfo: \u001b[22m\u001b[39mfmi2Load(...): FMU resources location is `file:///C:/Users/JOHANN~1/AppData/Local/Temp/fmijl_5ecGbn/SpringPendulum1D/resources`\n",
      "\u001b[36m\u001b[1m[ \u001b[22m\u001b[39m\u001b[36m\u001b[1mInfo: \u001b[22m\u001b[39mfmi2Load(...): FMU supports both CS and ME, using CS as default if nothing specified.\n"
     ]
    }
   ],
   "source": [
    "@everywhere module SharedModule\n",
    "    using FMIZoo\n",
    "    using FMI\n",
    "\n",
    "    t_start = 0.0\n",
    "    t_step = 0.1\n",
    "    t_stop = 10.0\n",
    "    tspan = (t_start, t_stop)\n",
    "    tData = collect(t_start:t_step:t_stop)\n",
    "\n",
    "    model_fmu = FMIZoo.fmiLoad(\"SpringPendulum1D\", \"Dymola\", \"2022x\")\n",
    "end"
   ]
  },
  {
   "cell_type": "markdown",
   "metadata": {},
   "source": [
    "We define a helper function to calculate the FMU and combine it into an Matrix."
   ]
  },
  {
   "cell_type": "code",
   "execution_count": 7,
   "metadata": {
    "execution": {
     "iopub.execute_input": "2022-09-09T00:14:38.342000Z",
     "iopub.status.busy": "2022-09-09T00:14:38.342000Z",
     "iopub.status.idle": "2022-09-09T00:14:38.426000Z",
     "shell.execute_reply": "2022-09-09T00:14:38.426000Z"
    }
   },
   "outputs": [],
   "source": [
    "@everywhere function runCalcFormatted(fmu, x0, recordValues=[\"mass.s\", \"mass.v\"])\n",
    "    data = fmiSimulateME(fmu, SharedModule.t_start, SharedModule.t_stop; recordValues=recordValues, saveat=SharedModule.tData, x0=x0, showProgress=false, dtmax=1e-4)\n",
    "    return reduce(hcat, data.states.u)\n",
    "end"
   ]
  },
  {
   "cell_type": "markdown",
   "metadata": {},
   "source": [
    "Running a single evaluation is pretty quick, therefore the speed can be better tested with BenchmarkTools."
   ]
  },
  {
   "cell_type": "code",
   "execution_count": 8,
   "metadata": {
    "execution": {
     "iopub.execute_input": "2022-09-09T00:14:38.432000Z",
     "iopub.status.busy": "2022-09-09T00:14:38.432000Z",
     "iopub.status.idle": "2022-09-09T00:16:02.297000Z",
     "shell.execute_reply": "2022-09-09T00:16:02.297000Z"
    }
   },
   "outputs": [
    {
     "data": {
      "text/plain": [
       "BenchmarkTools.Trial: 2 samples with 1 evaluation.\n",
       " Range \u001b[90m(\u001b[39m\u001b[36m\u001b[1mmin\u001b[22m\u001b[39m … \u001b[35mmax\u001b[39m\u001b[90m):  \u001b[39m\u001b[36m\u001b[1m3.178 s\u001b[22m\u001b[39m … \u001b[35m   4.199 s\u001b[39m  \u001b[90m┊\u001b[39m GC \u001b[90m(\u001b[39mmin … max\u001b[90m): \u001b[39m2.00% … 1.62%\n",
       " Time  \u001b[90m(\u001b[39m\u001b[34m\u001b[1mmedian\u001b[22m\u001b[39m\u001b[90m):     \u001b[39m\u001b[34m\u001b[1m3.688 s               \u001b[22m\u001b[39m\u001b[90m┊\u001b[39m GC \u001b[90m(\u001b[39mmedian\u001b[90m):    \u001b[39m1.79%\n",
       " Time  \u001b[90m(\u001b[39m\u001b[32m\u001b[1mmean\u001b[22m\u001b[39m ± \u001b[32mσ\u001b[39m\u001b[90m):   \u001b[39m\u001b[32m\u001b[1m3.688 s\u001b[22m\u001b[39m ± \u001b[32m722.463 ms\u001b[39m  \u001b[90m┊\u001b[39m GC \u001b[90m(\u001b[39mmean ± σ\u001b[90m):  \u001b[39m1.79% ± 0.27%\n",
       "\n",
       "  \u001b[34m█\u001b[39m\u001b[39m \u001b[39m \u001b[39m \u001b[39m \u001b[39m \u001b[39m \u001b[39m \u001b[39m \u001b[39m \u001b[39m \u001b[39m \u001b[39m \u001b[39m \u001b[39m \u001b[39m \u001b[39m \u001b[39m \u001b[39m \u001b[39m \u001b[39m \u001b[39m \u001b[39m \u001b[39m \u001b[39m \u001b[39m \u001b[39m \u001b[39m \u001b[39m \u001b[32m \u001b[39m\u001b[39m \u001b[39m \u001b[39m \u001b[39m \u001b[39m \u001b[39m \u001b[39m \u001b[39m \u001b[39m \u001b[39m \u001b[39m \u001b[39m \u001b[39m \u001b[39m \u001b[39m \u001b[39m \u001b[39m \u001b[39m \u001b[39m \u001b[39m \u001b[39m \u001b[39m \u001b[39m \u001b[39m \u001b[39m \u001b[39m \u001b[39m \u001b[39m█\u001b[39m \u001b[39m \n",
       "  \u001b[34m█\u001b[39m\u001b[39m▁\u001b[39m▁\u001b[39m▁\u001b[39m▁\u001b[39m▁\u001b[39m▁\u001b[39m▁\u001b[39m▁\u001b[39m▁\u001b[39m▁\u001b[39m▁\u001b[39m▁\u001b[39m▁\u001b[39m▁\u001b[39m▁\u001b[39m▁\u001b[39m▁\u001b[39m▁\u001b[39m▁\u001b[39m▁\u001b[39m▁\u001b[39m▁\u001b[39m▁\u001b[39m▁\u001b[39m▁\u001b[39m▁\u001b[39m▁\u001b[39m▁\u001b[32m▁\u001b[39m\u001b[39m▁\u001b[39m▁\u001b[39m▁\u001b[39m▁\u001b[39m▁\u001b[39m▁\u001b[39m▁\u001b[39m▁\u001b[39m▁\u001b[39m▁\u001b[39m▁\u001b[39m▁\u001b[39m▁\u001b[39m▁\u001b[39m▁\u001b[39m▁\u001b[39m▁\u001b[39m▁\u001b[39m▁\u001b[39m▁\u001b[39m▁\u001b[39m▁\u001b[39m▁\u001b[39m▁\u001b[39m▁\u001b[39m▁\u001b[39m▁\u001b[39m█\u001b[39m \u001b[39m▁\n",
       "  3.18 s\u001b[90m         Histogram: frequency by time\u001b[39m          4.2 s \u001b[0m\u001b[1m<\u001b[22m\n",
       "\n",
       " Memory estimate\u001b[90m: \u001b[39m\u001b[33m403.19 MiB\u001b[39m, allocs estimate\u001b[90m: \u001b[39m\u001b[33m7202936\u001b[39m."
      ]
     },
     "execution_count": 8,
     "metadata": {},
     "output_type": "execute_result"
    }
   ],
   "source": [
    "@benchmark data = runCalcFormatted(SharedModule.model_fmu, rand(2))"
   ]
  },
  {
   "cell_type": "markdown",
   "metadata": {},
   "source": [
    "### Single Threaded Batch Execution\n",
    "To compute a batch we can collect multiple evaluations. In a single threaded context we can use the same FMU for every call."
   ]
  },
  {
   "cell_type": "code",
   "execution_count": 9,
   "metadata": {
    "execution": {
     "iopub.execute_input": "2022-09-09T00:16:02.304000Z",
     "iopub.status.busy": "2022-09-09T00:16:02.304000Z",
     "iopub.status.idle": "2022-09-09T00:20:07.485000Z",
     "shell.execute_reply": "2022-09-09T00:20:07.485000Z"
    }
   },
   "outputs": [
    {
     "name": "stdout",
     "output_type": "stream",
     "text": [
      "Single Threaded\n"
     ]
    },
    {
     "data": {
      "text/plain": [
       "BenchmarkTools.Trial: 1 sample with 1 evaluation.\n",
       " Single result which took \u001b[34m57.289 s\u001b[39m (2.17% GC) to evaluate,\n",
       " with a memory estimate of \u001b[33m6.30 GiB\u001b[39m, over \u001b[33m115246964\u001b[39m allocations."
      ]
     },
     "execution_count": 9,
     "metadata": {},
     "output_type": "execute_result"
    }
   ],
   "source": [
    "println(\"Single Threaded\")\n",
    "@benchmark collect(runCalcFormatted(SharedModule.model_fmu, i) for i in input_values)"
   ]
  },
  {
   "cell_type": "markdown",
   "metadata": {},
   "source": [
    "### Multithreaded Batch Execution\n",
    "In a multithreaded context we have to provide each thread it's own fmu, as they are not thread safe.\n",
    "To spread the execution of a function to multiple processes, the function `pmap` can be used."
   ]
  },
  {
   "cell_type": "code",
   "execution_count": 10,
   "metadata": {
    "execution": {
     "iopub.execute_input": "2022-09-09T00:20:07.493000Z",
     "iopub.status.busy": "2022-09-09T00:20:07.492000Z",
     "iopub.status.idle": "2022-09-09T00:22:39.821000Z",
     "shell.execute_reply": "2022-09-09T00:22:39.821000Z"
    }
   },
   "outputs": [
    {
     "name": "stdout",
     "output_type": "stream",
     "text": [
      "Multi Threaded\n"
     ]
    },
    {
     "data": {
      "text/plain": [
       "BenchmarkTools.Trial: 1 sample with 1 evaluation.\n",
       " Single result which took \u001b[34m22.384 s\u001b[39m (0.00% GC) to evaluate,\n",
       " with a memory estimate of \u001b[33m97.30 KiB\u001b[39m, over \u001b[33m1730\u001b[39m allocations."
      ]
     },
     "execution_count": 10,
     "metadata": {},
     "output_type": "execute_result"
    }
   ],
   "source": [
    "println(\"Multi Threaded\")\n",
    "@benchmark pmap(i -> runCalcFormatted(SharedModule.model_fmu, i), input_values)"
   ]
  },
  {
   "cell_type": "markdown",
   "metadata": {},
   "source": [
    "As you can see, there is a significant speed-up in the median execution time. But: The speed-up is often much smaller than `n_procs` (or the number of physical cores of your CPU), this has different reasons. For a rule of thumb, the speed-up should be around `n/2` on a `n`-core-processor with `n` Julia processes."
   ]
  },
  {
   "cell_type": "markdown",
   "metadata": {},
   "source": [
    "### Unload FMU\n",
    "\n",
    "After calculating the data, the FMU is unloaded and all unpacked data on disc is removed."
   ]
  },
  {
   "cell_type": "code",
   "execution_count": 11,
   "metadata": {
    "execution": {
     "iopub.execute_input": "2022-09-09T00:22:39.830000Z",
     "iopub.status.busy": "2022-09-09T00:22:39.829000Z",
     "iopub.status.idle": "2022-09-09T00:22:40.139000Z",
     "shell.execute_reply": "2022-09-09T00:22:40.139000Z"
    }
   },
   "outputs": [],
   "source": [
    "@everywhere fmiUnload(SharedModule.model_fmu)"
   ]
  },
  {
   "cell_type": "markdown",
   "metadata": {},
   "source": [
    "### Summary\n",
    "\n",
    "In this tutorial it is shown how multi processing with `Distributed.jl` can be used to improve the performance for calculating a Batch of FMUs."
   ]
  }
 ],
 "metadata": {
  "kernelspec": {
   "display_name": "Julia 1.6.6",
   "language": "julia",
   "name": "julia-1.6"
  },
  "language_info": {
   "file_extension": ".jl",
   "mimetype": "application/julia",
   "name": "julia",
   "version": "1.6.6"
  }
 },
 "nbformat": 4,
 "nbformat_minor": 2
}
