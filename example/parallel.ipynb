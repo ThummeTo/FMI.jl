{
 "cells": [
  {
   "cell_type": "markdown",
   "metadata": {},
   "source": [
    "# Manipulate a function\n",
    "Tutorial by Jonas Wilfert, Tobias Thummerer\n",
    "\n",
    "## License\n",
    "Copyright (c) 2021 Tobias Thummerer, Lars Mikelsons, Josef Kircher, Johannes Stoljar, Jonas Wilfert\n",
    "\n",
    "Licensed under the MIT license. See [LICENSE](https://github.com/thummeto/FMI.jl/blob/main/LICENSE) file in the project root for details.\n",
    "\n",
    "## Motivation\n",
    "This Julia Package *FMI.jl* is motivated by the use of simulation models in Julia. Here the FMI specification is implemented. FMI (*Functional Mock-up Interface*) is a free standard ([fmi-standard.org](http://fmi-standard.org/)) that defines a container and an interface to exchange dynamic models using a combination of XML files, binaries and C code zipped into a single file. The user can thus use simulation models in the form of an FMU (*Functional Mock-up Units*). Besides loading the FMU, the user can also set values for parameters and states and simulate the FMU both as co-simulation and model exchange simulation.\n",
    "\n",
    "## Introduction to the example\n",
    "This example shows how to parallelize the computation of an FMU in FMI.jl. We can compute a batch of FMU-evaluations in parallel with different initial settings.\n",
    "Parallelization can be achieved using multithreading or using multiprocessing. This example shows **multithreading**, check `distributed.ipynb` for multiprocessing.\n",
    "Advantage of multithreading is a lower communication overhead as well as lower RAM usage.\n",
    "However in some cases multiprocessing can be faster as the garbage collector is not shared.\n",
    "\n",
    "\n",
    "The model used is a one-dimensional spring pendulum with friction. The object-orientated structure of the *SpringFrictionPendulum1D* can be seen in the following graphic.\n",
    "\n",
    "![svg](https://github.com/thummeto/FMI.jl/blob/main/docs/src/examples/pics/SpringFrictionPendulum1D.svg?raw=true)  \n",
    "\n",
    "\n",
    "## Target group\n",
    "The example is primarily intended for users who work in the field of simulations. The example wants to show how simple it is to use FMUs in Julia.\n",
    "\n",
    "\n",
    "## Other formats\n",
    "Besides, this [Jupyter Notebook](https://github.com/thummeto/FMI.jl/blob/main/example/parallel.ipynb) there is also a [Julia file](https://github.com/thummeto/FMI.jl/blob/main/example/parallel.jl) with the same name, which contains only the code cells and for the documentation there is a [Markdown file](https://github.com/thummeto/FMI.jl/blob/main/docs/src/examples/parallel.md) corresponding to the notebook.  \n",
    "\n",
    "\n",
    "## Getting started\n",
    "\n",
    "### Installation prerequisites\n",
    "|     | Description                       | Command                   | Alternative                                    |   \n",
    "|:----|:----------------------------------|:--------------------------|:-----------------------------------------------|\n",
    "| 1.  | Enter Package Manager via         | ]                         |                                                |\n",
    "| 2.  | Install FMI via                   | add FMI                   | add \" https://github.com/ThummeTo/FMI.jl \"     |\n",
    "| 3.  | Install FMIZoo via                | add FMIZoo                | add \" https://github.com/ThummeTo/FMIZoo.jl \"  |\n",
    "| 4.  | Install FMICore via               | add FMICore               | add \" https://github.com/ThummeTo/FMICore.jl \" |\n",
    "| 5.  | Install Folds via                 | add Folds                 |                                                |\n",
    "| 6.  | Install BenchmarkTools via        | add BenchmarkTools        |                                                |"
   ]
  },
  {
   "cell_type": "markdown",
   "metadata": {},
   "source": [
    "## Code section\n",
    "\n",
    "To run the example, the previously installed packages must be included. "
   ]
  },
  {
   "cell_type": "code",
   "execution_count": 1,
   "metadata": {
    "execution": {
     "iopub.execute_input": "2022-06-09T16:22:10.852000Z",
     "iopub.status.busy": "2022-06-09T16:22:10.162000Z",
     "iopub.status.idle": "2022-06-09T16:22:25.632000Z",
     "shell.execute_reply": "2022-06-09T16:22:25.559000Z"
    }
   },
   "outputs": [],
   "source": [
    "# imports\n",
    "using FMI\n",
    "using FMIZoo\n",
    "using Folds\n",
    "using BenchmarkTools"
   ]
  },
  {
   "cell_type": "markdown",
   "metadata": {},
   "source": [
    "Checking the amount of threads:"
   ]
  },
  {
   "cell_type": "code",
   "execution_count": 2,
   "metadata": {
    "execution": {
     "iopub.execute_input": "2022-06-09T16:22:25.829000Z",
     "iopub.status.busy": "2022-06-09T16:22:25.635000Z",
     "iopub.status.idle": "2022-06-09T16:22:26.491000Z",
     "shell.execute_reply": "2022-06-09T16:22:26.491000Z"
    }
   },
   "outputs": [
    {
     "data": {
      "text/plain": [
       "1"
      ]
     },
     "execution_count": 2,
     "metadata": {},
     "output_type": "execute_result"
    }
   ],
   "source": [
    "Threads.nthreads()"
   ]
  },
  {
   "cell_type": "markdown",
   "metadata": {},
   "source": [
    "### Simulation setup\n",
    "\n",
    "Next, the start time and end time of the simulation are set. Here we also decide the size of the batch."
   ]
  },
  {
   "cell_type": "code",
   "execution_count": 3,
   "metadata": {
    "execution": {
     "iopub.execute_input": "2022-06-09T16:22:26.494000Z",
     "iopub.status.busy": "2022-06-09T16:22:26.494000Z",
     "iopub.status.idle": "2022-06-09T16:22:30.287000Z",
     "shell.execute_reply": "2022-06-09T16:22:30.287000Z"
    }
   },
   "outputs": [
    {
     "data": {
      "text/plain": [
       "16-element Vector{Vector{Float64}}:\n",
       " [0.7629844945301301, 0.3537198584927763]\n",
       " [0.4664106037618314, 0.4523486687565046]\n",
       " [0.0523533214734031, 0.9896556002676622]\n",
       " [0.9986690786055015, 0.9644758352412715]\n",
       " [0.20487381010138317, 0.7355642361985026]\n",
       " [0.3168523873602296, 0.3766700340248357]\n",
       " [0.26916336433610155, 0.7808085720860316]\n",
       " [0.9815989075932303, 0.4627220637302396]\n",
       " [0.6526009420034311, 0.8457886921949676]\n",
       " [0.6858930145471303, 0.024883478950249227]\n",
       " [0.02813925278418239, 0.5537248366875844]\n",
       " [0.9818660410253524, 0.6690071633660948]\n",
       " [0.7479314446641203, 0.8900059621781162]\n",
       " [0.290489198784079, 0.5288057278088896]\n",
       " [0.8171770300422248, 0.17394398355924556]\n",
       " [0.15129906880193134, 0.7782623879994741]"
      ]
     },
     "execution_count": 3,
     "metadata": {},
     "output_type": "execute_result"
    }
   ],
   "source": [
    "t_start = 0.0\n",
    "t_step = 0.1\n",
    "t_stop = 10.0\n",
    "tspan = (t_start, t_stop)\n",
    "tData = collect(t_start:t_step:t_stop)\n",
    "\n",
    "# Best if batchSize is a multiple of the threads/cores\n",
    "batchSize = 16\n",
    "\n",
    "# Define an array of arrays randomly\n",
    "input_values = collect(collect.(eachrow(rand(batchSize,2))))\n"
   ]
  },
  {
   "cell_type": "markdown",
   "metadata": {},
   "source": [
    "We need to instantiate one FMU for each parallel execution, as they cannot share state."
   ]
  },
  {
   "cell_type": "code",
   "execution_count": 4,
   "metadata": {
    "execution": {
     "iopub.execute_input": "2022-06-09T16:22:30.291000Z",
     "iopub.status.busy": "2022-06-09T16:22:30.291000Z",
     "iopub.status.idle": "2022-06-09T16:22:37.541000Z",
     "shell.execute_reply": "2022-06-09T16:22:37.541000Z"
    }
   },
   "outputs": [
    {
     "name": "stderr",
     "output_type": "stream",
     "text": [
      "┌ Info: fmi2Unzip(...): Successfully unzipped 153 files at `/tmp/fmijl_AWoaxU/SpringPendulum1D`.\n",
      "└ @ FMIImport /home/runner/.julia/packages/FMIImport/DJ6oi/src/FMI2_ext.jl:75\n",
      "┌ Info: fmi2Load(...): FMU resources location is `file:////tmp/fmijl_AWoaxU/SpringPendulum1D/resources`\n",
      "└ @ FMIImport /home/runner/.julia/packages/FMIImport/DJ6oi/src/FMI2_ext.jl:190\n",
      "┌ Info: fmi2Load(...): FMU supports both CS and ME, using CS as default if nothing specified.\n",
      "└ @ FMIImport /home/runner/.julia/packages/FMIImport/DJ6oi/src/FMI2_ext.jl:193\n",
      "┌ Info: fmi2Unzip(...): Successfully unzipped 153 files at `/tmp/fmijl_MwSzGT/SpringPendulum1D`.\n",
      "└ @ FMIImport /home/runner/.julia/packages/FMIImport/DJ6oi/src/FMI2_ext.jl:75\n",
      "┌ Info: fmi2Load(...): FMU resources location is `file:////tmp/fmijl_MwSzGT/SpringPendulum1D/resources`\n",
      "└ @ FMIImport /home/runner/.julia/packages/FMIImport/DJ6oi/src/FMI2_ext.jl:190\n",
      "┌ Info: fmi2Load(...): FMU supports both CS and ME, using CS as default if nothing specified.\n",
      "└ @ FMIImport /home/runner/.julia/packages/FMIImport/DJ6oi/src/FMI2_ext.jl:193\n",
      "┌ Info: fmi2Unzip(...): Successfully unzipped 153 files at `/tmp/fmijl_uPsa3U/SpringPendulum1D`.\n",
      "└ @ FMIImport /home/runner/.julia/packages/FMIImport/DJ6oi/src/FMI2_ext.jl:75\n",
      "┌ Info: fmi2Load(...): FMU resources location is `file:////tmp/fmijl_uPsa3U/SpringPendulum1D/resources`\n",
      "└ @ FMIImport /home/runner/.julia/packages/FMIImport/DJ6oi/src/FMI2_ext.jl:190\n",
      "┌ Info: fmi2Load(...): FMU supports both CS and ME, using CS as default if nothing specified.\n",
      "└ @ FMIImport /home/runner/.julia/packages/FMIImport/DJ6oi/src/FMI2_ext.jl:193\n",
      "┌ Info: fmi2Unzip(...): Successfully unzipped 153 files at `/tmp/fmijl_AsC5yU/SpringPendulum1D`.\n",
      "└ @ FMIImport /home/runner/.julia/packages/FMIImport/DJ6oi/src/FMI2_ext.jl:75\n",
      "┌ Info: fmi2Load(...): FMU resources location is `file:////tmp/fmijl_AsC5yU/SpringPendulum1D/resources`\n",
      "└ @ FMIImport /home/runner/.julia/packages/FMIImport/DJ6oi/src/FMI2_ext.jl:190\n",
      "┌ Info: fmi2Load(...): FMU supports both CS and ME, using CS as default if nothing specified.\n",
      "└ @ FMIImport /home/runner/.julia/packages/FMIImport/DJ6oi/src/FMI2_ext.jl:193\n",
      "┌ Info: fmi2Unzip(...): Successfully unzipped 153 files at `/tmp/fmijl_bPPCxW/SpringPendulum1D`.\n",
      "└ @ FMIImport /home/runner/.julia/packages/FMIImport/DJ6oi/src/FMI2_ext.jl:75\n",
      "┌ Info: fmi2Load(...): FMU resources location is `file:////tmp/fmijl_bPPCxW/SpringPendulum1D/resources`\n",
      "└ @ FMIImport /home/runner/.julia/packages/FMIImport/DJ6oi/src/FMI2_ext.jl:190\n",
      "┌ Info: fmi2Load(...): FMU supports both CS and ME, using CS as default if nothing specified.\n",
      "└ @ FMIImport /home/runner/.julia/packages/FMIImport/DJ6oi/src/FMI2_ext.jl:193\n",
      "┌ Info: fmi2Unzip(...): Successfully unzipped 153 files at `/tmp/fmijl_vvaMhW/SpringPendulum1D`.\n",
      "└ @ FMIImport /home/runner/.julia/packages/FMIImport/DJ6oi/src/FMI2_ext.jl:75\n",
      "┌ Info: fmi2Load(...): FMU resources location is `file:////tmp/fmijl_vvaMhW/SpringPendulum1D/resources`\n",
      "└ @ FMIImport /home/runner/.julia/packages/FMIImport/DJ6oi/src/FMI2_ext.jl:190\n",
      "┌ Info: fmi2Load(...): FMU supports both CS and ME, using CS as default if nothing specified.\n",
      "└ @ FMIImport /home/runner/.julia/packages/FMIImport/DJ6oi/src/FMI2_ext.jl:193\n",
      "┌ Info: fmi2Unzip(...): Successfully unzipped 153 files at `/tmp/fmijl_RJ3bEU/SpringPendulum1D`.\n",
      "└ @ FMIImport /home/runner/.julia/packages/FMIImport/DJ6oi/src/FMI2_ext.jl:75\n",
      "┌ Info: fmi2Load(...): FMU resources location is `file:////tmp/fmijl_RJ3bEU/SpringPendulum1D/resources`\n",
      "└ @ FMIImport /home/runner/.julia/packages/FMIImport/DJ6oi/src/FMI2_ext.jl:190\n",
      "┌ Info: fmi2Load(...): FMU supports both CS and ME, using CS as default if nothing specified.\n",
      "└ @ FMIImport /home/runner/.julia/packages/FMIImport/DJ6oi/src/FMI2_ext.jl:193\n",
      "┌ Info: fmi2Unzip(...): Successfully unzipped 153 files at `/tmp/fmijl_gpxyPV/SpringPendulum1D`.\n",
      "└ @ FMIImport /home/runner/.julia/packages/FMIImport/DJ6oi/src/FMI2_ext.jl:75\n",
      "┌ Info: fmi2Load(...): FMU resources location is `file:////tmp/fmijl_gpxyPV/SpringPendulum1D/resources`\n",
      "└ @ FMIImport /home/runner/.julia/packages/FMIImport/DJ6oi/src/FMI2_ext.jl:190\n",
      "┌ Info: fmi2Load(...): FMU supports both CS and ME, using CS as default if nothing specified.\n",
      "└ @ FMIImport /home/runner/.julia/packages/FMIImport/DJ6oi/src/FMI2_ext.jl:193\n",
      "┌ Info: fmi2Unzip(...): Successfully unzipped 153 files at `/tmp/fmijl_E2P63U/SpringPendulum1D`.\n",
      "└ @ FMIImport /home/runner/.julia/packages/FMIImport/DJ6oi/src/FMI2_ext.jl:75\n",
      "┌ Info: fmi2Load(...): FMU resources location is `file:////tmp/fmijl_E2P63U/SpringPendulum1D/resources`\n",
      "└ @ FMIImport /home/runner/.julia/packages/FMIImport/DJ6oi/src/FMI2_ext.jl:190\n",
      "┌ Info: fmi2Load(...): FMU supports both CS and ME, using CS as default if nothing specified.\n",
      "└ @ FMIImport /home/runner/.julia/packages/FMIImport/DJ6oi/src/FMI2_ext.jl:193\n",
      "┌ Info: fmi2Unzip(...): Successfully unzipped 153 files at `/tmp/fmijl_0yiJpW/SpringPendulum1D`.\n",
      "└ @ FMIImport /home/runner/.julia/packages/FMIImport/DJ6oi/src/FMI2_ext.jl:75\n",
      "┌ Info: fmi2Load(...): FMU resources location is `file:////tmp/fmijl_0yiJpW/SpringPendulum1D/resources`\n",
      "└ @ FMIImport /home/runner/.julia/packages/FMIImport/DJ6oi/src/FMI2_ext.jl:190\n",
      "┌ Info: fmi2Load(...): FMU supports both CS and ME, using CS as default if nothing specified.\n",
      "└ @ FMIImport /home/runner/.julia/packages/FMIImport/DJ6oi/src/FMI2_ext.jl:193\n",
      "┌ Info: fmi2Unzip(...): Successfully unzipped 153 files at `/tmp/fmijl_fpvhgW/SpringPendulum1D`.\n",
      "└ @ FMIImport /home/runner/.julia/packages/FMIImport/DJ6oi/src/FMI2_ext.jl:75\n",
      "┌ Info: fmi2Load(...): FMU resources location is `file:////tmp/fmijl_fpvhgW/SpringPendulum1D/resources`\n",
      "└ @ FMIImport /home/runner/.julia/packages/FMIImport/DJ6oi/src/FMI2_ext.jl:190\n",
      "┌ Info: fmi2Load(...): FMU supports both CS and ME, using CS as default if nothing specified.\n",
      "└ @ FMIImport /home/runner/.julia/packages/FMIImport/DJ6oi/src/FMI2_ext.jl:193\n",
      "┌ Info: fmi2Unzip(...): Successfully unzipped 153 files at `/tmp/fmijl_UPha0X/SpringPendulum1D`.\n",
      "└ @ FMIImport /home/runner/.julia/packages/FMIImport/DJ6oi/src/FMI2_ext.jl:75\n",
      "┌ Info: fmi2Load(...): FMU resources location is `file:////tmp/fmijl_UPha0X/SpringPendulum1D/resources`\n",
      "└ @ FMIImport /home/runner/.julia/packages/FMIImport/DJ6oi/src/FMI2_ext.jl:190\n",
      "┌ Info: fmi2Load(...): FMU supports both CS and ME, using CS as default if nothing specified.\n",
      "└ @ FMIImport /home/runner/.julia/packages/FMIImport/DJ6oi/src/FMI2_ext.jl:193\n",
      "┌ Info: fmi2Unzip(...): Successfully unzipped 153 files at `/tmp/fmijl_NMfaIT/SpringPendulum1D`.\n",
      "└ @ FMIImport /home/runner/.julia/packages/FMIImport/DJ6oi/src/FMI2_ext.jl:75\n",
      "┌ Info: fmi2Load(...): FMU resources location is `file:////tmp/fmijl_NMfaIT/SpringPendulum1D/resources`\n",
      "└ @ FMIImport /home/runner/.julia/packages/FMIImport/DJ6oi/src/FMI2_ext.jl:190\n",
      "┌ Info: fmi2Load(...): FMU supports both CS and ME, using CS as default if nothing specified.\n",
      "└ @ FMIImport /home/runner/.julia/packages/FMIImport/DJ6oi/src/FMI2_ext.jl:193\n",
      "┌ Info: fmi2Unzip(...): Successfully unzipped 153 files at `/tmp/fmijl_N0oxdV/SpringPendulum1D`.\n",
      "└ @ FMIImport /home/runner/.julia/packages/FMIImport/DJ6oi/src/FMI2_ext.jl:75\n",
      "┌ Info: fmi2Load(...): FMU resources location is `file:////tmp/fmijl_N0oxdV/SpringPendulum1D/resources`\n",
      "└ @ FMIImport /home/runner/.julia/packages/FMIImport/DJ6oi/src/FMI2_ext.jl:190\n",
      "┌ Info: fmi2Load(...): FMU supports both CS and ME, using CS as default if nothing specified.\n",
      "└ @ FMIImport /home/runner/.julia/packages/FMIImport/DJ6oi/src/FMI2_ext.jl:193\n",
      "┌ Info: fmi2Unzip(...): Successfully unzipped 153 files at `/tmp/fmijl_oV2yQT/SpringPendulum1D`.\n",
      "└ @ FMIImport /home/runner/.julia/packages/FMIImport/DJ6oi/src/FMI2_ext.jl:75\n",
      "┌ Info: fmi2Load(...): FMU resources location is `file:////tmp/fmijl_oV2yQT/SpringPendulum1D/resources`\n",
      "└ @ FMIImport /home/runner/.julia/packages/FMIImport/DJ6oi/src/FMI2_ext.jl:190\n",
      "┌ Info: fmi2Load(...): FMU supports both CS and ME, using CS as default if nothing specified.\n",
      "└ @ FMIImport /home/runner/.julia/packages/FMIImport/DJ6oi/src/FMI2_ext.jl:193\n",
      "┌ Info: fmi2Unzip(...): Successfully unzipped 153 files at `/tmp/fmijl_NOeiVX/SpringPendulum1D`.\n",
      "└ @ FMIImport /home/runner/.julia/packages/FMIImport/DJ6oi/src/FMI2_ext.jl:75\n",
      "┌ Info: fmi2Load(...): FMU resources location is `file:////tmp/fmijl_NOeiVX/SpringPendulum1D/resources`\n",
      "└ @ FMIImport /home/runner/.julia/packages/FMIImport/DJ6oi/src/FMI2_ext.jl:190\n",
      "┌ Info: fmi2Load(...): FMU supports both CS and ME, using CS as default if nothing specified.\n",
      "└ @ FMIImport /home/runner/.julia/packages/FMIImport/DJ6oi/src/FMI2_ext.jl:193\n",
      "┌ Info: fmi2Unzip(...): Successfully unzipped 153 files at `/tmp/fmijl_MVb9UW/SpringPendulum1D`.\n",
      "└ @ FMIImport /home/runner/.julia/packages/FMIImport/DJ6oi/src/FMI2_ext.jl:75\n",
      "┌ Info: fmi2Load(...): FMU resources location is `file:////tmp/fmijl_MVb9UW/SpringPendulum1D/resources`\n",
      "└ @ FMIImport /home/runner/.julia/packages/FMIImport/DJ6oi/src/FMI2_ext.jl:190\n",
      "┌ Info: fmi2Load(...): FMU supports both CS and ME, using CS as default if nothing specified.\n",
      "└ @ FMIImport /home/runner/.julia/packages/FMIImport/DJ6oi/src/FMI2_ext.jl:193\n"
     ]
    },
    {
     "data": {
      "text/plain": [
       "16-element Vector{FMU2Component}:\n",
       " FMU:            SpringPendulum1D\n",
       "InstanceName:   [not defined]\n",
       "Address:        Ptr{Nothing} @0x0000000005857c00\n",
       "State:          fmi2ComponentStateInstantiated\n",
       "Logging:        false\n",
       "FMU time:       -Inf\n",
       "FMU states:     nothing\n",
       " FMU:            SpringPendulum1D\n",
       "InstanceName:   [not defined]\n",
       "Address:        Ptr{Nothing} @0x0000000005857840\n",
       "State:          fmi2ComponentStateInstantiated\n",
       "Logging:        false\n",
       "FMU time:       -Inf\n",
       "FMU states:     nothing\n",
       " FMU:            SpringPendulum1D\n",
       "InstanceName:   [not defined]\n",
       "Address:        Ptr{Nothing} @0x0000000005ac3e50\n",
       "State:          fmi2ComponentStateInstantiated\n",
       "Logging:        false\n",
       "FMU time:       -Inf\n",
       "FMU states:     nothing\n",
       " FMU:            SpringPendulum1D\n",
       "InstanceName:   [not defined]\n",
       "Address:        Ptr{Nothing} @0x00000000052a6ee0\n",
       "State:          fmi2ComponentStateInstantiated\n",
       "Logging:        false\n",
       "FMU time:       -Inf\n",
       "FMU states:     nothing\n",
       " FMU:            SpringPendulum1D\n",
       "InstanceName:   [not defined]\n",
       "Address:        Ptr{Nothing} @0x0000000005c466c0\n",
       "State:          fmi2ComponentStateInstantiated\n",
       "Logging:        false\n",
       "FMU time:       -Inf\n",
       "FMU states:     nothing\n",
       " FMU:            SpringPendulum1D\n",
       "InstanceName:   [not defined]\n",
       "Address:        Ptr{Nothing} @0x0000000005c9d1c0\n",
       "State:          fmi2ComponentStateInstantiated\n",
       "Logging:        false\n",
       "FMU time:       -Inf\n",
       "FMU states:     nothing\n",
       " FMU:            SpringPendulum1D\n",
       "InstanceName:   [not defined]\n",
       "Address:        Ptr{Nothing} @0x0000000005797d00\n",
       "State:          fmi2ComponentStateInstantiated\n",
       "Logging:        false\n",
       "FMU time:       -Inf\n",
       "FMU states:     nothing\n",
       " FMU:            SpringPendulum1D\n",
       "InstanceName:   [not defined]\n",
       "Address:        Ptr{Nothing} @0x00000000057aa010\n",
       "State:          fmi2ComponentStateInstantiated\n",
       "Logging:        false\n",
       "FMU time:       -Inf\n",
       "FMU states:     nothing\n",
       " FMU:            SpringPendulum1D\n",
       "InstanceName:   [not defined]\n",
       "Address:        Ptr{Nothing} @0x0000000005295020\n",
       "State:          fmi2ComponentStateInstantiated\n",
       "Logging:        false\n",
       "FMU time:       -Inf\n",
       "FMU states:     nothing\n",
       " FMU:            SpringPendulum1D\n",
       "InstanceName:   [not defined]\n",
       "Address:        Ptr{Nothing} @0x0000000005969ec0\n",
       "State:          fmi2ComponentStateInstantiated\n",
       "Logging:        false\n",
       "FMU time:       -Inf\n",
       "FMU states:     nothing\n",
       " FMU:            SpringPendulum1D\n",
       "InstanceName:   [not defined]\n",
       "Address:        Ptr{Nothing} @0x00000000052b54c0\n",
       "State:          fmi2ComponentStateInstantiated\n",
       "Logging:        false\n",
       "FMU time:       -Inf\n",
       "FMU states:     nothing\n",
       " FMU:            SpringPendulum1D\n",
       "InstanceName:   [not defined]\n",
       "Address:        Ptr{Nothing} @0x0000000005607480\n",
       "State:          fmi2ComponentStateInstantiated\n",
       "Logging:        false\n",
       "FMU time:       -Inf\n",
       "FMU states:     nothing\n",
       " FMU:            SpringPendulum1D\n",
       "InstanceName:   [not defined]\n",
       "Address:        Ptr{Nothing} @0x00000000055f0ad0\n",
       "State:          fmi2ComponentStateInstantiated\n",
       "Logging:        false\n",
       "FMU time:       -Inf\n",
       "FMU states:     nothing\n",
       " FMU:            SpringPendulum1D\n",
       "InstanceName:   [not defined]\n",
       "Address:        Ptr{Nothing} @0x00000000052a4280\n",
       "State:          fmi2ComponentStateInstantiated\n",
       "Logging:        false\n",
       "FMU time:       -Inf\n",
       "FMU states:     nothing\n",
       " FMU:            SpringPendulum1D\n",
       "InstanceName:   [not defined]\n",
       "Address:        Ptr{Nothing} @0x0000000005298180\n",
       "State:          fmi2ComponentStateInstantiated\n",
       "Logging:        false\n",
       "FMU time:       -Inf\n",
       "FMU states:     nothing\n",
       " FMU:            SpringPendulum1D\n",
       "InstanceName:   [not defined]\n",
       "Address:        Ptr{Nothing} @0x00000000055ee260\n",
       "State:          fmi2ComponentStateInstantiated\n",
       "Logging:        false\n",
       "FMU time:       -Inf\n",
       "FMU states:     nothing"
      ]
     },
     "execution_count": 4,
     "metadata": {},
     "output_type": "execute_result"
    }
   ],
   "source": [
    "realFMU = fmiLoad(\"SpringPendulum1D\", \"Dymola\", \"2022x\")\n",
    "fmiInstantiate!(realFMU)\n",
    "\n",
    "\n",
    "realFMUBatch = [fmiLoad(\"SpringPendulum1D\", \"Dymola\", \"2022x\") for _ in 1:batchSize]\n",
    "fmiInstantiate!.(realFMUBatch)"
   ]
  },
  {
   "cell_type": "markdown",
   "metadata": {},
   "source": [
    "We define a helper function to calculate the FMU and combine it into an Matrix."
   ]
  },
  {
   "cell_type": "code",
   "execution_count": 5,
   "metadata": {
    "execution": {
     "iopub.execute_input": "2022-06-09T16:22:37.545000Z",
     "iopub.status.busy": "2022-06-09T16:22:37.545000Z",
     "iopub.status.idle": "2022-06-09T16:22:38.181000Z",
     "shell.execute_reply": "2022-06-09T16:22:38.181000Z"
    }
   },
   "outputs": [
    {
     "data": {
      "text/plain": [
       "runCalcFormatted (generic function with 2 methods)"
      ]
     },
     "execution_count": 5,
     "metadata": {},
     "output_type": "execute_result"
    }
   ],
   "source": [
    "function runCalcFormatted(fmu::FMU2, x0::Vector{Float64}, recordValues::Vector{String}=[\"mass.s\", \"mass.v\"])\n",
    "    data = fmiSimulateME(fmu, t_start, t_stop; recordValues=recordValues, saveat=tData, x0=x0, showProgress=false, dtmax=1e-4)\n",
    "    return reduce(hcat, data.states.u)\n",
    "end"
   ]
  },
  {
   "cell_type": "markdown",
   "metadata": {},
   "source": [
    "Running a single evaluation is pretty quick, therefore the speed can be better tested with BenchmarkTools."
   ]
  },
  {
   "cell_type": "code",
   "execution_count": 6,
   "metadata": {
    "execution": {
     "iopub.execute_input": "2022-06-09T16:22:38.185000Z",
     "iopub.status.busy": "2022-06-09T16:22:38.185000Z",
     "iopub.status.idle": "2022-06-09T16:23:13.617000Z",
     "shell.execute_reply": "2022-06-09T16:23:13.617000Z"
    }
   },
   "outputs": [
    {
     "data": {
      "text/plain": [
       "BenchmarkTools.Trial: 16 samples with 1 evaluation.\n",
       " Range \u001b[90m(\u001b[39m\u001b[36m\u001b[1mmin\u001b[22m\u001b[39m … \u001b[35mmax\u001b[39m\u001b[90m):  \u001b[39m\u001b[36m\u001b[1m311.346 ms\u001b[22m\u001b[39m … \u001b[35m329.313 ms\u001b[39m  \u001b[90m┊\u001b[39m GC \u001b[90m(\u001b[39mmin … max\u001b[90m): \u001b[39m6.23% … 5.94%\n",
       " Time  \u001b[90m(\u001b[39m\u001b[34m\u001b[1mmedian\u001b[22m\u001b[39m\u001b[90m):     \u001b[39m\u001b[34m\u001b[1m315.051 ms               \u001b[22m\u001b[39m\u001b[90m┊\u001b[39m GC \u001b[90m(\u001b[39mmedian\u001b[90m):    \u001b[39m6.25%\n",
       " Time  \u001b[90m(\u001b[39m\u001b[32m\u001b[1mmean\u001b[22m\u001b[39m ± \u001b[32mσ\u001b[39m\u001b[90m):   \u001b[39m\u001b[32m\u001b[1m316.322 ms\u001b[22m\u001b[39m ± \u001b[32m  5.263 ms\u001b[39m  \u001b[90m┊\u001b[39m GC \u001b[90m(\u001b[39mmean ± σ\u001b[90m):  \u001b[39m6.64% ± 0.98%\n",
       "\n",
       "  \u001b[39m█\u001b[39m█\u001b[39m \u001b[39m \u001b[39m \u001b[39m \u001b[39m▁\u001b[39m▁\u001b[39m \u001b[39m \u001b[39m▁\u001b[39m▁\u001b[34m \u001b[39m\u001b[39m▁\u001b[39m▁\u001b[39m \u001b[39m▁\u001b[32m \u001b[39m\u001b[39m▁\u001b[39m▁\u001b[39m \u001b[39m \u001b[39m \u001b[39m \u001b[39m \u001b[39m \u001b[39m \u001b[39m \u001b[39m \u001b[39m \u001b[39m \u001b[39m \u001b[39m \u001b[39m \u001b[39m \u001b[39m \u001b[39m▁\u001b[39m \u001b[39m \u001b[39m \u001b[39m \u001b[39m \u001b[39m \u001b[39m \u001b[39m \u001b[39m \u001b[39m \u001b[39m \u001b[39m \u001b[39m \u001b[39m \u001b[39m▁\u001b[39m \u001b[39m \u001b[39m \u001b[39m \u001b[39m \u001b[39m \u001b[39m \u001b[39m \u001b[39m▁\u001b[39m \u001b[39m \n",
       "  \u001b[39m█\u001b[39m█\u001b[39m▁\u001b[39m▁\u001b[39m▁\u001b[39m▁\u001b[39m█\u001b[39m█\u001b[39m▁\u001b[39m▁\u001b[39m█\u001b[39m█\u001b[34m▁\u001b[39m\u001b[39m█\u001b[39m█\u001b[39m▁\u001b[39m█\u001b[32m▁\u001b[39m\u001b[39m█\u001b[39m█\u001b[39m▁\u001b[39m▁\u001b[39m▁\u001b[39m▁\u001b[39m▁\u001b[39m▁\u001b[39m▁\u001b[39m▁\u001b[39m▁\u001b[39m▁\u001b[39m▁\u001b[39m▁\u001b[39m▁\u001b[39m▁\u001b[39m▁\u001b[39m▁\u001b[39m█\u001b[39m▁\u001b[39m▁\u001b[39m▁\u001b[39m▁\u001b[39m▁\u001b[39m▁\u001b[39m▁\u001b[39m▁\u001b[39m▁\u001b[39m▁\u001b[39m▁\u001b[39m▁\u001b[39m▁\u001b[39m▁\u001b[39m█\u001b[39m▁\u001b[39m▁\u001b[39m▁\u001b[39m▁\u001b[39m▁\u001b[39m▁\u001b[39m▁\u001b[39m▁\u001b[39m█\u001b[39m \u001b[39m▁\n",
       "  311 ms\u001b[90m           Histogram: frequency by time\u001b[39m          329 ms \u001b[0m\u001b[1m<\u001b[22m\n",
       "\n",
       " Memory estimate\u001b[90m: \u001b[39m\u001b[33m146.80 MiB\u001b[39m, allocs estimate\u001b[90m: \u001b[39m\u001b[33m3002434\u001b[39m."
      ]
     },
     "execution_count": 6,
     "metadata": {},
     "output_type": "execute_result"
    }
   ],
   "source": [
    "@benchmark data = runCalcFormatted(realFMU, rand(2))"
   ]
  },
  {
   "cell_type": "markdown",
   "metadata": {},
   "source": [
    "### Single Threaded Batch Execution\n",
    "To compute a batch we can collect multiple evaluations. In a single threaded context we can use the same FMU for every call."
   ]
  },
  {
   "cell_type": "code",
   "execution_count": 7,
   "metadata": {
    "execution": {
     "iopub.execute_input": "2022-06-09T16:23:13.621000Z",
     "iopub.status.busy": "2022-06-09T16:23:13.621000Z",
     "iopub.status.idle": "2022-06-09T16:23:36.193000Z",
     "shell.execute_reply": "2022-06-09T16:23:36.193000Z"
    }
   },
   "outputs": [
    {
     "name": "stdout",
     "output_type": "stream",
     "text": [
      "Single Threaded\n"
     ]
    },
    {
     "data": {
      "text/plain": [
       "BenchmarkTools.Trial: 1 sample with 1 evaluation.\n",
       " Single result which took \u001b[34m5.073 s\u001b[39m (7.25% GC) to evaluate,\n",
       " with a memory estimate of \u001b[33m2.29 GiB\u001b[39m, over \u001b[33m48038932\u001b[39m allocations."
      ]
     },
     "execution_count": 7,
     "metadata": {},
     "output_type": "execute_result"
    }
   ],
   "source": [
    "println(\"Single Threaded\")\n",
    "@benchmark collect(runCalcFormatted(realFMU, i) for i in input_values)"
   ]
  },
  {
   "cell_type": "markdown",
   "metadata": {},
   "source": [
    "### Multithreaded Batch Execution\n",
    "In a multithreaded context we have to provide each thread it's own fmu, as they are not thread safe.\n",
    "To spread the execution of a function to multiple threads, the library `Folds` can be used."
   ]
  },
  {
   "cell_type": "code",
   "execution_count": 8,
   "metadata": {
    "execution": {
     "iopub.execute_input": "2022-06-09T16:23:36.197000Z",
     "iopub.status.busy": "2022-06-09T16:23:36.197000Z",
     "iopub.status.idle": "2022-06-09T16:24:00.904000Z",
     "shell.execute_reply": "2022-06-09T16:24:00.904000Z"
    }
   },
   "outputs": [
    {
     "name": "stdout",
     "output_type": "stream",
     "text": [
      "Multi Threaded\n"
     ]
    },
    {
     "data": {
      "text/plain": [
       "BenchmarkTools.Trial: 1 sample with 1 evaluation.\n",
       " Single result which took \u001b[34m5.052 s\u001b[39m (7.25% GC) to evaluate,\n",
       " with a memory estimate of \u001b[33m2.29 GiB\u001b[39m, over \u001b[33m48039014\u001b[39m allocations."
      ]
     },
     "execution_count": 8,
     "metadata": {},
     "output_type": "execute_result"
    }
   ],
   "source": [
    "println(\"Multi Threaded\")\n",
    "@benchmark Folds.collect(runCalcFormatted(fmu, i) for (fmu, i) in zip(realFMUBatch, input_values))"
   ]
  },
  {
   "cell_type": "markdown",
   "metadata": {},
   "source": [
    "### Unload FMU\n",
    "\n",
    "After calculating the data, the FMU is unloaded and all unpacked data on disc is removed."
   ]
  },
  {
   "cell_type": "code",
   "execution_count": 9,
   "metadata": {
    "execution": {
     "iopub.execute_input": "2022-06-09T16:24:00.908000Z",
     "iopub.status.busy": "2022-06-09T16:24:00.908000Z",
     "iopub.status.idle": "2022-06-09T16:24:02.040000Z",
     "shell.execute_reply": "2022-06-09T16:24:02.040000Z"
    }
   },
   "outputs": [
    {
     "data": {
      "text/plain": [
       "16-element Vector{Nothing}:\n",
       " nothing\n",
       " nothing\n",
       " nothing\n",
       " nothing\n",
       " nothing\n",
       " nothing\n",
       " nothing\n",
       " nothing\n",
       " nothing\n",
       " nothing\n",
       " nothing\n",
       " nothing\n",
       " nothing\n",
       " nothing\n",
       " nothing\n",
       " nothing"
      ]
     },
     "execution_count": 9,
     "metadata": {},
     "output_type": "execute_result"
    }
   ],
   "source": [
    "fmiUnload(realFMU)\n",
    "fmiUnload.(realFMUBatch)"
   ]
  },
  {
   "cell_type": "markdown",
   "metadata": {},
   "source": [
    "### Summary\n",
    "\n",
    "In this tutorial it is shown how multi threading with `Folds.jl` can be used to improve the performance for calculating a Batch of FMUs."
   ]
  }
 ],
 "metadata": {
  "kernelspec": {
   "display_name": "Julia 1.7.2",
   "language": "julia",
   "name": "julia-1.7"
  },
  "language_info": {
   "file_extension": ".jl",
   "mimetype": "application/julia",
   "name": "julia",
   "version": "1.6.6"
  }
 },
 "nbformat": 4,
 "nbformat_minor": 2
}
