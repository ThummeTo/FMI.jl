{
 "cells": [
  {
   "cell_type": "markdown",
   "metadata": {},
   "source": [
    "# Manually parameterize an FMU\n",
    "Tutorial by Johannes Stoljar, Tobias Thummerer\n",
    "\n",
    "## License"
   ]
  },
  {
   "cell_type": "code",
   "execution_count": 1,
   "metadata": {
    "execution": {
     "iopub.execute_input": "2022-09-27T22:36:36.743000Z",
     "iopub.status.busy": "2022-09-27T22:36:35.773000Z",
     "iopub.status.idle": "2022-09-27T22:36:37.071000Z",
     "shell.execute_reply": "2022-09-27T22:36:36.989000Z"
    }
   },
   "outputs": [],
   "source": [
    "# Copyright (c) 2021 Tobias Thummerer, Lars Mikelsons, Josef Kircher, Johannes Stoljar\n",
    "# Licensed under the MIT license. \n",
    "# See LICENSE (https://github.com/thummeto/FMI.jl/blob/main/LICENSE) file in the project root for details."
   ]
  },
  {
   "cell_type": "markdown",
   "metadata": {},
   "source": [
    "## Motivation\n",
    "This Julia Package *FMI.jl* is motivated by the use of simulation models in Julia. Here the FMI specification is implemented. FMI (*Functional Mock-up Interface*) is a free standard ([fmi-standard.org](http://fmi-standard.org/)) that defines a container and an interface to exchange dynamic models using a combination of XML files, binaries and C code zipped into a single file. The user can thus use simulation models in the form of an FMU (*Functional Mock-up Units*). Besides loading the FMU, the user can also set values for parameters and states and simulate the FMU both as co-simulation and model exchange simulation.\n",
    "\n",
    "## Introduction to the example\n",
    "This example shows how the manually parameterization of an FMU works if very specific adjustments during system initialization is needed. For this purpose, an IO-FMU model is loaded and the various commands for parameterization are shown on the basis of this model. With this example the user shall be guided how to make certain settings at an FMU. Please note, that parameterization of a simulation is possible in a much easier fashion: Using `fmiSimulate`, `fmiSimulateME` or `fmiSimulateCS` together with a parameter dictionary for the keyword `parameters`.\n",
    "\n",
    "## Target group\n",
    "The example is primarily intended for users who work in the field of simulation exchange. The example wants to show how simple it is to use FMUs in Julia.\n",
    "\n",
    "\n",
    "## Other formats\n",
    "Besides, this [Jupyter Notebook](https://github.com/thummeto/FMI.jl/blob/examples/examples/parameterize.ipynb) there is also a [Julia file](https://github.com/thummeto/FMI.jl/blob/examples/examples/parameterize.jl) with the same name, which contains only the code cells and for the documentation there is a [Markdown file](https://github.com/thummeto/FMI.jl/blob/examples/examples/parameterize.md) corresponding to the notebook.  \n",
    "\n",
    "\n",
    "## Getting started\n",
    "\n",
    "### Installation prerequisites\n",
    "|     | Description                       | Command                   | Alternative                                    |   \n",
    "|:----|:----------------------------------|:--------------------------|:-----------------------------------------------|\n",
    "| 1.  | Enter Package Manager via         | ]                         |                                                |\n",
    "| 2.  | Install FMI via                   | add FMI                   | add \" https://github.com/ThummeTo/FMI.jl \"     |\n",
    "| 3.  | Install FMIZoo via                | add FMIZoo                | add \" https://github.com/ThummeTo/FMIZoo.jl \"  |"
   ]
  },
  {
   "cell_type": "markdown",
   "metadata": {},
   "source": [
    "## Code section\n",
    "\n",
    "To run the example, the previously installed packages must be included. "
   ]
  },
  {
   "cell_type": "code",
   "execution_count": 2,
   "metadata": {
    "execution": {
     "iopub.execute_input": "2022-09-27T22:36:37.074000Z",
     "iopub.status.busy": "2022-09-27T22:36:37.074000Z",
     "iopub.status.idle": "2022-09-27T22:36:48.870000Z",
     "shell.execute_reply": "2022-09-27T22:36:48.870000Z"
    },
    "scrolled": false
   },
   "outputs": [],
   "source": [
    "# imports\n",
    "using FMI\n",
    "using FMIZoo"
   ]
  },
  {
   "cell_type": "markdown",
   "metadata": {},
   "source": [
    "### Simulation setup\n",
    "\n",
    "Next, the start time and end time of the simulation are set."
   ]
  },
  {
   "cell_type": "code",
   "execution_count": 3,
   "metadata": {
    "execution": {
     "iopub.execute_input": "2022-09-27T22:36:49.197000Z",
     "iopub.status.busy": "2022-09-27T22:36:48.874000Z",
     "iopub.status.idle": "2022-09-27T22:36:53.721000Z",
     "shell.execute_reply": "2022-09-27T22:36:53.721000Z"
    },
    "scrolled": false
   },
   "outputs": [
    {
     "data": {
      "text/plain": [
       "2-element Vector{Float64}:\n",
       " 0.0\n",
       " 1.0"
      ]
     },
     "execution_count": 3,
     "metadata": {},
     "output_type": "execute_result"
    }
   ],
   "source": [
    "tStart = 0.0\n",
    "tStop = 1.0\n",
    "tSave = collect(tStart:tStop)"
   ]
  },
  {
   "cell_type": "markdown",
   "metadata": {},
   "source": [
    "### Import FMU\n",
    "\n",
    "In the next lines of code the FMU model from *FMIZoo.jl* is loaded and the information about the FMU is shown."
   ]
  },
  {
   "cell_type": "code",
   "execution_count": 4,
   "metadata": {
    "execution": {
     "iopub.execute_input": "2022-09-27T22:36:53.726000Z",
     "iopub.status.busy": "2022-09-27T22:36:53.725000Z",
     "iopub.status.idle": "2022-09-27T22:36:59.367000Z",
     "shell.execute_reply": "2022-09-27T22:36:59.367000Z"
    },
    "scrolled": false
   },
   "outputs": [
    {
     "name": "stderr",
     "output_type": "stream",
     "text": [
      "┌ Info: fmi2Unzip(...): Successfully unzipped 153 files at `/tmp/fmijl_1sdveA/IO`.\n",
      "└ @ FMIImport /home/runner/.julia/packages/FMIImport/1Yngw/src/FMI2_ext.jl:90\n",
      "┌ Info: fmi2Load(...): FMU resources location is `file:////tmp/fmijl_1sdveA/IO/resources`\n",
      "└ @ FMIImport /home/runner/.julia/packages/FMIImport/1Yngw/src/FMI2_ext.jl:221\n",
      "┌ Info: fmi2Load(...): FMU supports both CS and ME, using CS as default if nothing specified.\n",
      "└ @ FMIImport /home/runner/.julia/packages/FMIImport/1Yngw/src/FMI2_ext.jl:224\n"
     ]
    },
    {
     "name": "stdout",
     "output_type": "stream",
     "text": [
      "#################### Begin information for FMU ####################\n",
      "\tModel name:\t\t\tIO\n",
      "\tFMI-Version:\t\t\t2.0\n",
      "\tGUID:\t\t\t\t{889089a6-481b-41a6-a282-f6ce02a33aa6}\n",
      "\tGeneration tool:\t\tDymola Version 2022x (64-bit), 2021-10-08\n",
      "\tGeneration time:\t\t2022-05-19T06:53:52Z\n",
      "\tVar. naming conv.:\t\tstructured\n",
      "\tEvent indicators:\t\t4\n",
      "\tInputs:\t\t\t\t3\n",
      "\t\t352321536 [\"u_real\"]\n",
      "\t\t352321537 [\"u_boolean\"]\n",
      "\t\t352321538 [\"u_integer\"]\n",
      "\tOutputs:\t\t\t3\n",
      "\t\t335544320 [\"y_real\"]\n",
      "\t\t335544321 [\"y_boolean\"]\n",
      "\t\t335544322 [\"y_integer\"]\n",
      "\tStates:\t\t\t\t0\n",
      "\tSupports Co-Simulation:\t\ttrue\n",
      "\t\tModel identifier:\tIO\n",
      "\t\tGet/Set State:\t\ttrue\n",
      "\t\tSerialize State:\ttrue\n",
      "\t\tDir. Derivatives:\ttrue\n",
      "\t\tVar. com. steps:\ttrue\n",
      "\t\tInput interpol.:\ttrue\n",
      "\t\tMax order out. der.:\t1\n",
      "\tSupports Model-Exchange:\ttrue\n",
      "\t\tModel identifier:\tIO\n",
      "\t\tGet/Set State:\t\ttrue\n",
      "\t\tSerialize State:\ttrue\n",
      "\t\tDir. Derivatives:\ttrue\n",
      "##################### End information for FMU #####################\n"
     ]
    }
   ],
   "source": [
    "# we use an FMU from the FMIZoo.jl\n",
    "pathToFMU = get_model_filename(\"IO\", \"Dymola\", \"2022x\")\n",
    "\n",
    "myFMU = fmiLoad(pathToFMU)\n",
    "fmiInfo(myFMU)"
   ]
  },
  {
   "cell_type": "markdown",
   "metadata": {},
   "source": [
    "### Instantiate and Setup FMU\n",
    "\n",
    "Next it is necessary to create an instance of the FMU. This is achieved by the command `fmiInstantiate!()`."
   ]
  },
  {
   "cell_type": "code",
   "execution_count": 5,
   "metadata": {
    "execution": {
     "iopub.execute_input": "2022-09-27T22:36:59.371000Z",
     "iopub.status.busy": "2022-09-27T22:36:59.370000Z",
     "iopub.status.idle": "2022-09-27T22:37:00.120000Z",
     "shell.execute_reply": "2022-09-27T22:37:00.120000Z"
    }
   },
   "outputs": [
    {
     "data": {
      "text/plain": [
       "FMU:            IO\n",
       "InstanceName:   IO\n",
       "Address:        Ptr{Nothing} @0x00000000056f4c70\n",
       "State:          fmi2ComponentStateInstantiated\n",
       "Logging:        false\n",
       "FMU time:       -Inf\n",
       "FMU states:     nothing"
      ]
     },
     "execution_count": 5,
     "metadata": {},
     "output_type": "execute_result"
    }
   ],
   "source": [
    "fmiInstantiate!(myFMU; loggingOn=true)"
   ]
  },
  {
   "cell_type": "markdown",
   "metadata": {},
   "source": [
    "In the following code block, start and end time for the simulation is set by the `fmiSetupExperiment()` command."
   ]
  },
  {
   "cell_type": "code",
   "execution_count": 6,
   "metadata": {
    "execution": {
     "iopub.execute_input": "2022-09-27T22:37:00.124000Z",
     "iopub.status.busy": "2022-09-27T22:37:00.124000Z",
     "iopub.status.idle": "2022-09-27T22:37:00.574000Z",
     "shell.execute_reply": "2022-09-27T22:37:00.573000Z"
    }
   },
   "outputs": [
    {
     "data": {
      "text/plain": [
       "0x00000000"
      ]
     },
     "execution_count": 6,
     "metadata": {},
     "output_type": "execute_result"
    }
   ],
   "source": [
    "fmiSetupExperiment(myFMU, tStart, tStop)"
   ]
  },
  {
   "cell_type": "markdown",
   "metadata": {},
   "source": [
    "### Parameterize FMU\n",
    "\n",
    "In this example, for each data type (`real`, `boolean`, `integer` and `string`) a corresponding input or parameter is selected. From here on, the inputs and parameters will be referred to as parameters for simplicity."
   ]
  },
  {
   "cell_type": "code",
   "execution_count": 7,
   "metadata": {
    "execution": {
     "iopub.execute_input": "2022-09-27T22:37:00.578000Z",
     "iopub.status.busy": "2022-09-27T22:37:00.578000Z",
     "iopub.status.idle": "2022-09-27T22:37:01.717000Z",
     "shell.execute_reply": "2022-09-27T22:37:01.717000Z"
    }
   },
   "outputs": [
    {
     "data": {
      "text/plain": [
       "4-element Vector{String}:\n",
       " \"p_real\"\n",
       " \"p_boolean\"\n",
       " \"p_integer\"\n",
       " \"p_string\""
      ]
     },
     "execution_count": 7,
     "metadata": {},
     "output_type": "execute_result"
    }
   ],
   "source": [
    "params = [\"p_real\", \"p_boolean\", \"p_integer\", \"p_string\"]"
   ]
  },
  {
   "cell_type": "markdown",
   "metadata": {},
   "source": [
    "At the beginning we want to display the initial state of these parameters, for which the FMU must be in initialization mode. The next function `fmiEnterInitializationMode()` informs the FMU to enter the initialization mode. Before calling this function, the variables can be set. Furthermore, `fmiSetupExperiment()` must be called at least once before calling `fmiEnterInitializationMode()`, in order that the start time is defined."
   ]
  },
  {
   "cell_type": "code",
   "execution_count": 8,
   "metadata": {
    "execution": {
     "iopub.execute_input": "2022-09-27T22:37:01.721000Z",
     "iopub.status.busy": "2022-09-27T22:37:01.721000Z",
     "iopub.status.idle": "2022-09-27T22:37:01.803000Z",
     "shell.execute_reply": "2022-09-27T22:37:01.803000Z"
    },
    "scrolled": true
   },
   "outputs": [
    {
     "data": {
      "text/plain": [
       "0x00000000"
      ]
     },
     "execution_count": 8,
     "metadata": {},
     "output_type": "execute_result"
    }
   ],
   "source": [
    "fmiEnterInitializationMode(myFMU)"
   ]
  },
  {
   "cell_type": "markdown",
   "metadata": {},
   "source": [
    "The initial state of these parameters are displayed with the function `fmiGet()`."
   ]
  },
  {
   "cell_type": "code",
   "execution_count": 9,
   "metadata": {
    "execution": {
     "iopub.execute_input": "2022-09-27T22:37:01.807000Z",
     "iopub.status.busy": "2022-09-27T22:37:01.807000Z",
     "iopub.status.idle": "2022-09-27T22:37:04.459000Z",
     "shell.execute_reply": "2022-09-27T22:37:04.459000Z"
    }
   },
   "outputs": [
    {
     "data": {
      "text/plain": [
       "4-element Vector{Any}:\n",
       " 0.0\n",
       " 0\n",
       " 0\n",
       "  \"Hello World!\""
      ]
     },
     "execution_count": 9,
     "metadata": {},
     "output_type": "execute_result"
    }
   ],
   "source": [
    "fmiGet(myFMU, params)"
   ]
  },
  {
   "cell_type": "markdown",
   "metadata": {},
   "source": [
    "The initialization mode is terminated with the function `fmiExitInitializationMode()`. (For the model exchange FMU type, this function switches off all initialization equations, and enters the event mode implicitly.)"
   ]
  },
  {
   "cell_type": "code",
   "execution_count": 10,
   "metadata": {
    "execution": {
     "iopub.execute_input": "2022-09-27T22:37:04.463000Z",
     "iopub.status.busy": "2022-09-27T22:37:04.463000Z",
     "iopub.status.idle": "2022-09-27T22:37:04.564000Z",
     "shell.execute_reply": "2022-09-27T22:37:04.564000Z"
    }
   },
   "outputs": [
    {
     "data": {
      "text/plain": [
       "0x00000000"
      ]
     },
     "execution_count": 10,
     "metadata": {},
     "output_type": "execute_result"
    }
   ],
   "source": [
    "fmiExitInitializationMode(myFMU)"
   ]
  },
  {
   "cell_type": "markdown",
   "metadata": {},
   "source": [
    "In the next step, a function is defined that generates a random value for each parameter. For the parameter `p_string` a random number is inserted into the string. All parameters are combined to a tuple and output."
   ]
  },
  {
   "cell_type": "code",
   "execution_count": 11,
   "metadata": {
    "execution": {
     "iopub.execute_input": "2022-09-27T22:37:04.568000Z",
     "iopub.status.busy": "2022-09-27T22:37:04.568000Z",
     "iopub.status.idle": "2022-09-27T22:37:05.327000Z",
     "shell.execute_reply": "2022-09-27T22:37:05.327000Z"
    }
   },
   "outputs": [
    {
     "data": {
      "text/plain": [
       "generateRandomNumbers (generic function with 1 method)"
      ]
     },
     "execution_count": 11,
     "metadata": {},
     "output_type": "execute_result"
    }
   ],
   "source": [
    "function generateRandomNumbers()\n",
    "    rndReal = 100 * rand()\n",
    "    rndBoolean = rand() > 0.5\n",
    "    rndInteger = round(Integer, 100 * rand())\n",
    "    rndString = \"Random number $(100 * rand())!\"\n",
    "\n",
    "    return rndReal, rndBoolean, rndInteger, rndString\n",
    "end"
   ]
  },
  {
   "cell_type": "markdown",
   "metadata": {},
   "source": [
    "The previously defined function is called and the results are displayed in the console."
   ]
  },
  {
   "cell_type": "code",
   "execution_count": 12,
   "metadata": {
    "execution": {
     "iopub.execute_input": "2022-09-27T22:37:05.331000Z",
     "iopub.status.busy": "2022-09-27T22:37:05.331000Z",
     "iopub.status.idle": "2022-09-27T22:37:05.932000Z",
     "shell.execute_reply": "2022-09-27T22:37:05.932000Z"
    }
   },
   "outputs": [
    {
     "data": {
      "text/plain": [
       "(91.81462914730926, false, 41, \"Random number 98.36961971048!\")"
      ]
     },
     "execution_count": 12,
     "metadata": {},
     "output_type": "execute_result"
    }
   ],
   "source": [
    "paramsVal = generateRandomNumbers()"
   ]
  },
  {
   "cell_type": "markdown",
   "metadata": {},
   "source": [
    "#### First variant\n",
    "\n",
    "To show the first variant, it is necessary to terminate and reset the FMU instance. Then, as before, the setup command must be called for the FMU. "
   ]
  },
  {
   "cell_type": "code",
   "execution_count": 13,
   "metadata": {
    "execution": {
     "iopub.execute_input": "2022-09-27T22:37:05.936000Z",
     "iopub.status.busy": "2022-09-27T22:37:05.936000Z",
     "iopub.status.idle": "2022-09-27T22:37:06.156000Z",
     "shell.execute_reply": "2022-09-27T22:37:06.156000Z"
    }
   },
   "outputs": [
    {
     "data": {
      "text/plain": [
       "0x00000000"
      ]
     },
     "execution_count": 13,
     "metadata": {},
     "output_type": "execute_result"
    }
   ],
   "source": [
    "fmiTerminate(myFMU)\n",
    "fmiReset(myFMU)\n",
    "fmiSetupExperiment(myFMU, tStart, tStop)"
   ]
  },
  {
   "cell_type": "markdown",
   "metadata": {},
   "source": [
    "In the next step it is possible to set the parameters for the FMU. With the first variant it is quickly possible to set all parameters at once. Even different data types can be set with only one command. The command `fmiSet()` selects itself which function is chosen for which data type.  As long as the output of the function gives the status code 0, setting the parameters has worked."
   ]
  },
  {
   "cell_type": "code",
   "execution_count": 14,
   "metadata": {
    "execution": {
     "iopub.execute_input": "2022-09-27T22:37:06.160000Z",
     "iopub.status.busy": "2022-09-27T22:37:06.160000Z",
     "iopub.status.idle": "2022-09-27T22:37:08.397000Z",
     "shell.execute_reply": "2022-09-27T22:37:08.397000Z"
    }
   },
   "outputs": [
    {
     "data": {
      "text/plain": [
       "4-element Vector{UInt32}:\n",
       " 0x00000000\n",
       " 0x00000000\n",
       " 0x00000000\n",
       " 0x00000000"
      ]
     },
     "execution_count": 14,
     "metadata": {},
     "output_type": "execute_result"
    }
   ],
   "source": [
    "fmiSet(myFMU, params, collect(paramsVal))"
   ]
  },
  {
   "cell_type": "markdown",
   "metadata": {},
   "source": [
    "After setting the parameters, it can be checked whether the corresponding parameters were set correctly. For this the function `fmiGet()` can be used as above. To be able to call the function `fmiGet()` the FMU must be in initialization mode."
   ]
  },
  {
   "cell_type": "code",
   "execution_count": 15,
   "metadata": {
    "execution": {
     "iopub.execute_input": "2022-09-27T22:37:08.401000Z",
     "iopub.status.busy": "2022-09-27T22:37:08.401000Z",
     "iopub.status.idle": "2022-09-27T22:37:08.402000Z",
     "shell.execute_reply": "2022-09-27T22:37:08.402000Z"
    }
   },
   "outputs": [
    {
     "data": {
      "text/plain": [
       "0x00000000"
      ]
     },
     "execution_count": 15,
     "metadata": {},
     "output_type": "execute_result"
    }
   ],
   "source": [
    "fmiEnterInitializationMode(myFMU)\n",
    "# fmiGet(myFMU, params)\n",
    "fmiExitInitializationMode(myFMU)"
   ]
  },
  {
   "cell_type": "markdown",
   "metadata": {},
   "source": [
    "Now the FMU has been initialized correctly, the FMU can be simulated. The `fmiSimulate()` command is used for this purpose. It must be pointed out that the keywords `instantiate=false`, `setup=false` must be set. The keyword `instantiate=false` prevents the simulation command from creating a new FMU instance, otherwise our parameterization will be lost. The keyword `setup=false` prevents the FMU from calling the initialization mode again. The additionally listed keyword `freeInstance=false` prevents that the instance is removed after the simulation. This is only needed in this example, because we want to continue working on the created instance. Another keyword is the `recordValues=parmas[1:3]`, which saves: `p_real`, `p_boolean` and `p_integer` as output. It should be noted that the `fmiSimulate()` function is not capable of outputting string values, so `p_string` is omitted."
   ]
  },
  {
   "cell_type": "code",
   "execution_count": 16,
   "metadata": {
    "execution": {
     "iopub.execute_input": "2022-09-27T22:37:08.405000Z",
     "iopub.status.busy": "2022-09-27T22:37:08.405000Z",
     "iopub.status.idle": "2022-09-27T22:37:22.386000Z",
     "shell.execute_reply": "2022-09-27T22:37:22.386000Z"
    }
   },
   "outputs": [
    {
     "data": {
      "text/plain": [
       "Model name:\n",
       "\tIO\n",
       "Success:\n",
       "\ttrue\n",
       "Values [2]:\n",
       "\t0.0\t(91.81462914730926, 0.0, 41.0)\n",
       "\t1.0\t(91.81462914730926, 0.0, 41.0)\n",
       "Events [0]:\n"
      ]
     },
     "execution_count": 16,
     "metadata": {},
     "output_type": "execute_result"
    }
   ],
   "source": [
    "simData = fmiSimulate(myFMU, tStart, tStop; recordValues=params[1:3], saveat=tSave, \n",
    "                        instantiate=false, setup=false, freeInstance=false, terminate=false, reset=false)"
   ]
  },
  {
   "cell_type": "markdown",
   "metadata": {},
   "source": [
    "#### Second variant\n",
    "\n",
    "To show the second variant, it is necessary to terminate and reset the FMU instance. Then, as before, the setup command must be called for the FMU. "
   ]
  },
  {
   "cell_type": "code",
   "execution_count": 17,
   "metadata": {
    "execution": {
     "iopub.execute_input": "2022-09-27T22:37:22.390000Z",
     "iopub.status.busy": "2022-09-27T22:37:22.389000Z",
     "iopub.status.idle": "2022-09-27T22:37:22.391000Z",
     "shell.execute_reply": "2022-09-27T22:37:22.391000Z"
    }
   },
   "outputs": [
    {
     "data": {
      "text/plain": [
       "0x00000000"
      ]
     },
     "execution_count": 17,
     "metadata": {},
     "output_type": "execute_result"
    }
   ],
   "source": [
    "fmiTerminate(myFMU)\n",
    "fmiReset(myFMU)\n",
    "fmiSetupExperiment(myFMU, tStart, tStop)"
   ]
  },
  {
   "cell_type": "markdown",
   "metadata": {},
   "source": [
    "To make sure that the functions work it is necessary to generate random numbers again. As shown already, we call the defined function `generateRandomNumbers()` and output the values."
   ]
  },
  {
   "cell_type": "code",
   "execution_count": 18,
   "metadata": {
    "execution": {
     "iopub.execute_input": "2022-09-27T22:37:22.394000Z",
     "iopub.status.busy": "2022-09-27T22:37:22.394000Z",
     "iopub.status.idle": "2022-09-27T22:37:22.408000Z",
     "shell.execute_reply": "2022-09-27T22:37:22.408000Z"
    }
   },
   "outputs": [
    {
     "data": {
      "text/plain": [
       "(2.932815426796931, true, 21, \"Random number 89.74878711547427!\")"
      ]
     },
     "execution_count": 18,
     "metadata": {},
     "output_type": "execute_result"
    }
   ],
   "source": [
    "rndReal, rndBoolean, rndInteger, rndString = generateRandomNumbers()"
   ]
  },
  {
   "cell_type": "markdown",
   "metadata": {},
   "source": [
    "In the second variant, the value for each data type is set separately by the corresponding command. By this variant one has the maximum control and can be sure that also the correct data type is set. "
   ]
  },
  {
   "cell_type": "code",
   "execution_count": 19,
   "metadata": {
    "execution": {
     "iopub.execute_input": "2022-09-27T22:37:22.411000Z",
     "iopub.status.busy": "2022-09-27T22:37:22.411000Z",
     "iopub.status.idle": "2022-09-27T22:37:22.722000Z",
     "shell.execute_reply": "2022-09-27T22:37:22.721000Z"
    }
   },
   "outputs": [
    {
     "data": {
      "text/plain": [
       "0x00000000"
      ]
     },
     "execution_count": 19,
     "metadata": {},
     "output_type": "execute_result"
    }
   ],
   "source": [
    "fmiSetReal(myFMU, \"p_real\", rndReal)\n",
    "fmiSetBoolean(myFMU, \"p_boolean\", rndBoolean)\n",
    "fmiSetInteger(myFMU, \"p_integer\", rndInteger)\n",
    "fmiSetString(myFMU, \"p_string\", rndString)"
   ]
  },
  {
   "cell_type": "markdown",
   "metadata": {},
   "source": [
    "To illustrate the functionality of the parameterization with the separate functions, the corresponding get function can be also called separately for each data type:\n",
    "* `fmiSetReal()` &#8660; `fmiGetReal()`\n",
    "* `fmiSetBoolean()` &#8660; `fmiGetBoolean()`\n",
    "* `fmiSetInteger()` &#8660; `fmiGetInteger()`\n",
    "* `fmiSetString()` &#8660; `fmiGetString()`.\n",
    "\n",
    "As before, the FMU must be in initialization mode."
   ]
  },
  {
   "cell_type": "code",
   "execution_count": 20,
   "metadata": {
    "execution": {
     "iopub.execute_input": "2022-09-27T22:37:22.726000Z",
     "iopub.status.busy": "2022-09-27T22:37:22.726000Z",
     "iopub.status.idle": "2022-09-27T22:37:22.727000Z",
     "shell.execute_reply": "2022-09-27T22:37:22.727000Z"
    }
   },
   "outputs": [
    {
     "data": {
      "text/plain": [
       "0x00000000"
      ]
     },
     "execution_count": 20,
     "metadata": {},
     "output_type": "execute_result"
    }
   ],
   "source": [
    "fmiEnterInitializationMode(myFMU)\n",
    "# fmiGetReal(myFMU, \"u_real\")\n",
    "# fmiGetBoolean(myFMU, \"u_boolean\")\n",
    "# fmiGetInteger(myFMU, \"u_integer\")\n",
    "# fmiGetString(myFMU, \"p_string\")\n",
    "fmiExitInitializationMode(myFMU)"
   ]
  },
  {
   "cell_type": "markdown",
   "metadata": {},
   "source": [
    "From here on, you may want to simulate the FMU. Please note, that with the default `executionConfig`, it is necessary to prevent a new instantiation using the keyword `instantiate=false`. Otherwise, a new instance is allocated for the simulation-call and the parameters set for the previous instance are not transfered."
   ]
  },
  {
   "cell_type": "code",
   "execution_count": 21,
   "metadata": {
    "execution": {
     "iopub.execute_input": "2022-09-27T22:37:22.732000Z",
     "iopub.status.busy": "2022-09-27T22:37:22.731000Z",
     "iopub.status.idle": "2022-09-27T22:37:23.350000Z",
     "shell.execute_reply": "2022-09-27T22:37:23.350000Z"
    }
   },
   "outputs": [
    {
     "data": {
      "text/plain": [
       "Model name:\n",
       "\tIO\n",
       "Success:\n",
       "\ttrue\n",
       "Values [2]:\n",
       "\t0.0\t(2.932815426796931, 1.0, 21.0)\n",
       "\t1.0\t(2.932815426796931, 1.0, 21.0)\n",
       "Events [0]:\n"
      ]
     },
     "execution_count": 21,
     "metadata": {},
     "output_type": "execute_result"
    }
   ],
   "source": [
    "simData = fmiSimulate(myFMU, tStart, tStop; recordValues=params[1:3], saveat=tSave, \n",
    "                        instantiate=false, setup=false)"
   ]
  },
  {
   "cell_type": "markdown",
   "metadata": {},
   "source": [
    "### Unload FMU\n",
    "\n",
    "The FMU will be unloaded and all unpacked data on disc will be removed."
   ]
  },
  {
   "cell_type": "code",
   "execution_count": 22,
   "metadata": {
    "execution": {
     "iopub.execute_input": "2022-09-27T22:37:23.354000Z",
     "iopub.status.busy": "2022-09-27T22:37:23.354000Z",
     "iopub.status.idle": "2022-09-27T22:37:23.399000Z",
     "shell.execute_reply": "2022-09-27T22:37:23.399000Z"
    }
   },
   "outputs": [],
   "source": [
    "fmiUnload(myFMU)"
   ]
  },
  {
   "cell_type": "markdown",
   "metadata": {},
   "source": [
    "### Summary\n",
    "\n",
    "Based on this tutorial it can be seen that there are two different variants to set and get parameters.These examples should make it clear to the user how parameters can also be set with different data types. As a small reminder, the sequence of commands for the manual parameterization of an FMU is summarized again. \n",
    "\n",
    "`fmiLoad()` &#8594; `fmiInstantiate!()` &#8594; `fmiSetupExperiment()` &#8594; `fmiSetXXX()` &#8594; `fmiEnterInitializationMode()` &#8594; `fmiGetXXX()` &#8594; `fmiExitInitializationMode()` &#8594; `fmiSimualte()` &#8594; `fmiUnload()`"
   ]
  }
 ],
 "metadata": {
  "interpreter": {
   "hash": "037537ff7419c497b9325f7d495147943224d408cf5d5ed915294a5b960167b0"
  },
  "jupytext": {
   "cell_metadata_filter": "-all",
   "comment_magics": "false",
   "notebook_metadata_filter": "-all"
  },
  "kernelspec": {
   "display_name": "Julia 1.6.6",
   "language": "julia",
   "name": "julia-1.6"
  },
  "language_info": {
   "file_extension": ".jl",
   "mimetype": "application/julia",
   "name": "julia",
   "version": "1.6.7"
  },
  "nteract": {
   "version": "0.28.0"
  }
 },
 "nbformat": 4,
 "nbformat_minor": 2
}
