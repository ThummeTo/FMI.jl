{
 "cells": [
  {
   "cell_type": "markdown",
   "metadata": {},
   "source": [
    "# Manually parameterize an FMU\n",
    "Tutorial by Johannes Stoljar, Tobias Thummerer\n",
    "\n",
    "## License"
   ]
  },
  {
   "cell_type": "code",
   "execution_count": null,
   "metadata": {
    "execution": {
     "iopub.execute_input": "2022-10-22T13:26:47.623000Z",
     "iopub.status.busy": "2022-10-22T13:26:46.768000Z",
     "iopub.status.idle": "2022-10-22T13:26:47.904000Z",
     "shell.execute_reply": "2022-10-22T13:26:47.830000Z"
    }
   },
   "outputs": [],
   "source": [
    "# Copyright (c) 2021 Tobias Thummerer, Lars Mikelsons, Josef Kircher, Johannes Stoljar\n",
    "# Licensed under the MIT license. \n",
    "# See LICENSE (https://github.com/thummeto/FMI.jl/blob/main/LICENSE) file in the project root for details."
   ]
  },
  {
   "attachments": {},
   "cell_type": "markdown",
   "metadata": {},
   "source": [
    "## Motivation\n",
    "This Julia Package *FMI.jl* is motivated by the use of simulation models in Julia. Here the FMI specification is implemented. FMI (*Functional Mock-up Interface*) is a free standard ([fmi-standard.org](http://fmi-standard.org/)) that defines a container and an interface to exchange dynamic models using a combination of XML files, binaries and C code zipped into a single file. The user can thus use simulation models in the form of an FMU (*Functional Mock-up Units*). Besides loading the FMU, the user can also set values for parameters and states and simulate the FMU both as co-simulation and model exchange simulation.\n",
    "\n",
    "## Introduction to the example\n",
    "This example shows how the manually parameterization of an FMU works if very specific adjustments during system initialization is needed. For this purpose, an IO-FMU model is loaded and the various commands for parameterization are shown on the basis of this model. With this example the user shall be guided how to make certain settings at an FMU. Please note, that parameterization of a simulation is possible in a much easier fashion: Using `fmiSimulate`, `fmiSimulateME` or `fmiSimulateCS` together with a parameter dictionary for the keyword `parameters`.\n",
    "\n",
    "## Target group\n",
    "The example is primarily intended for users who work in the field of simulation exchange. The example wants to show how simple it is to use FMUs in Julia.\n",
    "\n",
    "\n",
    "## Other formats\n",
    "Besides, this [Jupyter Notebook](https://github.com/thummeto/FMI.jl/blob/examples/examples/src/parameterize.ipynb) there is also a [Julia file](https://github.com/thummeto/FMI.jl/blob/examples/examples/src/parameterize.jl) with the same name, which contains only the code cells and for the documentation there is a [Markdown file](https://github.com/thummeto/FMI.jl/blob/examples/examples/src/parameterize.md) corresponding to the notebook.  \n",
    "\n",
    "\n",
    "## Getting started\n",
    "\n",
    "### Installation prerequisites\n",
    "|     | Description                       | Command                   | Alternative                                    |   \n",
    "|:----|:----------------------------------|:--------------------------|:-----------------------------------------------|\n",
    "| 1.  | Enter Package Manager via         | ]                         |                                                |\n",
    "| 2.  | Install FMI via                   | add FMI                   | add \" https://github.com/ThummeTo/FMI.jl \"     |\n",
    "| 3.  | Install FMIZoo via                | add FMIZoo                | add \" https://github.com/ThummeTo/FMIZoo.jl \"  |"
   ]
  },
  {
   "cell_type": "markdown",
   "metadata": {},
   "source": [
    "## Code section\n",
    "\n",
    "To run the example, the previously installed packages must be included. "
   ]
  },
  {
   "cell_type": "code",
   "execution_count": null,
   "metadata": {
    "execution": {
     "iopub.execute_input": "2022-10-22T13:26:47.908000Z",
     "iopub.status.busy": "2022-10-22T13:26:47.907000Z",
     "iopub.status.idle": "2022-10-22T13:27:21.215000Z",
     "shell.execute_reply": "2022-10-22T13:27:21.215000Z"
    },
    "scrolled": false
   },
   "outputs": [],
   "source": [
    "# imports\n",
    "using FMI\n",
    "using FMIZoo"
   ]
  },
  {
   "cell_type": "markdown",
   "metadata": {},
   "source": [
    "### Simulation setup\n",
    "\n",
    "Next, the start time and end time of the simulation are set."
   ]
  },
  {
   "cell_type": "code",
   "execution_count": null,
   "metadata": {
    "execution": {
     "iopub.execute_input": "2022-10-22T13:27:21.476000Z",
     "iopub.status.busy": "2022-10-22T13:27:21.219000Z",
     "iopub.status.idle": "2022-10-22T13:27:25.399000Z",
     "shell.execute_reply": "2022-10-22T13:27:25.398000Z"
    },
    "scrolled": false
   },
   "outputs": [],
   "source": [
    "tStart = 0.0\n",
    "tStop = 1.0\n",
    "tSave = collect(tStart:tStop)"
   ]
  },
  {
   "cell_type": "markdown",
   "metadata": {},
   "source": [
    "### Import FMU\n",
    "\n",
    "In the next lines of code the FMU model from *FMIZoo.jl* is loaded and the information about the FMU is shown."
   ]
  },
  {
   "cell_type": "code",
   "execution_count": null,
   "metadata": {
    "execution": {
     "iopub.execute_input": "2022-10-22T13:27:25.403000Z",
     "iopub.status.busy": "2022-10-22T13:27:25.403000Z",
     "iopub.status.idle": "2022-10-22T13:27:30.244000Z",
     "shell.execute_reply": "2022-10-22T13:27:30.244000Z"
    },
    "scrolled": false
   },
   "outputs": [],
   "source": [
    "# we use an FMU from the FMIZoo.jl\n",
    "pathToFMU = get_model_filename(\"IO\", \"Dymola\", \"2022x\")\n",
    "\n",
    "myFMU = fmiLoad(pathToFMU)\n",
    "fmiInfo(myFMU)"
   ]
  },
  {
   "cell_type": "markdown",
   "metadata": {},
   "source": [
    "### Instantiate and Setup FMU\n",
    "\n",
    "Next it is necessary to create an instance of the FMU. This is achieved by the command `fmiInstantiate!()`."
   ]
  },
  {
   "cell_type": "code",
   "execution_count": null,
   "metadata": {
    "execution": {
     "iopub.execute_input": "2022-10-22T13:27:30.247000Z",
     "iopub.status.busy": "2022-10-22T13:27:30.247000Z",
     "iopub.status.idle": "2022-10-22T13:27:31.208000Z",
     "shell.execute_reply": "2022-10-22T13:27:31.208000Z"
    }
   },
   "outputs": [],
   "source": [
    "fmiInstantiate!(myFMU; loggingOn=true)"
   ]
  },
  {
   "cell_type": "markdown",
   "metadata": {},
   "source": [
    "In the following code block, start and end time for the simulation is set by the `fmiSetupExperiment()` command."
   ]
  },
  {
   "cell_type": "code",
   "execution_count": null,
   "metadata": {
    "execution": {
     "iopub.execute_input": "2022-10-22T13:27:31.212000Z",
     "iopub.status.busy": "2022-10-22T13:27:31.212000Z",
     "iopub.status.idle": "2022-10-22T13:27:31.657000Z",
     "shell.execute_reply": "2022-10-22T13:27:31.656000Z"
    }
   },
   "outputs": [],
   "source": [
    "fmiSetupExperiment(myFMU, tStart, tStop)"
   ]
  },
  {
   "cell_type": "markdown",
   "metadata": {},
   "source": [
    "### Parameterize FMU\n",
    "\n",
    "In this example, for each data type (`real`, `boolean`, `integer` and `string`) a corresponding input or parameter is selected. From here on, the inputs and parameters will be referred to as parameters for simplicity."
   ]
  },
  {
   "cell_type": "code",
   "execution_count": null,
   "metadata": {
    "execution": {
     "iopub.execute_input": "2022-10-22T13:27:31.661000Z",
     "iopub.status.busy": "2022-10-22T13:27:31.660000Z",
     "iopub.status.idle": "2022-10-22T13:27:33.084000Z",
     "shell.execute_reply": "2022-10-22T13:27:33.084000Z"
    }
   },
   "outputs": [],
   "source": [
    "params = [\"p_real\", \"p_boolean\", \"p_integer\", \"p_string\"]"
   ]
  },
  {
   "cell_type": "markdown",
   "metadata": {},
   "source": [
    "At the beginning we want to display the initial state of these parameters, for which the FMU must be in initialization mode. The next function `fmiEnterInitializationMode()` informs the FMU to enter the initialization mode. Before calling this function, the variables can be set. Furthermore, `fmiSetupExperiment()` must be called at least once before calling `fmiEnterInitializationMode()`, in order that the start time is defined."
   ]
  },
  {
   "cell_type": "code",
   "execution_count": null,
   "metadata": {
    "execution": {
     "iopub.execute_input": "2022-10-22T13:27:33.088000Z",
     "iopub.status.busy": "2022-10-22T13:27:33.088000Z",
     "iopub.status.idle": "2022-10-22T13:27:33.164000Z",
     "shell.execute_reply": "2022-10-22T13:27:33.164000Z"
    },
    "scrolled": true
   },
   "outputs": [],
   "source": [
    "fmiEnterInitializationMode(myFMU)"
   ]
  },
  {
   "cell_type": "markdown",
   "metadata": {},
   "source": [
    "The initial state of these parameters are displayed with the function `fmiGet()`."
   ]
  },
  {
   "cell_type": "code",
   "execution_count": null,
   "metadata": {
    "execution": {
     "iopub.execute_input": "2022-10-22T13:27:33.168000Z",
     "iopub.status.busy": "2022-10-22T13:27:33.168000Z",
     "iopub.status.idle": "2022-10-22T13:27:36.378000Z",
     "shell.execute_reply": "2022-10-22T13:27:36.378000Z"
    }
   },
   "outputs": [],
   "source": [
    "fmiGet(myFMU, params)"
   ]
  },
  {
   "cell_type": "markdown",
   "metadata": {},
   "source": [
    "The initialization mode is terminated with the function `fmiExitInitializationMode()`. (For the model exchange FMU type, this function switches off all initialization equations, and enters the event mode implicitly.)"
   ]
  },
  {
   "cell_type": "code",
   "execution_count": null,
   "metadata": {
    "execution": {
     "iopub.execute_input": "2022-10-22T13:27:36.383000Z",
     "iopub.status.busy": "2022-10-22T13:27:36.382000Z",
     "iopub.status.idle": "2022-10-22T13:27:36.453000Z",
     "shell.execute_reply": "2022-10-22T13:27:36.453000Z"
    }
   },
   "outputs": [],
   "source": [
    "fmiExitInitializationMode(myFMU)"
   ]
  },
  {
   "cell_type": "markdown",
   "metadata": {},
   "source": [
    "In the next step, a function is defined that generates a random value for each parameter. For the parameter `p_string` a random number is inserted into the string. All parameters are combined to a tuple and output."
   ]
  },
  {
   "cell_type": "code",
   "execution_count": null,
   "metadata": {
    "execution": {
     "iopub.execute_input": "2022-10-22T13:27:36.457000Z",
     "iopub.status.busy": "2022-10-22T13:27:36.457000Z",
     "iopub.status.idle": "2022-10-22T13:27:37.435000Z",
     "shell.execute_reply": "2022-10-22T13:27:37.435000Z"
    }
   },
   "outputs": [],
   "source": [
    "function generateRandomNumbers()\n",
    "    rndReal = 100 * rand()\n",
    "    rndBoolean = rand() > 0.5\n",
    "    rndInteger = round(Integer, 100 * rand())\n",
    "    rndString = \"Random number $(100 * rand())!\"\n",
    "\n",
    "    return rndReal, rndBoolean, rndInteger, rndString\n",
    "end"
   ]
  },
  {
   "cell_type": "markdown",
   "metadata": {},
   "source": [
    "The previously defined function is called and the results are displayed in the console."
   ]
  },
  {
   "cell_type": "code",
   "execution_count": null,
   "metadata": {
    "execution": {
     "iopub.execute_input": "2022-10-22T13:27:37.439000Z",
     "iopub.status.busy": "2022-10-22T13:27:37.439000Z",
     "iopub.status.idle": "2022-10-22T13:27:38.222000Z",
     "shell.execute_reply": "2022-10-22T13:27:38.222000Z"
    }
   },
   "outputs": [],
   "source": [
    "paramsVal = generateRandomNumbers()"
   ]
  },
  {
   "cell_type": "markdown",
   "metadata": {},
   "source": [
    "#### First variant\n",
    "\n",
    "To show the first variant, it is necessary to terminate and reset the FMU instance. Then, as before, the setup command must be called for the FMU. "
   ]
  },
  {
   "cell_type": "code",
   "execution_count": null,
   "metadata": {
    "execution": {
     "iopub.execute_input": "2022-10-22T13:27:38.225000Z",
     "iopub.status.busy": "2022-10-22T13:27:38.225000Z",
     "iopub.status.idle": "2022-10-22T13:27:38.411000Z",
     "shell.execute_reply": "2022-10-22T13:27:38.411000Z"
    }
   },
   "outputs": [],
   "source": [
    "fmiTerminate(myFMU)\n",
    "fmiReset(myFMU)\n",
    "fmiSetupExperiment(myFMU, tStart, tStop)"
   ]
  },
  {
   "cell_type": "markdown",
   "metadata": {},
   "source": [
    "In the next step it is possible to set the parameters for the FMU. With the first variant it is quickly possible to set all parameters at once. Even different data types can be set with only one command. The command `fmiSet()` selects itself which function is chosen for which data type.  As long as the output of the function gives the status code 0, setting the parameters has worked."
   ]
  },
  {
   "cell_type": "code",
   "execution_count": null,
   "metadata": {
    "execution": {
     "iopub.execute_input": "2022-10-22T13:27:38.415000Z",
     "iopub.status.busy": "2022-10-22T13:27:38.415000Z",
     "iopub.status.idle": "2022-10-22T13:27:40.852000Z",
     "shell.execute_reply": "2022-10-22T13:27:40.852000Z"
    }
   },
   "outputs": [],
   "source": [
    "fmiSet(myFMU, params, collect(paramsVal))"
   ]
  },
  {
   "cell_type": "markdown",
   "metadata": {},
   "source": [
    "After setting the parameters, it can be checked whether the corresponding parameters were set correctly. For this the function `fmiGet()` can be used as above. To be able to call the function `fmiGet()` the FMU must be in initialization mode."
   ]
  },
  {
   "cell_type": "code",
   "execution_count": null,
   "metadata": {
    "execution": {
     "iopub.execute_input": "2022-10-22T13:27:40.856000Z",
     "iopub.status.busy": "2022-10-22T13:27:40.856000Z",
     "iopub.status.idle": "2022-10-22T13:27:40.857000Z",
     "shell.execute_reply": "2022-10-22T13:27:40.857000Z"
    }
   },
   "outputs": [],
   "source": [
    "fmiEnterInitializationMode(myFMU)\n",
    "# fmiGet(myFMU, params)\n",
    "fmiExitInitializationMode(myFMU)"
   ]
  },
  {
   "cell_type": "markdown",
   "metadata": {},
   "source": [
    "Now the FMU has been initialized correctly, the FMU can be simulated. The `fmiSimulate()` command is used for this purpose. It must be pointed out that the keywords `instantiate=false`, `setup=false` must be set. The keyword `instantiate=false` prevents the simulation command from creating a new FMU instance, otherwise our parameterization will be lost. The keyword `setup=false` prevents the FMU from calling the initialization mode again. The additionally listed keyword `freeInstance=false` prevents that the instance is removed after the simulation. This is only needed in this example, because we want to continue working on the created instance. Another keyword is the `recordValues=parmas[1:3]`, which saves: `p_real`, `p_boolean` and `p_integer` as output. It should be noted that the `fmiSimulate()` function is not capable of outputting string values, so `p_string` is omitted."
   ]
  },
  {
   "cell_type": "code",
   "execution_count": null,
   "metadata": {
    "execution": {
     "iopub.execute_input": "2022-10-22T13:27:40.861000Z",
     "iopub.status.busy": "2022-10-22T13:27:40.861000Z",
     "iopub.status.idle": "2022-10-22T13:27:51.266000Z",
     "shell.execute_reply": "2022-10-22T13:27:51.265000Z"
    }
   },
   "outputs": [],
   "source": [
    "simData = fmiSimulate(myFMU, (tStart, tStop); recordValues=params[1:3], saveat=tSave, \n",
    "                        instantiate=false, setup=false, freeInstance=false, terminate=false, reset=false)"
   ]
  },
  {
   "cell_type": "markdown",
   "metadata": {},
   "source": [
    "#### Second variant\n",
    "\n",
    "To show the second variant, it is necessary to terminate and reset the FMU instance. Then, as before, the setup command must be called for the FMU. "
   ]
  },
  {
   "cell_type": "code",
   "execution_count": null,
   "metadata": {
    "execution": {
     "iopub.execute_input": "2022-10-22T13:27:51.270000Z",
     "iopub.status.busy": "2022-10-22T13:27:51.269000Z",
     "iopub.status.idle": "2022-10-22T13:27:51.271000Z",
     "shell.execute_reply": "2022-10-22T13:27:51.271000Z"
    }
   },
   "outputs": [],
   "source": [
    "fmiTerminate(myFMU)\n",
    "fmiReset(myFMU)\n",
    "fmiSetupExperiment(myFMU, tStart, tStop)"
   ]
  },
  {
   "cell_type": "markdown",
   "metadata": {},
   "source": [
    "To make sure that the functions work it is necessary to generate random numbers again. As shown already, we call the defined function `generateRandomNumbers()` and output the values."
   ]
  },
  {
   "cell_type": "code",
   "execution_count": null,
   "metadata": {
    "execution": {
     "iopub.execute_input": "2022-10-22T13:27:51.275000Z",
     "iopub.status.busy": "2022-10-22T13:27:51.275000Z",
     "iopub.status.idle": "2022-10-22T13:27:51.288000Z",
     "shell.execute_reply": "2022-10-22T13:27:51.288000Z"
    }
   },
   "outputs": [],
   "source": [
    "rndReal, rndBoolean, rndInteger, rndString = generateRandomNumbers()"
   ]
  },
  {
   "cell_type": "markdown",
   "metadata": {},
   "source": [
    "In the second variant, the value for each data type is set separately by the corresponding command. By this variant one has the maximum control and can be sure that also the correct data type is set. "
   ]
  },
  {
   "cell_type": "code",
   "execution_count": null,
   "metadata": {
    "execution": {
     "iopub.execute_input": "2022-10-22T13:27:51.291000Z",
     "iopub.status.busy": "2022-10-22T13:27:51.291000Z",
     "iopub.status.idle": "2022-10-22T13:27:51.615000Z",
     "shell.execute_reply": "2022-10-22T13:27:51.615000Z"
    }
   },
   "outputs": [],
   "source": [
    "fmiSetReal(myFMU, \"p_real\", rndReal)\n",
    "fmiSetBoolean(myFMU, \"p_boolean\", rndBoolean)\n",
    "fmiSetInteger(myFMU, \"p_integer\", rndInteger)\n",
    "fmiSetString(myFMU, \"p_string\", rndString)"
   ]
  },
  {
   "cell_type": "markdown",
   "metadata": {},
   "source": [
    "To illustrate the functionality of the parameterization with the separate functions, the corresponding get function can be also called separately for each data type:\n",
    "* `fmiSetReal()` &#8660; `fmiGetReal()`\n",
    "* `fmiSetBoolean()` &#8660; `fmiGetBoolean()`\n",
    "* `fmiSetInteger()` &#8660; `fmiGetInteger()`\n",
    "* `fmiSetString()` &#8660; `fmiGetString()`.\n",
    "\n",
    "As before, the FMU must be in initialization mode."
   ]
  },
  {
   "cell_type": "code",
   "execution_count": null,
   "metadata": {
    "execution": {
     "iopub.execute_input": "2022-10-22T13:27:51.619000Z",
     "iopub.status.busy": "2022-10-22T13:27:51.619000Z",
     "iopub.status.idle": "2022-10-22T13:27:51.620000Z",
     "shell.execute_reply": "2022-10-22T13:27:51.620000Z"
    }
   },
   "outputs": [],
   "source": [
    "fmiEnterInitializationMode(myFMU)\n",
    "# fmiGetReal(myFMU, \"u_real\")\n",
    "# fmiGetBoolean(myFMU, \"u_boolean\")\n",
    "# fmiGetInteger(myFMU, \"u_integer\")\n",
    "# fmiGetString(myFMU, \"p_string\")\n",
    "fmiExitInitializationMode(myFMU)"
   ]
  },
  {
   "cell_type": "markdown",
   "metadata": {},
   "source": [
    "From here on, you may want to simulate the FMU. Please note, that with the default `executionConfig`, it is necessary to prevent a new instantiation using the keyword `instantiate=false`. Otherwise, a new instance is allocated for the simulation-call and the parameters set for the previous instance are not transfered."
   ]
  },
  {
   "cell_type": "code",
   "execution_count": null,
   "metadata": {
    "execution": {
     "iopub.execute_input": "2022-10-22T13:27:51.624000Z",
     "iopub.status.busy": "2022-10-22T13:27:51.624000Z",
     "iopub.status.idle": "2022-10-22T13:27:52.288000Z",
     "shell.execute_reply": "2022-10-22T13:27:52.288000Z"
    }
   },
   "outputs": [],
   "source": [
    "simData = fmiSimulate(myFMU, (tStart, tStop); recordValues=params[1:3], saveat=tSave, \n",
    "                        instantiate=false, setup=false)"
   ]
  },
  {
   "cell_type": "markdown",
   "metadata": {},
   "source": [
    "### Unload FMU\n",
    "\n",
    "The FMU will be unloaded and all unpacked data on disc will be removed."
   ]
  },
  {
   "cell_type": "code",
   "execution_count": null,
   "metadata": {
    "execution": {
     "iopub.execute_input": "2022-10-22T13:27:52.293000Z",
     "iopub.status.busy": "2022-10-22T13:27:52.292000Z",
     "iopub.status.idle": "2022-10-22T13:27:52.330000Z",
     "shell.execute_reply": "2022-10-22T13:27:52.329000Z"
    }
   },
   "outputs": [],
   "source": [
    "fmiUnload(myFMU)"
   ]
  },
  {
   "cell_type": "markdown",
   "metadata": {},
   "source": [
    "### Summary\n",
    "\n",
    "Based on this tutorial it can be seen that there are two different variants to set and get parameters.These examples should make it clear to the user how parameters can also be set with different data types. As a small reminder, the sequence of commands for the manual parameterization of an FMU is summarized again. \n",
    "\n",
    "`fmiLoad()` &#8594; `fmiInstantiate!()` &#8594; `fmiSetupExperiment()` &#8594; `fmiSetXXX()` &#8594; `fmiEnterInitializationMode()` &#8594; `fmiGetXXX()` &#8594; `fmiExitInitializationMode()` &#8594; `fmiSimualte()` &#8594; `fmiUnload()`"
   ]
  }
 ],
 "metadata": {
  "interpreter": {
   "hash": "037537ff7419c497b9325f7d495147943224d408cf5d5ed915294a5b960167b0"
  },
  "jupytext": {
   "cell_metadata_filter": "-all",
   "comment_magics": "false",
   "notebook_metadata_filter": "-all"
  },
  "kernelspec": {
   "display_name": "Julia 1.8.2",
   "language": "julia",
   "name": "julia-1.8"
  },
  "language_info": {
   "file_extension": ".jl",
   "mimetype": "application/julia",
   "name": "julia",
   "version": "1.8.2"
  },
  "nteract": {
   "version": "0.28.0"
  }
 },
 "nbformat": 4,
 "nbformat_minor": 2
}
