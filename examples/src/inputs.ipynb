{
 "cells": [
  {
   "attachments": {},
   "cell_type": "markdown",
   "metadata": {},
   "source": [
    "# Simulate an FMU with inputs\n",
    "Tutorial by Tobias Thummerer\n",
    "\n",
    "## License"
   ]
  },
  {
   "cell_type": "code",
   "execution_count": null,
   "metadata": {
    "execution": {
     "iopub.execute_input": "2022-10-22T13:28:04.723000Z",
     "iopub.status.busy": "2022-10-22T13:28:04.017000Z",
     "iopub.status.idle": "2022-10-22T13:28:04.999000Z",
     "shell.execute_reply": "2022-10-22T13:28:04.926000Z"
    }
   },
   "outputs": [],
   "source": [
    "# Copyright (c) 2021 Tobias Thummerer, Lars Mikelsons, Josef Kircher, Johannes Stoljar\n",
    "# Licensed under the MIT license. \n",
    "# See LICENSE (https://github.com/thummeto/FMI.jl/blob/main/LICENSE) file in the project root for details."
   ]
  },
  {
   "cell_type": "markdown",
   "metadata": {},
   "source": [
    "## Introduction to the example\n",
    "This example shows how to add custom inputs to a FMU, that are used during simulation.\n",
    "\n",
    "## Other formats\n",
    "Besides, this [Jupyter Notebook](https://github.com/thummeto/FMI.jl/blob/examples/examples/src/inputs.ipynb) there is also a [Julia file](https://github.com/thummeto/FMI.jl/blob/examples/examples/src/inputs.jl) with the same name, which contains only the code cells and for the documentation there is a [Markdown file](https://github.com/thummeto/FMI.jl/blob/examples/examples/src/inputs.md) corresponding to the notebook.  \n",
    "\n",
    "## Code section"
   ]
  },
  {
   "cell_type": "code",
   "execution_count": null,
   "metadata": {
    "execution": {
     "iopub.execute_input": "2022-10-22T13:28:05.004000Z",
     "iopub.status.busy": "2022-10-22T13:28:05.004000Z",
     "iopub.status.idle": "2022-10-22T13:28:49.082000Z",
     "shell.execute_reply": "2022-10-22T13:28:49.082000Z"
    },
    "scrolled": false
   },
   "outputs": [],
   "source": [
    "# imports\n",
    "using FMI\n",
    "using FMIZoo\n",
    "using Plots"
   ]
  },
  {
   "cell_type": "markdown",
   "metadata": {},
   "source": [
    "### Simulation setup\n",
    "\n",
    "Next, the start time and end time of the simulation are set. Finally, a step size is specified to store the results of the simulation at these time steps."
   ]
  },
  {
   "cell_type": "code",
   "execution_count": null,
   "metadata": {
    "execution": {
     "iopub.execute_input": "2022-10-22T13:28:51.448000Z",
     "iopub.status.busy": "2022-10-22T13:28:49.085000Z",
     "iopub.status.idle": "2022-10-22T13:28:52.234000Z",
     "shell.execute_reply": "2022-10-22T13:28:52.233000Z"
    },
    "scrolled": false
   },
   "outputs": [],
   "source": [
    "tStart = 0.0\n",
    "tStep = 0.01\n",
    "tStop = 8.0\n",
    "tSave = tStart:tStep:tStop"
   ]
  },
  {
   "cell_type": "markdown",
   "metadata": {},
   "source": [
    "### Import FMU\n",
    "\n",
    "Next, the FMU model from *FMIZoo.jl* is loaded."
   ]
  },
  {
   "cell_type": "code",
   "execution_count": null,
   "metadata": {
    "execution": {
     "iopub.execute_input": "2022-10-22T13:28:52.238000Z",
     "iopub.status.busy": "2022-10-22T13:28:52.237000Z",
     "iopub.status.idle": "2022-10-22T13:28:57.034000Z",
     "shell.execute_reply": "2022-10-22T13:28:57.034000Z"
    },
    "scrolled": false
   },
   "outputs": [],
   "source": [
    "# we use an FMU from the FMIZoo.jl\n",
    "fmu = fmiLoad(\"SpringPendulumExtForce1D\", \"Dymola\", \"2022x\"; type=:ME) # load FMU in ME-Mode (\"Model Exchange\")"
   ]
  },
  {
   "attachments": {},
   "cell_type": "markdown",
   "metadata": {},
   "source": [
    "#### Simulate as Model-Exchange\n",
    "\n",
    "In the function `fmiSimulate()` the FMU is simulated with an adaptive step size but with fixed save points `tSave`. In addition, the start and end time are specified. Note, that the dynamics of the input variables are not considered by the steps ize control of the solver, so it is highly recommended to limit the solver step size with the keyword argument `dtmax` if the input is more dynamic than the system."
   ]
  },
  {
   "cell_type": "code",
   "execution_count": null,
   "metadata": {
    "execution": {
     "iopub.execute_input": "2022-10-22T13:29:04.979000Z",
     "iopub.status.busy": "2022-10-22T13:29:04.978000Z",
     "iopub.status.idle": "2022-10-22T13:29:21.052000Z",
     "shell.execute_reply": "2022-10-22T13:29:21.052000Z"
    }
   },
   "outputs": [],
   "source": [
    "# input function format \"t\", dependent on `t` (time)\n",
    "function extForce_t(t::Real, u::AbstractArray{<:Real})\n",
    "    u[1] = sin(t)\n",
    "end \n",
    "\n",
    "# simulate while setting inputs\n",
    "data_extForce_t = fmiSimulate(fmu, (tStart, tStop);                 # FMU, start and stop time\n",
    "                              saveat=tSave,                         # timepoints for the ODE solution to be saved\n",
    "                              inputValueReferences=[\"extForce\"],    # the value references that should be set (inputs)\n",
    "                              inputFunction=extForce_t,             # the input function to be used\n",
    "                              dtmax=1e-2,                           # limit max step size to capture inputs\n",
    "                              showProgress=false)                   # disable progress bar\n",
    "plot(data_extForce_t)"
   ]
  },
  {
   "cell_type": "code",
   "execution_count": null,
   "metadata": {},
   "outputs": [],
   "source": [
    "# input function format \"cxt\", dependent on `c` (component), `x` (state) and `t` (time)\n",
    "function extForce_cxt(c::Union{FMU2Component, Nothing}, x::Union{AbstractArray{fmi2Real}, Nothing}, t::fmi2Real, u::AbstractArray{<:Real}))\n",
    "    x1 = 0.0\n",
    "    if x != nothing # this check is important, because inputs may be needed before the system state is known\n",
    "        x1 = x[1] \n",
    "    end\n",
    "    u[1] =sin(t) * x1\n",
    "end \n",
    "\n",
    "# simulate while setting inputs\n",
    "data_extForce_cxt = fmiSimulate(fmu, (tStart, tStop); saveat=tSave, inputValueReferences=[\"extForce\"], inputFunction=extForce_cxt, dtmax=1e-2, showProgress=false)\n",
    "plot(data_extForce_cxt)"
   ]
  },
  {
   "cell_type": "markdown",
   "metadata": {},
   "source": [
    "### Unload FMU\n",
    "\n",
    "After plotting the data, the FMU is unloaded and all unpacked data on disc is removed."
   ]
  },
  {
   "cell_type": "code",
   "execution_count": null,
   "metadata": {
    "execution": {
     "iopub.execute_input": "2022-10-22T13:30:01.970000Z",
     "iopub.status.busy": "2022-10-22T13:30:01.970000Z",
     "iopub.status.idle": "2022-10-22T13:30:02.010000Z",
     "shell.execute_reply": "2022-10-22T13:30:02.010000Z"
    }
   },
   "outputs": [],
   "source": [
    "fmiUnload(fmu)"
   ]
  }
 ],
 "metadata": {
  "interpreter": {
   "hash": "037537ff7419c497b9325f7d495147943224d408cf5d5ed915294a5b960167b0"
  },
  "jupytext": {
   "cell_metadata_filter": "-all",
   "comment_magics": "false",
   "notebook_metadata_filter": "-all"
  },
  "kernelspec": {
   "display_name": "Julia 1.9.1",
   "language": "julia",
   "name": "julia-1.9"
  },
  "language_info": {
   "file_extension": ".jl",
   "mimetype": "application/julia",
   "name": "julia",
   "version": "1.9.1"
  },
  "nteract": {
   "version": "0.28.0"
  }
 },
 "nbformat": 4,
 "nbformat_minor": 2
}
