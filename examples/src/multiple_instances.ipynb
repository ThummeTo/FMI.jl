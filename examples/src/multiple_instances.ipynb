{
 "cells": [
  {
   "cell_type": "markdown",
   "metadata": {},
   "source": [
    "# Multiple Instances of an FMU\n",
    "Tutorial by Johannes Stoljar, Tobias Thummerer\n",
    "\n",
    "🚧 This tutorial is under revision and will be replaced by an up-to-date version soon 🚧\n",
    "\n",
    "## License"
   ]
  },
  {
   "cell_type": "code",
   "execution_count": null,
   "metadata": {
    "execution": {
     "iopub.execute_input": "2022-10-22T13:18:17.738000Z",
     "iopub.status.busy": "2022-10-22T13:18:17.035000Z",
     "iopub.status.idle": "2022-10-22T13:18:18.022000Z",
     "shell.execute_reply": "2022-10-22T13:18:17.946000Z"
    }
   },
   "outputs": [],
   "source": [
    "# Copyright (c) 2021 Tobias Thummerer, Lars Mikelsons, Josef Kircher, Johannes Stoljar\n",
    "# Licensed under the MIT license. \n",
    "# See LICENSE (https://github.com/thummeto/FMI.jl/blob/main/LICENSE) file in the project root for details."
   ]
  },
  {
   "attachments": {},
   "cell_type": "markdown",
   "metadata": {},
   "source": [
    "## Motivation\n",
    "This Julia Package *FMI.jl* is motivated by the use of simulation models in Julia. Here the FMI specification is implemented. FMI (*Functional Mock-up Interface*) is a free standard ([fmi-standard.org](http://fmi-standard.org/)) that defines a container and an interface to exchange dynamic models using a combination of XML files, binaries and C code zipped into a single file. The user can thus use simulation models in the form of an FMU (*Functional Mock-up Units*). Besides loading the FMU, the user can also set values for parameters and states and simulate the FMU both as co-simulation and model exchange simulation.\n",
    "\n",
    "## Introduction to the example\n",
    "In this example we want to show that it is possible to create different instances of an FMU. The different instances can then be used to run independent simulations. After the FMU has been simulated, the simulation results are displayed in a graph. The used model is a one-dimensional spring pendulum without friction. The object-orientated structure of the *SpringPendulum1D* can be seen in the following graphic.\n",
    "\n",
    "![svg](https://github.com/thummeto/FMI.jl/blob/main/docs/src/examples/pics/SpringPendulum1D.svg?raw=true)  \n",
    "\n",
    "\n",
    "## Target group\n",
    "The example is primarily intended for users who work in the field of simulations. The example wants to show how simple it is to use FMUs in Julia.\n",
    "\n",
    "\n",
    "## Other formats\n",
    "Besides, this [Jupyter Notebook](https://github.com/thummeto/FMI.jl/blob/examples/examples/src/multiple_instances.ipynb) there is also a [Julia file](https://github.com/thummeto/FMI.jl/blob/examples/examples/src/multiple_instances.jl) with the same name, which contains only the code cells and for the documentation there is a [Markdown file](https://github.com/thummeto/FMI.jl/blob/examples/examples/src/multiple_instances.md) corresponding to the notebook.  \n",
    "\n",
    "\n",
    "## Getting started\n",
    "\n",
    "### Installation prerequisites\n",
    "|     | Description                       | Command                   | Alternative                                    |   \n",
    "|:----|:----------------------------------|:--------------------------|:-----------------------------------------------|\n",
    "| 1.  | Enter Package Manager via         | ]                         |                                                |\n",
    "| 2.  | Install FMI via                   | add FMI                   | add \" https://github.com/ThummeTo/FMI.jl \"     |\n",
    "| 3.  | Install FMIZoo via                | add FMIZoo                | add \" https://github.com/ThummeTo/FMIZoo.jl \"  |\n",
    "| 4.  | Install Plots via                 | add Plots                 |                                                |"
   ]
  },
  {
   "cell_type": "markdown",
   "metadata": {},
   "source": [
    "## Code section\n",
    "\n",
    "To run the example, the previously installed packages must be included. "
   ]
  },
  {
   "cell_type": "code",
   "execution_count": null,
   "metadata": {
    "execution": {
     "iopub.execute_input": "2022-10-22T13:18:18.025000Z",
     "iopub.status.busy": "2022-10-22T13:18:18.025000Z",
     "iopub.status.idle": "2022-10-22T13:19:02.368000Z",
     "shell.execute_reply": "2022-10-22T13:19:02.368000Z"
    },
    "scrolled": false
   },
   "outputs": [],
   "source": [
    "# imports\n",
    "using FMI\n",
    "using FMIZoo\n",
    "using Plots"
   ]
  },
  {
   "cell_type": "markdown",
   "metadata": {},
   "source": [
    "### Simulation setup\n",
    "\n",
    "Next, the start time and end time of the simulation are set. Finally, the recorded values are specified to store the results of the simulation."
   ]
  },
  {
   "cell_type": "code",
   "execution_count": null,
   "metadata": {
    "execution": {
     "iopub.execute_input": "2022-10-22T13:19:04.768000Z",
     "iopub.status.busy": "2022-10-22T13:19:02.371000Z",
     "iopub.status.idle": "2022-10-22T13:19:08.730000Z",
     "shell.execute_reply": "2022-10-22T13:19:08.730000Z"
    },
    "scrolled": false
   },
   "outputs": [],
   "source": [
    "tStart = 0.0\n",
    "tStop = 8.0\n",
    "\n",
    "vrs = [\"mass.s\"]"
   ]
  },
  {
   "cell_type": "markdown",
   "metadata": {},
   "source": [
    "### Import FMU\n",
    "\n",
    "In the next lines of code the FMU model from *FMIZoo.jl* is loaded and the information about the FMU is shown."
   ]
  },
  {
   "cell_type": "code",
   "execution_count": null,
   "metadata": {
    "execution": {
     "iopub.execute_input": "2022-10-22T13:19:08.735000Z",
     "iopub.status.busy": "2022-10-22T13:19:08.734000Z",
     "iopub.status.idle": "2022-10-22T13:19:14.412000Z",
     "shell.execute_reply": "2022-10-22T13:19:14.412000Z"
    },
    "scrolled": false
   },
   "outputs": [],
   "source": [
    "# we use an FMU from the FMIZoo.jl\n",
    "pathToFMU = get_model_filename(\"SpringPendulum1D\", \"Dymola\", \"2022x\")\n",
    "\n",
    "myFMU = fmiLoad(pathToFMU)\n",
    "fmiInfo(myFMU)"
   ]
  },
  {
   "cell_type": "markdown",
   "metadata": {},
   "source": [
    "### First Instance\n",
    "\n",
    "To create an instance of the FMU it is necessary to call the command `fmiInstantiate!()`. With the component address you now have a unique instance of the FMU."
   ]
  },
  {
   "cell_type": "code",
   "execution_count": null,
   "metadata": {
    "execution": {
     "iopub.execute_input": "2022-10-22T13:19:14.415000Z",
     "iopub.status.busy": "2022-10-22T13:19:14.415000Z",
     "iopub.status.idle": "2022-10-22T13:19:14.932000Z",
     "shell.execute_reply": "2022-10-22T13:19:14.932000Z"
    }
   },
   "outputs": [],
   "source": [
    "comp1 = fmiInstantiate!(myFMU; loggingOn=true)\n",
    "comp1Address= comp1.compAddr\n",
    "println(comp1)"
   ]
  },
  {
   "cell_type": "markdown",
   "metadata": {},
   "source": [
    "Next, a dictionary for the parameters is created. With this dictionary you can set the initial states of the variables of the FMU. For the spring constant `spring.c` a value of $10.0 \\frac{N}{m}$ and for the position of the mass `mass.s` a value of $1.0 m$ is set. The created dictionary with the specified variables for recording are passed to the command for simulation. In addition, other keywords are set. On the one hand the keyword `instantiate=false` is set, which prevents that in the simulation command a new instance is created. On the other hand the keyword `freeInstance=false` is set, this prevents that after the simulation command the instance is released. "
   ]
  },
  {
   "cell_type": "code",
   "execution_count": null,
   "metadata": {
    "execution": {
     "iopub.execute_input": "2022-10-22T13:19:14.936000Z",
     "iopub.status.busy": "2022-10-22T13:19:14.936000Z",
     "iopub.status.idle": "2022-10-22T13:20:06.087000Z",
     "shell.execute_reply": "2022-10-22T13:20:06.087000Z"
    }
   },
   "outputs": [],
   "source": [
    "param1 = Dict(\"spring.c\"=>10.0, \"mass_s0\"=>1.0)\n",
    "data1 = fmiSimulate(comp1, (tStart, tStop); parameters=param1, recordValues=vrs, instantiate=false, freeInstance=false)\n",
    "fig = fmiPlot(data1)"
   ]
  },
  {
   "cell_type": "markdown",
   "metadata": {},
   "source": [
    "For control, you can compare again the address of the instance to the previous address, and it should be the same address. As soon as this is not the case an error would be thrown by the macro `@assert`."
   ]
  },
  {
   "cell_type": "code",
   "execution_count": null,
   "metadata": {
    "execution": {
     "iopub.execute_input": "2022-10-22T13:20:06.093000Z",
     "iopub.status.busy": "2022-10-22T13:20:06.093000Z",
     "iopub.status.idle": "2022-10-22T13:20:06.135000Z",
     "shell.execute_reply": "2022-10-22T13:20:06.135000Z"
    }
   },
   "outputs": [],
   "source": [
    "@assert comp1.compAddr === comp1Address"
   ]
  },
  {
   "cell_type": "markdown",
   "metadata": {},
   "source": [
    "### Second Instance\n",
    "\n",
    "To create a second instance of the FMU it is necessary to call the command `fmiInstantiate!()`. With the component address you now have a unique instance of the FMU."
   ]
  },
  {
   "cell_type": "code",
   "execution_count": null,
   "metadata": {
    "execution": {
     "iopub.execute_input": "2022-10-22T13:20:06.139000Z",
     "iopub.status.busy": "2022-10-22T13:20:06.138000Z",
     "iopub.status.idle": "2022-10-22T13:20:06.141000Z",
     "shell.execute_reply": "2022-10-22T13:20:06.141000Z"
    }
   },
   "outputs": [],
   "source": [
    "comp2 = fmiInstantiate!(myFMU; loggingOn=true)\n",
    "comp2Address= comp2.compAddr\n",
    "println(comp2)"
   ]
  },
  {
   "cell_type": "markdown",
   "metadata": {},
   "source": [
    "The addresses of the instantiated FMUs must differ, and you can see that in the comparison below."
   ]
  },
  {
   "cell_type": "code",
   "execution_count": null,
   "metadata": {
    "execution": {
     "iopub.execute_input": "2022-10-22T13:20:06.145000Z",
     "iopub.status.busy": "2022-10-22T13:20:06.145000Z",
     "iopub.status.idle": "2022-10-22T13:20:06.146000Z",
     "shell.execute_reply": "2022-10-22T13:20:06.146000Z"
    }
   },
   "outputs": [],
   "source": [
    "@assert comp1Address !== comp2Address"
   ]
  },
  {
   "cell_type": "markdown",
   "metadata": {},
   "source": [
    "Again, a dictionary for the parameters is created. With this dictionary you can set the initial states of the variables of the FMU. For the spring constant `spring.c` a value of $1.0 \\frac{N}{m}$ and for the position of the mass `mass.s` a value of $2.0 m$ is set. The created dictionary with the specified variables for recording are passed to the command for simulation. As before, the two keywords `instantiate=false` and `freeInstance=false` are set."
   ]
  },
  {
   "cell_type": "code",
   "execution_count": null,
   "metadata": {
    "execution": {
     "iopub.execute_input": "2022-10-22T13:20:06.148000Z",
     "iopub.status.busy": "2022-10-22T13:20:06.148000Z",
     "iopub.status.idle": "2022-10-22T13:20:06.248000Z",
     "shell.execute_reply": "2022-10-22T13:20:06.248000Z"
    }
   },
   "outputs": [],
   "source": [
    "param2 = Dict(\"spring.c\"=>1.0, \"mass.s\"=>2.0)\n",
    "data2 = fmiSimulateCS(comp2, (tStart, tStop);  parameters=param2, recordValues=vrs, instantiate=false, freeInstance=false)\n",
    "fmiPlot!(fig, data2)"
   ]
  },
  {
   "cell_type": "markdown",
   "metadata": {},
   "source": [
    "For control, you can compare again the address of the instance `comp2` to the previous address `comp2Address` and it should be the same address."
   ]
  },
  {
   "cell_type": "code",
   "execution_count": null,
   "metadata": {
    "execution": {
     "iopub.execute_input": "2022-10-22T13:20:06.256000Z",
     "iopub.status.busy": "2022-10-22T13:20:06.256000Z",
     "iopub.status.idle": "2022-10-22T13:20:06.257000Z",
     "shell.execute_reply": "2022-10-22T13:20:06.257000Z"
    }
   },
   "outputs": [],
   "source": [
    "@assert comp2.compAddr === comp2Address"
   ]
  },
  {
   "cell_type": "markdown",
   "metadata": {},
   "source": [
    "### Unload FMU\n",
    "\n",
    "After plotting the data, the FMU is unloaded and all unpacked data on disc is removed."
   ]
  },
  {
   "cell_type": "code",
   "execution_count": null,
   "metadata": {
    "execution": {
     "iopub.execute_input": "2022-10-22T13:20:06.260000Z",
     "iopub.status.busy": "2022-10-22T13:20:06.259000Z",
     "iopub.status.idle": "2022-10-22T13:20:06.301000Z",
     "shell.execute_reply": "2022-10-22T13:20:06.301000Z"
    }
   },
   "outputs": [],
   "source": [
    "fmiUnload(myFMU)"
   ]
  },
  {
   "cell_type": "markdown",
   "metadata": {},
   "source": [
    "### Summary\n",
    "\n",
    "Based on the example it can be seen that it is possible to create different instances of an FMU. The different instances can then be used to perform different simulations."
   ]
  }
 ],
 "metadata": {
  "interpreter": {
   "hash": "037537ff7419c497b9325f7d495147943224d408cf5d5ed915294a5b960167b0"
  },
  "jupytext": {
   "cell_metadata_filter": "-all",
   "comment_magics": "false",
   "notebook_metadata_filter": "-all"
  },
  "kernelspec": {
   "display_name": "Julia 1.8.2",
   "language": "julia",
   "name": "julia-1.8"
  },
  "language_info": {
   "file_extension": ".jl",
   "mimetype": "application/julia",
   "name": "julia",
   "version": "1.8.2"
  },
  "nteract": {
   "version": "0.28.0"
  }
 },
 "nbformat": 4,
 "nbformat_minor": 2
}
