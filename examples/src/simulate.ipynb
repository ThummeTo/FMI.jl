{
 "cells": [
  {
   "cell_type": "markdown",
   "metadata": {},
   "source": [
    "# Simulate an FMU in different modes\n",
    "Tutorial by Johannes Stoljar, Tobias Thummerer\n",
    "\n",
    "🚧 This tutorial is under revision and will be replaced by an up-to-date version soon 🚧\n",
    "\n",
    "## License"
   ]
  },
  {
   "cell_type": "code",
   "execution_count": null,
   "metadata": {
    "execution": {
     "iopub.execute_input": "2022-10-22T13:28:04.723000Z",
     "iopub.status.busy": "2022-10-22T13:28:04.017000Z",
     "iopub.status.idle": "2022-10-22T13:28:04.999000Z",
     "shell.execute_reply": "2022-10-22T13:28:04.926000Z"
    }
   },
   "outputs": [],
   "source": [
    "# Copyright (c) 2021 Tobias Thummerer, Lars Mikelsons, Josef Kircher, Johannes Stoljar\n",
    "# Licensed under the MIT license. \n",
    "# See LICENSE (https://github.com/thummeto/FMI.jl/blob/main/LICENSE) file in the project root for details."
   ]
  },
  {
   "attachments": {},
   "cell_type": "markdown",
   "metadata": {},
   "source": [
    "## Motivation\n",
    "This Julia Package *FMI.jl* is motivated by the use of simulation models in Julia. Here the FMI specification is implemented. FMI (*Functional Mock-up Interface*) is a free standard ([fmi-standard.org](http://fmi-standard.org/)) that defines a container and an interface to exchange dynamic models using a combination of XML files, binaries and C code zipped into a single file. The user can thus use simulation models in the form of an FMU (*Functional Mock-up Units*). Besides loading the FMU, the user can also set values for parameters and states and simulate the FMU both as co-simulation and model exchange simulation.\n",
    "\n",
    "## Introduction to the example\n",
    "In this example we want to show how fast and easy the simulation for an FMU is. For this purpose, the FMU is simulated in co-simulation mode and in model-exchange mode. After the FMU has been simulated, the simulation results are displayed in a graph. The graphs of the different modes are compared with each other. The used model is a one-dimensional spring pendulum with friction. The object-orientated structure of the *SpringFrictionPendulum1D* can be seen in the following graphic.\n",
    "\n",
    "![svg](https://github.com/thummeto/FMI.jl/blob/main/docs/src/examples/pics/SpringFrictionPendulum1D.svg?raw=true)  \n",
    "\n",
    "\n",
    "## Target group\n",
    "The example is primarily intended for users who work in the field of simulations. The example wants to show how simple it is to use FMUs in Julia.\n",
    "\n",
    "\n",
    "## Other formats\n",
    "Besides, this [Jupyter Notebook](https://github.com/thummeto/FMI.jl/blob/examples/examples/src/simulate.ipynb) there is also a [Julia file](https://github.com/thummeto/FMI.jl/blob/examples/examples/src/simulate.jl) with the same name, which contains only the code cells and for the documentation there is a [Markdown file](https://github.com/thummeto/FMI.jl/blob/examples/examples/src/simulate.md) corresponding to the notebook.  \n",
    "\n",
    "\n",
    "## Getting started\n",
    "\n",
    "### Installation prerequisites\n",
    "|     | Description                       | Command                   | Alternative                                    |   \n",
    "|:----|:----------------------------------|:--------------------------|:-----------------------------------------------|\n",
    "| 1.  | Enter Package Manager via         | ]                         |                                                |\n",
    "| 2.  | Install FMI via                   | add FMI                   | add \" https://github.com/ThummeTo/FMI.jl \"     |\n",
    "| 3.  | Install FMIZoo via                | add FMIZoo                | add \" https://github.com/ThummeTo/FMIZoo.jl \"  |\n",
    "| 4.  | Install Plots via                 | add Plots                 |                                                |"
   ]
  },
  {
   "cell_type": "markdown",
   "metadata": {},
   "source": [
    "## Code section\n",
    "\n",
    "To run the example, the previously installed packages must be included. "
   ]
  },
  {
   "cell_type": "code",
   "execution_count": null,
   "metadata": {
    "execution": {
     "iopub.execute_input": "2022-10-22T13:28:05.004000Z",
     "iopub.status.busy": "2022-10-22T13:28:05.004000Z",
     "iopub.status.idle": "2022-10-22T13:28:49.082000Z",
     "shell.execute_reply": "2022-10-22T13:28:49.082000Z"
    },
    "scrolled": false
   },
   "outputs": [],
   "source": [
    "# imports\n",
    "using FMI\n",
    "using FMIZoo\n",
    "using Plots"
   ]
  },
  {
   "cell_type": "markdown",
   "metadata": {},
   "source": [
    "### Simulation setup\n",
    "\n",
    "Next, the start time and end time of the simulation are set. Finally, a step size is specified to store the results of the simulation at these time steps."
   ]
  },
  {
   "cell_type": "code",
   "execution_count": null,
   "metadata": {
    "execution": {
     "iopub.execute_input": "2022-10-22T13:28:51.448000Z",
     "iopub.status.busy": "2022-10-22T13:28:49.085000Z",
     "iopub.status.idle": "2022-10-22T13:28:52.234000Z",
     "shell.execute_reply": "2022-10-22T13:28:52.233000Z"
    },
    "scrolled": false
   },
   "outputs": [],
   "source": [
    "tStart = 0.0\n",
    "tStep = 0.01\n",
    "tStop = 8.0\n",
    "tSave = tStart:tStep:tStop"
   ]
  },
  {
   "cell_type": "markdown",
   "metadata": {},
   "source": [
    "### Import FMU\n",
    "\n",
    "In the next lines of code the FMU model from *FMIZoo.jl* is loaded and the information about the FMU is shown."
   ]
  },
  {
   "cell_type": "code",
   "execution_count": null,
   "metadata": {
    "execution": {
     "iopub.execute_input": "2022-10-22T13:28:52.238000Z",
     "iopub.status.busy": "2022-10-22T13:28:52.237000Z",
     "iopub.status.idle": "2022-10-22T13:28:57.034000Z",
     "shell.execute_reply": "2022-10-22T13:28:57.034000Z"
    },
    "scrolled": false
   },
   "outputs": [],
   "source": [
    "# we use an FMU from the FMIZoo.jl\n",
    "pathToFMU = get_model_filename(\"SpringFrictionPendulum1D\", \"Dymola\", \"2022x\")\n",
    "\n",
    "myFMU = fmiLoad(pathToFMU)\n",
    "# fmiLoad(\"path/to/myFMU.fmu\"; unpackPath = \"path/to/unpacked/fmu/\")\n",
    "\n",
    "fmiInfo(myFMU)"
   ]
  },
  {
   "cell_type": "markdown",
   "metadata": {},
   "source": [
    "### Simulate FMU\n",
    "\n",
    "In the following, the FMU is simulated in the two different simulation modes.\n",
    "\n",
    "#### Simulate as Co-Simulation\n",
    "\n",
    "In the next steps the recorded values are defined. The first state is the position of the mass and the second state is the velocity. In the function `fmiSimulateCS()` the FMU is simulated in co-simulation mode (CS) with an adaptive step size but with fixed save points `tSave`. In addition, the start and end time and the recorded variables are specified."
   ]
  },
  {
   "cell_type": "code",
   "execution_count": null,
   "metadata": {
    "execution": {
     "iopub.execute_input": "2022-10-22T13:28:57.037000Z",
     "iopub.status.busy": "2022-10-22T13:28:57.037000Z",
     "iopub.status.idle": "2022-10-22T13:29:04.975000Z",
     "shell.execute_reply": "2022-10-22T13:29:04.974000Z"
    }
   },
   "outputs": [],
   "source": [
    "vrs = [\"mass.s\", \"mass.v\"]\n",
    "\n",
    "dataCS = fmiSimulateCS(myFMU, (tStart, tStop); recordValues=vrs, saveat=tSave)"
   ]
  },
  {
   "cell_type": "markdown",
   "metadata": {},
   "source": [
    "#### Simulate as Model-Exchange\n",
    "\n",
    "In the function `fmiSimulateME()` the FMU is simulated in model-exchange mode (ME) with an adaptive step size but with fixed save points `tSave`. In addition, the start and end time are specified. In contrast to the co-simulation, the values to be stored are not specified here, since the states and events of the FMU are always output as well. The identifiers given above just correspond to the states of the FMU."
   ]
  },
  {
   "cell_type": "code",
   "execution_count": null,
   "metadata": {
    "execution": {
     "iopub.execute_input": "2022-10-22T13:29:04.979000Z",
     "iopub.status.busy": "2022-10-22T13:29:04.978000Z",
     "iopub.status.idle": "2022-10-22T13:29:21.052000Z",
     "shell.execute_reply": "2022-10-22T13:29:21.052000Z"
    }
   },
   "outputs": [],
   "source": [
    "dataME = fmiSimulateME(myFMU, (tStart, tStop); saveat=tSave)"
   ]
  },
  {
   "cell_type": "markdown",
   "metadata": {},
   "source": [
    "### Plotting FMU\n",
    "\n",
    "After the simulation is finished the results of the FMU for the co-simulation and model-exchange mode can be plotted. In the plot for the FMU it can be seen that the oscillation continues to decrease due to the effect of the friction. If you simulate long enough, the oscillation comes to a standstill in a certain time."
   ]
  },
  {
   "cell_type": "code",
   "execution_count": null,
   "metadata": {
    "execution": {
     "iopub.execute_input": "2022-10-22T13:29:21.056000Z",
     "iopub.status.busy": "2022-10-22T13:29:21.056000Z",
     "iopub.status.idle": "2022-10-22T13:30:01.756000Z",
     "shell.execute_reply": "2022-10-22T13:30:01.756000Z"
    },
    "scrolled": false
   },
   "outputs": [],
   "source": [
    "fmiPlot(dataCS)"
   ]
  },
  {
   "cell_type": "code",
   "execution_count": null,
   "metadata": {
    "execution": {
     "iopub.execute_input": "2022-10-22T13:30:01.762000Z",
     "iopub.status.busy": "2022-10-22T13:30:01.762000Z",
     "iopub.status.idle": "2022-10-22T13:30:01.964000Z",
     "shell.execute_reply": "2022-10-22T13:30:01.964000Z"
    }
   },
   "outputs": [],
   "source": [
    "fmiPlot(dataME)"
   ]
  },
  {
   "cell_type": "markdown",
   "metadata": {},
   "source": [
    "From both graphs it can be seen that the simulation calculates exactly the same results."
   ]
  },
  {
   "cell_type": "markdown",
   "metadata": {},
   "source": [
    "### Unload FMU\n",
    "\n",
    "After plotting the data, the FMU is unloaded and all unpacked data on disc is removed."
   ]
  },
  {
   "cell_type": "code",
   "execution_count": null,
   "metadata": {
    "execution": {
     "iopub.execute_input": "2022-10-22T13:30:01.970000Z",
     "iopub.status.busy": "2022-10-22T13:30:01.970000Z",
     "iopub.status.idle": "2022-10-22T13:30:02.010000Z",
     "shell.execute_reply": "2022-10-22T13:30:02.010000Z"
    }
   },
   "outputs": [],
   "source": [
    "fmiUnload(myFMU)"
   ]
  },
  {
   "cell_type": "markdown",
   "metadata": {},
   "source": [
    "### Summary\n",
    "\n",
    "Based on this tutorial it can be seen that simulating in the different mode is very easy, and it only takes a few commands to simulate the FMU. "
   ]
  }
 ],
 "metadata": {
  "interpreter": {
   "hash": "037537ff7419c497b9325f7d495147943224d408cf5d5ed915294a5b960167b0"
  },
  "jupytext": {
   "cell_metadata_filter": "-all",
   "comment_magics": "false",
   "notebook_metadata_filter": "-all"
  },
  "kernelspec": {
   "display_name": "Julia 1.8.2",
   "language": "julia",
   "name": "julia-1.8"
  },
  "language_info": {
   "file_extension": ".jl",
   "mimetype": "application/julia",
   "name": "julia",
   "version": "1.8.2"
  },
  "nteract": {
   "version": "0.28.0"
  }
 },
 "nbformat": 4,
 "nbformat_minor": 2
}
