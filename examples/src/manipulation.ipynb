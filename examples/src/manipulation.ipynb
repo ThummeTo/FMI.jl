{
 "cells": [
  {
   "cell_type": "markdown",
   "metadata": {},
   "source": [
    "# Manipulate a function\n",
    "Tutorial by Tobias Thummerer, Johannes Stoljar\n",
    "\n",
    "## License"
   ]
  },
  {
   "cell_type": "code",
   "execution_count": null,
   "metadata": {
    "execution": {
     "iopub.execute_input": "2022-10-22T13:14:08.404000Z",
     "iopub.status.busy": "2022-10-22T13:14:07.559000Z",
     "iopub.status.idle": "2022-10-22T13:14:08.684000Z",
     "shell.execute_reply": "2022-10-22T13:14:08.606000Z"
    }
   },
   "outputs": [],
   "source": [
    "# Copyright (c) 2021 Tobias Thummerer, Lars Mikelsons, Josef Kircher, Johannes Stoljar\n",
    "# Licensed under the MIT license. \n",
    "# See LICENSE (https://github.com/thummeto/FMI.jl/blob/main/LICENSE) file in the project root for details."
   ]
  },
  {
   "attachments": {},
   "cell_type": "markdown",
   "metadata": {},
   "source": [
    "## Introduction to the example\n",
    "This example shows how to overwrite a FMI function with a custom C-function. For this the FMU model is simulated first without changes. Then the function `fmi2GetReal()` is overwritten and simulated again. Both simulations are displayed in a graph to show the change caused by overwriting the function. The model used is a one-dimensional spring pendulum with friction. The object-orientated structure of the *SpringFrictionPendulum1D* can be seen in the following graphic.\n",
    "\n",
    "![svg](https://github.com/thummeto/FMI.jl/blob/main/docs/src/examples/pics/SpringFrictionPendulum1D.svg?raw=true)  \n",
    "\n",
    "\n",
    "## Other formats\n",
    "Besides, this [Jupyter Notebook](https://github.com/thummeto/FMI.jl/blob/examples/examples/src/manipulation.ipynb) there is also a [Julia file](https://github.com/thummeto/FMI.jl/blob/examples/examples/src/manipulation.jl) with the same name, which contains only the code cells and for the documentation there is a [Markdown file](https://github.com/thummeto/FMI.jl/blob/examples/examples/src/manipulation.md) corresponding to the notebook.  "
   ]
  },
  {
   "cell_type": "markdown",
   "metadata": {},
   "source": [
    "## Code section\n",
    "\n",
    "To run the example, the previously installed packages must be included. "
   ]
  },
  {
   "cell_type": "code",
   "execution_count": null,
   "metadata": {
    "execution": {
     "iopub.execute_input": "2022-10-22T13:14:08.688000Z",
     "iopub.status.busy": "2022-10-22T13:14:08.687000Z",
     "iopub.status.idle": "2022-10-22T13:14:52.393000Z",
     "shell.execute_reply": "2022-10-22T13:14:52.393000Z"
    },
    "scrolled": false
   },
   "outputs": [],
   "source": [
    "# imports\n",
    "using FMI\n",
    "using FMI: fmiSetFctGetReal\n",
    "using FMIZoo\n",
    "using FMICore\n",
    "using Plots"
   ]
  },
  {
   "cell_type": "markdown",
   "metadata": {},
   "source": [
    "### Simulation setup\n",
    "\n",
    "Next, the start time and end time of the simulation are set."
   ]
  },
  {
   "cell_type": "code",
   "execution_count": null,
   "metadata": {
    "execution": {
     "iopub.execute_input": "2022-10-22T13:14:54.760000Z",
     "iopub.status.busy": "2022-10-22T13:14:52.396000Z",
     "iopub.status.idle": "2022-10-22T13:14:55.420000Z",
     "shell.execute_reply": "2022-10-22T13:14:55.420000Z"
    },
    "scrolled": false
   },
   "outputs": [],
   "source": [
    "tStart = 0.0\n",
    "tStop = 8.0"
   ]
  },
  {
   "cell_type": "markdown",
   "metadata": {},
   "source": [
    "### Import FMU\n",
    "\n",
    "Next, the FMU model from *FMIZoo.jl* is loaded."
   ]
  },
  {
   "cell_type": "code",
   "execution_count": null,
   "metadata": {
    "execution": {
     "iopub.execute_input": "2022-10-22T13:14:55.461000Z",
     "iopub.status.busy": "2022-10-22T13:14:55.461000Z",
     "iopub.status.idle": "2022-10-22T13:15:00.391000Z",
     "shell.execute_reply": "2022-10-22T13:15:00.391000Z"
    },
    "scrolled": false
   },
   "outputs": [],
   "source": [
    "# we use an FMU from the FMIZoo.jl\n",
    "fmu = fmiLoad(\"SpringFrictionPendulum1D\", \"Dymola\", \"2022x\"; type=:ME)"
   ]
  },
  {
   "cell_type": "markdown",
   "metadata": {},
   "source": [
    "### Simulate FMU\n",
    "\n",
    "In the next steps the recorded value is defined. The recorded value is the position of the mass. In the function `fmiSimulateME()` the FMU is simulated in model-exchange mode (ME) with an adaptive step size. In addition, the start and end time and the recorded variables are specified."
   ]
  },
  {
   "cell_type": "code",
   "execution_count": null,
   "metadata": {
    "execution": {
     "iopub.execute_input": "2022-10-22T13:15:00.394000Z",
     "iopub.status.busy": "2022-10-22T13:15:00.394000Z",
     "iopub.status.idle": "2022-10-22T13:15:22.896000Z",
     "shell.execute_reply": "2022-10-22T13:15:22.896000Z"
    }
   },
   "outputs": [],
   "source": [
    "# an array of value references... or just one\n",
    "vrs = [\"mass.s\"]\n",
    "\n",
    "simData = fmiSimulate(fmu, (tStart, tStop); recordValues=vrs)"
   ]
  },
  {
   "cell_type": "markdown",
   "metadata": {},
   "source": [
    "### Plotting FMU\n",
    "\n",
    "After the simulation is finished, the result of the FMU for the model-exchange mode can be plotted. In the plot for the FMU it can be seen that the oscillation continues to decrease due to the effect of the friction. If you simulate long enough, the oscillation comes to a standstill in a certain time."
   ]
  },
  {
   "cell_type": "code",
   "execution_count": null,
   "metadata": {
    "execution": {
     "iopub.execute_input": "2022-10-22T13:15:22.900000Z",
     "iopub.status.busy": "2022-10-22T13:15:22.900000Z",
     "iopub.status.idle": "2022-10-22T13:16:03.717000Z",
     "shell.execute_reply": "2022-10-22T13:16:03.717000Z"
    },
    "scrolled": false
   },
   "outputs": [],
   "source": [
    "fig = plot(simData, states=false)"
   ]
  },
  {
   "cell_type": "markdown",
   "metadata": {},
   "source": [
    "### Override Function\n",
    "\n",
    "After overwriting a function, the previous one is no longer accessible. The original function `fmi2GetReal()` is cached by storing the address of the pointer. The addresses of the pointers are kept in the FMU and are thus accessible."
   ]
  },
  {
   "cell_type": "code",
   "execution_count": null,
   "metadata": {
    "execution": {
     "iopub.execute_input": "2022-10-22T13:16:03.722000Z",
     "iopub.status.busy": "2022-10-22T13:16:03.722000Z",
     "iopub.status.idle": "2022-10-22T13:16:04.520000Z",
     "shell.execute_reply": "2022-10-22T13:16:04.520000Z"
    }
   },
   "outputs": [],
   "source": [
    "# save, where the original `fmi2GetReal` function was stored, so we can access it in our new function\n",
    "originalGetReal = fmu.cGetReal"
   ]
  },
  {
   "cell_type": "markdown",
   "metadata": {},
   "source": [
    "To overwrite the function `fmi2GetReal!()`, the function header of the new custom function must be identical to the previous one. The function header looks like `fmi2GetReal!(cfunc::Ptr{Nothing}, c::fmi2Component, vr::Union{Array{fmi2ValueReference}, Ptr{fmi2ValueReference}}, nvr::Csize_t, value::Union{Array{fmi2Real}, Ptr{fmi2Real}})::fmi2Status`. The information how the FMI2 function are structured can be seen from [FMICore.jl](https://github.com/ThummeTo/FMICore.jl/blob/main/src/FMI2_c.jl#L718) or the FMI2.0.3-specification.\n",
    "\n",
    "In the new implementation the original function is called by the previously stored pointer. Next there is a special handling if `value` is a pointer to an array. In this case the pointer is treated as an array, so that the entries are accessible. Otherwise, each value in `value` is multiplied by two. Finally, the original state of the original function is output."
   ]
  },
  {
   "cell_type": "code",
   "execution_count": null,
   "metadata": {
    "execution": {
     "iopub.execute_input": "2022-10-22T13:16:04.525000Z",
     "iopub.status.busy": "2022-10-22T13:16:04.524000Z",
     "iopub.status.idle": "2022-10-22T13:16:05.526000Z",
     "shell.execute_reply": "2022-10-22T13:16:05.526000Z"
    }
   },
   "outputs": [],
   "source": [
    "function myGetReal!(c::fmi2Component, vr::Union{Array{fmi2ValueReference}, Ptr{fmi2ValueReference}}, \n",
    "                    nvr::Csize_t, value::Union{Array{fmi2Real}, Ptr{fmi2Real}})\n",
    "    # first, we do what the original function does\n",
    "    status = fmi2GetReal!(originalGetReal, c, vr, nvr, value)\n",
    "\n",
    "    # if we have a pointer to an array, we must interprete it as array to access elements\n",
    "    if isa(value, Ptr{fmi2Real})\n",
    "        value = unsafe_wrap(Array{fmi2Real}, value, nvr, own=false)\n",
    "    end\n",
    "\n",
    "    # now, we multiply every value by two (just for fun!)\n",
    "    for i in 1:nvr \n",
    "        value[i] *= 2.0 \n",
    "    end \n",
    "\n",
    "    # return the original status\n",
    "    return status\n",
    "end"
   ]
  },
  {
   "cell_type": "markdown",
   "metadata": {},
   "source": [
    "In the next command the original function is overwritten with the new defined function, for which the command `fmiSetFctGetReal()` is called."
   ]
  },
  {
   "cell_type": "code",
   "execution_count": null,
   "metadata": {
    "execution": {
     "iopub.execute_input": "2022-10-22T13:16:05.530000Z",
     "iopub.status.busy": "2022-10-22T13:16:05.530000Z",
     "iopub.status.idle": "2022-10-22T13:16:05.542000Z",
     "shell.execute_reply": "2022-10-22T13:16:05.542000Z"
    }
   },
   "outputs": [],
   "source": [
    "# no we overwrite the original function\n",
    "fmiSetFctGetReal(fmu, myGetReal!)"
   ]
  },
  {
   "cell_type": "markdown",
   "metadata": {},
   "source": [
    "### Simulate and Plot FMU with modified function\n",
    "\n",
    "As before, the identical command is called here for simulation. This is also a model exchange simulation. Immediately afterwards, the results are added to the previous graph as a dashed line."
   ]
  },
  {
   "cell_type": "code",
   "execution_count": null,
   "metadata": {
    "execution": {
     "iopub.execute_input": "2022-10-22T13:16:05.545000Z",
     "iopub.status.busy": "2022-10-22T13:16:05.545000Z",
     "iopub.status.idle": "2022-10-22T13:16:06.060000Z",
     "shell.execute_reply": "2022-10-22T13:16:06.060000Z"
    }
   },
   "outputs": [],
   "source": [
    "simData = fmiSimulate(fmu, (tStart, tStop); recordValues=vrs)\n",
    "plot!(fig, simData; states=false, style=:dash)"
   ]
  },
  {
   "cell_type": "markdown",
   "metadata": {},
   "source": [
    "As expected by overwriting the function, all values are doubled."
   ]
  },
  {
   "cell_type": "markdown",
   "metadata": {},
   "source": [
    "### Unload FMU\n",
    "\n",
    "After plotting the data, the FMU is unloaded and all unpacked data on disc is removed."
   ]
  },
  {
   "cell_type": "code",
   "execution_count": null,
   "metadata": {
    "execution": {
     "iopub.execute_input": "2022-10-22T13:16:06.065000Z",
     "iopub.status.busy": "2022-10-22T13:16:06.064000Z",
     "iopub.status.idle": "2022-10-22T13:16:06.104000Z",
     "shell.execute_reply": "2022-10-22T13:16:06.103000Z"
    }
   },
   "outputs": [],
   "source": [
    "fmiUnload(fmu)"
   ]
  },
  {
   "cell_type": "markdown",
   "metadata": {},
   "source": [
    "### Summary\n",
    "\n",
    "In this tutorial it is shown how an existing function of the library can be replaced by an own implementation."
   ]
  }
 ],
 "metadata": {
  "interpreter": {
   "hash": "037537ff7419c497b9325f7d495147943224d408cf5d5ed915294a5b960167b0"
  },
  "jupytext": {
   "cell_metadata_filter": "-all",
   "comment_magics": "false",
   "notebook_metadata_filter": "-all"
  },
  "kernelspec": {
   "display_name": "Julia 1.9.1",
   "language": "julia",
   "name": "julia-1.9"
  },
  "language_info": {
   "file_extension": ".jl",
   "mimetype": "application/julia",
   "name": "julia",
   "version": "1.9.1"
  },
  "nteract": {
   "version": "0.28.0"
  }
 },
 "nbformat": 4,
 "nbformat_minor": 2
}
