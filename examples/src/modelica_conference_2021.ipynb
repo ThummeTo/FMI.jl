{
 "cells": [
  {
   "cell_type": "markdown",
   "metadata": {},
   "source": [
    "# Advanced Simulation of an FMU\n",
    "Tutorial by Johannes Stoljar, Tobias Thummerer\n",
    "\n",
    "## License"
   ]
  },
  {
   "cell_type": "code",
   "execution_count": null,
   "metadata": {
    "execution": {
     "iopub.execute_input": "2022-10-22T13:16:18.554000Z",
     "iopub.status.busy": "2022-10-22T13:16:17.709000Z",
     "iopub.status.idle": "2022-10-22T13:16:18.840000Z",
     "shell.execute_reply": "2022-10-22T13:16:18.765000Z"
    }
   },
   "outputs": [],
   "source": [
    "# Copyright (c) 2021 Tobias Thummerer, Lars Mikelsons, Josef Kircher, Johannes Stoljar\n",
    "# Licensed under the MIT license. \n",
    "# See LICENSE (https://github.com/thummeto/FMI.jl/blob/main/LICENSE) file in the project root for details."
   ]
  },
  {
   "attachments": {},
   "cell_type": "markdown",
   "metadata": {},
   "source": [
    "## Motivation\n",
    "This Julia Package *FMI.jl* is motivated by the use of simulation models in Julia. Here the FMI specification is implemented. FMI (*Functional Mock-up Interface*) is a free standard ([fmi-standard.org](http://fmi-standard.org/)) that defines a container and an interface to exchange dynamic models using a combination of XML files, binaries and C code zipped into a single file. The user can thus use simulation models in the form of an FMU (*Functional Mock-up Units*). Besides loading the FMU, the user can also set values for parameters and states and simulate the FMU both as co-simulation and model exchange simulation.\n",
    "\n",
    "## Introduction to the example\n",
    "In this example we would like to show that besides the simple simulation of an FMU there is also a more advanced version of the simulation. The advantage of the more advanced variant is that there are more possibilities to intervene in the simulation to make changes. After the FMU has been simulated, the simulation results are displayed in a graph. The used model is a one-dimensional spring pendulum with friction. The object-orientated structure of the *SpringFrictionPendulum1D* can be seen in the following graphic.\n",
    "\n",
    "![svg](https://github.com/thummeto/FMI.jl/blob/main/docs/src/examples/pics/SpringFrictionPendulum1D.svg?raw=true)  \n",
    "\n",
    "\n",
    "## Target group\n",
    "The example is primarily intended for users who work in the field of simulations. The example wants to show how simple it is to use FMUs in Julia.\n",
    "\n",
    "\n",
    "## Other formats\n",
    "Besides, this [Jupyter Notebook](https://github.com/thummeto/FMI.jl/blob/examples/examples/src/modelica_conference_2021.ipynb) there is also a [Julia file](https://github.com/thummeto/FMI.jl/blob/examples/examples/src/modelica_conference_2021.jl) with the same name, which contains only the code cells and for the documentation there is a [Markdown file](https://github.com/thummeto/FMI.jl/blob/examples/examples/src/modelica_conference_2021.md) corresponding to the notebook.  \n",
    "\n",
    "\n",
    "## Getting started\n",
    "\n",
    "### Installation prerequisites\n",
    "\n",
    "|     | Description                       | Command                   | Alternative                                    |   \n",
    "|:----|:----------------------------------|:--------------------------|:-----------------------------------------------|\n",
    "| 1.  | Enter Package Manager via         | ]                         |                                                |\n",
    "| 2.  | Install FMI via                   | add FMI                   | add \" https://github.com/ThummeTo/FMI.jl \"     |\n",
    "| 3.  | Install FMIZoo via                | add FMIZoo                | add \" https://github.com/ThummeTo/FMIZoo.jl \"  |\n",
    "| 4.  | Install Plots via                 | add Plots                 |                                                |"
   ]
  },
  {
   "cell_type": "markdown",
   "metadata": {},
   "source": [
    "## Code section\n",
    "\n",
    "To run the example, the previously installed packages must be included. "
   ]
  },
  {
   "cell_type": "code",
   "execution_count": null,
   "metadata": {
    "execution": {
     "iopub.execute_input": "2022-10-22T13:16:18.843000Z",
     "iopub.status.busy": "2022-10-22T13:16:18.843000Z",
     "iopub.status.idle": "2022-10-22T13:17:02.927000Z",
     "shell.execute_reply": "2022-10-22T13:17:02.927000Z"
    },
    "scrolled": false
   },
   "outputs": [],
   "source": [
    "# imports\n",
    "using FMI\n",
    "using FMIZoo\n",
    "using Plots"
   ]
  },
  {
   "cell_type": "markdown",
   "metadata": {},
   "source": [
    "### Simulation setup\n",
    "\n",
    "Next, the start time and end time of the simulation are set. Finally, a step size is specified to store the results of the simulation at these time steps."
   ]
  },
  {
   "cell_type": "code",
   "execution_count": null,
   "metadata": {
    "execution": {
     "iopub.execute_input": "2022-10-22T13:17:05.306000Z",
     "iopub.status.busy": "2022-10-22T13:17:02.930000Z",
     "iopub.status.idle": "2022-10-22T13:17:06.057000Z",
     "shell.execute_reply": "2022-10-22T13:17:06.057000Z"
    },
    "scrolled": false
   },
   "outputs": [],
   "source": [
    "tStart = 0.0\n",
    "tStep = 0.1\n",
    "tStop = 8.0\n",
    "tSave = tStart:tStep:tStop"
   ]
  },
  {
   "cell_type": "markdown",
   "metadata": {},
   "source": [
    "### Simple FMU Simulation\n",
    "\n",
    "In the next lines of code the FMU model from *FMIZoo.jl* is loaded and the information about the FMU is shown."
   ]
  },
  {
   "cell_type": "code",
   "execution_count": null,
   "metadata": {
    "execution": {
     "iopub.execute_input": "2022-10-22T13:17:06.062000Z",
     "iopub.status.busy": "2022-10-22T13:17:06.061000Z",
     "iopub.status.idle": "2022-10-22T13:17:11.103000Z",
     "shell.execute_reply": "2022-10-22T13:17:11.103000Z"
    }
   },
   "outputs": [],
   "source": [
    "# we use an FMU from the FMIZoo.jl\n",
    "pathToFMU = get_model_filename(\"SpringFrictionPendulum1D\", \"Dymola\", \"2022x\")\n",
    "\n",
    "myFMU = fmiLoad(pathToFMU)\n",
    "fmiInfo(myFMU)"
   ]
  },
  {
   "cell_type": "markdown",
   "metadata": {},
   "source": [
    "In the next commands the FMU is simulated, for which the start and end time and recorded variables are declared. Afterwards the simulation result is shown in a graph. In the plot for the FMU, it can be seen that the oscillation keeps decreasing due to the effect of friction. If one simulates long enough, the oscillation comes to a standstill after a certain time."
   ]
  },
  {
   "cell_type": "code",
   "execution_count": null,
   "metadata": {
    "execution": {
     "iopub.execute_input": "2022-10-22T13:17:11.106000Z",
     "iopub.status.busy": "2022-10-22T13:17:11.106000Z",
     "iopub.status.idle": "2022-10-22T13:18:05.013000Z",
     "shell.execute_reply": "2022-10-22T13:18:05.013000Z"
    },
    "scrolled": false
   },
   "outputs": [],
   "source": [
    "simData = fmiSimulate(myFMU, (tStart, tStop); recordValues=[\"mass.s\"], saveat=tSave)\n",
    "fmiPlot(simData)"
   ]
  },
  {
   "cell_type": "markdown",
   "metadata": {},
   "source": [
    "After plotting the data, the FMU is unloaded and all unpacked data on disc is removed."
   ]
  },
  {
   "cell_type": "code",
   "execution_count": null,
   "metadata": {
    "execution": {
     "iopub.execute_input": "2022-10-22T13:18:05.018000Z",
     "iopub.status.busy": "2022-10-22T13:18:05.018000Z",
     "iopub.status.idle": "2022-10-22T13:18:05.057000Z",
     "shell.execute_reply": "2022-10-22T13:18:05.057000Z"
    }
   },
   "outputs": [],
   "source": [
    "fmiUnload(myFMU)"
   ]
  },
  {
   "cell_type": "markdown",
   "metadata": {},
   "source": [
    "### Advanced FMU Simulation\n",
    "\n",
    "In the following type of simulation a more advanced variant is presented, which allows intervening more in the simulation process. Analogous to the simple variant, an FMU model must be loaded."
   ]
  },
  {
   "cell_type": "code",
   "execution_count": null,
   "metadata": {
    "execution": {
     "iopub.execute_input": "2022-10-22T13:18:05.061000Z",
     "iopub.status.busy": "2022-10-22T13:18:05.060000Z",
     "iopub.status.idle": "2022-10-22T13:18:05.160000Z",
     "shell.execute_reply": "2022-10-22T13:18:05.160000Z"
    }
   },
   "outputs": [],
   "source": [
    "myFMU = fmiLoad(pathToFMU);"
   ]
  },
  {
   "cell_type": "markdown",
   "metadata": {},
   "source": [
    "Next, it is necessary to create an instance of the FMU, this is achieved by the command `fmiInstantiate!()`.  "
   ]
  },
  {
   "cell_type": "code",
   "execution_count": null,
   "metadata": {
    "execution": {
     "iopub.execute_input": "2022-10-22T13:18:05.163000Z",
     "iopub.status.busy": "2022-10-22T13:18:05.163000Z",
     "iopub.status.idle": "2022-10-22T13:18:05.510000Z",
     "shell.execute_reply": "2022-10-22T13:18:05.510000Z"
    }
   },
   "outputs": [],
   "source": [
    "instanceFMU = fmiInstantiate!(myFMU)"
   ]
  },
  {
   "cell_type": "markdown",
   "metadata": {},
   "source": [
    "In the following code block, start and end time for the simulation is set by the `fmiSetupExperiment()` command. Next, the FMU is initialized by the calls of `fmiEnterInitializationMode()` and `fmiExitInitializationMode()`. It would also be possible to set initial states for the FMU before these two commands. "
   ]
  },
  {
   "cell_type": "code",
   "execution_count": null,
   "metadata": {
    "execution": {
     "iopub.execute_input": "2022-10-22T13:18:05.514000Z",
     "iopub.status.busy": "2022-10-22T13:18:05.514000Z",
     "iopub.status.idle": "2022-10-22T13:18:05.780000Z",
     "shell.execute_reply": "2022-10-22T13:18:05.780000Z"
    }
   },
   "outputs": [],
   "source": [
    "fmiSetupExperiment(instanceFMU, tStart, tStop)\n",
    "# set initial model states\n",
    "fmiEnterInitializationMode(instanceFMU)\n",
    "# get initial model states\n",
    "fmiExitInitializationMode(instanceFMU)"
   ]
  },
  {
   "cell_type": "markdown",
   "metadata": {},
   "source": [
    "The actual simulation loop is shown in the following block. Here a simulation step `fmiDoStep()` with the fixed step size `tStep` is executed. As indicated in the code by the comments, the input values and output values of the FMU could be changed in the simulation loop as desired, whereby the higher possibility of adjustments arises."
   ]
  },
  {
   "cell_type": "code",
   "execution_count": null,
   "metadata": {
    "execution": {
     "iopub.execute_input": "2022-10-22T13:18:05.785000Z",
     "iopub.status.busy": "2022-10-22T13:18:05.784000Z",
     "iopub.status.idle": "2022-10-22T13:18:05.818000Z",
     "shell.execute_reply": "2022-10-22T13:18:05.818000Z"
    }
   },
   "outputs": [],
   "source": [
    "for t in tSave\n",
    "    # set model inputs \n",
    "    # ...\n",
    "    fmiDoStep(instanceFMU, tStep)\n",
    "    # get model outputs\n",
    "    # ...\n",
    "end"
   ]
  },
  {
   "cell_type": "markdown",
   "metadata": {},
   "source": [
    "The instantiated FMU must be terminated and then the memory area for the instance can also be deallocated. The last step is to unload the FMU to remove all unpacked data on disc. "
   ]
  },
  {
   "cell_type": "code",
   "execution_count": null,
   "metadata": {
    "execution": {
     "iopub.execute_input": "2022-10-22T13:18:05.822000Z",
     "iopub.status.busy": "2022-10-22T13:18:05.822000Z",
     "iopub.status.idle": "2022-10-22T13:18:05.833000Z",
     "shell.execute_reply": "2022-10-22T13:18:05.833000Z"
    }
   },
   "outputs": [],
   "source": [
    "fmiTerminate(instanceFMU)\n",
    "fmiFreeInstance!(instanceFMU)\n",
    "fmiUnload(myFMU)"
   ]
  },
  {
   "cell_type": "markdown",
   "metadata": {},
   "source": [
    "### Summary\n",
    "\n",
    "The tutorial has shown that besides the usual simple variant of simulating an FMU, there is another way to make more adjustments."
   ]
  }
 ],
 "metadata": {
  "interpreter": {
   "hash": "037537ff7419c497b9325f7d495147943224d408cf5d5ed915294a5b960167b0"
  },
  "jupytext": {
   "cell_metadata_filter": "-all",
   "comment_magics": "false",
   "notebook_metadata_filter": "-all"
  },
  "kernelspec": {
   "display_name": "Julia 1.8.2",
   "language": "julia",
   "name": "julia-1.8"
  },
  "language_info": {
   "file_extension": ".jl",
   "mimetype": "application/julia",
   "name": "julia",
   "version": "1.8.2"
  },
  "nteract": {
   "version": "0.28.0"
  }
 },
 "nbformat": 4,
 "nbformat_minor": 2
}
