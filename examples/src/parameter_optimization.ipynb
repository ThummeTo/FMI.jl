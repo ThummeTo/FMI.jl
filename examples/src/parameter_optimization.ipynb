{
 "cells": [
  {
   "attachments": {},
   "cell_type": "markdown",
   "metadata": {},
   "source": [
    "# FMU Parameter Optimization\n",
    "Tutorial by Tobias Thummerer\n",
    "\n",
    "## License"
   ]
  },
  {
   "cell_type": "code",
   "execution_count": null,
   "metadata": {
    "execution": {
     "iopub.execute_input": "2022-10-22T13:26:47.623000Z",
     "iopub.status.busy": "2022-10-22T13:26:46.768000Z",
     "iopub.status.idle": "2022-10-22T13:26:47.904000Z",
     "shell.execute_reply": "2022-10-22T13:26:47.830000Z"
    }
   },
   "outputs": [],
   "source": [
    "# Copyright (c) 2021 Tobias Thummerer, Lars Mikelsons\n",
    "# Licensed under the MIT license. \n",
    "# See LICENSE (https://github.com/thummeto/FMI.jl/blob/main/LICENSE) file in the project root for details."
   ]
  },
  {
   "attachments": {},
   "cell_type": "markdown",
   "metadata": {},
   "source": [
    "## Introduction to the example\n",
    "This example shows how a parameter optimization can be set up for a FMU. The goal is to fit FMU parameters (and initial states), so that a reference trajectory is fit as good as possible.\n",
    "\n",
    "Note, that this tutorial covers optimization *without* gradient information. Basically, *FMI.jl* supports gradient based optimization, too.\n",
    "\n",
    "## Other formats\n",
    "Besides, this [Jupyter Notebook](https://github.com/thummeto/FMI.jl/blob/examples/examples/src/parameter_optimization.ipynb) there is also a [Julia file](https://github.com/thummeto/FMI.jl/blob/examples/examples/src/parameter_optimization.jl) with the same name, which contains only the code cells and for the documentation there is a [Markdown file](https://github.com/thummeto/FMI.jl/blob/examples/examples/src/parameter_optimization.md) corresponding to the notebook.  \n",
    "\n",
    "## Getting started\n",
    "\n",
    "### Installation prerequisites\n",
    "|     | Description                       | Command                   |\n",
    "|:----|:----------------------------------|:--------------------------|\n",
    "| 1.  | Enter Package Manager via         | ]                         |\n",
    "| 2.  | Install FMI via                   | add FMI                   | \n",
    "| 3.  | Install FMIZoo via                | add FMIZoo                | \n",
    "| 4.  | Install Optim  via                | add Optim                 | \n",
    "| 5.  | Install Plots  via                | add Plots                 | "
   ]
  },
  {
   "cell_type": "markdown",
   "metadata": {},
   "source": [
    "## Code section\n",
    "\n",
    "To run the example, the previously installed packages must be included. "
   ]
  },
  {
   "cell_type": "code",
   "execution_count": null,
   "metadata": {
    "execution": {
     "iopub.execute_input": "2022-10-22T13:26:47.908000Z",
     "iopub.status.busy": "2022-10-22T13:26:47.907000Z",
     "iopub.status.idle": "2022-10-22T13:27:21.215000Z",
     "shell.execute_reply": "2022-10-22T13:27:21.215000Z"
    },
    "scrolled": false
   },
   "outputs": [],
   "source": [
    "# imports\n",
    "using FMI\n",
    "using FMIZoo\n",
    "using Optim\n",
    "using Plots"
   ]
  },
  {
   "cell_type": "markdown",
   "metadata": {},
   "source": [
    "### Simulation setup\n",
    "\n",
    "Next, the start time and end time of the simulation are set."
   ]
  },
  {
   "cell_type": "code",
   "execution_count": null,
   "metadata": {
    "execution": {
     "iopub.execute_input": "2022-10-22T13:27:21.476000Z",
     "iopub.status.busy": "2022-10-22T13:27:21.219000Z",
     "iopub.status.idle": "2022-10-22T13:27:25.399000Z",
     "shell.execute_reply": "2022-10-22T13:27:25.398000Z"
    },
    "scrolled": false
   },
   "outputs": [],
   "source": [
    "tStart = 0.0\n",
    "tStop = 5.0\n",
    "tStep = 0.1\n",
    "tSave = tStart:tStep:tStop"
   ]
  },
  {
   "cell_type": "markdown",
   "metadata": {},
   "source": [
    "### Import FMU\n",
    "\n",
    "In the next lines of code the FMU model from *FMIZoo.jl* is loaded and the information about the FMU is shown."
   ]
  },
  {
   "cell_type": "code",
   "execution_count": null,
   "metadata": {
    "execution": {
     "iopub.execute_input": "2022-10-22T13:27:25.403000Z",
     "iopub.status.busy": "2022-10-22T13:27:25.403000Z",
     "iopub.status.idle": "2022-10-22T13:27:30.244000Z",
     "shell.execute_reply": "2022-10-22T13:27:30.244000Z"
    },
    "scrolled": false
   },
   "outputs": [],
   "source": [
    "# we use an FMU from the FMIZoo.jl\n",
    "fmu = fmiLoad(\"SpringPendulum1D\", \"Dymola\", \"2022x\"; type=:ME)\n",
    "fmiInfo(fmu)"
   ]
  },
  {
   "attachments": {},
   "cell_type": "markdown",
   "metadata": {},
   "source": [
    "Now, the optimization objective (the function to minimize) needs to be defined. In this case, we just want to do a simulation and compare it to a regular `sin` wave."
   ]
  },
  {
   "cell_type": "code",
   "execution_count": null,
   "metadata": {
    "execution": {
     "iopub.execute_input": "2022-10-22T13:27:31.661000Z",
     "iopub.status.busy": "2022-10-22T13:27:31.660000Z",
     "iopub.status.idle": "2022-10-22T13:27:33.084000Z",
     "shell.execute_reply": "2022-10-22T13:27:33.084000Z"
    }
   },
   "outputs": [],
   "source": [
    "s_tar = 1.0 .+ sin.(tSave)\n",
    "\n",
    "# a function to simulate the FMU for given parameters\n",
    "function simulateFMU(p)\n",
    "    s0, v0, c, m = p # unpack parameters: s0 (start position), v0 (start velocity), c (spring constant) and m (pendulum mass)\n",
    "\n",
    "    # pack the parameters into a dictionary\n",
    "    paramDict = Dict{String, Any}()\n",
    "    paramDict[\"spring.c\"] = c \n",
    "    paramDict[\"mass.m\"] = m\n",
    "\n",
    "    # pack the start state\n",
    "    x0 = [s0, v0]\n",
    "\n",
    "    # simulate with given start stae and parameters\n",
    "    sol = fmiSimulate(fmu, (tStart, tStop); x0=x0, parameters=paramDict, saveat=tSave)\n",
    "\n",
    "    # get state with index 1 (the position) from the solution\n",
    "    s_res = fmiGetSolutionState(sol, 1; isIndex=true) \n",
    "\n",
    "    return s_res\n",
    "end\n",
    "\n",
    "# the optimization objective\n",
    "function objective(p)\n",
    "    s_res = simulateFMU(p)\n",
    "\n",
    "    # return the position error sum between FMU simulation (s_res) and target (s_tar)\n",
    "    return sum(abs.(s_tar .- s_res))    \n",
    "end"
   ]
  },
  {
   "attachments": {},
   "cell_type": "markdown",
   "metadata": {},
   "source": [
    "Now let's see how far we are away for our guess parameters:"
   ]
  },
  {
   "cell_type": "code",
   "execution_count": null,
   "metadata": {
    "execution": {
     "iopub.execute_input": "2022-10-22T13:27:33.088000Z",
     "iopub.status.busy": "2022-10-22T13:27:33.088000Z",
     "iopub.status.idle": "2022-10-22T13:27:33.164000Z",
     "shell.execute_reply": "2022-10-22T13:27:33.164000Z"
    },
    "scrolled": true
   },
   "outputs": [],
   "source": [
    "s0 = 0.0 \n",
    "v0 = 0.0\n",
    "c = 1.0\n",
    "m = 1.0 \n",
    "p = [s0, v0, c, m]\n",
    "\n",
    "obj_before = objective(p) # not really good!"
   ]
  },
  {
   "attachments": {},
   "cell_type": "markdown",
   "metadata": {},
   "source": [
    "Let's have a look on the differences:"
   ]
  },
  {
   "cell_type": "code",
   "execution_count": null,
   "metadata": {
    "execution": {
     "iopub.execute_input": "2022-10-22T13:27:33.168000Z",
     "iopub.status.busy": "2022-10-22T13:27:33.168000Z",
     "iopub.status.idle": "2022-10-22T13:27:36.378000Z",
     "shell.execute_reply": "2022-10-22T13:27:36.378000Z"
    }
   },
   "outputs": [],
   "source": [
    "s_fmu = simulateFMU(p); # simulate the position\n",
    "\n",
    "plot(tSave, s_fmu; label=\"FMU\")\n",
    "plot!(tSave, s_tar; label=\"Optimization target\")"
   ]
  },
  {
   "attachments": {},
   "cell_type": "markdown",
   "metadata": {},
   "source": [
    "Not that good. So let's do a bit of optimization!"
   ]
  },
  {
   "cell_type": "code",
   "execution_count": null,
   "metadata": {
    "execution": {
     "iopub.execute_input": "2022-10-22T13:27:36.383000Z",
     "iopub.status.busy": "2022-10-22T13:27:36.382000Z",
     "iopub.status.idle": "2022-10-22T13:27:36.453000Z",
     "shell.execute_reply": "2022-10-22T13:27:36.453000Z"
    }
   },
   "outputs": [],
   "source": [
    "opt = Optim.optimize(objective, p; iterations=250) # do max. 250 iterations\n",
    "obj_after = opt.minimum # much better!\n",
    "p_res = opt.minimizer # the optimized parameters"
   ]
  },
  {
   "attachments": {},
   "cell_type": "markdown",
   "metadata": {},
   "source": [
    "Looks promising, let's have a look on the results plot:"
   ]
  },
  {
   "cell_type": "code",
   "execution_count": null,
   "metadata": {},
   "outputs": [],
   "source": [
    "s_fmu = simulateFMU(p_res); # simulate the position\n",
    "\n",
    "plot(tSave, s_fmu; label=\"FMU\")\n",
    "plot!(tSave, s_tar; label=\"Optimization target\")"
   ]
  },
  {
   "attachments": {},
   "cell_type": "markdown",
   "metadata": {},
   "source": [
    "Actually a pretty fit! If you have higher requirements, check out the *Optim.jl* library."
   ]
  },
  {
   "attachments": {},
   "cell_type": "markdown",
   "metadata": {},
   "source": [
    "### Summary\n",
    "\n",
    "This tutorial showed how a parameter (and start value) optimization can be performed on a FMU with a gradient free optimizer. This tutorial will be extended soon to further show how convergence for large parameter spaces can be improoved!"
   ]
  }
 ],
 "metadata": {
  "interpreter": {
   "hash": "037537ff7419c497b9325f7d495147943224d408cf5d5ed915294a5b960167b0"
  },
  "jupytext": {
   "cell_metadata_filter": "-all",
   "comment_magics": "false",
   "notebook_metadata_filter": "-all"
  },
  "kernelspec": {
   "display_name": "Julia 1.8.5",
   "language": "julia",
   "name": "julia-1.8"
  },
  "language_info": {
   "file_extension": ".jl",
   "mimetype": "application/julia",
   "name": "julia",
   "version": "1.8.5"
  },
  "nteract": {
   "version": "0.28.0"
  }
 },
 "nbformat": 4,
 "nbformat_minor": 2
}
