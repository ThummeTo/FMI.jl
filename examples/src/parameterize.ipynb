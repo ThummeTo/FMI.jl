{
 "cells": [
  {
   "cell_type": "markdown",
   "metadata": {},
   "source": [
    "# Parameterize a FMU\n",
    "Tutorial by Tobias Thummerer, Johannes Stoljar\n",
    "\n",
    "Last update: 09.08.2023\n",
    "\n",
    "🚧 This tutorial is under revision and will be replaced by an up-to-date version soon 🚧\n",
    "\n",
    "## License"
   ]
  },
  {
   "cell_type": "code",
   "execution_count": null,
   "metadata": {
    "execution": {
     "iopub.execute_input": "2022-10-22T13:26:47.623000Z",
     "iopub.status.busy": "2022-10-22T13:26:46.768000Z",
     "iopub.status.idle": "2022-10-22T13:26:47.904000Z",
     "shell.execute_reply": "2022-10-22T13:26:47.830000Z"
    }
   },
   "outputs": [],
   "source": [
    "# Copyright (c) 2021 Tobias Thummerer, Lars Mikelsons, Josef Kircher, Johannes Stoljar\n",
    "# Licensed under the MIT license. \n",
    "# See LICENSE (https://github.com/thummeto/FMI.jl/blob/main/LICENSE) file in the project root for details."
   ]
  },
  {
   "attachments": {},
   "cell_type": "markdown",
   "metadata": {},
   "source": [
    "## Introduction\n",
    "This example shows how to parameterize a FMU. We will show to possible ways to parameterize: The default option using the parameterization feature of `fmiSimulate`, `fmiSimulateME` or `fmiSimulateCS`. Second, a custom parameterization routine for advanced users. \n",
    "\n",
    "## Other formats\n",
    "Besides, this [Jupyter Notebook](https://github.com/thummeto/FMI.jl/blob/examples/examples/src/parameterize.ipynb) there is also a [Julia file](https://github.com/thummeto/FMI.jl/blob/examples/examples/src/parameterize.jl) with the same name, which contains only the code cells and for the documentation there is a [Markdown file](https://github.com/thummeto/FMI.jl/blob/examples/examples/src/parameterize.md) corresponding to the notebook.  "
   ]
  },
  {
   "cell_type": "markdown",
   "metadata": {},
   "source": [
    "## Code section\n",
    "\n",
    "To run the example, the previously installed packages must be included. "
   ]
  },
  {
   "cell_type": "code",
   "execution_count": null,
   "metadata": {
    "execution": {
     "iopub.execute_input": "2022-10-22T13:26:47.908000Z",
     "iopub.status.busy": "2022-10-22T13:26:47.907000Z",
     "iopub.status.idle": "2022-10-22T13:27:21.215000Z",
     "shell.execute_reply": "2022-10-22T13:27:21.215000Z"
    },
    "scrolled": false
   },
   "outputs": [],
   "source": [
    "# imports\n",
    "using FMI\n",
    "using FMIZoo"
   ]
  },
  {
   "cell_type": "markdown",
   "metadata": {},
   "source": [
    "### Simulation setup\n",
    "\n",
    "Next, the start time and end time of the simulation are set."
   ]
  },
  {
   "cell_type": "code",
   "execution_count": null,
   "metadata": {
    "execution": {
     "iopub.execute_input": "2022-10-22T13:27:21.476000Z",
     "iopub.status.busy": "2022-10-22T13:27:21.219000Z",
     "iopub.status.idle": "2022-10-22T13:27:25.399000Z",
     "shell.execute_reply": "2022-10-22T13:27:25.398000Z"
    },
    "scrolled": false
   },
   "outputs": [],
   "source": [
    "tStart = 0.0\n",
    "tStop = 1.0\n",
    "tSave = collect(tStart:tStop)"
   ]
  },
  {
   "cell_type": "markdown",
   "metadata": {},
   "source": [
    "### Import FMU\n",
    "\n",
    "In the next lines of code the FMU model from *FMIZoo.jl* is loaded and the information about the FMU is shown."
   ]
  },
  {
   "cell_type": "code",
   "execution_count": 3,
   "metadata": {
    "execution": {
     "iopub.execute_input": "2022-10-22T13:27:25.403000Z",
     "iopub.status.busy": "2022-10-22T13:27:25.403000Z",
     "iopub.status.idle": "2022-10-22T13:27:30.244000Z",
     "shell.execute_reply": "2022-10-22T13:27:30.244000Z"
    },
    "scrolled": false
   },
   "outputs": [],
   "source": [
    "# we use an FMU from the FMIZoo.jl\n",
    "# just replace this line with a local path if you want to use your own FMU\n",
    "pathToFMU = get_model_filename(\"IO\", \"Dymola\", \"2022x\")\n",
    "\n",
    "fmu = fmiLoad(pathToFMU)\n",
    "fmiInfo(fmu)"
   ]
  },
  {
   "cell_type": "markdown",
   "metadata": {},
   "source": [
    "### Option A: Integrated parameterization feature of *FMI.jl*\n",
    "If you are using the commands for simulation integrated in *FMI.jl*, the parameters and initial conditions are set at the correct locations during the initialization process of your FMU. This is the recommended way of parameterizing your model, if you don't have very uncommon requirements regarding initialization."
   ]
  },
  {
   "cell_type": "code",
   "execution_count": null,
   "metadata": {},
   "outputs": [],
   "source": [
    "dict = Dict{String, Any}()\n",
    "dict"
   ]
  },
  {
   "cell_type": "markdown",
   "metadata": {},
   "source": [
    "### Option B: Custom parameterization routine\n",
    "If you have special requirements for initialization and parameterization, you can write your very own parameterization routine.\n",
    "\n",
    "### Instantiate and Setup FMU\n",
    "\n",
    "Next it is necessary to create an instance of the FMU. This is achieved by the command `fmiInstantiate!()`."
   ]
  },
  {
   "cell_type": "code",
   "execution_count": null,
   "metadata": {
    "execution": {
     "iopub.execute_input": "2022-10-22T13:27:30.247000Z",
     "iopub.status.busy": "2022-10-22T13:27:30.247000Z",
     "iopub.status.idle": "2022-10-22T13:27:31.208000Z",
     "shell.execute_reply": "2022-10-22T13:27:31.208000Z"
    }
   },
   "outputs": [],
   "source": [
    "fmiInstantiate!(fmu; loggingOn=true)"
   ]
  },
  {
   "cell_type": "markdown",
   "metadata": {},
   "source": [
    "In the following code block, start and end time for the simulation is set by the `fmiSetupExperiment()` command."
   ]
  },
  {
   "cell_type": "code",
   "execution_count": null,
   "metadata": {
    "execution": {
     "iopub.execute_input": "2022-10-22T13:27:31.212000Z",
     "iopub.status.busy": "2022-10-22T13:27:31.212000Z",
     "iopub.status.idle": "2022-10-22T13:27:31.657000Z",
     "shell.execute_reply": "2022-10-22T13:27:31.656000Z"
    }
   },
   "outputs": [],
   "source": [
    "fmiSetupExperiment(fmu, tStart, tStop)"
   ]
  },
  {
   "cell_type": "markdown",
   "metadata": {},
   "source": [
    "### Parameterize FMU\n",
    "\n",
    "In this example, for each data type (`real`, `boolean`, `integer` and `string`) a corresponding input or parameter is selected. From here on, the inputs and parameters will be referred to as parameters for simplicity."
   ]
  },
  {
   "cell_type": "code",
   "execution_count": null,
   "metadata": {
    "execution": {
     "iopub.execute_input": "2022-10-22T13:27:31.661000Z",
     "iopub.status.busy": "2022-10-22T13:27:31.660000Z",
     "iopub.status.idle": "2022-10-22T13:27:33.084000Z",
     "shell.execute_reply": "2022-10-22T13:27:33.084000Z"
    }
   },
   "outputs": [],
   "source": [
    "params = [\"p_real\", \"p_boolean\", \"p_integer\", \"p_string\"]"
   ]
  },
  {
   "cell_type": "markdown",
   "metadata": {},
   "source": [
    "At the beginning we want to display the initial state of these parameters, for which the FMU must be in initialization mode. The next function `fmiEnterInitializationMode()` informs the FMU to enter the initialization mode. Before calling this function, the variables can be set. Furthermore, `fmiSetupExperiment()` must be called at least once before calling `fmiEnterInitializationMode()`, in order that the start time is defined."
   ]
  },
  {
   "cell_type": "code",
   "execution_count": null,
   "metadata": {
    "execution": {
     "iopub.execute_input": "2022-10-22T13:27:33.088000Z",
     "iopub.status.busy": "2022-10-22T13:27:33.088000Z",
     "iopub.status.idle": "2022-10-22T13:27:33.164000Z",
     "shell.execute_reply": "2022-10-22T13:27:33.164000Z"
    },
    "scrolled": true
   },
   "outputs": [],
   "source": [
    "fmiEnterInitializationMode(fmu)"
   ]
  },
  {
   "cell_type": "markdown",
   "metadata": {},
   "source": [
    "The initial state of these parameters are displayed with the function `fmiGet()`."
   ]
  },
  {
   "cell_type": "code",
   "execution_count": null,
   "metadata": {
    "execution": {
     "iopub.execute_input": "2022-10-22T13:27:33.168000Z",
     "iopub.status.busy": "2022-10-22T13:27:33.168000Z",
     "iopub.status.idle": "2022-10-22T13:27:36.378000Z",
     "shell.execute_reply": "2022-10-22T13:27:36.378000Z"
    }
   },
   "outputs": [],
   "source": [
    "fmiGet(fmu, params)"
   ]
  },
  {
   "cell_type": "markdown",
   "metadata": {},
   "source": [
    "The initialization mode is terminated with the function `fmiExitInitializationMode()`. (For the model exchange FMU type, this function switches off all initialization equations, and enters the event mode implicitly.)"
   ]
  },
  {
   "cell_type": "code",
   "execution_count": null,
   "metadata": {
    "execution": {
     "iopub.execute_input": "2022-10-22T13:27:36.383000Z",
     "iopub.status.busy": "2022-10-22T13:27:36.382000Z",
     "iopub.status.idle": "2022-10-22T13:27:36.453000Z",
     "shell.execute_reply": "2022-10-22T13:27:36.453000Z"
    }
   },
   "outputs": [],
   "source": [
    "fmiExitInitializationMode(fmu)"
   ]
  },
  {
   "cell_type": "markdown",
   "metadata": {},
   "source": [
    "In the next step, a function is defined that generates a random value for each parameter. For the parameter `p_string` a random number is inserted into the string. All parameters are combined to a tuple and output."
   ]
  },
  {
   "cell_type": "code",
   "execution_count": null,
   "metadata": {
    "execution": {
     "iopub.execute_input": "2022-10-22T13:27:36.457000Z",
     "iopub.status.busy": "2022-10-22T13:27:36.457000Z",
     "iopub.status.idle": "2022-10-22T13:27:37.435000Z",
     "shell.execute_reply": "2022-10-22T13:27:37.435000Z"
    }
   },
   "outputs": [],
   "source": [
    "function generateRandomNumbers()\n",
    "    rndReal = 100 * rand()\n",
    "    rndBoolean = rand() > 0.5\n",
    "    rndInteger = round(Integer, 100 * rand())\n",
    "    rndString = \"Random number $(100 * rand())!\"\n",
    "\n",
    "    return rndReal, rndBoolean, rndInteger, rndString\n",
    "end"
   ]
  },
  {
   "cell_type": "markdown",
   "metadata": {},
   "source": [
    "The previously defined function is called and the results are displayed in the console."
   ]
  },
  {
   "cell_type": "code",
   "execution_count": null,
   "metadata": {
    "execution": {
     "iopub.execute_input": "2022-10-22T13:27:37.439000Z",
     "iopub.status.busy": "2022-10-22T13:27:37.439000Z",
     "iopub.status.idle": "2022-10-22T13:27:38.222000Z",
     "shell.execute_reply": "2022-10-22T13:27:38.222000Z"
    }
   },
   "outputs": [],
   "source": [
    "paramsVal = generateRandomNumbers()"
   ]
  },
  {
   "cell_type": "markdown",
   "metadata": {},
   "source": [
    "#### First variant\n",
    "\n",
    "To show the first variant, it is necessary to terminate and reset the FMU instance. Then, as before, the setup command must be called for the FMU. "
   ]
  },
  {
   "cell_type": "code",
   "execution_count": null,
   "metadata": {
    "execution": {
     "iopub.execute_input": "2022-10-22T13:27:38.225000Z",
     "iopub.status.busy": "2022-10-22T13:27:38.225000Z",
     "iopub.status.idle": "2022-10-22T13:27:38.411000Z",
     "shell.execute_reply": "2022-10-22T13:27:38.411000Z"
    }
   },
   "outputs": [],
   "source": [
    "fmiTerminate(fmu)\n",
    "fmiReset(fmu)\n",
    "fmiSetupExperiment(fmu, tStart, tStop)"
   ]
  },
  {
   "cell_type": "markdown",
   "metadata": {},
   "source": [
    "In the next step it is possible to set the parameters for the FMU. With the first variant it is quickly possible to set all parameters at once. Even different data types can be set with only one command. The command `fmiSet()` selects itself which function is chosen for which data type.  As long as the output of the function gives the status code 0, setting the parameters has worked."
   ]
  },
  {
   "cell_type": "code",
   "execution_count": null,
   "metadata": {
    "execution": {
     "iopub.execute_input": "2022-10-22T13:27:38.415000Z",
     "iopub.status.busy": "2022-10-22T13:27:38.415000Z",
     "iopub.status.idle": "2022-10-22T13:27:40.852000Z",
     "shell.execute_reply": "2022-10-22T13:27:40.852000Z"
    }
   },
   "outputs": [],
   "source": [
    "fmiSet(fmu, params, collect(paramsVal))"
   ]
  },
  {
   "cell_type": "markdown",
   "metadata": {},
   "source": [
    "After setting the parameters, it can be checked whether the corresponding parameters were set correctly. For this the function `fmiGet()` can be used as above. To be able to call the function `fmiGet()` the FMU must be in initialization mode."
   ]
  },
  {
   "cell_type": "code",
   "execution_count": null,
   "metadata": {
    "execution": {
     "iopub.execute_input": "2022-10-22T13:27:40.856000Z",
     "iopub.status.busy": "2022-10-22T13:27:40.856000Z",
     "iopub.status.idle": "2022-10-22T13:27:40.857000Z",
     "shell.execute_reply": "2022-10-22T13:27:40.857000Z"
    }
   },
   "outputs": [],
   "source": [
    "fmiEnterInitializationMode(fmu)\n",
    "# fmiGet(fmu, params)\n",
    "fmiExitInitializationMode(fmu)"
   ]
  },
  {
   "cell_type": "markdown",
   "metadata": {},
   "source": [
    "Now the FMU has been initialized correctly, the FMU can be simulated. The `fmiSimulate()` command is used for this purpose. It must be pointed out that the keywords `instantiate=false`, `setup=false` must be set. The keyword `instantiate=false` prevents the simulation command from creating a new FMU instance, otherwise our parameterization will be lost. The keyword `setup=false` prevents the FMU from calling the initialization mode again. The additionally listed keyword `freeInstance=false` prevents that the instance is removed after the simulation. This is only needed in this example, because we want to continue working on the created instance. Another keyword is the `recordValues=parmas[1:3]`, which saves: `p_real`, `p_boolean` and `p_integer` as output. It should be noted that the `fmiSimulate()` function is not capable of outputting string values, so `p_string` is omitted."
   ]
  },
  {
   "cell_type": "code",
   "execution_count": null,
   "metadata": {
    "execution": {
     "iopub.execute_input": "2022-10-22T13:27:40.861000Z",
     "iopub.status.busy": "2022-10-22T13:27:40.861000Z",
     "iopub.status.idle": "2022-10-22T13:27:51.266000Z",
     "shell.execute_reply": "2022-10-22T13:27:51.265000Z"
    }
   },
   "outputs": [],
   "source": [
    "simData = fmiSimulate(fmu, (tStart, tStop); recordValues=params[1:3], saveat=tSave, \n",
    "                        instantiate=false, setup=false, freeInstance=false, terminate=false, reset=false)"
   ]
  },
  {
   "cell_type": "markdown",
   "metadata": {},
   "source": [
    "#### Second variant\n",
    "\n",
    "To show the second variant, it is necessary to terminate and reset the FMU instance. Then, as before, the setup command must be called for the FMU. "
   ]
  },
  {
   "cell_type": "code",
   "execution_count": null,
   "metadata": {
    "execution": {
     "iopub.execute_input": "2022-10-22T13:27:51.270000Z",
     "iopub.status.busy": "2022-10-22T13:27:51.269000Z",
     "iopub.status.idle": "2022-10-22T13:27:51.271000Z",
     "shell.execute_reply": "2022-10-22T13:27:51.271000Z"
    }
   },
   "outputs": [],
   "source": [
    "fmiTerminate(fmu)\n",
    "fmiReset(fmu)\n",
    "fmiSetupExperiment(fmu, tStart, tStop)"
   ]
  },
  {
   "cell_type": "markdown",
   "metadata": {},
   "source": [
    "To make sure that the functions work it is necessary to generate random numbers again. As shown already, we call the defined function `generateRandomNumbers()` and output the values."
   ]
  },
  {
   "cell_type": "code",
   "execution_count": null,
   "metadata": {
    "execution": {
     "iopub.execute_input": "2022-10-22T13:27:51.275000Z",
     "iopub.status.busy": "2022-10-22T13:27:51.275000Z",
     "iopub.status.idle": "2022-10-22T13:27:51.288000Z",
     "shell.execute_reply": "2022-10-22T13:27:51.288000Z"
    }
   },
   "outputs": [],
   "source": [
    "rndReal, rndBoolean, rndInteger, rndString = generateRandomNumbers()"
   ]
  },
  {
   "cell_type": "markdown",
   "metadata": {},
   "source": [
    "In the second variant, the value for each data type is set separately by the corresponding command. By this variant one has the maximum control and can be sure that also the correct data type is set. "
   ]
  },
  {
   "cell_type": "code",
   "execution_count": null,
   "metadata": {
    "execution": {
     "iopub.execute_input": "2022-10-22T13:27:51.291000Z",
     "iopub.status.busy": "2022-10-22T13:27:51.291000Z",
     "iopub.status.idle": "2022-10-22T13:27:51.615000Z",
     "shell.execute_reply": "2022-10-22T13:27:51.615000Z"
    }
   },
   "outputs": [],
   "source": [
    "fmiSetReal(fmu, \"p_real\", rndReal)\n",
    "fmiSetBoolean(fmu, \"p_boolean\", rndBoolean)\n",
    "fmiSetInteger(fmu, \"p_integer\", rndInteger)\n",
    "fmiSetString(fmu, \"p_string\", rndString)"
   ]
  },
  {
   "cell_type": "markdown",
   "metadata": {},
   "source": [
    "To illustrate the functionality of the parameterization with the separate functions, the corresponding get function can be also called separately for each data type:\n",
    "* `fmiSetReal()` &#8660; `fmiGetReal()`\n",
    "* `fmiSetBoolean()` &#8660; `fmiGetBoolean()`\n",
    "* `fmiSetInteger()` &#8660; `fmiGetInteger()`\n",
    "* `fmiSetString()` &#8660; `fmiGetString()`.\n",
    "\n",
    "As before, the FMU must be in initialization mode."
   ]
  },
  {
   "cell_type": "code",
   "execution_count": null,
   "metadata": {
    "execution": {
     "iopub.execute_input": "2022-10-22T13:27:51.619000Z",
     "iopub.status.busy": "2022-10-22T13:27:51.619000Z",
     "iopub.status.idle": "2022-10-22T13:27:51.620000Z",
     "shell.execute_reply": "2022-10-22T13:27:51.620000Z"
    }
   },
   "outputs": [],
   "source": [
    "fmiEnterInitializationMode(fmu)\n",
    "# fmiGetReal(fmu, \"u_real\")\n",
    "# fmiGetBoolean(fmu, \"u_boolean\")\n",
    "# fmiGetInteger(fmu, \"u_integer\")\n",
    "# fmiGetString(fmu, \"p_string\")\n",
    "fmiExitInitializationMode(fmu)"
   ]
  },
  {
   "cell_type": "markdown",
   "metadata": {},
   "source": [
    "From here on, you may want to simulate the FMU. Please note, that with the default `executionConfig`, it is necessary to prevent a new instantiation using the keyword `instantiate=false`. Otherwise, a new instance is allocated for the simulation-call and the parameters set for the previous instance are not transfered."
   ]
  },
  {
   "cell_type": "code",
   "execution_count": null,
   "metadata": {
    "execution": {
     "iopub.execute_input": "2022-10-22T13:27:51.624000Z",
     "iopub.status.busy": "2022-10-22T13:27:51.624000Z",
     "iopub.status.idle": "2022-10-22T13:27:52.288000Z",
     "shell.execute_reply": "2022-10-22T13:27:52.288000Z"
    }
   },
   "outputs": [],
   "source": [
    "simData = fmiSimulate(fmu, (tStart, tStop); recordValues=params[1:3], saveat=tSave, \n",
    "                        instantiate=false, setup=false)"
   ]
  },
  {
   "cell_type": "markdown",
   "metadata": {},
   "source": [
    "### Unload FMU\n",
    "\n",
    "The FMU will be unloaded and all unpacked data on disc will be removed."
   ]
  },
  {
   "cell_type": "code",
   "execution_count": null,
   "metadata": {
    "execution": {
     "iopub.execute_input": "2022-10-22T13:27:52.293000Z",
     "iopub.status.busy": "2022-10-22T13:27:52.292000Z",
     "iopub.status.idle": "2022-10-22T13:27:52.330000Z",
     "shell.execute_reply": "2022-10-22T13:27:52.329000Z"
    }
   },
   "outputs": [],
   "source": [
    "fmiUnload(fmu)"
   ]
  },
  {
   "cell_type": "markdown",
   "metadata": {},
   "source": [
    "### Summary\n",
    "\n",
    "Based on this tutorial it can be seen that there are two different variants to set and get parameters.These examples should make it clear to the user how parameters can also be set with different data types. As a small reminder, the sequence of commands for the manual parameterization of an FMU is summarized again. \n",
    "\n",
    "`fmiLoad()` &#8594; `fmiInstantiate!()` &#8594; `fmiSetupExperiment()` &#8594; `fmiSetXXX()` &#8594; `fmiEnterInitializationMode()` &#8594; `fmiGetXXX()` &#8594; `fmiExitInitializationMode()` &#8594; `fmiSimualte()` &#8594; `fmiUnload()`"
   ]
  }
 ],
 "metadata": {
  "interpreter": {
   "hash": "037537ff7419c497b9325f7d495147943224d408cf5d5ed915294a5b960167b0"
  },
  "jupytext": {
   "cell_metadata_filter": "-all",
   "comment_magics": "false",
   "notebook_metadata_filter": "-all"
  },
  "kernelspec": {
   "display_name": "Julia 1.9.1",
   "language": "julia",
   "name": "julia-1.9"
  },
  "language_info": {
   "file_extension": ".jl",
   "mimetype": "application/julia",
   "name": "julia",
   "version": "1.9.1"
  },
  "nteract": {
   "version": "0.28.0"
  }
 },
 "nbformat": 4,
 "nbformat_minor": 2
}
