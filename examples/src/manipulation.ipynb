{
 "cells": [
  {
   "cell_type": "markdown",
   "metadata": {},
   "source": [
    "# Manipulate a function\n",
    "Tutorial by Johannes Stoljar, Tobias Thummerer\n",
    "\n",
    "## License"
   ]
  },
  {
   "cell_type": "code",
   "execution_count": 1,
   "metadata": {
    "execution": {
     "iopub.execute_input": "2022-12-09T13:14:24.331000Z",
     "iopub.status.busy": "2022-12-09T13:14:23.688000Z",
     "iopub.status.idle": "2022-12-09T13:14:24.601000Z",
     "shell.execute_reply": "2022-12-09T13:14:24.528000Z"
    }
   },
   "outputs": [],
   "source": [
    "# Copyright (c) 2021 Tobias Thummerer, Lars Mikelsons, Josef Kircher, Johannes Stoljar\n",
    "# Licensed under the MIT license. \n",
    "# See LICENSE (https://github.com/thummeto/FMI.jl/blob/main/LICENSE) file in the project root for details."
   ]
  },
  {
   "cell_type": "markdown",
   "metadata": {},
   "source": [
    "## Motivation\n",
    "This Julia Package *FMI.jl* is motivated by the use of simulation models in Julia. Here the FMI specification is implemented. FMI (*Functional Mock-up Interface*) is a free standard ([fmi-standard.org](http://fmi-standard.org/)) that defines a container and an interface to exchange dynamic models using a combination of XML files, binaries and C code zipped into a single file. The user can thus use simulation models in the form of an FMU (*Functional Mock-up Units*). Besides loading the FMU, the user can also set values for parameters and states and simulate the FMU both as co-simulation and model exchange simulation.\n",
    "\n",
    "## Introduction to the example\n",
    "This example shows how to overwrite a library function with an own function. For this the FMU model is simulated first without changes. Then the function `fmi2GetReal()` is overwritten and simulated again. Both simulations are displayed in a graph to show the change caused by overwriting the function. The model used is a one-dimensional spring pendulum with friction. The object-orientated structure of the *SpringFrictionPendulum1D* can be seen in the following graphic.\n",
    "\n",
    "![svg](https://github.com/thummeto/FMI.jl/blob/main/docs/src/examples/pics/SpringFrictionPendulum1D.svg?raw=true)  \n",
    "\n",
    "\n",
    "## Target group\n",
    "The example is primarily intended for users who work in the field of simulations. The example wants to show how simple it is to use FMUs in Julia.\n",
    "\n",
    "\n",
    "## Other formats\n",
    "Besides, this [Jupyter Notebook](https://github.com/thummeto/FMI.jl/blob/examples/examples/manipulation.ipynb) there is also a [Julia file](https://github.com/thummeto/FMI.jl/blob/examples/examples/manipulation.jl) with the same name, which contains only the code cells and for the documentation there is a [Markdown file](https://github.com/thummeto/FMI.jl/blob/examples/examples/manipulation.md) corresponding to the notebook.  \n",
    "\n",
    "\n",
    "## Getting started\n",
    "\n",
    "### Installation prerequisites\n",
    "|     | Description                       | Command                   | Alternative                                    |   \n",
    "|:----|:----------------------------------|:--------------------------|:-----------------------------------------------|\n",
    "| 1.  | Enter Package Manager via         | ]                         |                                                |\n",
    "| 2.  | Install FMI via                   | add FMI                   | add \" https://github.com/ThummeTo/FMI.jl \"     |\n",
    "| 3.  | Install FMIZoo via                | add FMIZoo                | add \" https://github.com/ThummeTo/FMIZoo.jl \"  |\n",
    "| 4.  | Install FMICore via               | add FMICore               | add \" https://github.com/ThummeTo/FMICore.jl \" |\n",
    "| 5.  | Install Plots via                 | add Plots                 |                                                |"
   ]
  },
  {
   "cell_type": "markdown",
   "metadata": {},
   "source": [
    "## Code section\n",
    "\n",
    "To run the example, the previously installed packages must be included. "
   ]
  },
  {
   "cell_type": "code",
   "execution_count": 2,
   "metadata": {
    "execution": {
     "iopub.execute_input": "2022-12-09T13:14:24.604000Z",
     "iopub.status.busy": "2022-12-09T13:14:24.603000Z",
     "iopub.status.idle": "2022-12-09T13:14:44.786000Z",
     "shell.execute_reply": "2022-12-09T13:14:44.786000Z"
    },
    "scrolled": false
   },
   "outputs": [],
   "source": [
    "# imports\n",
    "using FMI\n",
    "using FMIZoo\n",
    "using FMICore\n",
    "using Plots"
   ]
  },
  {
   "cell_type": "markdown",
   "metadata": {},
   "source": [
    "### Simulation setup\n",
    "\n",
    "Next, the start time and end time of the simulation are set."
   ]
  },
  {
   "cell_type": "code",
   "execution_count": 3,
   "metadata": {
    "execution": {
     "iopub.execute_input": "2022-12-09T13:14:45.412000Z",
     "iopub.status.busy": "2022-12-09T13:14:44.788000Z",
     "iopub.status.idle": "2022-12-09T13:14:46.072000Z",
     "shell.execute_reply": "2022-12-09T13:14:46.071000Z"
    },
    "scrolled": false
   },
   "outputs": [
    {
     "data": {
      "text/plain": [
       "8.0"
      ]
     },
     "execution_count": 3,
     "metadata": {},
     "output_type": "execute_result"
    }
   ],
   "source": [
    "tStart = 0.0\n",
    "tStop = 8.0"
   ]
  },
  {
   "cell_type": "markdown",
   "metadata": {},
   "source": [
    "### Import FMU\n",
    "\n",
    "In the next lines of code the FMU model from *FMIZoo.jl* is loaded and the information about the FMU is shown."
   ]
  },
  {
   "cell_type": "code",
   "execution_count": 4,
   "metadata": {
    "execution": {
     "iopub.execute_input": "2022-12-09T13:14:46.130000Z",
     "iopub.status.busy": "2022-12-09T13:14:46.130000Z",
     "iopub.status.idle": "2022-12-09T13:14:50.737000Z",
     "shell.execute_reply": "2022-12-09T13:14:50.737000Z"
    },
    "scrolled": false
   },
   "outputs": [
    {
     "name": "stdout",
     "output_type": "stream",
     "text": [
      "#################### Begin information for FMU ####################\n",
      "\tModel name:\t\t\tSpringFrictionPendulum1D\n",
      "\tFMI-Version:\t\t\t2.0\n",
      "\tGUID:\t\t\t\t{2e178ad3-5e9b-48ec-a7b2-baa5669efc0c}\n",
      "\tGeneration tool:\t\tDymola Version 2022x (64-bit), 2021-10-08\n",
      "\tGeneration time:\t\t2022-05-19T06:54:12Z\n",
      "\tVar. naming conv.:\t\tstructured\n",
      "\tEvent indicators:\t\t24\n",
      "\tInputs:\t\t\t\t0\n",
      "\tOutputs:\t\t\t0\n",
      "\tStates:\t\t\t\t2\n",
      "\t\t33554432 [\"mass.s\"]\n",
      "\t\t33554433 [\"mass.v\", \"mass.v_relfric\"]\n",
      "\tSupports Co-Simulation:\t\ttrue\n",
      "\t\tModel identifier:\tSpringFrictionPendulum1D\n",
      "\t\tGet/Set State:\t\ttrue\n",
      "\t\tSerialize State:\ttrue\n",
      "\t\tDir. Derivatives:\ttrue\n",
      "\t\tVar. com. steps:\ttrue\n",
      "\t\tInput interpol.:\ttrue\n",
      "\t\tMax order out. der.:\t1\n",
      "\tSupports Model-Exchange:\ttrue\n",
      "\t\tModel identifier:\tSpringFrictionPendulum1D\n",
      "\t\tGet/Set State:\t\ttrue\n",
      "\t\tSerialize State:\ttrue\n",
      "\t\tDir. Derivatives:\ttrue\n",
      "##################### End information for FMU #####################\n"
     ]
    }
   ],
   "source": [
    "# we use an FMU from the FMIZoo.jl\n",
    "pathToFMU = get_model_filename(\"SpringFrictionPendulum1D\", \"Dymola\", \"2022x\")\n",
    "\n",
    "myFMU = fmiLoad(pathToFMU)\n",
    "\n",
    "fmiInfo(myFMU)"
   ]
  },
  {
   "cell_type": "markdown",
   "metadata": {},
   "source": [
    "### Simulate FMU\n",
    "\n",
    "In the next steps the recorded value is defined. The recorded value is the position of the mass. In the function `fmiSimulateME()` the FMU is simulated in model-exchange mode (ME) with an adaptive step size. In addition, the start and end time and the recorded variables are specified."
   ]
  },
  {
   "cell_type": "code",
   "execution_count": 5,
   "metadata": {
    "execution": {
     "iopub.execute_input": "2022-12-09T13:14:50.740000Z",
     "iopub.status.busy": "2022-12-09T13:14:50.740000Z",
     "iopub.status.idle": "2022-12-09T13:15:07.149000Z",
     "shell.execute_reply": "2022-12-09T13:15:07.149000Z"
    }
   },
   "outputs": [
    {
     "name": "stderr",
     "output_type": "stream",
     "text": [
      "\u001b[34mSimulating ME-FMU ... 100%|██████████████████████████████| Time: 0:00:08\u001b[39m\n"
     ]
    },
    {
     "data": {
      "text/plain": [
       "Model name:\n",
       "\tSpringFrictionPendulum1D\n",
       "Success:\n",
       "\ttrue\n",
       "States [131]:\n",
       "\t0.0\t[0.5, 0.0]\n",
       "\t2.352941176471972e-11\t[0.5, 1.0e-10]\n",
       "\t0.002306805098500577\t[0.50001131604032, 0.009814511243552598]\n",
       "\t0.01777270416443653\t[0.5006746898591579, 0.07610209623820656]\n",
       "\t0.05358198828807212\t[0.506179178874527, 0.2316410453658537]\n",
       "\t0.11852692044602456\t[0.5303834670269423, 0.5124206380884914]\n",
       "\t0.1848828124352921\t[0.5734929986755488, 0.7828256306325594]\n",
       "\t0.2648828124352921\t[0.6478174757579945, 1.0657733053856748]\n",
       "\t0.3448828124352921\t[0.7422425240500841, 1.2823803179707145]\n",
       "\t...\n",
       "\t8.0\t[1.0666323055577207, -7.603992128337398e-5]\n",
       "Values [131]:\n",
       "\t0.0\t(0.5,)\n",
       "\t2.352941176471972e-11\t(0.5,)\n",
       "\t0.002306805098500577\t(0.50001131604032,)\n",
       "\t0.01777270416443653\t(0.5006746898591579,)\n",
       "\t0.05358198828807212\t(0.506179178874527,)\n",
       "\t0.11852692044602456\t(0.5303834670269423,)\n",
       "\t0.1848828124352921\t(0.5734929986755488,)\n",
       "\t0.2648828124352921\t(0.6478174757579945,)\n",
       "\t0.3448828124352921\t(0.7422425240500841,)\n",
       "\t...\n",
       "\t8.0\t(1.0666323055577207,)\n",
       "Events [6]:\n",
       "\tState-Event #11 @ 0.0s\n",
       "\tState-Event #11 @ 0.994s\n",
       "\tState-Event #19 @ 1.9883s\n",
       "\tState-Event #11 @ 2.9831s\n",
       "\tState-Event #19 @ 3.9789s\n",
       "\tState-Event #11 @ 4.977s\n"
      ]
     },
     "execution_count": 5,
     "metadata": {},
     "output_type": "execute_result"
    }
   ],
   "source": [
    "vrs = [\"mass.s\"]\n",
    "\n",
    "simData = fmiSimulateME(myFMU, tStart, tStop; recordValues=vrs)"
   ]
  },
  {
   "cell_type": "markdown",
   "metadata": {},
   "source": [
    "### Plotting FMU\n",
    "\n",
    "After the simulation is finished, the result of the FMU for the model-exchange mode can be plotted. In the plot for the FMU it can be seen that the oscillation continues to decrease due to the effect of the friction. If you simulate long enough, the oscillation comes to a standstill in a certain time."
   ]
  },
  {
   "cell_type": "code",
   "execution_count": 6,
   "metadata": {
    "execution": {
     "iopub.execute_input": "2022-12-09T13:15:07.152000Z",
     "iopub.status.busy": "2022-12-09T13:15:07.152000Z",
     "iopub.status.idle": "2022-12-09T13:15:37.076000Z",
     "shell.execute_reply": "2022-12-09T13:15:37.076000Z"
    },
    "scrolled": false
   },
   "outputs": [
    {
     "data": {
      "image/svg+xml": [
       "<?xml version=\"1.0\" encoding=\"utf-8\"?>\n",
       "<svg xmlns=\"http://www.w3.org/2000/svg\" xmlns:xlink=\"http://www.w3.org/1999/xlink\" width=\"600\" height=\"400\" viewBox=\"0 0 2400 1600\">\n",
       "<defs>\n",
       "  <clipPath id=\"clip370\">\n",
       "    <rect x=\"0\" y=\"0\" width=\"2400\" height=\"1600\"/>\n",
       "  </clipPath>\n",
       "</defs>\n",
       "<path clip-path=\"url(#clip370)\" d=\"\n",
       "M0 1600 L2400 1600 L2400 0 L0 0  Z\n",
       "  \" fill=\"#ffffff\" fill-rule=\"evenodd\" fill-opacity=\"1\"/>\n",
       "<defs>\n",
       "  <clipPath id=\"clip371\">\n",
       "    <rect x=\"480\" y=\"0\" width=\"1681\" height=\"1600\"/>\n",
       "  </clipPath>\n",
       "</defs>\n",
       "<path clip-path=\"url(#clip370)\" d=\"\n",
       "M156.274 1423.18 L2352.76 1423.18 L2352.76 47.2441 L156.274 47.2441  Z\n",
       "  \" fill=\"#ffffff\" fill-rule=\"evenodd\" fill-opacity=\"1\"/>\n",
       "<defs>\n",
       "  <clipPath id=\"clip372\">\n",
       "    <rect x=\"156\" y=\"47\" width=\"2197\" height=\"1377\"/>\n",
       "  </clipPath>\n",
       "</defs>\n",
       "<polyline clip-path=\"url(#clip372)\" style=\"stroke:#000000; stroke-linecap:round; stroke-linejoin:round; stroke-width:2; stroke-opacity:0.1; fill:none\" points=\"\n",
       "  218.439,1423.18 218.439,47.2441 \n",
       "  \"/>\n",
       "<polyline clip-path=\"url(#clip372)\" style=\"stroke:#000000; stroke-linecap:round; stroke-linejoin:round; stroke-width:2; stroke-opacity:0.1; fill:none\" points=\"\n",
       "  736.477,1423.18 736.477,47.2441 \n",
       "  \"/>\n",
       "<polyline clip-path=\"url(#clip372)\" style=\"stroke:#000000; stroke-linecap:round; stroke-linejoin:round; stroke-width:2; stroke-opacity:0.1; fill:none\" points=\"\n",
       "  1254.52,1423.18 1254.52,47.2441 \n",
       "  \"/>\n",
       "<polyline clip-path=\"url(#clip372)\" style=\"stroke:#000000; stroke-linecap:round; stroke-linejoin:round; stroke-width:2; stroke-opacity:0.1; fill:none\" points=\"\n",
       "  1772.55,1423.18 1772.55,47.2441 \n",
       "  \"/>\n",
       "<polyline clip-path=\"url(#clip372)\" style=\"stroke:#000000; stroke-linecap:round; stroke-linejoin:round; stroke-width:2; stroke-opacity:0.1; fill:none\" points=\"\n",
       "  2290.59,1423.18 2290.59,47.2441 \n",
       "  \"/>\n",
       "<polyline clip-path=\"url(#clip370)\" style=\"stroke:#000000; stroke-linecap:round; stroke-linejoin:round; stroke-width:4; stroke-opacity:1; fill:none\" points=\"\n",
       "  156.274,1423.18 2352.76,1423.18 \n",
       "  \"/>\n",
       "<polyline clip-path=\"url(#clip370)\" style=\"stroke:#000000; stroke-linecap:round; stroke-linejoin:round; stroke-width:4; stroke-opacity:1; fill:none\" points=\"\n",
       "  218.439,1423.18 218.439,1404.28 \n",
       "  \"/>\n",
       "<polyline clip-path=\"url(#clip370)\" style=\"stroke:#000000; stroke-linecap:round; stroke-linejoin:round; stroke-width:4; stroke-opacity:1; fill:none\" points=\"\n",
       "  736.477,1423.18 736.477,1404.28 \n",
       "  \"/>\n",
       "<polyline clip-path=\"url(#clip370)\" style=\"stroke:#000000; stroke-linecap:round; stroke-linejoin:round; stroke-width:4; stroke-opacity:1; fill:none\" points=\"\n",
       "  1254.52,1423.18 1254.52,1404.28 \n",
       "  \"/>\n",
       "<polyline clip-path=\"url(#clip370)\" style=\"stroke:#000000; stroke-linecap:round; stroke-linejoin:round; stroke-width:4; stroke-opacity:1; fill:none\" points=\"\n",
       "  1772.55,1423.18 1772.55,1404.28 \n",
       "  \"/>\n",
       "<polyline clip-path=\"url(#clip370)\" style=\"stroke:#000000; stroke-linecap:round; stroke-linejoin:round; stroke-width:4; stroke-opacity:1; fill:none\" points=\"\n",
       "  2290.59,1423.18 2290.59,1404.28 \n",
       "  \"/>\n",
       "<path clip-path=\"url(#clip370)\" d=\"M218.439 1454.1 Q214.828 1454.1 212.999 1457.66 Q211.193 1461.2 211.193 1468.33 Q211.193 1475.44 212.999 1479.01 Q214.828 1482.55 218.439 1482.55 Q222.073 1482.55 223.879 1479.01 Q225.707 1475.44 225.707 1468.33 Q225.707 1461.2 223.879 1457.66 Q222.073 1454.1 218.439 1454.1 M218.439 1450.39 Q224.249 1450.39 227.304 1455 Q230.383 1459.58 230.383 1468.33 Q230.383 1477.06 227.304 1481.67 Q224.249 1486.25 218.439 1486.25 Q212.629 1486.25 209.55 1481.67 Q206.494 1477.06 206.494 1468.33 Q206.494 1459.58 209.55 1455 Q212.629 1450.39 218.439 1450.39 Z\" fill=\"#000000\" fill-rule=\"evenodd\" fill-opacity=\"1\" /><path clip-path=\"url(#clip370)\" d=\"M731.13 1481.64 L747.449 1481.64 L747.449 1485.58 L725.505 1485.58 L725.505 1481.64 Q728.167 1478.89 732.75 1474.26 Q737.357 1469.61 738.537 1468.27 Q740.782 1465.74 741.662 1464.01 Q742.565 1462.25 742.565 1460.56 Q742.565 1457.8 740.62 1456.07 Q738.699 1454.33 735.597 1454.33 Q733.398 1454.33 730.945 1455.09 Q728.514 1455.86 725.736 1457.41 L725.736 1452.69 Q728.56 1451.55 731.014 1450.97 Q733.468 1450.39 735.505 1450.39 Q740.875 1450.39 744.069 1453.08 Q747.264 1455.77 747.264 1460.26 Q747.264 1462.39 746.454 1464.31 Q745.667 1466.2 743.56 1468.8 Q742.981 1469.47 739.88 1472.69 Q736.778 1475.88 731.13 1481.64 Z\" fill=\"#000000\" fill-rule=\"evenodd\" fill-opacity=\"1\" /><path clip-path=\"url(#clip370)\" d=\"M1257.52 1455.09 L1245.72 1473.54 L1257.52 1473.54 L1257.52 1455.09 M1256.3 1451.02 L1262.18 1451.02 L1262.18 1473.54 L1267.11 1473.54 L1267.11 1477.43 L1262.18 1477.43 L1262.18 1485.58 L1257.52 1485.58 L1257.52 1477.43 L1241.92 1477.43 L1241.92 1472.92 L1256.3 1451.02 Z\" fill=\"#000000\" fill-rule=\"evenodd\" fill-opacity=\"1\" /><path clip-path=\"url(#clip370)\" d=\"M1772.96 1466.44 Q1769.81 1466.44 1767.96 1468.59 Q1766.13 1470.74 1766.13 1474.49 Q1766.13 1478.22 1767.96 1480.39 Q1769.81 1482.55 1772.96 1482.55 Q1776.11 1482.55 1777.94 1480.39 Q1779.79 1478.22 1779.79 1474.49 Q1779.79 1470.74 1777.94 1468.59 Q1776.11 1466.44 1772.96 1466.44 M1782.24 1451.78 L1782.24 1456.04 Q1780.48 1455.21 1778.68 1454.77 Q1776.89 1454.33 1775.13 1454.33 Q1770.5 1454.33 1768.05 1457.45 Q1765.62 1460.58 1765.27 1466.9 Q1766.64 1464.89 1768.7 1463.82 Q1770.76 1462.73 1773.24 1462.73 Q1778.44 1462.73 1781.45 1465.9 Q1784.49 1469.05 1784.49 1474.49 Q1784.49 1479.82 1781.34 1483.03 Q1778.19 1486.25 1772.96 1486.25 Q1766.96 1486.25 1763.79 1481.67 Q1760.62 1477.06 1760.62 1468.33 Q1760.62 1460.14 1764.51 1455.28 Q1768.4 1450.39 1774.95 1450.39 Q1776.71 1450.39 1778.49 1450.74 Q1780.3 1451.09 1782.24 1451.78 Z\" fill=\"#000000\" fill-rule=\"evenodd\" fill-opacity=\"1\" /><path clip-path=\"url(#clip370)\" d=\"M2290.59 1469.17 Q2287.26 1469.17 2285.34 1470.95 Q2283.44 1472.73 2283.44 1475.86 Q2283.44 1478.98 2285.34 1480.77 Q2287.26 1482.55 2290.59 1482.55 Q2293.92 1482.55 2295.85 1480.77 Q2297.77 1478.96 2297.77 1475.86 Q2297.77 1472.73 2295.85 1470.95 Q2293.95 1469.17 2290.59 1469.17 M2285.92 1467.18 Q2282.91 1466.44 2281.22 1464.38 Q2279.55 1462.32 2279.55 1459.35 Q2279.55 1455.21 2282.49 1452.8 Q2285.45 1450.39 2290.59 1450.39 Q2295.75 1450.39 2298.69 1452.8 Q2301.63 1455.21 2301.63 1459.35 Q2301.63 1462.32 2299.94 1464.38 Q2298.28 1466.44 2295.29 1467.18 Q2298.67 1467.96 2300.54 1470.26 Q2302.44 1472.55 2302.44 1475.86 Q2302.44 1480.88 2299.36 1483.57 Q2296.31 1486.25 2290.59 1486.25 Q2284.87 1486.25 2281.8 1483.57 Q2278.74 1480.88 2278.74 1475.86 Q2278.74 1472.55 2280.64 1470.26 Q2282.54 1467.96 2285.92 1467.18 M2284.2 1459.79 Q2284.2 1462.48 2285.87 1463.98 Q2287.56 1465.49 2290.59 1465.49 Q2293.6 1465.49 2295.29 1463.98 Q2297 1462.48 2297 1459.79 Q2297 1457.11 2295.29 1455.6 Q2293.6 1454.1 2290.59 1454.1 Q2287.56 1454.1 2285.87 1455.6 Q2284.2 1457.11 2284.2 1459.79 Z\" fill=\"#000000\" fill-rule=\"evenodd\" fill-opacity=\"1\" /><path clip-path=\"url(#clip370)\" d=\"M1202.83 1522.27 L1202.83 1532.4 L1214.89 1532.4 L1214.89 1536.95 L1202.83 1536.95 L1202.83 1556.3 Q1202.83 1560.66 1204 1561.9 Q1205.21 1563.14 1208.87 1563.14 L1214.89 1563.14 L1214.89 1568.04 L1208.87 1568.04 Q1202.09 1568.04 1199.52 1565.53 Q1196.94 1562.98 1196.94 1556.3 L1196.94 1536.95 L1192.64 1536.95 L1192.64 1532.4 L1196.94 1532.4 L1196.94 1522.27 L1202.83 1522.27 Z\" fill=\"#000000\" fill-rule=\"evenodd\" fill-opacity=\"1\" /><path clip-path=\"url(#clip370)\" d=\"M1242.77 1518.52 L1256.27 1518.52 L1256.27 1523.07 L1248.63 1523.07 L1248.63 1572.09 L1256.27 1572.09 L1256.27 1576.64 L1242.77 1576.64 L1242.77 1518.52 Z\" fill=\"#000000\" fill-rule=\"evenodd\" fill-opacity=\"1\" /><path clip-path=\"url(#clip370)\" d=\"M1291.47 1533.45 L1291.47 1538.98 Q1288.99 1537.71 1286.31 1537.07 Q1283.64 1536.44 1280.77 1536.44 Q1276.41 1536.44 1274.22 1537.77 Q1272.05 1539.11 1272.05 1541.79 Q1272.05 1543.82 1273.61 1545 Q1275.17 1546.15 1279.88 1547.2 L1281.89 1547.64 Q1288.13 1548.98 1290.74 1551.43 Q1293.38 1553.85 1293.38 1558.21 Q1293.38 1563.17 1289.43 1566.07 Q1285.52 1568.97 1278.64 1568.97 Q1275.78 1568.97 1272.66 1568.39 Q1269.57 1567.85 1266.13 1566.74 L1266.13 1560.69 Q1269.38 1562.38 1272.53 1563.24 Q1275.68 1564.07 1278.77 1564.07 Q1282.91 1564.07 1285.13 1562.66 Q1287.36 1561.23 1287.36 1558.65 Q1287.36 1556.27 1285.74 1554.99 Q1284.15 1553.72 1278.7 1552.54 L1276.67 1552.07 Q1271.23 1550.92 1268.81 1548.56 Q1266.39 1546.18 1266.39 1542.04 Q1266.39 1537.01 1269.95 1534.27 Q1273.52 1531.54 1280.07 1531.54 Q1283.32 1531.54 1286.18 1532.01 Q1289.05 1532.49 1291.47 1533.45 Z\" fill=\"#000000\" fill-rule=\"evenodd\" fill-opacity=\"1\" /><path clip-path=\"url(#clip370)\" d=\"M1316.39 1518.52 L1316.39 1576.64 L1302.89 1576.64 L1302.89 1572.09 L1310.5 1572.09 L1310.5 1523.07 L1302.89 1523.07 L1302.89 1518.52 L1316.39 1518.52 Z\" fill=\"#000000\" fill-rule=\"evenodd\" fill-opacity=\"1\" /><polyline clip-path=\"url(#clip372)\" style=\"stroke:#000000; stroke-linecap:round; stroke-linejoin:round; stroke-width:2; stroke-opacity:0.1; fill:none\" points=\"\n",
       "  156.274,1243.97 2352.76,1243.97 \n",
       "  \"/>\n",
       "<polyline clip-path=\"url(#clip372)\" style=\"stroke:#000000; stroke-linecap:round; stroke-linejoin:round; stroke-width:2; stroke-opacity:0.1; fill:none\" points=\"\n",
       "  156.274,963.433 2352.76,963.433 \n",
       "  \"/>\n",
       "<polyline clip-path=\"url(#clip372)\" style=\"stroke:#000000; stroke-linecap:round; stroke-linejoin:round; stroke-width:2; stroke-opacity:0.1; fill:none\" points=\"\n",
       "  156.274,682.896 2352.76,682.896 \n",
       "  \"/>\n",
       "<polyline clip-path=\"url(#clip372)\" style=\"stroke:#000000; stroke-linecap:round; stroke-linejoin:round; stroke-width:2; stroke-opacity:0.1; fill:none\" points=\"\n",
       "  156.274,402.36 2352.76,402.36 \n",
       "  \"/>\n",
       "<polyline clip-path=\"url(#clip372)\" style=\"stroke:#000000; stroke-linecap:round; stroke-linejoin:round; stroke-width:2; stroke-opacity:0.1; fill:none\" points=\"\n",
       "  156.274,121.823 2352.76,121.823 \n",
       "  \"/>\n",
       "<polyline clip-path=\"url(#clip370)\" style=\"stroke:#000000; stroke-linecap:round; stroke-linejoin:round; stroke-width:4; stroke-opacity:1; fill:none\" points=\"\n",
       "  156.274,1423.18 156.274,47.2441 \n",
       "  \"/>\n",
       "<polyline clip-path=\"url(#clip370)\" style=\"stroke:#000000; stroke-linecap:round; stroke-linejoin:round; stroke-width:4; stroke-opacity:1; fill:none\" points=\"\n",
       "  156.274,1243.97 175.172,1243.97 \n",
       "  \"/>\n",
       "<polyline clip-path=\"url(#clip370)\" style=\"stroke:#000000; stroke-linecap:round; stroke-linejoin:round; stroke-width:4; stroke-opacity:1; fill:none\" points=\"\n",
       "  156.274,963.433 175.172,963.433 \n",
       "  \"/>\n",
       "<polyline clip-path=\"url(#clip370)\" style=\"stroke:#000000; stroke-linecap:round; stroke-linejoin:round; stroke-width:4; stroke-opacity:1; fill:none\" points=\"\n",
       "  156.274,682.896 175.172,682.896 \n",
       "  \"/>\n",
       "<polyline clip-path=\"url(#clip370)\" style=\"stroke:#000000; stroke-linecap:round; stroke-linejoin:round; stroke-width:4; stroke-opacity:1; fill:none\" points=\"\n",
       "  156.274,402.36 175.172,402.36 \n",
       "  \"/>\n",
       "<polyline clip-path=\"url(#clip370)\" style=\"stroke:#000000; stroke-linecap:round; stroke-linejoin:round; stroke-width:4; stroke-opacity:1; fill:none\" points=\"\n",
       "  156.274,121.823 175.172,121.823 \n",
       "  \"/>\n",
       "<path clip-path=\"url(#clip370)\" d=\"M62.9365 1229.77 Q59.3254 1229.77 57.4967 1233.33 Q55.6912 1236.88 55.6912 1244 Q55.6912 1251.11 57.4967 1254.68 Q59.3254 1258.22 62.9365 1258.22 Q66.5707 1258.22 68.3763 1254.68 Q70.205 1251.11 70.205 1244 Q70.205 1236.88 68.3763 1233.33 Q66.5707 1229.77 62.9365 1229.77 M62.9365 1226.06 Q68.7467 1226.06 71.8022 1230.67 Q74.8809 1235.25 74.8809 1244 Q74.8809 1252.73 71.8022 1257.34 Q68.7467 1261.92 62.9365 1261.92 Q57.1264 1261.92 54.0477 1257.34 Q50.9921 1252.73 50.9921 1244 Q50.9921 1235.25 54.0477 1230.67 Q57.1264 1226.06 62.9365 1226.06 Z\" fill=\"#000000\" fill-rule=\"evenodd\" fill-opacity=\"1\" /><path clip-path=\"url(#clip370)\" d=\"M83.0984 1255.37 L87.9827 1255.37 L87.9827 1261.25 L83.0984 1261.25 L83.0984 1255.37 Z\" fill=\"#000000\" fill-rule=\"evenodd\" fill-opacity=\"1\" /><path clip-path=\"url(#clip370)\" d=\"M108.746 1242.11 Q105.598 1242.11 103.746 1244.26 Q101.918 1246.41 101.918 1250.16 Q101.918 1253.89 103.746 1256.06 Q105.598 1258.22 108.746 1258.22 Q111.895 1258.22 113.723 1256.06 Q115.575 1253.89 115.575 1250.16 Q115.575 1246.41 113.723 1244.26 Q111.895 1242.11 108.746 1242.11 M118.029 1227.45 L118.029 1231.71 Q116.27 1230.88 114.464 1230.44 Q112.682 1230 110.922 1230 Q106.293 1230 103.839 1233.13 Q101.409 1236.25 101.061 1242.57 Q102.427 1240.56 104.487 1239.49 Q106.547 1238.4 109.024 1238.4 Q114.233 1238.4 117.242 1241.57 Q120.274 1244.72 120.274 1250.16 Q120.274 1255.49 117.126 1258.7 Q113.978 1261.92 108.746 1261.92 Q102.751 1261.92 99.5798 1257.34 Q96.4085 1252.73 96.4085 1244 Q96.4085 1235.81 100.297 1230.95 Q104.186 1226.06 110.737 1226.06 Q112.496 1226.06 114.279 1226.41 Q116.084 1226.76 118.029 1227.45 Z\" fill=\"#000000\" fill-rule=\"evenodd\" fill-opacity=\"1\" /><path clip-path=\"url(#clip370)\" d=\"M63.1911 949.232 Q59.58 949.232 57.7513 952.797 Q55.9458 956.338 55.9458 963.468 Q55.9458 970.574 57.7513 974.139 Q59.58 977.681 63.1911 977.681 Q66.8254 977.681 68.6309 974.139 Q70.4596 970.574 70.4596 963.468 Q70.4596 956.338 68.6309 952.797 Q66.8254 949.232 63.1911 949.232 M63.1911 945.528 Q69.0013 945.528 72.0568 950.135 Q75.1355 954.718 75.1355 963.468 Q75.1355 972.195 72.0568 976.801 Q69.0013 981.384 63.1911 981.384 Q57.381 981.384 54.3023 976.801 Q51.2468 972.195 51.2468 963.468 Q51.2468 954.718 54.3023 950.135 Q57.381 945.528 63.1911 945.528 Z\" fill=\"#000000\" fill-rule=\"evenodd\" fill-opacity=\"1\" /><path clip-path=\"url(#clip370)\" d=\"M83.3531 974.834 L88.2373 974.834 L88.2373 980.713 L83.3531 980.713 L83.3531 974.834 Z\" fill=\"#000000\" fill-rule=\"evenodd\" fill-opacity=\"1\" /><path clip-path=\"url(#clip370)\" d=\"M108.422 964.301 Q105.089 964.301 103.168 966.084 Q101.27 967.866 101.27 970.991 Q101.27 974.116 103.168 975.898 Q105.089 977.681 108.422 977.681 Q111.756 977.681 113.677 975.898 Q115.598 974.093 115.598 970.991 Q115.598 967.866 113.677 966.084 Q111.779 964.301 108.422 964.301 M103.746 962.31 Q100.737 961.57 99.0474 959.51 Q97.3808 957.449 97.3808 954.486 Q97.3808 950.343 100.321 947.936 Q103.284 945.528 108.422 945.528 Q113.584 945.528 116.524 947.936 Q119.464 950.343 119.464 954.486 Q119.464 957.449 117.774 959.51 Q116.108 961.57 113.121 962.31 Q116.501 963.097 118.376 965.389 Q120.274 967.681 120.274 970.991 Q120.274 976.014 117.195 978.699 Q114.14 981.384 108.422 981.384 Q102.705 981.384 99.6261 978.699 Q96.5706 976.014 96.5706 970.991 Q96.5706 967.681 98.4687 965.389 Q100.367 963.097 103.746 962.31 M102.034 954.926 Q102.034 957.611 103.7 959.116 Q105.39 960.621 108.422 960.621 Q111.432 960.621 113.121 959.116 Q114.834 957.611 114.834 954.926 Q114.834 952.241 113.121 950.736 Q111.432 949.232 108.422 949.232 Q105.39 949.232 103.7 950.736 Q102.034 952.241 102.034 954.926 Z\" fill=\"#000000\" fill-rule=\"evenodd\" fill-opacity=\"1\" /><path clip-path=\"url(#clip370)\" d=\"M53.9088 696.241 L61.5476 696.241 L61.5476 669.876 L53.2375 671.542 L53.2375 667.283 L61.5013 665.616 L66.1772 665.616 L66.1772 696.241 L73.8161 696.241 L73.8161 700.176 L53.9088 700.176 L53.9088 696.241 Z\" fill=\"#000000\" fill-rule=\"evenodd\" fill-opacity=\"1\" /><path clip-path=\"url(#clip370)\" d=\"M83.2605 694.297 L88.1447 694.297 L88.1447 700.176 L83.2605 700.176 L83.2605 694.297 Z\" fill=\"#000000\" fill-rule=\"evenodd\" fill-opacity=\"1\" /><path clip-path=\"url(#clip370)\" d=\"M108.33 668.695 Q104.719 668.695 102.89 672.26 Q101.084 675.801 101.084 682.931 Q101.084 690.038 102.89 693.602 Q104.719 697.144 108.33 697.144 Q111.964 697.144 113.77 693.602 Q115.598 690.038 115.598 682.931 Q115.598 675.801 113.77 672.26 Q111.964 668.695 108.33 668.695 M108.33 664.991 Q114.14 664.991 117.195 669.598 Q120.274 674.181 120.274 682.931 Q120.274 691.658 117.195 696.264 Q114.14 700.848 108.33 700.848 Q102.52 700.848 99.4409 696.264 Q96.3854 691.658 96.3854 682.931 Q96.3854 674.181 99.4409 669.598 Q102.52 664.991 108.33 664.991 Z\" fill=\"#000000\" fill-rule=\"evenodd\" fill-opacity=\"1\" /><path clip-path=\"url(#clip370)\" d=\"M55.506 415.704 L63.1448 415.704 L63.1448 389.339 L54.8347 391.005 L54.8347 386.746 L63.0985 385.08 L67.7744 385.08 L67.7744 415.704 L75.4133 415.704 L75.4133 419.64 L55.506 419.64 L55.506 415.704 Z\" fill=\"#000000\" fill-rule=\"evenodd\" fill-opacity=\"1\" /><path clip-path=\"url(#clip370)\" d=\"M84.8577 413.76 L89.7419 413.76 L89.7419 419.64 L84.8577 419.64 L84.8577 413.76 Z\" fill=\"#000000\" fill-rule=\"evenodd\" fill-opacity=\"1\" /><path clip-path=\"url(#clip370)\" d=\"M103.955 415.704 L120.274 415.704 L120.274 419.64 L98.3298 419.64 L98.3298 415.704 Q100.992 412.95 105.575 408.32 Q110.182 403.667 111.362 402.325 Q113.608 399.802 114.487 398.066 Q115.39 396.306 115.39 394.617 Q115.39 391.862 113.445 390.126 Q111.524 388.39 108.422 388.39 Q106.223 388.39 103.77 389.154 Q101.339 389.918 98.5613 391.468 L98.5613 386.746 Q101.385 385.612 103.839 385.033 Q106.293 384.455 108.33 384.455 Q113.7 384.455 116.895 387.14 Q120.089 389.825 120.089 394.316 Q120.089 396.445 119.279 398.367 Q118.492 400.265 116.385 402.857 Q115.807 403.529 112.705 406.746 Q109.603 409.941 103.955 415.704 Z\" fill=\"#000000\" fill-rule=\"evenodd\" fill-opacity=\"1\" /><path clip-path=\"url(#clip370)\" d=\"M53.4227 135.168 L61.0615 135.168 L61.0615 108.802 L52.7514 110.469 L52.7514 106.209 L61.0152 104.543 L65.6911 104.543 L65.6911 135.168 L73.33 135.168 L73.33 139.103 L53.4227 139.103 L53.4227 135.168 Z\" fill=\"#000000\" fill-rule=\"evenodd\" fill-opacity=\"1\" /><path clip-path=\"url(#clip370)\" d=\"M82.7744 133.223 L87.6586 133.223 L87.6586 139.103 L82.7744 139.103 L82.7744 133.223 Z\" fill=\"#000000\" fill-rule=\"evenodd\" fill-opacity=\"1\" /><path clip-path=\"url(#clip370)\" d=\"M110.691 108.617 L98.8854 127.066 L110.691 127.066 L110.691 108.617 M109.464 104.543 L115.344 104.543 L115.344 127.066 L120.274 127.066 L120.274 130.955 L115.344 130.955 L115.344 139.103 L110.691 139.103 L110.691 130.955 L95.0891 130.955 L95.0891 126.441 L109.464 104.543 Z\" fill=\"#000000\" fill-rule=\"evenodd\" fill-opacity=\"1\" /><polyline clip-path=\"url(#clip372)\" style=\"stroke:#009af9; stroke-linecap:round; stroke-linejoin:round; stroke-width:4; stroke-opacity:1; fill:none\" points=\"\n",
       "  218.439,1384.24 218.439,1384.24 219.036,1384.22 223.042,1383.29 232.317,1375.57 249.139,1341.62 266.327,1281.15 287.048,1176.9 307.77,1044.45 328.491,892.138 \n",
       "  349.213,729.636 369.935,567.283 390.656,415.42 411.378,283.739 432.099,180.728 452.821,113.26 473.542,86.4774 475.915,86.1857 476.075,86.1867 476.211,86.1891 \n",
       "  477.568,86.2869 483.594,88.3673 496.641,102.196 513.327,138.422 532.937,206.244 553.659,303.881 574.38,422.33 595.102,554.156 615.823,691.006 636.545,824.169 \n",
       "  657.267,945.139 677.988,1046.12 698.71,1120.45 719.431,1162.85 733.411,1171.39 733.451,1171.39 733.601,1171.39 733.697,1171.39 734.657,1171.35 740.616,1169.91 \n",
       "  756.646,1155.73 774.408,1122.51 795.13,1061.87 815.851,980.886 836.573,884.439 857.294,778.529 878.016,669.845 898.737,565.313 919.459,471.653 940.18,394.992 \n",
       "  960.902,340.55 981.623,312.468 991.113,309.296 991.258,309.296 991.344,309.297 992.208,309.32 998.901,310.522 1012.22,318.385 1028.83,338.413 1049.16,377.772 \n",
       "  1069.88,432.81 1090.61,499.79 1111.33,574.655 1132.05,652.737 1152.77,729.079 1173.49,798.748 1194.21,857.132 1214.93,900.179 1235.66,924.566 1247.71,929.133 \n",
       "  1249.05,929.179 1249.19,929.179 1249.3,929.179 1250.44,929.159 1256.65,928.563 1268.37,925.173 1283.73,916.198 1302.89,897.96 1323.61,870.141 1344.33,835.311 \n",
       "  1365.05,795.448 1385.77,752.953 1406.49,710.486 1427.22,670.798 1447.94,636.565 1468.66,610.232 1489.38,593.895 1505.72,589.16 1507.58,589.11 1507.72,589.11 \n",
       "  1507.84,589.11 1509.01,589.11 1520.72,589.115 1541.44,589.124 1562.16,589.132 1582.88,589.141 1603.6,589.149 1624.32,589.158 1645.04,589.166 1665.77,589.175 \n",
       "  1686.49,589.184 1707.21,589.192 1727.93,589.201 1748.65,589.209 1769.37,589.218 1790.1,589.226 1810.82,589.235 1831.54,589.243 1852.26,589.252 1872.98,589.26 \n",
       "  1893.7,589.269 1914.42,589.277 1935.15,589.286 1955.87,589.294 1976.59,589.303 1997.31,589.312 2018.03,589.32 2038.75,589.329 2059.48,589.337 2080.2,589.346 \n",
       "  2100.92,589.354 2121.64,589.363 2142.36,589.371 2163.08,589.38 2183.8,589.388 2204.53,589.397 2225.25,589.405 2245.97,589.414 2266.69,589.422 2287.41,589.431 \n",
       "  2290.59,589.432 \n",
       "  \"/>\n",
       "<polyline clip-path=\"url(#clip372)\" style=\"stroke:#0000ff; stroke-linecap:round; stroke-linejoin:round; stroke-width:4; stroke-opacity:1; fill:none\" stroke-dasharray=\"16, 10\" points=\"\n",
       "  218.439,1384.24 218.439,86.1857 \n",
       "  \"/>\n",
       "<polyline clip-path=\"url(#clip372)\" style=\"stroke:#0000ff; stroke-linecap:round; stroke-linejoin:round; stroke-width:4; stroke-opacity:1; fill:none\" stroke-dasharray=\"16, 10\" points=\"\n",
       "  475.915,1384.24 475.915,86.1857 \n",
       "  \"/>\n",
       "<polyline clip-path=\"url(#clip372)\" style=\"stroke:#0000ff; stroke-linecap:round; stroke-linejoin:round; stroke-width:4; stroke-opacity:1; fill:none\" stroke-dasharray=\"16, 10\" points=\"\n",
       "  733.451,1384.24 733.451,86.1857 \n",
       "  \"/>\n",
       "<polyline clip-path=\"url(#clip372)\" style=\"stroke:#0000ff; stroke-linecap:round; stroke-linejoin:round; stroke-width:4; stroke-opacity:1; fill:none\" stroke-dasharray=\"16, 10\" points=\"\n",
       "  991.113,1384.24 991.113,86.1857 \n",
       "  \"/>\n",
       "<polyline clip-path=\"url(#clip372)\" style=\"stroke:#0000ff; stroke-linecap:round; stroke-linejoin:round; stroke-width:4; stroke-opacity:1; fill:none\" stroke-dasharray=\"16, 10\" points=\"\n",
       "  1249.05,1384.24 1249.05,86.1857 \n",
       "  \"/>\n",
       "<polyline clip-path=\"url(#clip372)\" style=\"stroke:#0000ff; stroke-linecap:round; stroke-linejoin:round; stroke-width:4; stroke-opacity:1; fill:none\" stroke-dasharray=\"16, 10\" points=\"\n",
       "  1507.58,1384.24 1507.58,86.1857 \n",
       "  \"/>\n",
       "<path clip-path=\"url(#clip370)\" d=\"\n",
       "M1610.52 248.629 L2279.54 248.629 L2279.54 93.1086 L1610.52 93.1086  Z\n",
       "  \" fill=\"#ffffff\" fill-rule=\"evenodd\" fill-opacity=\"1\"/>\n",
       "<polyline clip-path=\"url(#clip370)\" style=\"stroke:#000000; stroke-linecap:round; stroke-linejoin:round; stroke-width:4; stroke-opacity:1; fill:none\" points=\"\n",
       "  1610.52,248.629 2279.54,248.629 2279.54,93.1086 1610.52,93.1086 1610.52,248.629 \n",
       "  \"/>\n",
       "<polyline clip-path=\"url(#clip370)\" style=\"stroke:#009af9; stroke-linecap:round; stroke-linejoin:round; stroke-width:4; stroke-opacity:1; fill:none\" points=\"\n",
       "  1634.92,144.949 1781.36,144.949 \n",
       "  \"/>\n",
       "<path clip-path=\"url(#clip370)\" d=\"M1826.11 141.28 Q1827.71 138.409 1829.93 137.044 Q1832.15 135.678 1835.16 135.678 Q1839.21 135.678 1841.41 138.525 Q1843.61 141.349 1843.61 146.581 L1843.61 162.229 L1839.33 162.229 L1839.33 146.719 Q1839.33 142.993 1838.01 141.187 Q1836.69 139.382 1833.98 139.382 Q1830.67 139.382 1828.75 141.581 Q1826.83 143.78 1826.83 147.576 L1826.83 162.229 L1822.54 162.229 L1822.54 146.719 Q1822.54 142.969 1821.22 141.187 Q1819.91 139.382 1817.15 139.382 Q1813.89 139.382 1811.97 141.604 Q1810.04 143.803 1810.04 147.576 L1810.04 162.229 L1805.76 162.229 L1805.76 136.303 L1810.04 136.303 L1810.04 140.331 Q1811.5 137.946 1813.54 136.812 Q1815.58 135.678 1818.38 135.678 Q1821.2 135.678 1823.17 137.113 Q1825.16 138.548 1826.11 141.28 Z\" fill=\"#000000\" fill-rule=\"evenodd\" fill-opacity=\"1\" /><path clip-path=\"url(#clip370)\" d=\"M1863.89 149.196 Q1858.72 149.196 1856.73 150.377 Q1854.74 151.557 1854.74 154.405 Q1854.74 156.673 1856.22 158.016 Q1857.73 159.335 1860.3 159.335 Q1863.84 159.335 1865.97 156.835 Q1868.12 154.312 1868.12 150.145 L1868.12 149.196 L1863.89 149.196 M1872.38 147.437 L1872.38 162.229 L1868.12 162.229 L1868.12 158.293 Q1866.66 160.655 1864.49 161.789 Q1862.31 162.9 1859.16 162.9 Q1855.18 162.9 1852.82 160.678 Q1850.48 158.432 1850.48 154.682 Q1850.48 150.307 1853.4 148.085 Q1856.34 145.863 1862.15 145.863 L1868.12 145.863 L1868.12 145.446 Q1868.12 142.507 1866.18 140.909 Q1864.26 139.289 1860.76 139.289 Q1858.54 139.289 1856.43 139.821 Q1854.33 140.354 1852.38 141.419 L1852.38 137.483 Q1854.72 136.581 1856.92 136.141 Q1859.12 135.678 1861.2 135.678 Q1866.83 135.678 1869.6 138.594 Q1872.38 141.511 1872.38 147.437 Z\" fill=\"#000000\" fill-rule=\"evenodd\" fill-opacity=\"1\" /><path clip-path=\"url(#clip370)\" d=\"M1897.68 137.067 L1897.68 141.094 Q1895.88 140.169 1893.93 139.706 Q1891.99 139.243 1889.9 139.243 Q1886.73 139.243 1885.14 140.215 Q1883.56 141.187 1883.56 143.131 Q1883.56 144.613 1884.7 145.469 Q1885.83 146.303 1889.26 147.067 L1890.72 147.391 Q1895.25 148.363 1897.15 150.145 Q1899.07 151.905 1899.07 155.076 Q1899.07 158.687 1896.2 160.793 Q1893.35 162.9 1888.35 162.9 Q1886.27 162.9 1884 162.483 Q1881.76 162.09 1879.26 161.28 L1879.26 156.881 Q1881.62 158.108 1883.91 158.733 Q1886.2 159.335 1888.45 159.335 Q1891.46 159.335 1893.08 158.317 Q1894.7 157.275 1894.7 155.4 Q1894.7 153.664 1893.52 152.738 Q1892.36 151.812 1888.4 150.956 L1886.92 150.608 Q1882.96 149.775 1881.2 148.062 Q1879.44 146.326 1879.44 143.317 Q1879.44 139.659 1882.03 137.669 Q1884.63 135.678 1889.4 135.678 Q1891.76 135.678 1893.84 136.025 Q1895.92 136.372 1897.68 137.067 Z\" fill=\"#000000\" fill-rule=\"evenodd\" fill-opacity=\"1\" /><path clip-path=\"url(#clip370)\" d=\"M1922.38 137.067 L1922.38 141.094 Q1920.58 140.169 1918.63 139.706 Q1916.69 139.243 1914.6 139.243 Q1911.43 139.243 1909.84 140.215 Q1908.26 141.187 1908.26 143.131 Q1908.26 144.613 1909.4 145.469 Q1910.53 146.303 1913.96 147.067 L1915.41 147.391 Q1919.95 148.363 1921.85 150.145 Q1923.77 151.905 1923.77 155.076 Q1923.77 158.687 1920.9 160.793 Q1918.05 162.9 1913.05 162.9 Q1910.97 162.9 1908.7 162.483 Q1906.46 162.09 1903.96 161.28 L1903.96 156.881 Q1906.32 158.108 1908.61 158.733 Q1910.9 159.335 1913.15 159.335 Q1916.15 159.335 1917.78 158.317 Q1919.4 157.275 1919.4 155.4 Q1919.4 153.664 1918.22 152.738 Q1917.06 151.812 1913.1 150.956 L1911.62 150.608 Q1907.66 149.775 1905.9 148.062 Q1904.14 146.326 1904.14 143.317 Q1904.14 139.659 1906.73 137.669 Q1909.33 135.678 1914.09 135.678 Q1916.46 135.678 1918.54 136.025 Q1920.62 136.372 1922.38 137.067 Z\" fill=\"#000000\" fill-rule=\"evenodd\" fill-opacity=\"1\" /><path clip-path=\"url(#clip370)\" d=\"M1931.15 156.349 L1936.04 156.349 L1936.04 162.229 L1931.15 162.229 L1931.15 156.349 Z\" fill=\"#000000\" fill-rule=\"evenodd\" fill-opacity=\"1\" /><path clip-path=\"url(#clip370)\" d=\"M1962.15 137.067 L1962.15 141.094 Q1960.34 140.169 1958.4 139.706 Q1956.46 139.243 1954.37 139.243 Q1951.2 139.243 1949.6 140.215 Q1948.03 141.187 1948.03 143.131 Q1948.03 144.613 1949.16 145.469 Q1950.3 146.303 1953.72 147.067 L1955.18 147.391 Q1959.72 148.363 1961.62 150.145 Q1963.54 151.905 1963.54 155.076 Q1963.54 158.687 1960.67 160.793 Q1957.82 162.9 1952.82 162.9 Q1950.74 162.9 1948.47 162.483 Q1946.22 162.09 1943.72 161.28 L1943.72 156.881 Q1946.09 158.108 1948.38 158.733 Q1950.67 159.335 1952.91 159.335 Q1955.92 159.335 1957.54 158.317 Q1959.16 157.275 1959.16 155.4 Q1959.16 153.664 1957.98 152.738 Q1956.83 151.812 1952.87 150.956 L1951.39 150.608 Q1947.43 149.775 1945.67 148.062 Q1943.91 146.326 1943.91 143.317 Q1943.91 139.659 1946.5 137.669 Q1949.09 135.678 1953.86 135.678 Q1956.22 135.678 1958.31 136.025 Q1960.39 136.372 1962.15 137.067 Z\" fill=\"#000000\" fill-rule=\"evenodd\" fill-opacity=\"1\" /><path clip-path=\"url(#clip370)\" d=\"M1995.62 126.257 Q1992.52 131.581 1991.02 136.789 Q1989.51 141.997 1989.51 147.344 Q1989.51 152.692 1991.02 157.946 Q1992.54 163.178 1995.62 168.479 L1991.92 168.479 Q1988.45 163.039 1986.71 157.784 Q1985 152.53 1985 147.344 Q1985 142.182 1986.71 136.951 Q1988.42 131.72 1991.92 126.257 L1995.62 126.257 Z\" fill=\"#000000\" fill-rule=\"evenodd\" fill-opacity=\"1\" /><path clip-path=\"url(#clip370)\" d=\"M2018.65 143.594 Q2022.01 144.312 2023.89 146.581 Q2025.78 148.849 2025.78 152.182 Q2025.78 157.298 2022.27 160.099 Q2018.75 162.9 2012.27 162.9 Q2010.09 162.9 2007.77 162.46 Q2005.48 162.043 2003.03 161.187 L2003.03 156.673 Q2004.97 157.807 2007.29 158.386 Q2009.6 158.965 2012.13 158.965 Q2016.52 158.965 2018.82 157.229 Q2021.13 155.493 2021.13 152.182 Q2021.13 149.127 2018.98 147.414 Q2016.85 145.678 2013.03 145.678 L2009 145.678 L2009 141.835 L2013.21 141.835 Q2016.66 141.835 2018.49 140.469 Q2020.32 139.081 2020.32 136.488 Q2020.32 133.826 2018.42 132.414 Q2016.55 130.979 2013.03 130.979 Q2011.11 130.979 2008.91 131.395 Q2006.71 131.812 2004.07 132.692 L2004.07 128.525 Q2006.73 127.784 2009.05 127.414 Q2011.39 127.044 2013.45 127.044 Q2018.77 127.044 2021.87 129.474 Q2024.97 131.882 2024.97 136.002 Q2024.97 138.872 2023.33 140.863 Q2021.69 142.831 2018.65 143.594 Z\" fill=\"#000000\" fill-rule=\"evenodd\" fill-opacity=\"1\" /><path clip-path=\"url(#clip370)\" d=\"M2048.82 143.594 Q2052.17 144.312 2054.05 146.581 Q2055.95 148.849 2055.95 152.182 Q2055.95 157.298 2052.43 160.099 Q2048.91 162.9 2042.43 162.9 Q2040.25 162.9 2037.94 162.46 Q2035.64 162.043 2033.19 161.187 L2033.19 156.673 Q2035.14 157.807 2037.45 158.386 Q2039.77 158.965 2042.29 158.965 Q2046.69 158.965 2048.98 157.229 Q2051.29 155.493 2051.29 152.182 Q2051.29 149.127 2049.14 147.414 Q2047.01 145.678 2043.19 145.678 L2039.16 145.678 L2039.16 141.835 L2043.38 141.835 Q2046.83 141.835 2048.65 140.469 Q2050.48 139.081 2050.48 136.488 Q2050.48 133.826 2048.58 132.414 Q2046.71 130.979 2043.19 130.979 Q2041.27 130.979 2039.07 131.395 Q2036.87 131.812 2034.23 132.692 L2034.23 128.525 Q2036.89 127.784 2039.21 127.414 Q2041.55 127.044 2043.61 127.044 Q2048.93 127.044 2052.03 129.474 Q2055.14 131.882 2055.14 136.002 Q2055.14 138.872 2053.49 140.863 Q2051.85 142.831 2048.82 143.594 Z\" fill=\"#000000\" fill-rule=\"evenodd\" fill-opacity=\"1\" /><path clip-path=\"url(#clip370)\" d=\"M2064.86 127.669 L2083.21 127.669 L2083.21 131.604 L2069.14 131.604 L2069.14 140.076 Q2070.16 139.729 2071.18 139.567 Q2072.2 139.382 2073.21 139.382 Q2079 139.382 2082.38 142.553 Q2085.76 145.724 2085.76 151.141 Q2085.76 156.719 2082.29 159.821 Q2078.82 162.9 2072.5 162.9 Q2070.32 162.9 2068.05 162.53 Q2065.81 162.159 2063.4 161.418 L2063.4 156.719 Q2065.48 157.854 2067.7 158.409 Q2069.93 158.965 2072.4 158.965 Q2076.41 158.965 2078.75 156.858 Q2081.08 154.752 2081.08 151.141 Q2081.08 147.53 2078.75 145.423 Q2076.41 143.317 2072.4 143.317 Q2070.53 143.317 2068.65 143.733 Q2066.8 144.15 2064.86 145.03 L2064.86 127.669 Z\" fill=\"#000000\" fill-rule=\"evenodd\" fill-opacity=\"1\" /><path clip-path=\"url(#clip370)\" d=\"M2095.02 127.669 L2113.38 127.669 L2113.38 131.604 L2099.3 131.604 L2099.3 140.076 Q2100.32 139.729 2101.34 139.567 Q2102.36 139.382 2103.38 139.382 Q2109.16 139.382 2112.54 142.553 Q2115.92 145.724 2115.92 151.141 Q2115.92 156.719 2112.45 159.821 Q2108.98 162.9 2102.66 162.9 Q2100.48 162.9 2098.21 162.53 Q2095.97 162.159 2093.56 161.418 L2093.56 156.719 Q2095.64 157.854 2097.87 158.409 Q2100.09 158.965 2102.57 158.965 Q2106.57 158.965 2108.91 156.858 Q2111.25 154.752 2111.25 151.141 Q2111.25 147.53 2108.91 145.423 Q2106.57 143.317 2102.57 143.317 Q2100.69 143.317 2098.82 143.733 Q2096.96 144.15 2095.02 145.03 L2095.02 127.669 Z\" fill=\"#000000\" fill-rule=\"evenodd\" fill-opacity=\"1\" /><path clip-path=\"url(#clip370)\" d=\"M2137.98 131.743 L2126.18 150.192 L2137.98 150.192 L2137.98 131.743 M2136.76 127.669 L2142.64 127.669 L2142.64 150.192 L2147.57 150.192 L2147.57 154.081 L2142.64 154.081 L2142.64 162.229 L2137.98 162.229 L2137.98 154.081 L2122.38 154.081 L2122.38 149.567 L2136.76 127.669 Z\" fill=\"#000000\" fill-rule=\"evenodd\" fill-opacity=\"1\" /><path clip-path=\"url(#clip370)\" d=\"M2168.14 131.743 L2156.34 150.192 L2168.14 150.192 L2168.14 131.743 M2166.92 127.669 L2172.8 127.669 L2172.8 150.192 L2177.73 150.192 L2177.73 154.081 L2172.8 154.081 L2172.8 162.229 L2168.14 162.229 L2168.14 154.081 L2152.54 154.081 L2152.54 149.567 L2166.92 127.669 Z\" fill=\"#000000\" fill-rule=\"evenodd\" fill-opacity=\"1\" /><path clip-path=\"url(#clip370)\" d=\"M2199.63 143.594 Q2202.98 144.312 2204.86 146.581 Q2206.76 148.849 2206.76 152.182 Q2206.76 157.298 2203.24 160.099 Q2199.72 162.9 2193.24 162.9 Q2191.06 162.9 2188.75 162.46 Q2186.45 162.043 2184 161.187 L2184 156.673 Q2185.95 157.807 2188.26 158.386 Q2190.57 158.965 2193.1 158.965 Q2197.5 158.965 2199.79 157.229 Q2202.1 155.493 2202.1 152.182 Q2202.1 149.127 2199.95 147.414 Q2197.82 145.678 2194 145.678 L2189.97 145.678 L2189.97 141.835 L2194.19 141.835 Q2197.63 141.835 2199.46 140.469 Q2201.29 139.081 2201.29 136.488 Q2201.29 133.826 2199.39 132.414 Q2197.52 130.979 2194 130.979 Q2192.08 130.979 2189.88 131.395 Q2187.68 131.812 2185.04 132.692 L2185.04 128.525 Q2187.7 127.784 2190.02 127.414 Q2192.36 127.044 2194.42 127.044 Q2199.74 127.044 2202.84 129.474 Q2205.94 131.882 2205.94 136.002 Q2205.94 138.872 2204.3 140.863 Q2202.66 142.831 2199.63 143.594 Z\" fill=\"#000000\" fill-rule=\"evenodd\" fill-opacity=\"1\" /><path clip-path=\"url(#clip370)\" d=\"M2219.65 158.293 L2235.97 158.293 L2235.97 162.229 L2214.02 162.229 L2214.02 158.293 Q2216.69 155.539 2221.27 150.909 Q2225.88 146.256 2227.06 144.914 Q2229.3 142.391 2230.18 140.655 Q2231.08 138.895 2231.08 137.206 Q2231.08 134.451 2229.14 132.715 Q2227.22 130.979 2224.12 130.979 Q2221.92 130.979 2219.46 131.743 Q2217.03 132.507 2214.26 134.057 L2214.26 129.335 Q2217.08 128.201 2219.53 127.622 Q2221.99 127.044 2224.02 127.044 Q2229.39 127.044 2232.59 129.729 Q2235.78 132.414 2235.78 136.905 Q2235.78 139.034 2234.97 140.956 Q2234.19 142.854 2232.08 145.446 Q2231.5 146.118 2228.4 149.335 Q2225.3 152.53 2219.65 158.293 Z\" fill=\"#000000\" fill-rule=\"evenodd\" fill-opacity=\"1\" /><path clip-path=\"url(#clip370)\" d=\"M2244.51 126.257 L2248.21 126.257 Q2251.69 131.72 2253.4 136.951 Q2255.13 142.182 2255.13 147.344 Q2255.13 152.53 2253.4 157.784 Q2251.69 163.039 2248.21 168.479 L2244.51 168.479 Q2247.59 163.178 2249.09 157.946 Q2250.62 152.692 2250.62 147.344 Q2250.62 141.997 2249.09 136.789 Q2247.59 131.581 2244.51 126.257 Z\" fill=\"#000000\" fill-rule=\"evenodd\" fill-opacity=\"1\" /><polyline clip-path=\"url(#clip370)\" style=\"stroke:#0000ff; stroke-linecap:round; stroke-linejoin:round; stroke-width:4; stroke-opacity:1; fill:none\" stroke-dasharray=\"16, 10\" points=\"\n",
       "  1634.92,196.789 1781.36,196.789 \n",
       "  \"/>\n",
       "<path clip-path=\"url(#clip370)\" d=\"M1828.01 180.643 L1828.01 185.203 Q1825.35 183.93 1822.98 183.305 Q1820.62 182.68 1818.42 182.68 Q1814.6 182.68 1812.52 184.161 Q1810.46 185.643 1810.46 188.374 Q1810.46 190.666 1811.83 191.847 Q1813.22 193.004 1817.06 193.722 L1819.88 194.3 Q1825.11 195.296 1827.59 197.819 Q1830.09 200.319 1830.09 204.532 Q1830.09 209.555 1826.71 212.147 Q1823.35 214.74 1816.85 214.74 Q1814.4 214.74 1811.62 214.184 Q1808.86 213.629 1805.9 212.541 L1805.9 207.726 Q1808.75 209.323 1811.48 210.133 Q1814.21 210.944 1816.85 210.944 Q1820.85 210.944 1823.03 209.37 Q1825.21 207.796 1825.21 204.879 Q1825.21 202.333 1823.63 200.897 Q1822.08 199.462 1818.52 198.745 L1815.67 198.189 Q1810.44 197.147 1808.1 194.925 Q1805.76 192.703 1805.76 188.745 Q1805.76 184.161 1808.98 181.522 Q1812.22 178.884 1817.89 178.884 Q1820.32 178.884 1822.85 179.323 Q1825.37 179.763 1828.01 180.643 Z\" fill=\"#000000\" fill-rule=\"evenodd\" fill-opacity=\"1\" /><path clip-path=\"url(#clip370)\" d=\"M1841.41 180.782 L1841.41 188.143 L1850.18 188.143 L1850.18 191.453 L1841.41 191.453 L1841.41 205.527 Q1841.41 208.698 1842.27 209.601 Q1843.15 210.504 1845.81 210.504 L1850.18 210.504 L1850.18 214.069 L1845.81 214.069 Q1840.88 214.069 1839 212.24 Q1837.13 210.388 1837.13 205.527 L1837.13 191.453 L1834 191.453 L1834 188.143 L1837.13 188.143 L1837.13 180.782 L1841.41 180.782 Z\" fill=\"#000000\" fill-rule=\"evenodd\" fill-opacity=\"1\" /><path clip-path=\"url(#clip370)\" d=\"M1867.57 201.036 Q1862.41 201.036 1860.41 202.217 Q1858.42 203.397 1858.42 206.245 Q1858.42 208.513 1859.91 209.856 Q1861.41 211.175 1863.98 211.175 Q1867.52 211.175 1869.65 208.675 Q1871.8 206.152 1871.8 201.985 L1871.8 201.036 L1867.57 201.036 M1876.06 199.277 L1876.06 214.069 L1871.8 214.069 L1871.8 210.133 Q1870.34 212.495 1868.17 213.629 Q1865.99 214.74 1862.84 214.74 Q1858.86 214.74 1856.5 212.518 Q1854.16 210.272 1854.16 206.522 Q1854.16 202.147 1857.08 199.925 Q1860.02 197.703 1865.83 197.703 L1871.8 197.703 L1871.8 197.286 Q1871.8 194.347 1869.86 192.749 Q1867.94 191.129 1864.44 191.129 Q1862.22 191.129 1860.11 191.661 Q1858.01 192.194 1856.06 193.259 L1856.06 189.323 Q1858.4 188.421 1860.6 187.981 Q1862.8 187.518 1864.88 187.518 Q1870.51 187.518 1873.28 190.434 Q1876.06 193.351 1876.06 199.277 Z\" fill=\"#000000\" fill-rule=\"evenodd\" fill-opacity=\"1\" /><path clip-path=\"url(#clip370)\" d=\"M1889.05 180.782 L1889.05 188.143 L1897.82 188.143 L1897.82 191.453 L1889.05 191.453 L1889.05 205.527 Q1889.05 208.698 1889.9 209.601 Q1890.78 210.504 1893.45 210.504 L1897.82 210.504 L1897.82 214.069 L1893.45 214.069 Q1888.52 214.069 1886.64 212.24 Q1884.77 210.388 1884.77 205.527 L1884.77 191.453 L1881.64 191.453 L1881.64 188.143 L1884.77 188.143 L1884.77 180.782 L1889.05 180.782 Z\" fill=\"#000000\" fill-rule=\"evenodd\" fill-opacity=\"1\" /><path clip-path=\"url(#clip370)\" d=\"M1925.6 200.041 L1925.6 202.124 L1906.02 202.124 Q1906.29 206.522 1908.65 208.837 Q1911.04 211.129 1915.28 211.129 Q1917.73 211.129 1920.02 210.527 Q1922.34 209.925 1924.6 208.721 L1924.6 212.749 Q1922.31 213.721 1919.9 214.231 Q1917.5 214.74 1915.02 214.74 Q1908.82 214.74 1905.18 211.129 Q1901.57 207.518 1901.57 201.36 Q1901.57 194.995 1905 191.268 Q1908.45 187.518 1914.28 187.518 Q1919.51 187.518 1922.54 190.897 Q1925.6 194.254 1925.6 200.041 M1921.34 198.791 Q1921.29 195.296 1919.37 193.212 Q1917.47 191.129 1914.33 191.129 Q1910.76 191.129 1908.61 193.143 Q1906.48 195.157 1906.15 198.814 L1921.34 198.791 Z\" fill=\"#000000\" fill-rule=\"evenodd\" fill-opacity=\"1\" /><path clip-path=\"url(#clip370)\" d=\"M1969.84 200.041 L1969.84 202.124 L1950.25 202.124 Q1950.53 206.522 1952.89 208.837 Q1955.27 211.129 1959.51 211.129 Q1961.96 211.129 1964.26 210.527 Q1966.57 209.925 1968.84 208.721 L1968.84 212.749 Q1966.55 213.721 1964.14 214.231 Q1961.73 214.74 1959.26 214.74 Q1953.05 214.74 1949.42 211.129 Q1945.81 207.518 1945.81 201.36 Q1945.81 194.995 1949.23 191.268 Q1952.68 187.518 1958.52 187.518 Q1963.75 187.518 1966.78 190.897 Q1969.84 194.254 1969.84 200.041 M1965.58 198.791 Q1965.53 195.296 1963.61 193.212 Q1961.71 191.129 1958.56 191.129 Q1955 191.129 1952.84 193.143 Q1950.71 195.157 1950.39 198.814 L1965.58 198.791 Z\" fill=\"#000000\" fill-rule=\"evenodd\" fill-opacity=\"1\" /><path clip-path=\"url(#clip370)\" d=\"M1973.77 188.143 L1978.28 188.143 L1986.39 209.902 L1994.49 188.143 L1999 188.143 L1989.28 214.069 L1983.49 214.069 L1973.77 188.143 Z\" fill=\"#000000\" fill-rule=\"evenodd\" fill-opacity=\"1\" /><path clip-path=\"url(#clip370)\" d=\"M2027.06 200.041 L2027.06 202.124 L2007.47 202.124 Q2007.75 206.522 2010.11 208.837 Q2012.5 211.129 2016.73 211.129 Q2019.19 211.129 2021.48 210.527 Q2023.79 209.925 2026.06 208.721 L2026.06 212.749 Q2023.77 213.721 2021.36 214.231 Q2018.96 214.74 2016.48 214.74 Q2010.27 214.74 2006.64 211.129 Q2003.03 207.518 2003.03 201.36 Q2003.03 194.995 2006.46 191.268 Q2009.9 187.518 2015.74 187.518 Q2020.97 187.518 2024 190.897 Q2027.06 194.254 2027.06 200.041 M2022.8 198.791 Q2022.75 195.296 2020.83 193.212 Q2018.93 191.129 2015.78 191.129 Q2012.22 191.129 2010.07 193.143 Q2007.94 195.157 2007.61 198.814 L2022.8 198.791 Z\" fill=\"#000000\" fill-rule=\"evenodd\" fill-opacity=\"1\" /><path clip-path=\"url(#clip370)\" d=\"M2055.6 198.421 L2055.6 214.069 L2051.34 214.069 L2051.34 198.559 Q2051.34 194.879 2049.9 193.05 Q2048.47 191.222 2045.6 191.222 Q2042.15 191.222 2040.16 193.421 Q2038.17 195.62 2038.17 199.416 L2038.17 214.069 L2033.89 214.069 L2033.89 188.143 L2038.17 188.143 L2038.17 192.171 Q2039.7 189.833 2041.76 188.675 Q2043.84 187.518 2046.55 187.518 Q2051.02 187.518 2053.31 190.296 Q2055.6 193.05 2055.6 198.421 Z\" fill=\"#000000\" fill-rule=\"evenodd\" fill-opacity=\"1\" /><path clip-path=\"url(#clip370)\" d=\"M2068.31 180.782 L2068.31 188.143 L2077.08 188.143 L2077.08 191.453 L2068.31 191.453 L2068.31 205.527 Q2068.31 208.698 2069.16 209.601 Q2070.04 210.504 2072.7 210.504 L2077.08 210.504 L2077.08 214.069 L2072.7 214.069 Q2067.77 214.069 2065.9 212.24 Q2064.02 210.388 2064.02 205.527 L2064.02 191.453 L2060.9 191.453 L2060.9 188.143 L2064.02 188.143 L2064.02 180.782 L2068.31 180.782 Z\" fill=\"#000000\" fill-rule=\"evenodd\" fill-opacity=\"1\" /><path clip-path=\"url(#clip370)\" d=\"M2092.91 178.097 Q2089.81 183.421 2088.31 188.629 Q2086.8 193.837 2086.8 199.184 Q2086.8 204.532 2088.31 209.786 Q2089.83 215.018 2092.91 220.319 L2089.21 220.319 Q2085.74 214.879 2084 209.624 Q2082.29 204.37 2082.29 199.184 Q2082.29 194.022 2084 188.791 Q2085.71 183.56 2089.21 178.097 L2092.91 178.097 Z\" fill=\"#000000\" fill-rule=\"evenodd\" fill-opacity=\"1\" /><path clip-path=\"url(#clip370)\" d=\"M2117.7 188.907 L2117.7 192.934 Q2115.9 192.009 2113.95 191.546 Q2112.01 191.083 2109.93 191.083 Q2106.76 191.083 2105.16 192.055 Q2103.58 193.027 2103.58 194.971 Q2103.58 196.453 2104.72 197.309 Q2105.85 198.143 2109.28 198.907 L2110.74 199.231 Q2115.27 200.203 2117.17 201.985 Q2119.09 203.745 2119.09 206.916 Q2119.09 210.527 2116.22 212.633 Q2113.38 214.74 2108.38 214.74 Q2106.29 214.74 2104.02 214.323 Q2101.78 213.93 2099.28 213.12 L2099.28 208.721 Q2101.64 209.948 2103.93 210.573 Q2106.22 211.175 2108.47 211.175 Q2111.48 211.175 2113.1 210.157 Q2114.72 209.115 2114.72 207.24 Q2114.72 205.504 2113.54 204.578 Q2112.38 203.652 2108.42 202.796 L2106.94 202.448 Q2102.98 201.615 2101.22 199.902 Q2099.46 198.166 2099.46 195.157 Q2099.46 191.499 2102.06 189.509 Q2104.65 187.518 2109.42 187.518 Q2111.78 187.518 2113.86 187.865 Q2115.95 188.212 2117.7 188.907 Z\" fill=\"#000000\" fill-rule=\"evenodd\" fill-opacity=\"1\" /><path clip-path=\"url(#clip370)\" d=\"M2125.2 178.097 L2128.91 178.097 Q2132.38 183.56 2134.09 188.791 Q2135.83 194.022 2135.83 199.184 Q2135.83 204.37 2134.09 209.624 Q2132.38 214.879 2128.91 220.319 L2125.2 220.319 Q2128.28 215.018 2129.79 209.786 Q2131.32 204.532 2131.32 199.184 Q2131.32 193.837 2129.79 188.629 Q2128.28 183.421 2125.2 178.097 Z\" fill=\"#000000\" fill-rule=\"evenodd\" fill-opacity=\"1\" /></svg>\n"
      ]
     },
     "execution_count": 6,
     "metadata": {},
     "output_type": "execute_result"
    }
   ],
   "source": [
    "fig = fmiPlot(simData, states=false)"
   ]
  },
  {
   "cell_type": "markdown",
   "metadata": {},
   "source": [
    "### Override Function\n",
    "\n",
    "After overwriting a function, the previous one is no longer accessible. The original function `fmi2GetReal()` is cached by storing the address of the pointer. The addresses of the pointers are kept in the FMU and are thus accessible."
   ]
  },
  {
   "cell_type": "code",
   "execution_count": 7,
   "metadata": {
    "execution": {
     "iopub.execute_input": "2022-12-09T13:15:37.080000Z",
     "iopub.status.busy": "2022-12-09T13:15:37.079000Z",
     "iopub.status.idle": "2022-12-09T13:15:37.714000Z",
     "shell.execute_reply": "2022-12-09T13:15:37.714000Z"
    }
   },
   "outputs": [
    {
     "data": {
      "text/plain": [
       "Ptr{Nothing} @0x00007fc745567faf"
      ]
     },
     "execution_count": 7,
     "metadata": {},
     "output_type": "execute_result"
    }
   ],
   "source": [
    "# save, where the original `fmi2GetReal` function was stored, so we can access it in our new function\n",
    "originalGetReal = myFMU.cGetReal"
   ]
  },
  {
   "cell_type": "markdown",
   "metadata": {},
   "source": [
    "To overwrite the function `fmi2GetReal!()`, the function header of the new custom function must be identical to the previous one. The function header looks like `fmi2GetReal!(cfunc::Ptr{Nothing}, c::fmi2Component, vr::Union{Array{fmi2ValueReference}, Ptr{fmi2ValueReference}}, nvr::Csize_t, value::Union{Array{fmi2Real}, Ptr{fmi2Real}})::fmi2Status`. The information how the FMI2 function are structured can be seen from [FMICore.jl](https://github.com/ThummeTo/FMICore.jl/blob/main/src/FMI2_c.jl#L718) or the FMI2.0.3-specification.\n",
    "\n",
    "In the new implementation the original function is called by the previously stored pointer. Next there is a special handling if `value` is a pointer to an array. In this case the pointer is treated as an array, so that the entries are accessible. Otherwise, each value in `value` is multiplied by two. Finally, the original state of the original function is output."
   ]
  },
  {
   "cell_type": "code",
   "execution_count": 8,
   "metadata": {
    "execution": {
     "iopub.execute_input": "2022-12-09T13:15:37.718000Z",
     "iopub.status.busy": "2022-12-09T13:15:37.718000Z",
     "iopub.status.idle": "2022-12-09T13:15:38.301000Z",
     "shell.execute_reply": "2022-12-09T13:15:38.301000Z"
    }
   },
   "outputs": [
    {
     "data": {
      "text/plain": [
       "myGetReal! (generic function with 1 method)"
      ]
     },
     "execution_count": 8,
     "metadata": {},
     "output_type": "execute_result"
    }
   ],
   "source": [
    "function myGetReal!(c::fmi2Component, vr::Union{Array{fmi2ValueReference}, Ptr{fmi2ValueReference}}, \n",
    "                    nvr::Csize_t, value::Union{Array{fmi2Real}, Ptr{fmi2Real}})\n",
    "    # first, we do what the original function does\n",
    "    status = fmi2GetReal!(originalGetReal, c, vr, nvr, value)\n",
    "\n",
    "    # if we have a pointer to an array, we must interprete it as array to access elements\n",
    "    if isa(value, Ptr{fmi2Real})\n",
    "        value = unsafe_wrap(Array{fmi2Real}, value, nvr, own=false)\n",
    "    end\n",
    "\n",
    "    # now, we multiply every value by two (just for fun!)\n",
    "    for i in 1:nvr \n",
    "        value[i] *= 2.0 \n",
    "    end \n",
    "\n",
    "    # return the original status\n",
    "    return status\n",
    "end"
   ]
  },
  {
   "cell_type": "markdown",
   "metadata": {},
   "source": [
    "In the next command the original function is overwritten with the new defined function, for which the command `fmiSetFctGetReal()` is called."
   ]
  },
  {
   "cell_type": "code",
   "execution_count": 9,
   "metadata": {
    "execution": {
     "iopub.execute_input": "2022-12-09T13:15:38.304000Z",
     "iopub.status.busy": "2022-12-09T13:15:38.304000Z",
     "iopub.status.idle": "2022-12-09T13:15:38.315000Z",
     "shell.execute_reply": "2022-12-09T13:15:38.315000Z"
    }
   },
   "outputs": [
    {
     "data": {
      "text/plain": [
       "Ptr{Nothing} @0x00007fc7dac1efc0"
      ]
     },
     "execution_count": 9,
     "metadata": {},
     "output_type": "execute_result"
    }
   ],
   "source": [
    "# no we overwrite the original function\n",
    "fmiSetFctGetReal(myFMU, myGetReal!)"
   ]
  },
  {
   "cell_type": "markdown",
   "metadata": {},
   "source": [
    "### Simulate and Plot FMU with modified function\n",
    "\n",
    "As before, the identical command is called here for simulation. This is also a model exchange simulation. Immediately afterwards, the results are added to the previous graph as a dashed line."
   ]
  },
  {
   "cell_type": "code",
   "execution_count": 10,
   "metadata": {
    "execution": {
     "iopub.execute_input": "2022-12-09T13:15:38.318000Z",
     "iopub.status.busy": "2022-12-09T13:15:38.318000Z",
     "iopub.status.idle": "2022-12-09T13:15:38.750000Z",
     "shell.execute_reply": "2022-12-09T13:15:38.750000Z"
    }
   },
   "outputs": [
    {
     "data": {
      "image/svg+xml": [
       "<?xml version=\"1.0\" encoding=\"utf-8\"?>\n",
       "<svg xmlns=\"http://www.w3.org/2000/svg\" xmlns:xlink=\"http://www.w3.org/1999/xlink\" width=\"600\" height=\"400\" viewBox=\"0 0 2400 1600\">\n",
       "<defs>\n",
       "  <clipPath id=\"clip410\">\n",
       "    <rect x=\"0\" y=\"0\" width=\"2400\" height=\"1600\"/>\n",
       "  </clipPath>\n",
       "</defs>\n",
       "<path clip-path=\"url(#clip410)\" d=\"\n",
       "M0 1600 L2400 1600 L2400 0 L0 0  Z\n",
       "  \" fill=\"#ffffff\" fill-rule=\"evenodd\" fill-opacity=\"1\"/>\n",
       "<defs>\n",
       "  <clipPath id=\"clip411\">\n",
       "    <rect x=\"480\" y=\"0\" width=\"1681\" height=\"1600\"/>\n",
       "  </clipPath>\n",
       "</defs>\n",
       "<path clip-path=\"url(#clip410)\" d=\"\n",
       "M155.765 1423.18 L2352.76 1423.18 L2352.76 47.2441 L155.765 47.2441  Z\n",
       "  \" fill=\"#ffffff\" fill-rule=\"evenodd\" fill-opacity=\"1\"/>\n",
       "<defs>\n",
       "  <clipPath id=\"clip412\">\n",
       "    <rect x=\"155\" y=\"47\" width=\"2198\" height=\"1377\"/>\n",
       "  </clipPath>\n",
       "</defs>\n",
       "<polyline clip-path=\"url(#clip412)\" style=\"stroke:#000000; stroke-linecap:round; stroke-linejoin:round; stroke-width:2; stroke-opacity:0.1; fill:none\" points=\"\n",
       "  217.944,1423.18 217.944,47.2441 \n",
       "  \"/>\n",
       "<polyline clip-path=\"url(#clip412)\" style=\"stroke:#000000; stroke-linecap:round; stroke-linejoin:round; stroke-width:2; stroke-opacity:0.1; fill:none\" points=\"\n",
       "  736.102,1423.18 736.102,47.2441 \n",
       "  \"/>\n",
       "<polyline clip-path=\"url(#clip412)\" style=\"stroke:#000000; stroke-linecap:round; stroke-linejoin:round; stroke-width:2; stroke-opacity:0.1; fill:none\" points=\"\n",
       "  1254.26,1423.18 1254.26,47.2441 \n",
       "  \"/>\n",
       "<polyline clip-path=\"url(#clip412)\" style=\"stroke:#000000; stroke-linecap:round; stroke-linejoin:round; stroke-width:2; stroke-opacity:0.1; fill:none\" points=\"\n",
       "  1772.42,1423.18 1772.42,47.2441 \n",
       "  \"/>\n",
       "<polyline clip-path=\"url(#clip412)\" style=\"stroke:#000000; stroke-linecap:round; stroke-linejoin:round; stroke-width:2; stroke-opacity:0.1; fill:none\" points=\"\n",
       "  2290.58,1423.18 2290.58,47.2441 \n",
       "  \"/>\n",
       "<polyline clip-path=\"url(#clip410)\" style=\"stroke:#000000; stroke-linecap:round; stroke-linejoin:round; stroke-width:4; stroke-opacity:1; fill:none\" points=\"\n",
       "  155.765,1423.18 2352.76,1423.18 \n",
       "  \"/>\n",
       "<polyline clip-path=\"url(#clip410)\" style=\"stroke:#000000; stroke-linecap:round; stroke-linejoin:round; stroke-width:4; stroke-opacity:1; fill:none\" points=\"\n",
       "  217.944,1423.18 217.944,1404.28 \n",
       "  \"/>\n",
       "<polyline clip-path=\"url(#clip410)\" style=\"stroke:#000000; stroke-linecap:round; stroke-linejoin:round; stroke-width:4; stroke-opacity:1; fill:none\" points=\"\n",
       "  736.102,1423.18 736.102,1404.28 \n",
       "  \"/>\n",
       "<polyline clip-path=\"url(#clip410)\" style=\"stroke:#000000; stroke-linecap:round; stroke-linejoin:round; stroke-width:4; stroke-opacity:1; fill:none\" points=\"\n",
       "  1254.26,1423.18 1254.26,1404.28 \n",
       "  \"/>\n",
       "<polyline clip-path=\"url(#clip410)\" style=\"stroke:#000000; stroke-linecap:round; stroke-linejoin:round; stroke-width:4; stroke-opacity:1; fill:none\" points=\"\n",
       "  1772.42,1423.18 1772.42,1404.28 \n",
       "  \"/>\n",
       "<polyline clip-path=\"url(#clip410)\" style=\"stroke:#000000; stroke-linecap:round; stroke-linejoin:round; stroke-width:4; stroke-opacity:1; fill:none\" points=\"\n",
       "  2290.58,1423.18 2290.58,1404.28 \n",
       "  \"/>\n",
       "<path clip-path=\"url(#clip410)\" d=\"M217.944 1454.1 Q214.333 1454.1 212.504 1457.66 Q210.699 1461.2 210.699 1468.33 Q210.699 1475.44 212.504 1479.01 Q214.333 1482.55 217.944 1482.55 Q221.578 1482.55 223.384 1479.01 Q225.212 1475.44 225.212 1468.33 Q225.212 1461.2 223.384 1457.66 Q221.578 1454.1 217.944 1454.1 M217.944 1450.39 Q223.754 1450.39 226.81 1455 Q229.888 1459.58 229.888 1468.33 Q229.888 1477.06 226.81 1481.67 Q223.754 1486.25 217.944 1486.25 Q212.134 1486.25 209.055 1481.67 Q206 1477.06 206 1468.33 Q206 1459.58 209.055 1455 Q212.134 1450.39 217.944 1450.39 Z\" fill=\"#000000\" fill-rule=\"evenodd\" fill-opacity=\"1\" /><path clip-path=\"url(#clip410)\" d=\"M730.755 1481.64 L747.074 1481.64 L747.074 1485.58 L725.13 1485.58 L725.13 1481.64 Q727.792 1478.89 732.375 1474.26 Q736.982 1469.61 738.162 1468.27 Q740.408 1465.74 741.287 1464.01 Q742.19 1462.25 742.19 1460.56 Q742.19 1457.8 740.246 1456.07 Q738.324 1454.33 735.223 1454.33 Q733.023 1454.33 730.57 1455.09 Q728.139 1455.86 725.361 1457.41 L725.361 1452.69 Q728.186 1451.55 730.639 1450.97 Q733.093 1450.39 735.13 1450.39 Q740.5 1450.39 743.695 1453.08 Q746.889 1455.77 746.889 1460.26 Q746.889 1462.39 746.079 1464.31 Q745.292 1466.2 743.185 1468.8 Q742.607 1469.47 739.505 1472.69 Q736.403 1475.88 730.755 1481.64 Z\" fill=\"#000000\" fill-rule=\"evenodd\" fill-opacity=\"1\" /><path clip-path=\"url(#clip410)\" d=\"M1257.27 1455.09 L1245.46 1473.54 L1257.27 1473.54 L1257.27 1455.09 M1256.04 1451.02 L1261.92 1451.02 L1261.92 1473.54 L1266.85 1473.54 L1266.85 1477.43 L1261.92 1477.43 L1261.92 1485.58 L1257.27 1485.58 L1257.27 1477.43 L1241.67 1477.43 L1241.67 1472.92 L1256.04 1451.02 Z\" fill=\"#000000\" fill-rule=\"evenodd\" fill-opacity=\"1\" /><path clip-path=\"url(#clip410)\" d=\"M1772.82 1466.44 Q1769.68 1466.44 1767.82 1468.59 Q1766 1470.74 1766 1474.49 Q1766 1478.22 1767.82 1480.39 Q1769.68 1482.55 1772.82 1482.55 Q1775.97 1482.55 1777.8 1480.39 Q1779.65 1478.22 1779.65 1474.49 Q1779.65 1470.74 1777.8 1468.59 Q1775.97 1466.44 1772.82 1466.44 M1782.11 1451.78 L1782.11 1456.04 Q1780.35 1455.21 1778.54 1454.77 Q1776.76 1454.33 1775 1454.33 Q1770.37 1454.33 1767.92 1457.45 Q1765.49 1460.58 1765.14 1466.9 Q1766.5 1464.89 1768.56 1463.82 Q1770.62 1462.73 1773.1 1462.73 Q1778.31 1462.73 1781.32 1465.9 Q1784.35 1469.05 1784.35 1474.49 Q1784.35 1479.82 1781.2 1483.03 Q1778.06 1486.25 1772.82 1486.25 Q1766.83 1486.25 1763.66 1481.67 Q1760.49 1477.06 1760.49 1468.33 Q1760.49 1460.14 1764.37 1455.28 Q1768.26 1450.39 1774.81 1450.39 Q1776.57 1450.39 1778.36 1450.74 Q1780.16 1451.09 1782.11 1451.78 Z\" fill=\"#000000\" fill-rule=\"evenodd\" fill-opacity=\"1\" /><path clip-path=\"url(#clip410)\" d=\"M2290.58 1469.17 Q2287.24 1469.17 2285.32 1470.95 Q2283.42 1472.73 2283.42 1475.86 Q2283.42 1478.98 2285.32 1480.77 Q2287.24 1482.55 2290.58 1482.55 Q2293.91 1482.55 2295.83 1480.77 Q2297.75 1478.96 2297.75 1475.86 Q2297.75 1472.73 2295.83 1470.95 Q2293.93 1469.17 2290.58 1469.17 M2285.9 1467.18 Q2282.89 1466.44 2281.2 1464.38 Q2279.54 1462.32 2279.54 1459.35 Q2279.54 1455.21 2282.48 1452.8 Q2285.44 1450.39 2290.58 1450.39 Q2295.74 1450.39 2298.68 1452.8 Q2301.62 1455.21 2301.62 1459.35 Q2301.62 1462.32 2299.93 1464.38 Q2298.26 1466.44 2295.28 1467.18 Q2298.66 1467.96 2300.53 1470.26 Q2302.43 1472.55 2302.43 1475.86 Q2302.43 1480.88 2299.35 1483.57 Q2296.29 1486.25 2290.58 1486.25 Q2284.86 1486.25 2281.78 1483.57 Q2278.73 1480.88 2278.73 1475.86 Q2278.73 1472.55 2280.62 1470.26 Q2282.52 1467.96 2285.9 1467.18 M2284.19 1459.79 Q2284.19 1462.48 2285.85 1463.98 Q2287.54 1465.49 2290.58 1465.49 Q2293.59 1465.49 2295.28 1463.98 Q2296.99 1462.48 2296.99 1459.79 Q2296.99 1457.11 2295.28 1455.6 Q2293.59 1454.1 2290.58 1454.1 Q2287.54 1454.1 2285.85 1455.6 Q2284.19 1457.11 2284.19 1459.79 Z\" fill=\"#000000\" fill-rule=\"evenodd\" fill-opacity=\"1\" /><path clip-path=\"url(#clip410)\" d=\"M1202.57 1522.27 L1202.57 1532.4 L1214.63 1532.4 L1214.63 1536.95 L1202.57 1536.95 L1202.57 1556.3 Q1202.57 1560.66 1203.75 1561.9 Q1204.96 1563.14 1208.62 1563.14 L1214.63 1563.14 L1214.63 1568.04 L1208.62 1568.04 Q1201.84 1568.04 1199.26 1565.53 Q1196.68 1562.98 1196.68 1556.3 L1196.68 1536.95 L1192.39 1536.95 L1192.39 1532.4 L1196.68 1532.4 L1196.68 1522.27 L1202.57 1522.27 Z\" fill=\"#000000\" fill-rule=\"evenodd\" fill-opacity=\"1\" /><path clip-path=\"url(#clip410)\" d=\"M1242.52 1518.52 L1256.01 1518.52 L1256.01 1523.07 L1248.37 1523.07 L1248.37 1572.09 L1256.01 1572.09 L1256.01 1576.64 L1242.52 1576.64 L1242.52 1518.52 Z\" fill=\"#000000\" fill-rule=\"evenodd\" fill-opacity=\"1\" /><path clip-path=\"url(#clip410)\" d=\"M1291.21 1533.45 L1291.21 1538.98 Q1288.73 1537.71 1286.06 1537.07 Q1283.38 1536.44 1280.52 1536.44 Q1276.16 1536.44 1273.96 1537.77 Q1271.8 1539.11 1271.8 1541.79 Q1271.8 1543.82 1273.36 1545 Q1274.92 1546.15 1279.63 1547.2 L1281.63 1547.64 Q1287.87 1548.98 1290.48 1551.43 Q1293.12 1553.85 1293.12 1558.21 Q1293.12 1563.17 1289.18 1566.07 Q1285.26 1568.97 1278.39 1568.97 Q1275.52 1568.97 1272.4 1568.39 Q1269.32 1567.85 1265.88 1566.74 L1265.88 1560.69 Q1269.12 1562.38 1272.28 1563.24 Q1275.43 1564.07 1278.51 1564.07 Q1282.65 1564.07 1284.88 1562.66 Q1287.11 1561.23 1287.11 1558.65 Q1287.11 1556.27 1285.48 1554.99 Q1283.89 1553.72 1278.45 1552.54 L1276.41 1552.07 Q1270.97 1550.92 1268.55 1548.56 Q1266.13 1546.18 1266.13 1542.04 Q1266.13 1537.01 1269.7 1534.27 Q1273.26 1531.54 1279.82 1531.54 Q1283.07 1531.54 1285.93 1532.01 Q1288.79 1532.49 1291.21 1533.45 Z\" fill=\"#000000\" fill-rule=\"evenodd\" fill-opacity=\"1\" /><path clip-path=\"url(#clip410)\" d=\"M1316.14 1518.52 L1316.14 1576.64 L1302.64 1576.64 L1302.64 1572.09 L1310.25 1572.09 L1310.25 1523.07 L1302.64 1523.07 L1302.64 1518.52 L1316.14 1518.52 Z\" fill=\"#000000\" fill-rule=\"evenodd\" fill-opacity=\"1\" /><polyline clip-path=\"url(#clip412)\" style=\"stroke:#000000; stroke-linecap:round; stroke-linejoin:round; stroke-width:2; stroke-opacity:0.1; fill:none\" points=\"\n",
       "  155.765,1384.24 2352.76,1384.24 \n",
       "  \"/>\n",
       "<polyline clip-path=\"url(#clip412)\" style=\"stroke:#000000; stroke-linecap:round; stroke-linejoin:round; stroke-width:2; stroke-opacity:0.1; fill:none\" points=\"\n",
       "  155.765,1108.15 2352.76,1108.15 \n",
       "  \"/>\n",
       "<polyline clip-path=\"url(#clip412)\" style=\"stroke:#000000; stroke-linecap:round; stroke-linejoin:round; stroke-width:2; stroke-opacity:0.1; fill:none\" points=\"\n",
       "  155.765,832.066 2352.76,832.066 \n",
       "  \"/>\n",
       "<polyline clip-path=\"url(#clip412)\" style=\"stroke:#000000; stroke-linecap:round; stroke-linejoin:round; stroke-width:2; stroke-opacity:0.1; fill:none\" points=\"\n",
       "  155.765,555.981 2352.76,555.981 \n",
       "  \"/>\n",
       "<polyline clip-path=\"url(#clip412)\" style=\"stroke:#000000; stroke-linecap:round; stroke-linejoin:round; stroke-width:2; stroke-opacity:0.1; fill:none\" points=\"\n",
       "  155.765,279.895 2352.76,279.895 \n",
       "  \"/>\n",
       "<polyline clip-path=\"url(#clip410)\" style=\"stroke:#000000; stroke-linecap:round; stroke-linejoin:round; stroke-width:4; stroke-opacity:1; fill:none\" points=\"\n",
       "  155.765,1423.18 155.765,47.2441 \n",
       "  \"/>\n",
       "<polyline clip-path=\"url(#clip410)\" style=\"stroke:#000000; stroke-linecap:round; stroke-linejoin:round; stroke-width:4; stroke-opacity:1; fill:none\" points=\"\n",
       "  155.765,1384.24 174.663,1384.24 \n",
       "  \"/>\n",
       "<polyline clip-path=\"url(#clip410)\" style=\"stroke:#000000; stroke-linecap:round; stroke-linejoin:round; stroke-width:4; stroke-opacity:1; fill:none\" points=\"\n",
       "  155.765,1108.15 174.663,1108.15 \n",
       "  \"/>\n",
       "<polyline clip-path=\"url(#clip410)\" style=\"stroke:#000000; stroke-linecap:round; stroke-linejoin:round; stroke-width:4; stroke-opacity:1; fill:none\" points=\"\n",
       "  155.765,832.066 174.663,832.066 \n",
       "  \"/>\n",
       "<polyline clip-path=\"url(#clip410)\" style=\"stroke:#000000; stroke-linecap:round; stroke-linejoin:round; stroke-width:4; stroke-opacity:1; fill:none\" points=\"\n",
       "  155.765,555.981 174.663,555.981 \n",
       "  \"/>\n",
       "<polyline clip-path=\"url(#clip410)\" style=\"stroke:#000000; stroke-linecap:round; stroke-linejoin:round; stroke-width:4; stroke-opacity:1; fill:none\" points=\"\n",
       "  155.765,279.895 174.663,279.895 \n",
       "  \"/>\n",
       "<path clip-path=\"url(#clip410)\" d=\"M63.5847 1370.04 Q59.9736 1370.04 58.1449 1373.6 Q56.3393 1377.14 56.3393 1384.27 Q56.3393 1391.38 58.1449 1394.94 Q59.9736 1398.49 63.5847 1398.49 Q67.2189 1398.49 69.0244 1394.94 Q70.8531 1391.38 70.8531 1384.27 Q70.8531 1377.14 69.0244 1373.6 Q67.2189 1370.04 63.5847 1370.04 M63.5847 1366.33 Q69.3948 1366.33 72.4503 1370.94 Q75.529 1375.52 75.529 1384.27 Q75.529 1393 72.4503 1397.61 Q69.3948 1402.19 63.5847 1402.19 Q57.7745 1402.19 54.6958 1397.61 Q51.6403 1393 51.6403 1384.27 Q51.6403 1375.52 54.6958 1370.94 Q57.7745 1366.33 63.5847 1366.33 Z\" fill=\"#000000\" fill-rule=\"evenodd\" fill-opacity=\"1\" /><path clip-path=\"url(#clip410)\" d=\"M83.7466 1395.64 L88.6308 1395.64 L88.6308 1401.52 L83.7466 1401.52 L83.7466 1395.64 Z\" fill=\"#000000\" fill-rule=\"evenodd\" fill-opacity=\"1\" /><path clip-path=\"url(#clip410)\" d=\"M98.8622 1366.96 L117.219 1366.96 L117.219 1370.89 L103.145 1370.89 L103.145 1379.37 Q104.163 1379.02 105.182 1378.86 Q106.2 1378.67 107.219 1378.67 Q113.006 1378.67 116.385 1381.84 Q119.765 1385.01 119.765 1390.43 Q119.765 1396.01 116.293 1399.11 Q112.82 1402.19 106.501 1402.19 Q104.325 1402.19 102.057 1401.82 Q99.8113 1401.45 97.4039 1400.71 L97.4039 1396.01 Q99.4872 1397.14 101.709 1397.7 Q103.932 1398.25 106.408 1398.25 Q110.413 1398.25 112.751 1396.15 Q115.089 1394.04 115.089 1390.43 Q115.089 1386.82 112.751 1384.71 Q110.413 1382.61 106.408 1382.61 Q104.534 1382.61 102.659 1383.02 Q100.807 1383.44 98.8622 1384.32 L98.8622 1366.96 Z\" fill=\"#000000\" fill-rule=\"evenodd\" fill-opacity=\"1\" /><path clip-path=\"url(#clip410)\" d=\"M53.3995 1121.5 L61.0384 1121.5 L61.0384 1095.13 L52.7282 1096.8 L52.7282 1092.54 L60.9921 1090.87 L65.668 1090.87 L65.668 1121.5 L73.3068 1121.5 L73.3068 1125.43 L53.3995 1125.43 L53.3995 1121.5 Z\" fill=\"#000000\" fill-rule=\"evenodd\" fill-opacity=\"1\" /><path clip-path=\"url(#clip410)\" d=\"M82.7512 1119.55 L87.6354 1119.55 L87.6354 1125.43 L82.7512 1125.43 L82.7512 1119.55 Z\" fill=\"#000000\" fill-rule=\"evenodd\" fill-opacity=\"1\" /><path clip-path=\"url(#clip410)\" d=\"M107.821 1093.95 Q104.209 1093.95 102.381 1097.52 Q100.575 1101.06 100.575 1108.19 Q100.575 1115.29 102.381 1118.86 Q104.209 1122.4 107.821 1122.4 Q111.455 1122.4 113.26 1118.86 Q115.089 1115.29 115.089 1108.19 Q115.089 1101.06 113.26 1097.52 Q111.455 1093.95 107.821 1093.95 M107.821 1090.25 Q113.631 1090.25 116.686 1094.85 Q119.765 1099.44 119.765 1108.19 Q119.765 1116.91 116.686 1121.52 Q113.631 1126.1 107.821 1126.1 Q102.01 1126.1 98.9317 1121.52 Q95.8761 1116.91 95.8761 1108.19 Q95.8761 1099.44 98.9317 1094.85 Q102.01 1090.25 107.821 1090.25 Z\" fill=\"#000000\" fill-rule=\"evenodd\" fill-opacity=\"1\" /><path clip-path=\"url(#clip410)\" d=\"M54.3949 845.411 L62.0337 845.411 L62.0337 819.046 L53.7236 820.712 L53.7236 816.453 L61.9874 814.786 L66.6633 814.786 L66.6633 845.411 L74.3022 845.411 L74.3022 849.346 L54.3949 849.346 L54.3949 845.411 Z\" fill=\"#000000\" fill-rule=\"evenodd\" fill-opacity=\"1\" /><path clip-path=\"url(#clip410)\" d=\"M83.7466 843.467 L88.6308 843.467 L88.6308 849.346 L83.7466 849.346 L83.7466 843.467 Z\" fill=\"#000000\" fill-rule=\"evenodd\" fill-opacity=\"1\" /><path clip-path=\"url(#clip410)\" d=\"M98.8622 814.786 L117.219 814.786 L117.219 818.722 L103.145 818.722 L103.145 827.194 Q104.163 826.847 105.182 826.685 Q106.2 826.499 107.219 826.499 Q113.006 826.499 116.385 829.671 Q119.765 832.842 119.765 838.259 Q119.765 843.837 116.293 846.939 Q112.82 850.018 106.501 850.018 Q104.325 850.018 102.057 849.647 Q99.8113 849.277 97.4039 848.536 L97.4039 843.837 Q99.4872 844.971 101.709 845.527 Q103.932 846.083 106.408 846.083 Q110.413 846.083 112.751 843.976 Q115.089 841.87 115.089 838.259 Q115.089 834.647 112.751 832.541 Q110.413 830.434 106.408 830.434 Q104.534 830.434 102.659 830.851 Q100.807 831.268 98.8622 832.147 L98.8622 814.786 Z\" fill=\"#000000\" fill-rule=\"evenodd\" fill-opacity=\"1\" /><path clip-path=\"url(#clip410)\" d=\"M56.6171 569.325 L72.9365 569.325 L72.9365 573.261 L50.9921 573.261 L50.9921 569.325 Q53.6541 566.571 58.2375 561.941 Q62.8439 557.288 64.0245 555.946 Q66.2698 553.423 67.1494 551.687 Q68.0522 549.927 68.0522 548.238 Q68.0522 545.483 66.1078 543.747 Q64.1865 542.011 61.0847 542.011 Q58.8856 542.011 56.4319 542.775 Q54.0014 543.538 51.2236 545.089 L51.2236 540.367 Q54.0477 539.233 56.5014 538.654 Q58.955 538.076 60.9921 538.076 Q66.3624 538.076 69.5568 540.761 Q72.7513 543.446 72.7513 547.937 Q72.7513 550.066 71.9411 551.987 Q71.1541 553.886 69.0476 556.478 Q68.4689 557.149 65.367 560.367 Q62.2652 563.561 56.6171 569.325 Z\" fill=\"#000000\" fill-rule=\"evenodd\" fill-opacity=\"1\" /><path clip-path=\"url(#clip410)\" d=\"M82.7512 567.381 L87.6354 567.381 L87.6354 573.261 L82.7512 573.261 L82.7512 567.381 Z\" fill=\"#000000\" fill-rule=\"evenodd\" fill-opacity=\"1\" /><path clip-path=\"url(#clip410)\" d=\"M107.821 541.779 Q104.209 541.779 102.381 545.344 Q100.575 548.886 100.575 556.015 Q100.575 563.122 102.381 566.686 Q104.209 570.228 107.821 570.228 Q111.455 570.228 113.26 566.686 Q115.089 563.122 115.089 556.015 Q115.089 548.886 113.26 545.344 Q111.455 541.779 107.821 541.779 M107.821 538.076 Q113.631 538.076 116.686 542.682 Q119.765 547.265 119.765 556.015 Q119.765 564.742 116.686 569.348 Q113.631 573.932 107.821 573.932 Q102.01 573.932 98.9317 569.348 Q95.8761 564.742 95.8761 556.015 Q95.8761 547.265 98.9317 542.682 Q102.01 538.076 107.821 538.076 Z\" fill=\"#000000\" fill-rule=\"evenodd\" fill-opacity=\"1\" /><path clip-path=\"url(#clip410)\" d=\"M57.6125 293.239 L73.9318 293.239 L73.9318 297.175 L51.9875 297.175 L51.9875 293.239 Q54.6495 290.485 59.2328 285.855 Q63.8393 281.202 65.0198 279.86 Q67.2652 277.337 68.1448 275.601 Q69.0476 273.841 69.0476 272.152 Q69.0476 269.397 67.1032 267.661 Q65.1819 265.925 62.08 265.925 Q59.881 265.925 57.4273 266.689 Q54.9967 267.453 52.219 269.003 L52.219 264.281 Q55.043 263.147 57.4967 262.568 Q59.9504 261.99 61.9874 261.99 Q67.3578 261.99 70.5522 264.675 Q73.7466 267.36 73.7466 271.851 Q73.7466 273.98 72.9365 275.902 Q72.1494 277.8 70.0429 280.392 Q69.4642 281.064 66.3624 284.281 Q63.2606 287.476 57.6125 293.239 Z\" fill=\"#000000\" fill-rule=\"evenodd\" fill-opacity=\"1\" /><path clip-path=\"url(#clip410)\" d=\"M83.7466 291.295 L88.6308 291.295 L88.6308 297.175 L83.7466 297.175 L83.7466 291.295 Z\" fill=\"#000000\" fill-rule=\"evenodd\" fill-opacity=\"1\" /><path clip-path=\"url(#clip410)\" d=\"M98.8622 262.615 L117.219 262.615 L117.219 266.55 L103.145 266.55 L103.145 275.022 Q104.163 274.675 105.182 274.513 Q106.2 274.327 107.219 274.327 Q113.006 274.327 116.385 277.499 Q119.765 280.67 119.765 286.087 Q119.765 291.665 116.293 294.767 Q112.82 297.846 106.501 297.846 Q104.325 297.846 102.057 297.476 Q99.8113 297.105 97.4039 296.364 L97.4039 291.665 Q99.4872 292.8 101.709 293.355 Q103.932 293.911 106.408 293.911 Q110.413 293.911 112.751 291.804 Q115.089 289.698 115.089 286.087 Q115.089 282.476 112.751 280.369 Q110.413 278.263 106.408 278.263 Q104.534 278.263 102.659 278.679 Q100.807 279.096 98.8622 279.976 L98.8622 262.615 Z\" fill=\"#000000\" fill-rule=\"evenodd\" fill-opacity=\"1\" /><polyline clip-path=\"url(#clip412)\" style=\"stroke:#009af9; stroke-linecap:round; stroke-linejoin:round; stroke-width:4; stroke-opacity:1; fill:none\" points=\"\n",
       "  217.944,1384.24 217.944,1384.24 218.542,1384.23 222.548,1383.87 231.826,1380.83 248.652,1367.46 265.843,1343.66 286.57,1302.62 307.296,1250.48 328.022,1190.52 \n",
       "  348.748,1126.55 369.475,1062.64 390.201,1002.86 410.927,951.023 431.654,910.472 452.38,883.913 473.106,873.37 475.479,873.255 475.64,873.255 475.776,873.256 \n",
       "  477.133,873.295 483.16,874.114 496.21,879.558 512.901,893.818 532.515,920.516 553.242,958.952 573.968,1005.58 594.694,1057.47 615.421,1111.34 636.147,1163.77 \n",
       "  656.873,1211.39 677.6,1251.14 698.326,1280.4 719.052,1297.09 733.035,1300.45 733.076,1300.45 733.226,1300.45 733.322,1300.45 734.282,1300.43 740.243,1299.87 \n",
       "  756.276,1294.29 774.042,1281.21 794.769,1257.34 815.495,1225.46 836.221,1187.49 856.948,1145.8 877.674,1103.01 898.4,1061.87 919.127,1025 939.853,994.818 \n",
       "  960.579,973.386 981.306,962.332 990.798,961.083 990.942,961.083 991.029,961.083 991.892,961.093 998.587,961.566 1011.91,964.661 1028.52,972.545 1048.86,988.039 \n",
       "  1069.59,1009.71 1090.31,1036.07 1111.04,1065.54 1131.77,1096.28 1152.49,1126.33 1173.22,1153.76 1193.94,1176.74 1214.67,1193.69 1235.4,1203.29 1247.45,1205.08 \n",
       "  1248.79,1205.1 1248.93,1205.1 1249.05,1205.1 1250.18,1205.09 1256.4,1204.86 1268.12,1203.53 1283.48,1199.99 1302.64,1192.81 1323.37,1181.86 1344.1,1168.15 \n",
       "  1364.82,1152.46 1385.55,1135.73 1406.27,1119.01 1427,1103.39 1447.73,1089.91 1468.45,1079.55 1489.18,1073.12 1505.53,1071.25 1507.38,1071.23 1507.52,1071.23 \n",
       "  1507.64,1071.23 1508.81,1071.23 1520.52,1071.24 1541.25,1071.24 1561.98,1071.24 1582.7,1071.25 1603.43,1071.25 1624.15,1071.25 1644.88,1071.26 1665.61,1071.26 \n",
       "  1686.33,1071.26 1707.06,1071.27 1727.79,1071.27 1748.51,1071.27 1769.24,1071.28 1789.96,1071.28 1810.69,1071.28 1831.42,1071.29 1852.14,1071.29 1872.87,1071.29 \n",
       "  1893.6,1071.3 1914.32,1071.3 1935.05,1071.3 1955.78,1071.31 1976.5,1071.31 1997.23,1071.31 2017.95,1071.32 2038.68,1071.32 2059.41,1071.32 2080.13,1071.33 \n",
       "  2100.86,1071.33 2121.59,1071.33 2142.31,1071.34 2163.04,1071.34 2183.77,1071.34 2204.49,1071.35 2225.22,1071.35 2245.94,1071.35 2266.67,1071.36 2287.4,1071.36 \n",
       "  2290.58,1071.36 \n",
       "  \"/>\n",
       "<polyline clip-path=\"url(#clip412)\" style=\"stroke:#0000ff; stroke-linecap:round; stroke-linejoin:round; stroke-width:4; stroke-opacity:1; fill:none\" stroke-dasharray=\"16, 10\" points=\"\n",
       "  217.944,1384.24 217.944,873.255 \n",
       "  \"/>\n",
       "<polyline clip-path=\"url(#clip412)\" style=\"stroke:#0000ff; stroke-linecap:round; stroke-linejoin:round; stroke-width:4; stroke-opacity:1; fill:none\" stroke-dasharray=\"16, 10\" points=\"\n",
       "  475.479,1384.24 475.479,873.255 \n",
       "  \"/>\n",
       "<polyline clip-path=\"url(#clip412)\" style=\"stroke:#0000ff; stroke-linecap:round; stroke-linejoin:round; stroke-width:4; stroke-opacity:1; fill:none\" stroke-dasharray=\"16, 10\" points=\"\n",
       "  733.076,1384.24 733.076,873.255 \n",
       "  \"/>\n",
       "<polyline clip-path=\"url(#clip412)\" style=\"stroke:#0000ff; stroke-linecap:round; stroke-linejoin:round; stroke-width:4; stroke-opacity:1; fill:none\" stroke-dasharray=\"16, 10\" points=\"\n",
       "  990.798,1384.24 990.798,873.255 \n",
       "  \"/>\n",
       "<polyline clip-path=\"url(#clip412)\" style=\"stroke:#0000ff; stroke-linecap:round; stroke-linejoin:round; stroke-width:4; stroke-opacity:1; fill:none\" stroke-dasharray=\"16, 10\" points=\"\n",
       "  1248.79,1384.24 1248.79,873.255 \n",
       "  \"/>\n",
       "<polyline clip-path=\"url(#clip412)\" style=\"stroke:#0000ff; stroke-linecap:round; stroke-linejoin:round; stroke-width:4; stroke-opacity:1; fill:none\" stroke-dasharray=\"16, 10\" points=\"\n",
       "  1507.38,1384.24 1507.38,873.255 \n",
       "  \"/>\n",
       "<polyline clip-path=\"url(#clip412)\" style=\"stroke:#c68125; stroke-linecap:round; stroke-linejoin:round; stroke-width:4; stroke-opacity:1; fill:none\" stroke-dasharray=\"16, 10\" points=\"\n",
       "  217.944,1108.15 217.944,1108.15 218.542,1108.14 222.548,1107.41 231.826,1101.33 248.652,1074.6 265.843,1026.99 286.57,944.911 307.296,840.633 328.022,720.718 \n",
       "  348.748,592.779 369.475,464.957 390.201,345.394 410.927,241.721 431.654,160.619 452.38,107.501 473.106,86.4154 475.479,86.1857 475.64,86.1865 475.776,86.1883 \n",
       "  477.133,86.2653 483.16,87.9033 496.21,98.7909 512.901,127.312 532.515,180.709 553.242,257.579 573.968,350.834 594.694,454.622 615.421,562.365 636.147,667.206 \n",
       "  656.873,762.446 677.6,841.95 698.326,900.47 719.052,933.851 733.035,940.579 733.076,940.579 733.226,940.578 733.322,940.577 734.282,940.546 740.243,939.413 \n",
       "  756.276,928.246 774.042,902.092 794.769,854.348 815.495,790.59 836.221,714.656 856.948,631.272 877.674,545.705 898.4,463.406 919.127,389.667 939.853,329.311 \n",
       "  960.579,286.449 981.306,264.339 990.798,261.842 990.942,261.842 991.029,261.843 991.892,261.861 998.587,262.808 1011.91,268.998 1028.52,284.766 1048.86,315.754 \n",
       "  1069.59,359.086 1090.31,411.819 1111.04,470.761 1131.77,532.236 1152.49,592.34 1173.22,647.192 1193.94,693.157 1214.67,727.049 1235.4,746.249 1247.45,749.844 \n",
       "  1248.79,749.881 1248.93,749.881 1249.05,749.88 1250.18,749.865 1256.4,749.396 1268.12,746.727 1283.48,739.661 1302.64,725.302 1323.37,703.4 1344.1,675.978 \n",
       "  1364.82,644.594 1385.55,611.137 1406.27,577.702 1427,546.456 1447.73,519.503 1468.45,498.771 1489.18,485.909 1505.53,482.181 1507.38,482.142 1507.52,482.142 \n",
       "  1507.64,482.142 1508.81,482.142 1520.52,482.146 1541.25,482.153 1561.98,482.159 1582.7,482.166 1603.43,482.173 1624.15,482.18 1644.88,482.186 1665.61,482.193 \n",
       "  1686.33,482.2 1707.06,482.206 1727.79,482.213 1748.51,482.22 1769.24,482.227 1789.96,482.233 1810.69,482.24 1831.42,482.247 1852.14,482.253 1872.87,482.26 \n",
       "  1893.6,482.267 1914.32,482.274 1935.05,482.28 1955.78,482.287 1976.5,482.294 1997.23,482.3 2017.95,482.307 2038.68,482.314 2059.41,482.321 2080.13,482.327 \n",
       "  2100.86,482.334 2121.59,482.341 2142.31,482.347 2163.04,482.354 2183.77,482.361 2204.49,482.368 2225.22,482.374 2245.94,482.381 2266.67,482.388 2287.4,482.395 \n",
       "  2290.58,482.396 \n",
       "  \"/>\n",
       "<polyline clip-path=\"url(#clip412)\" style=\"stroke:#0000ff; stroke-linecap:round; stroke-linejoin:round; stroke-width:4; stroke-opacity:1; fill:none\" stroke-dasharray=\"16, 10\" points=\"\n",
       "  217.944,1108.15 217.944,86.1857 \n",
       "  \"/>\n",
       "<polyline clip-path=\"url(#clip412)\" style=\"stroke:#0000ff; stroke-linecap:round; stroke-linejoin:round; stroke-width:4; stroke-opacity:1; fill:none\" stroke-dasharray=\"16, 10\" points=\"\n",
       "  475.479,1108.15 475.479,86.1857 \n",
       "  \"/>\n",
       "<polyline clip-path=\"url(#clip412)\" style=\"stroke:#0000ff; stroke-linecap:round; stroke-linejoin:round; stroke-width:4; stroke-opacity:1; fill:none\" stroke-dasharray=\"16, 10\" points=\"\n",
       "  733.076,1108.15 733.076,86.1857 \n",
       "  \"/>\n",
       "<polyline clip-path=\"url(#clip412)\" style=\"stroke:#0000ff; stroke-linecap:round; stroke-linejoin:round; stroke-width:4; stroke-opacity:1; fill:none\" stroke-dasharray=\"16, 10\" points=\"\n",
       "  990.798,1108.15 990.798,86.1857 \n",
       "  \"/>\n",
       "<polyline clip-path=\"url(#clip412)\" style=\"stroke:#0000ff; stroke-linecap:round; stroke-linejoin:round; stroke-width:4; stroke-opacity:1; fill:none\" stroke-dasharray=\"16, 10\" points=\"\n",
       "  1248.79,1108.15 1248.79,86.1857 \n",
       "  \"/>\n",
       "<polyline clip-path=\"url(#clip412)\" style=\"stroke:#0000ff; stroke-linecap:round; stroke-linejoin:round; stroke-width:4; stroke-opacity:1; fill:none\" stroke-dasharray=\"16, 10\" points=\"\n",
       "  1507.38,1108.15 1507.38,86.1857 \n",
       "  \"/>\n",
       "<path clip-path=\"url(#clip410)\" d=\"\n",
       "M1610.45 352.309 L2279.52 352.309 L2279.52 93.1086 L1610.45 93.1086  Z\n",
       "  \" fill=\"#ffffff\" fill-rule=\"evenodd\" fill-opacity=\"1\"/>\n",
       "<polyline clip-path=\"url(#clip410)\" style=\"stroke:#000000; stroke-linecap:round; stroke-linejoin:round; stroke-width:4; stroke-opacity:1; fill:none\" points=\"\n",
       "  1610.45,352.309 2279.52,352.309 2279.52,93.1086 1610.45,93.1086 1610.45,352.309 \n",
       "  \"/>\n",
       "<polyline clip-path=\"url(#clip410)\" style=\"stroke:#009af9; stroke-linecap:round; stroke-linejoin:round; stroke-width:4; stroke-opacity:1; fill:none\" points=\"\n",
       "  1634.86,144.949 1781.33,144.949 \n",
       "  \"/>\n",
       "<path clip-path=\"url(#clip410)\" d=\"M1826.09 141.28 Q1827.68 138.409 1829.91 137.044 Q1832.13 135.678 1835.14 135.678 Q1839.19 135.678 1841.39 138.525 Q1843.59 141.349 1843.59 146.581 L1843.59 162.229 L1839.3 162.229 L1839.3 146.719 Q1839.3 142.993 1837.98 141.187 Q1836.67 139.382 1833.96 139.382 Q1830.65 139.382 1828.73 141.581 Q1826.8 143.78 1826.8 147.576 L1826.8 162.229 L1822.52 162.229 L1822.52 146.719 Q1822.52 142.969 1821.2 141.187 Q1819.88 139.382 1817.13 139.382 Q1813.86 139.382 1811.94 141.604 Q1810.02 143.803 1810.02 147.576 L1810.02 162.229 L1805.74 162.229 L1805.74 136.303 L1810.02 136.303 L1810.02 140.331 Q1811.48 137.946 1813.52 136.812 Q1815.55 135.678 1818.35 135.678 Q1821.18 135.678 1823.15 137.113 Q1825.14 138.548 1826.09 141.28 Z\" fill=\"#000000\" fill-rule=\"evenodd\" fill-opacity=\"1\" /><path clip-path=\"url(#clip410)\" d=\"M1863.86 149.196 Q1858.7 149.196 1856.71 150.377 Q1854.72 151.557 1854.72 154.405 Q1854.72 156.673 1856.2 158.016 Q1857.71 159.335 1860.28 159.335 Q1863.82 159.335 1865.95 156.835 Q1868.1 154.312 1868.1 150.145 L1868.1 149.196 L1863.86 149.196 M1872.36 147.437 L1872.36 162.229 L1868.1 162.229 L1868.1 158.293 Q1866.64 160.655 1864.47 161.789 Q1862.29 162.9 1859.14 162.9 Q1855.16 162.9 1852.8 160.678 Q1850.46 158.432 1850.46 154.682 Q1850.46 150.307 1853.38 148.085 Q1856.32 145.863 1862.13 145.863 L1868.1 145.863 L1868.1 145.446 Q1868.1 142.507 1866.16 140.909 Q1864.23 139.289 1860.74 139.289 Q1858.52 139.289 1856.41 139.821 Q1854.3 140.354 1852.36 141.419 L1852.36 137.483 Q1854.7 136.581 1856.9 136.141 Q1859.1 135.678 1861.18 135.678 Q1866.8 135.678 1869.58 138.594 Q1872.36 141.511 1872.36 147.437 Z\" fill=\"#000000\" fill-rule=\"evenodd\" fill-opacity=\"1\" /><path clip-path=\"url(#clip410)\" d=\"M1897.66 137.067 L1897.66 141.094 Q1895.85 140.169 1893.91 139.706 Q1891.97 139.243 1889.88 139.243 Q1886.71 139.243 1885.11 140.215 Q1883.54 141.187 1883.54 143.131 Q1883.54 144.613 1884.67 145.469 Q1885.81 146.303 1889.23 147.067 L1890.69 147.391 Q1895.23 148.363 1897.13 150.145 Q1899.05 151.905 1899.05 155.076 Q1899.05 158.687 1896.18 160.793 Q1893.33 162.9 1888.33 162.9 Q1886.25 162.9 1883.98 162.483 Q1881.73 162.09 1879.23 161.28 L1879.23 156.881 Q1881.6 158.108 1883.89 158.733 Q1886.18 159.335 1888.42 159.335 Q1891.43 159.335 1893.05 158.317 Q1894.67 157.275 1894.67 155.4 Q1894.67 153.664 1893.49 152.738 Q1892.34 151.812 1888.38 150.956 L1886.9 150.608 Q1882.94 149.775 1881.18 148.062 Q1879.42 146.326 1879.42 143.317 Q1879.42 139.659 1882.01 137.669 Q1884.6 135.678 1889.37 135.678 Q1891.73 135.678 1893.82 136.025 Q1895.9 136.372 1897.66 137.067 Z\" fill=\"#000000\" fill-rule=\"evenodd\" fill-opacity=\"1\" /><path clip-path=\"url(#clip410)\" d=\"M1922.36 137.067 L1922.36 141.094 Q1920.55 140.169 1918.61 139.706 Q1916.66 139.243 1914.58 139.243 Q1911.41 139.243 1909.81 140.215 Q1908.24 141.187 1908.24 143.131 Q1908.24 144.613 1909.37 145.469 Q1910.51 146.303 1913.93 147.067 L1915.39 147.391 Q1919.93 148.363 1921.83 150.145 Q1923.75 151.905 1923.75 155.076 Q1923.75 158.687 1920.88 160.793 Q1918.03 162.9 1913.03 162.9 Q1910.95 162.9 1908.68 162.483 Q1906.43 162.09 1903.93 161.28 L1903.93 156.881 Q1906.29 158.108 1908.59 158.733 Q1910.88 159.335 1913.12 159.335 Q1916.13 159.335 1917.75 158.317 Q1919.37 157.275 1919.37 155.4 Q1919.37 153.664 1918.19 152.738 Q1917.03 151.812 1913.08 150.956 L1911.6 150.608 Q1907.64 149.775 1905.88 148.062 Q1904.12 146.326 1904.12 143.317 Q1904.12 139.659 1906.71 137.669 Q1909.3 135.678 1914.07 135.678 Q1916.43 135.678 1918.52 136.025 Q1920.6 136.372 1922.36 137.067 Z\" fill=\"#000000\" fill-rule=\"evenodd\" fill-opacity=\"1\" /><path clip-path=\"url(#clip410)\" d=\"M1931.13 156.349 L1936.02 156.349 L1936.02 162.229 L1931.13 162.229 L1931.13 156.349 Z\" fill=\"#000000\" fill-rule=\"evenodd\" fill-opacity=\"1\" /><path clip-path=\"url(#clip410)\" d=\"M1962.13 137.067 L1962.13 141.094 Q1960.32 140.169 1958.38 139.706 Q1956.43 139.243 1954.35 139.243 Q1951.18 139.243 1949.58 140.215 Q1948.01 141.187 1948.01 143.131 Q1948.01 144.613 1949.14 145.469 Q1950.28 146.303 1953.7 147.067 L1955.16 147.391 Q1959.7 148.363 1961.59 150.145 Q1963.52 151.905 1963.52 155.076 Q1963.52 158.687 1960.65 160.793 Q1957.8 162.9 1952.8 162.9 Q1950.72 162.9 1948.45 162.483 Q1946.2 162.09 1943.7 161.28 L1943.7 156.881 Q1946.06 158.108 1948.35 158.733 Q1950.65 159.335 1952.89 159.335 Q1955.9 159.335 1957.52 158.317 Q1959.14 157.275 1959.14 155.4 Q1959.14 153.664 1957.96 152.738 Q1956.8 151.812 1952.84 150.956 L1951.36 150.608 Q1947.41 149.775 1945.65 148.062 Q1943.89 146.326 1943.89 143.317 Q1943.89 139.659 1946.48 137.669 Q1949.07 135.678 1953.84 135.678 Q1956.2 135.678 1958.28 136.025 Q1960.37 136.372 1962.13 137.067 Z\" fill=\"#000000\" fill-rule=\"evenodd\" fill-opacity=\"1\" /><path clip-path=\"url(#clip410)\" d=\"M1995.6 126.257 Q1992.5 131.581 1990.99 136.789 Q1989.49 141.997 1989.49 147.344 Q1989.49 152.692 1990.99 157.946 Q1992.52 163.178 1995.6 168.479 L1991.9 168.479 Q1988.42 163.039 1986.69 157.784 Q1984.97 152.53 1984.97 147.344 Q1984.97 142.182 1986.69 136.951 Q1988.4 131.72 1991.9 126.257 L1995.6 126.257 Z\" fill=\"#000000\" fill-rule=\"evenodd\" fill-opacity=\"1\" /><path clip-path=\"url(#clip410)\" d=\"M2018.63 143.594 Q2021.99 144.312 2023.86 146.581 Q2025.76 148.849 2025.76 152.182 Q2025.76 157.298 2022.24 160.099 Q2018.72 162.9 2012.24 162.9 Q2010.07 162.9 2007.75 162.46 Q2005.46 162.043 2003.01 161.187 L2003.01 156.673 Q2004.95 157.807 2007.27 158.386 Q2009.58 158.965 2012.1 158.965 Q2016.5 158.965 2018.79 157.229 Q2021.11 155.493 2021.11 152.182 Q2021.11 149.127 2018.96 147.414 Q2016.83 145.678 2013.01 145.678 L2008.98 145.678 L2008.98 141.835 L2013.19 141.835 Q2016.64 141.835 2018.47 140.469 Q2020.3 139.081 2020.3 136.488 Q2020.3 133.826 2018.4 132.414 Q2016.53 130.979 2013.01 130.979 Q2011.09 130.979 2008.89 131.395 Q2006.69 131.812 2004.05 132.692 L2004.05 128.525 Q2006.71 127.784 2009.03 127.414 Q2011.36 127.044 2013.42 127.044 Q2018.75 127.044 2021.85 129.474 Q2024.95 131.882 2024.95 136.002 Q2024.95 138.872 2023.31 140.863 Q2021.66 142.831 2018.63 143.594 Z\" fill=\"#000000\" fill-rule=\"evenodd\" fill-opacity=\"1\" /><path clip-path=\"url(#clip410)\" d=\"M2048.79 143.594 Q2052.15 144.312 2054.02 146.581 Q2055.92 148.849 2055.92 152.182 Q2055.92 157.298 2052.4 160.099 Q2048.89 162.9 2042.4 162.9 Q2040.23 162.9 2037.91 162.46 Q2035.62 162.043 2033.17 161.187 L2033.17 156.673 Q2035.11 157.807 2037.43 158.386 Q2039.74 158.965 2042.27 158.965 Q2046.66 158.965 2048.96 157.229 Q2051.27 155.493 2051.27 152.182 Q2051.27 149.127 2049.12 147.414 Q2046.99 145.678 2043.17 145.678 L2039.14 145.678 L2039.14 141.835 L2043.35 141.835 Q2046.8 141.835 2048.63 140.469 Q2050.46 139.081 2050.46 136.488 Q2050.46 133.826 2048.56 132.414 Q2046.69 130.979 2043.17 130.979 Q2041.25 130.979 2039.05 131.395 Q2036.85 131.812 2034.21 132.692 L2034.21 128.525 Q2036.87 127.784 2039.19 127.414 Q2041.53 127.044 2043.59 127.044 Q2048.91 127.044 2052.01 129.474 Q2055.11 131.882 2055.11 136.002 Q2055.11 138.872 2053.47 140.863 Q2051.83 142.831 2048.79 143.594 Z\" fill=\"#000000\" fill-rule=\"evenodd\" fill-opacity=\"1\" /><path clip-path=\"url(#clip410)\" d=\"M2064.84 127.669 L2083.19 127.669 L2083.19 131.604 L2069.12 131.604 L2069.12 140.076 Q2070.14 139.729 2071.15 139.567 Q2072.17 139.382 2073.19 139.382 Q2078.98 139.382 2082.36 142.553 Q2085.74 145.724 2085.74 151.141 Q2085.74 156.719 2082.27 159.821 Q2078.79 162.9 2072.47 162.9 Q2070.3 162.9 2068.03 162.53 Q2065.78 162.159 2063.38 161.418 L2063.38 156.719 Q2065.46 157.854 2067.68 158.409 Q2069.9 158.965 2072.38 158.965 Q2076.39 158.965 2078.72 156.858 Q2081.06 154.752 2081.06 151.141 Q2081.06 147.53 2078.72 145.423 Q2076.39 143.317 2072.38 143.317 Q2070.51 143.317 2068.63 143.733 Q2066.78 144.15 2064.84 145.03 L2064.84 127.669 Z\" fill=\"#000000\" fill-rule=\"evenodd\" fill-opacity=\"1\" /><path clip-path=\"url(#clip410)\" d=\"M2095 127.669 L2113.35 127.669 L2113.35 131.604 L2099.28 131.604 L2099.28 140.076 Q2100.3 139.729 2101.32 139.567 Q2102.33 139.382 2103.35 139.382 Q2109.14 139.382 2112.52 142.553 Q2115.9 145.724 2115.9 151.141 Q2115.9 156.719 2112.43 159.821 Q2108.96 162.9 2102.64 162.9 Q2100.46 162.9 2098.19 162.53 Q2095.95 162.159 2093.54 161.418 L2093.54 156.719 Q2095.62 157.854 2097.84 158.409 Q2100.07 158.965 2102.54 158.965 Q2106.55 158.965 2108.89 156.858 Q2111.22 154.752 2111.22 151.141 Q2111.22 147.53 2108.89 145.423 Q2106.55 143.317 2102.54 143.317 Q2100.67 143.317 2098.79 143.733 Q2096.94 144.15 2095 145.03 L2095 127.669 Z\" fill=\"#000000\" fill-rule=\"evenodd\" fill-opacity=\"1\" /><path clip-path=\"url(#clip410)\" d=\"M2137.96 131.743 L2126.15 150.192 L2137.96 150.192 L2137.96 131.743 M2136.73 127.669 L2142.61 127.669 L2142.61 150.192 L2147.54 150.192 L2147.54 154.081 L2142.61 154.081 L2142.61 162.229 L2137.96 162.229 L2137.96 154.081 L2122.36 154.081 L2122.36 149.567 L2136.73 127.669 Z\" fill=\"#000000\" fill-rule=\"evenodd\" fill-opacity=\"1\" /><path clip-path=\"url(#clip410)\" d=\"M2168.12 131.743 L2156.32 150.192 L2168.12 150.192 L2168.12 131.743 M2166.89 127.669 L2172.77 127.669 L2172.77 150.192 L2177.7 150.192 L2177.7 154.081 L2172.77 154.081 L2172.77 162.229 L2168.12 162.229 L2168.12 154.081 L2152.52 154.081 L2152.52 149.567 L2166.89 127.669 Z\" fill=\"#000000\" fill-rule=\"evenodd\" fill-opacity=\"1\" /><path clip-path=\"url(#clip410)\" d=\"M2199.6 143.594 Q2202.96 144.312 2204.83 146.581 Q2206.73 148.849 2206.73 152.182 Q2206.73 157.298 2203.21 160.099 Q2199.7 162.9 2193.21 162.9 Q2191.04 162.9 2188.72 162.46 Q2186.43 162.043 2183.98 161.187 L2183.98 156.673 Q2185.92 157.807 2188.24 158.386 Q2190.55 158.965 2193.08 158.965 Q2197.47 158.965 2199.76 157.229 Q2202.08 155.493 2202.08 152.182 Q2202.08 149.127 2199.93 147.414 Q2197.8 145.678 2193.98 145.678 L2189.95 145.678 L2189.95 141.835 L2194.16 141.835 Q2197.61 141.835 2199.44 140.469 Q2201.27 139.081 2201.27 136.488 Q2201.27 133.826 2199.37 132.414 Q2197.5 130.979 2193.98 130.979 Q2192.06 130.979 2189.86 131.395 Q2187.66 131.812 2185.02 132.692 L2185.02 128.525 Q2187.68 127.784 2190 127.414 Q2192.33 127.044 2194.39 127.044 Q2199.72 127.044 2202.82 129.474 Q2205.92 131.882 2205.92 136.002 Q2205.92 138.872 2204.28 140.863 Q2202.64 142.831 2199.6 143.594 Z\" fill=\"#000000\" fill-rule=\"evenodd\" fill-opacity=\"1\" /><path clip-path=\"url(#clip410)\" d=\"M2219.63 158.293 L2235.95 158.293 L2235.95 162.229 L2214 162.229 L2214 158.293 Q2216.66 155.539 2221.25 150.909 Q2225.85 146.256 2227.03 144.914 Q2229.28 142.391 2230.16 140.655 Q2231.06 138.895 2231.06 137.206 Q2231.06 134.451 2229.12 132.715 Q2227.2 130.979 2224.09 130.979 Q2221.89 130.979 2219.44 131.743 Q2217.01 132.507 2214.23 134.057 L2214.23 129.335 Q2217.06 128.201 2219.51 127.622 Q2221.96 127.044 2224 127.044 Q2229.37 127.044 2232.57 129.729 Q2235.76 132.414 2235.76 136.905 Q2235.76 139.034 2234.95 140.956 Q2234.16 142.854 2232.06 145.446 Q2231.48 146.118 2228.38 149.335 Q2225.27 152.53 2219.63 158.293 Z\" fill=\"#000000\" fill-rule=\"evenodd\" fill-opacity=\"1\" /><path clip-path=\"url(#clip410)\" d=\"M2244.49 126.257 L2248.19 126.257 Q2251.66 131.72 2253.38 136.951 Q2255.11 142.182 2255.11 147.344 Q2255.11 152.53 2253.38 157.784 Q2251.66 163.039 2248.19 168.479 L2244.49 168.479 Q2247.57 163.178 2249.07 157.946 Q2250.6 152.692 2250.6 147.344 Q2250.6 141.997 2249.07 136.789 Q2247.57 131.581 2244.49 126.257 Z\" fill=\"#000000\" fill-rule=\"evenodd\" fill-opacity=\"1\" /><polyline clip-path=\"url(#clip410)\" style=\"stroke:#0000ff; stroke-linecap:round; stroke-linejoin:round; stroke-width:4; stroke-opacity:1; fill:none\" stroke-dasharray=\"16, 10\" points=\"\n",
       "  1634.86,196.789 1781.33,196.789 \n",
       "  \"/>\n",
       "<path clip-path=\"url(#clip410)\" d=\"M1827.98 180.643 L1827.98 185.203 Q1825.32 183.93 1822.96 183.305 Q1820.6 182.68 1818.4 182.68 Q1814.58 182.68 1812.5 184.161 Q1810.44 185.643 1810.44 188.374 Q1810.44 190.666 1811.8 191.847 Q1813.19 193.004 1817.04 193.722 L1819.86 194.3 Q1825.09 195.296 1827.57 197.819 Q1830.07 200.319 1830.07 204.532 Q1830.07 209.555 1826.69 212.147 Q1823.33 214.74 1816.83 214.74 Q1814.37 214.74 1811.6 214.184 Q1808.84 213.629 1805.88 212.541 L1805.88 207.726 Q1808.73 209.323 1811.46 210.133 Q1814.19 210.944 1816.83 210.944 Q1820.83 210.944 1823.01 209.37 Q1825.18 207.796 1825.18 204.879 Q1825.18 202.333 1823.61 200.897 Q1822.06 199.462 1818.49 198.745 L1815.65 198.189 Q1810.42 197.147 1808.08 194.925 Q1805.74 192.703 1805.74 188.745 Q1805.74 184.161 1808.96 181.522 Q1812.2 178.884 1817.87 178.884 Q1820.3 178.884 1822.82 179.323 Q1825.35 179.763 1827.98 180.643 Z\" fill=\"#000000\" fill-rule=\"evenodd\" fill-opacity=\"1\" /><path clip-path=\"url(#clip410)\" d=\"M1841.39 180.782 L1841.39 188.143 L1850.16 188.143 L1850.16 191.453 L1841.39 191.453 L1841.39 205.527 Q1841.39 208.698 1842.24 209.601 Q1843.12 210.504 1845.79 210.504 L1850.16 210.504 L1850.16 214.069 L1845.79 214.069 Q1840.85 214.069 1838.98 212.24 Q1837.1 210.388 1837.1 205.527 L1837.1 191.453 L1833.98 191.453 L1833.98 188.143 L1837.1 188.143 L1837.1 180.782 L1841.39 180.782 Z\" fill=\"#000000\" fill-rule=\"evenodd\" fill-opacity=\"1\" /><path clip-path=\"url(#clip410)\" d=\"M1867.54 201.036 Q1862.38 201.036 1860.39 202.217 Q1858.4 203.397 1858.4 206.245 Q1858.4 208.513 1859.88 209.856 Q1861.39 211.175 1863.96 211.175 Q1867.5 211.175 1869.63 208.675 Q1871.78 206.152 1871.78 201.985 L1871.78 201.036 L1867.54 201.036 M1876.04 199.277 L1876.04 214.069 L1871.78 214.069 L1871.78 210.133 Q1870.32 212.495 1868.15 213.629 Q1865.97 214.74 1862.82 214.74 Q1858.84 214.74 1856.48 212.518 Q1854.14 210.272 1854.14 206.522 Q1854.14 202.147 1857.06 199.925 Q1860 197.703 1865.81 197.703 L1871.78 197.703 L1871.78 197.286 Q1871.78 194.347 1869.84 192.749 Q1867.91 191.129 1864.42 191.129 Q1862.2 191.129 1860.09 191.661 Q1857.98 192.194 1856.04 193.259 L1856.04 189.323 Q1858.38 188.421 1860.58 187.981 Q1862.78 187.518 1864.86 187.518 Q1870.48 187.518 1873.26 190.434 Q1876.04 193.351 1876.04 199.277 Z\" fill=\"#000000\" fill-rule=\"evenodd\" fill-opacity=\"1\" /><path clip-path=\"url(#clip410)\" d=\"M1889.03 180.782 L1889.03 188.143 L1897.8 188.143 L1897.8 191.453 L1889.03 191.453 L1889.03 205.527 Q1889.03 208.698 1889.88 209.601 Q1890.76 210.504 1893.42 210.504 L1897.8 210.504 L1897.8 214.069 L1893.42 214.069 Q1888.49 214.069 1886.62 212.24 Q1884.74 210.388 1884.74 205.527 L1884.74 191.453 L1881.62 191.453 L1881.62 188.143 L1884.74 188.143 L1884.74 180.782 L1889.03 180.782 Z\" fill=\"#000000\" fill-rule=\"evenodd\" fill-opacity=\"1\" /><path clip-path=\"url(#clip410)\" d=\"M1925.58 200.041 L1925.58 202.124 L1905.99 202.124 Q1906.27 206.522 1908.63 208.837 Q1911.02 211.129 1915.25 211.129 Q1917.71 211.129 1920 210.527 Q1922.31 209.925 1924.58 208.721 L1924.58 212.749 Q1922.29 213.721 1919.88 214.231 Q1917.47 214.74 1915 214.74 Q1908.79 214.74 1905.16 211.129 Q1901.55 207.518 1901.55 201.36 Q1901.55 194.995 1904.97 191.268 Q1908.42 187.518 1914.26 187.518 Q1919.49 187.518 1922.52 190.897 Q1925.58 194.254 1925.58 200.041 M1921.32 198.791 Q1921.27 195.296 1919.35 193.212 Q1917.45 191.129 1914.3 191.129 Q1910.74 191.129 1908.59 193.143 Q1906.46 195.157 1906.13 198.814 L1921.32 198.791 Z\" fill=\"#000000\" fill-rule=\"evenodd\" fill-opacity=\"1\" /><path clip-path=\"url(#clip410)\" d=\"M1969.81 200.041 L1969.81 202.124 L1950.23 202.124 Q1950.51 206.522 1952.87 208.837 Q1955.25 211.129 1959.49 211.129 Q1961.94 211.129 1964.23 210.527 Q1966.55 209.925 1968.82 208.721 L1968.82 212.749 Q1966.53 213.721 1964.12 214.231 Q1961.71 214.74 1959.23 214.74 Q1953.03 214.74 1949.4 211.129 Q1945.78 207.518 1945.78 201.36 Q1945.78 194.995 1949.21 191.268 Q1952.66 187.518 1958.49 187.518 Q1963.72 187.518 1966.76 190.897 Q1969.81 194.254 1969.81 200.041 M1965.55 198.791 Q1965.51 195.296 1963.59 193.212 Q1961.69 191.129 1958.54 191.129 Q1954.97 191.129 1952.82 193.143 Q1950.69 195.157 1950.37 198.814 L1965.55 198.791 Z\" fill=\"#000000\" fill-rule=\"evenodd\" fill-opacity=\"1\" /><path clip-path=\"url(#clip410)\" d=\"M1973.75 188.143 L1978.26 188.143 L1986.36 209.902 L1994.47 188.143 L1998.98 188.143 L1989.26 214.069 L1983.47 214.069 L1973.75 188.143 Z\" fill=\"#000000\" fill-rule=\"evenodd\" fill-opacity=\"1\" /><path clip-path=\"url(#clip410)\" d=\"M2027.03 200.041 L2027.03 202.124 L2007.45 202.124 Q2007.73 206.522 2010.09 208.837 Q2012.47 211.129 2016.71 211.129 Q2019.16 211.129 2021.46 210.527 Q2023.77 209.925 2026.04 208.721 L2026.04 212.749 Q2023.75 213.721 2021.34 214.231 Q2018.93 214.74 2016.46 214.74 Q2010.25 214.74 2006.62 211.129 Q2003.01 207.518 2003.01 201.36 Q2003.01 194.995 2006.43 191.268 Q2009.88 187.518 2015.71 187.518 Q2020.95 187.518 2023.98 190.897 Q2027.03 194.254 2027.03 200.041 M2022.78 198.791 Q2022.73 195.296 2020.81 193.212 Q2018.91 191.129 2015.76 191.129 Q2012.2 191.129 2010.04 193.143 Q2007.91 195.157 2007.59 198.814 L2022.78 198.791 Z\" fill=\"#000000\" fill-rule=\"evenodd\" fill-opacity=\"1\" /><path clip-path=\"url(#clip410)\" d=\"M2055.58 198.421 L2055.58 214.069 L2051.32 214.069 L2051.32 198.559 Q2051.32 194.879 2049.88 193.05 Q2048.45 191.222 2045.58 191.222 Q2042.13 191.222 2040.14 193.421 Q2038.15 195.62 2038.15 199.416 L2038.15 214.069 L2033.86 214.069 L2033.86 188.143 L2038.15 188.143 L2038.15 192.171 Q2039.67 189.833 2041.73 188.675 Q2043.82 187.518 2046.53 187.518 Q2050.99 187.518 2053.28 190.296 Q2055.58 193.05 2055.58 198.421 Z\" fill=\"#000000\" fill-rule=\"evenodd\" fill-opacity=\"1\" /><path clip-path=\"url(#clip410)\" d=\"M2068.28 180.782 L2068.28 188.143 L2077.06 188.143 L2077.06 191.453 L2068.28 191.453 L2068.28 205.527 Q2068.28 208.698 2069.14 209.601 Q2070.02 210.504 2072.68 210.504 L2077.06 210.504 L2077.06 214.069 L2072.68 214.069 Q2067.75 214.069 2065.88 212.24 Q2064 210.388 2064 205.527 L2064 191.453 L2060.88 191.453 L2060.88 188.143 L2064 188.143 L2064 180.782 L2068.28 180.782 Z\" fill=\"#000000\" fill-rule=\"evenodd\" fill-opacity=\"1\" /><path clip-path=\"url(#clip410)\" d=\"M2092.89 178.097 Q2089.79 183.421 2088.28 188.629 Q2086.78 193.837 2086.78 199.184 Q2086.78 204.532 2088.28 209.786 Q2089.81 215.018 2092.89 220.319 L2089.19 220.319 Q2085.71 214.879 2083.98 209.624 Q2082.27 204.37 2082.27 199.184 Q2082.27 194.022 2083.98 188.791 Q2085.69 183.56 2089.19 178.097 L2092.89 178.097 Z\" fill=\"#000000\" fill-rule=\"evenodd\" fill-opacity=\"1\" /><path clip-path=\"url(#clip410)\" d=\"M2117.68 188.907 L2117.68 192.934 Q2115.88 192.009 2113.93 191.546 Q2111.99 191.083 2109.9 191.083 Q2106.73 191.083 2105.14 192.055 Q2103.56 193.027 2103.56 194.971 Q2103.56 196.453 2104.7 197.309 Q2105.83 198.143 2109.26 198.907 L2110.71 199.231 Q2115.25 200.203 2117.15 201.985 Q2119.07 203.745 2119.07 206.916 Q2119.07 210.527 2116.2 212.633 Q2113.35 214.74 2108.35 214.74 Q2106.27 214.74 2104 214.323 Q2101.76 213.93 2099.26 213.12 L2099.26 208.721 Q2101.62 209.948 2103.91 210.573 Q2106.2 211.175 2108.45 211.175 Q2111.46 211.175 2113.08 210.157 Q2114.7 209.115 2114.7 207.24 Q2114.7 205.504 2113.52 204.578 Q2112.36 203.652 2108.4 202.796 L2106.92 202.448 Q2102.96 201.615 2101.2 199.902 Q2099.44 198.166 2099.44 195.157 Q2099.44 191.499 2102.03 189.509 Q2104.63 187.518 2109.4 187.518 Q2111.76 187.518 2113.84 187.865 Q2115.92 188.212 2117.68 188.907 Z\" fill=\"#000000\" fill-rule=\"evenodd\" fill-opacity=\"1\" /><path clip-path=\"url(#clip410)\" d=\"M2125.18 178.097 L2128.89 178.097 Q2132.36 183.56 2134.07 188.791 Q2135.81 194.022 2135.81 199.184 Q2135.81 204.37 2134.07 209.624 Q2132.36 214.879 2128.89 220.319 L2125.18 220.319 Q2128.26 215.018 2129.77 209.786 Q2131.29 204.532 2131.29 199.184 Q2131.29 193.837 2129.77 188.629 Q2128.26 183.421 2125.18 178.097 Z\" fill=\"#000000\" fill-rule=\"evenodd\" fill-opacity=\"1\" /><polyline clip-path=\"url(#clip410)\" style=\"stroke:#c68125; stroke-linecap:round; stroke-linejoin:round; stroke-width:4; stroke-opacity:1; fill:none\" stroke-dasharray=\"16, 10\" points=\"\n",
       "  1634.86,248.629 1781.33,248.629 \n",
       "  \"/>\n",
       "<path clip-path=\"url(#clip410)\" d=\"M1826.09 244.96 Q1827.68 242.089 1829.91 240.724 Q1832.13 239.358 1835.14 239.358 Q1839.19 239.358 1841.39 242.205 Q1843.59 245.029 1843.59 250.261 L1843.59 265.909 L1839.3 265.909 L1839.3 250.399 Q1839.3 246.673 1837.98 244.867 Q1836.67 243.062 1833.96 243.062 Q1830.65 243.062 1828.73 245.261 Q1826.8 247.46 1826.8 251.256 L1826.8 265.909 L1822.52 265.909 L1822.52 250.399 Q1822.52 246.649 1821.2 244.867 Q1819.88 243.062 1817.13 243.062 Q1813.86 243.062 1811.94 245.284 Q1810.02 247.483 1810.02 251.256 L1810.02 265.909 L1805.74 265.909 L1805.74 239.983 L1810.02 239.983 L1810.02 244.011 Q1811.48 241.626 1813.52 240.492 Q1815.55 239.358 1818.35 239.358 Q1821.18 239.358 1823.15 240.793 Q1825.14 242.228 1826.09 244.96 Z\" fill=\"#000000\" fill-rule=\"evenodd\" fill-opacity=\"1\" /><path clip-path=\"url(#clip410)\" d=\"M1863.86 252.876 Q1858.7 252.876 1856.71 254.057 Q1854.72 255.237 1854.72 258.085 Q1854.72 260.353 1856.2 261.696 Q1857.71 263.015 1860.28 263.015 Q1863.82 263.015 1865.95 260.515 Q1868.1 257.992 1868.1 253.825 L1868.1 252.876 L1863.86 252.876 M1872.36 251.117 L1872.36 265.909 L1868.1 265.909 L1868.1 261.973 Q1866.64 264.335 1864.47 265.469 Q1862.29 266.58 1859.14 266.58 Q1855.16 266.58 1852.8 264.358 Q1850.46 262.112 1850.46 258.362 Q1850.46 253.987 1853.38 251.765 Q1856.32 249.543 1862.13 249.543 L1868.1 249.543 L1868.1 249.126 Q1868.1 246.187 1866.16 244.589 Q1864.23 242.969 1860.74 242.969 Q1858.52 242.969 1856.41 243.501 Q1854.3 244.034 1852.36 245.099 L1852.36 241.163 Q1854.7 240.261 1856.9 239.821 Q1859.1 239.358 1861.18 239.358 Q1866.8 239.358 1869.58 242.274 Q1872.36 245.191 1872.36 251.117 Z\" fill=\"#000000\" fill-rule=\"evenodd\" fill-opacity=\"1\" /><path clip-path=\"url(#clip410)\" d=\"M1897.66 240.747 L1897.66 244.774 Q1895.85 243.849 1893.91 243.386 Q1891.97 242.923 1889.88 242.923 Q1886.71 242.923 1885.11 243.895 Q1883.54 244.867 1883.54 246.811 Q1883.54 248.293 1884.67 249.149 Q1885.81 249.983 1889.23 250.747 L1890.69 251.071 Q1895.23 252.043 1897.13 253.825 Q1899.05 255.585 1899.05 258.756 Q1899.05 262.367 1896.18 264.473 Q1893.33 266.58 1888.33 266.58 Q1886.25 266.58 1883.98 266.163 Q1881.73 265.77 1879.23 264.96 L1879.23 260.561 Q1881.6 261.788 1883.89 262.413 Q1886.18 263.015 1888.42 263.015 Q1891.43 263.015 1893.05 261.997 Q1894.67 260.955 1894.67 259.08 Q1894.67 257.344 1893.49 256.418 Q1892.34 255.492 1888.38 254.636 L1886.9 254.288 Q1882.94 253.455 1881.18 251.742 Q1879.42 250.006 1879.42 246.997 Q1879.42 243.339 1882.01 241.349 Q1884.6 239.358 1889.37 239.358 Q1891.73 239.358 1893.82 239.705 Q1895.9 240.052 1897.66 240.747 Z\" fill=\"#000000\" fill-rule=\"evenodd\" fill-opacity=\"1\" /><path clip-path=\"url(#clip410)\" d=\"M1922.36 240.747 L1922.36 244.774 Q1920.55 243.849 1918.61 243.386 Q1916.66 242.923 1914.58 242.923 Q1911.41 242.923 1909.81 243.895 Q1908.24 244.867 1908.24 246.811 Q1908.24 248.293 1909.37 249.149 Q1910.51 249.983 1913.93 250.747 L1915.39 251.071 Q1919.93 252.043 1921.83 253.825 Q1923.75 255.585 1923.75 258.756 Q1923.75 262.367 1920.88 264.473 Q1918.03 266.58 1913.03 266.58 Q1910.95 266.58 1908.68 266.163 Q1906.43 265.77 1903.93 264.96 L1903.93 260.561 Q1906.29 261.788 1908.59 262.413 Q1910.88 263.015 1913.12 263.015 Q1916.13 263.015 1917.75 261.997 Q1919.37 260.955 1919.37 259.08 Q1919.37 257.344 1918.19 256.418 Q1917.03 255.492 1913.08 254.636 L1911.6 254.288 Q1907.64 253.455 1905.88 251.742 Q1904.12 250.006 1904.12 246.997 Q1904.12 243.339 1906.71 241.349 Q1909.3 239.358 1914.07 239.358 Q1916.43 239.358 1918.52 239.705 Q1920.6 240.052 1922.36 240.747 Z\" fill=\"#000000\" fill-rule=\"evenodd\" fill-opacity=\"1\" /><path clip-path=\"url(#clip410)\" d=\"M1931.13 260.029 L1936.02 260.029 L1936.02 265.909 L1931.13 265.909 L1931.13 260.029 Z\" fill=\"#000000\" fill-rule=\"evenodd\" fill-opacity=\"1\" /><path clip-path=\"url(#clip410)\" d=\"M1962.13 240.747 L1962.13 244.774 Q1960.32 243.849 1958.38 243.386 Q1956.43 242.923 1954.35 242.923 Q1951.18 242.923 1949.58 243.895 Q1948.01 244.867 1948.01 246.811 Q1948.01 248.293 1949.14 249.149 Q1950.28 249.983 1953.7 250.747 L1955.16 251.071 Q1959.7 252.043 1961.59 253.825 Q1963.52 255.585 1963.52 258.756 Q1963.52 262.367 1960.65 264.473 Q1957.8 266.58 1952.8 266.58 Q1950.72 266.58 1948.45 266.163 Q1946.2 265.77 1943.7 264.96 L1943.7 260.561 Q1946.06 261.788 1948.35 262.413 Q1950.65 263.015 1952.89 263.015 Q1955.9 263.015 1957.52 261.997 Q1959.14 260.955 1959.14 259.08 Q1959.14 257.344 1957.96 256.418 Q1956.8 255.492 1952.84 254.636 L1951.36 254.288 Q1947.41 253.455 1945.65 251.742 Q1943.89 250.006 1943.89 246.997 Q1943.89 243.339 1946.48 241.349 Q1949.07 239.358 1953.84 239.358 Q1956.2 239.358 1958.28 239.705 Q1960.37 240.052 1962.13 240.747 Z\" fill=\"#000000\" fill-rule=\"evenodd\" fill-opacity=\"1\" /><path clip-path=\"url(#clip410)\" d=\"M1995.6 229.937 Q1992.5 235.261 1990.99 240.469 Q1989.49 245.677 1989.49 251.024 Q1989.49 256.372 1990.99 261.626 Q1992.52 266.858 1995.6 272.159 L1991.9 272.159 Q1988.42 266.719 1986.69 261.464 Q1984.97 256.21 1984.97 251.024 Q1984.97 245.862 1986.69 240.631 Q1988.4 235.4 1991.9 229.937 L1995.6 229.937 Z\" fill=\"#000000\" fill-rule=\"evenodd\" fill-opacity=\"1\" /><path clip-path=\"url(#clip410)\" d=\"M2018.63 247.274 Q2021.99 247.992 2023.86 250.261 Q2025.76 252.529 2025.76 255.862 Q2025.76 260.978 2022.24 263.779 Q2018.72 266.58 2012.24 266.58 Q2010.07 266.58 2007.75 266.14 Q2005.46 265.723 2003.01 264.867 L2003.01 260.353 Q2004.95 261.487 2007.27 262.066 Q2009.58 262.645 2012.1 262.645 Q2016.5 262.645 2018.79 260.909 Q2021.11 259.173 2021.11 255.862 Q2021.11 252.807 2018.96 251.094 Q2016.83 249.358 2013.01 249.358 L2008.98 249.358 L2008.98 245.515 L2013.19 245.515 Q2016.64 245.515 2018.47 244.149 Q2020.3 242.761 2020.3 240.168 Q2020.3 237.506 2018.4 236.094 Q2016.53 234.659 2013.01 234.659 Q2011.09 234.659 2008.89 235.075 Q2006.69 235.492 2004.05 236.372 L2004.05 232.205 Q2006.71 231.464 2009.03 231.094 Q2011.36 230.724 2013.42 230.724 Q2018.75 230.724 2021.85 233.154 Q2024.95 235.562 2024.95 239.682 Q2024.95 242.552 2023.31 244.543 Q2021.66 246.511 2018.63 247.274 Z\" fill=\"#000000\" fill-rule=\"evenodd\" fill-opacity=\"1\" /><path clip-path=\"url(#clip410)\" d=\"M2048.79 247.274 Q2052.15 247.992 2054.02 250.261 Q2055.92 252.529 2055.92 255.862 Q2055.92 260.978 2052.4 263.779 Q2048.89 266.58 2042.4 266.58 Q2040.23 266.58 2037.91 266.14 Q2035.62 265.723 2033.17 264.867 L2033.17 260.353 Q2035.11 261.487 2037.43 262.066 Q2039.74 262.645 2042.27 262.645 Q2046.66 262.645 2048.96 260.909 Q2051.27 259.173 2051.27 255.862 Q2051.27 252.807 2049.12 251.094 Q2046.99 249.358 2043.17 249.358 L2039.14 249.358 L2039.14 245.515 L2043.35 245.515 Q2046.8 245.515 2048.63 244.149 Q2050.46 242.761 2050.46 240.168 Q2050.46 237.506 2048.56 236.094 Q2046.69 234.659 2043.17 234.659 Q2041.25 234.659 2039.05 235.075 Q2036.85 235.492 2034.21 236.372 L2034.21 232.205 Q2036.87 231.464 2039.19 231.094 Q2041.53 230.724 2043.59 230.724 Q2048.91 230.724 2052.01 233.154 Q2055.11 235.562 2055.11 239.682 Q2055.11 242.552 2053.47 244.543 Q2051.83 246.511 2048.79 247.274 Z\" fill=\"#000000\" fill-rule=\"evenodd\" fill-opacity=\"1\" /><path clip-path=\"url(#clip410)\" d=\"M2064.84 231.349 L2083.19 231.349 L2083.19 235.284 L2069.12 235.284 L2069.12 243.756 Q2070.14 243.409 2071.15 243.247 Q2072.17 243.062 2073.19 243.062 Q2078.98 243.062 2082.36 246.233 Q2085.74 249.404 2085.74 254.821 Q2085.74 260.399 2082.27 263.501 Q2078.79 266.58 2072.47 266.58 Q2070.3 266.58 2068.03 266.21 Q2065.78 265.839 2063.38 265.098 L2063.38 260.399 Q2065.46 261.534 2067.68 262.089 Q2069.9 262.645 2072.38 262.645 Q2076.39 262.645 2078.72 260.538 Q2081.06 258.432 2081.06 254.821 Q2081.06 251.21 2078.72 249.103 Q2076.39 246.997 2072.38 246.997 Q2070.51 246.997 2068.63 247.413 Q2066.78 247.83 2064.84 248.71 L2064.84 231.349 Z\" fill=\"#000000\" fill-rule=\"evenodd\" fill-opacity=\"1\" /><path clip-path=\"url(#clip410)\" d=\"M2095 231.349 L2113.35 231.349 L2113.35 235.284 L2099.28 235.284 L2099.28 243.756 Q2100.3 243.409 2101.32 243.247 Q2102.33 243.062 2103.35 243.062 Q2109.14 243.062 2112.52 246.233 Q2115.9 249.404 2115.9 254.821 Q2115.9 260.399 2112.43 263.501 Q2108.96 266.58 2102.64 266.58 Q2100.46 266.58 2098.19 266.21 Q2095.95 265.839 2093.54 265.098 L2093.54 260.399 Q2095.62 261.534 2097.84 262.089 Q2100.07 262.645 2102.54 262.645 Q2106.55 262.645 2108.89 260.538 Q2111.22 258.432 2111.22 254.821 Q2111.22 251.21 2108.89 249.103 Q2106.55 246.997 2102.54 246.997 Q2100.67 246.997 2098.79 247.413 Q2096.94 247.83 2095 248.71 L2095 231.349 Z\" fill=\"#000000\" fill-rule=\"evenodd\" fill-opacity=\"1\" /><path clip-path=\"url(#clip410)\" d=\"M2137.96 235.423 L2126.15 253.872 L2137.96 253.872 L2137.96 235.423 M2136.73 231.349 L2142.61 231.349 L2142.61 253.872 L2147.54 253.872 L2147.54 257.761 L2142.61 257.761 L2142.61 265.909 L2137.96 265.909 L2137.96 257.761 L2122.36 257.761 L2122.36 253.247 L2136.73 231.349 Z\" fill=\"#000000\" fill-rule=\"evenodd\" fill-opacity=\"1\" /><path clip-path=\"url(#clip410)\" d=\"M2168.12 235.423 L2156.32 253.872 L2168.12 253.872 L2168.12 235.423 M2166.89 231.349 L2172.77 231.349 L2172.77 253.872 L2177.7 253.872 L2177.7 257.761 L2172.77 257.761 L2172.77 265.909 L2168.12 265.909 L2168.12 257.761 L2152.52 257.761 L2152.52 253.247 L2166.89 231.349 Z\" fill=\"#000000\" fill-rule=\"evenodd\" fill-opacity=\"1\" /><path clip-path=\"url(#clip410)\" d=\"M2199.6 247.274 Q2202.96 247.992 2204.83 250.261 Q2206.73 252.529 2206.73 255.862 Q2206.73 260.978 2203.21 263.779 Q2199.7 266.58 2193.21 266.58 Q2191.04 266.58 2188.72 266.14 Q2186.43 265.723 2183.98 264.867 L2183.98 260.353 Q2185.92 261.487 2188.24 262.066 Q2190.55 262.645 2193.08 262.645 Q2197.47 262.645 2199.76 260.909 Q2202.08 259.173 2202.08 255.862 Q2202.08 252.807 2199.93 251.094 Q2197.8 249.358 2193.98 249.358 L2189.95 249.358 L2189.95 245.515 L2194.16 245.515 Q2197.61 245.515 2199.44 244.149 Q2201.27 242.761 2201.27 240.168 Q2201.27 237.506 2199.37 236.094 Q2197.5 234.659 2193.98 234.659 Q2192.06 234.659 2189.86 235.075 Q2187.66 235.492 2185.02 236.372 L2185.02 232.205 Q2187.68 231.464 2190 231.094 Q2192.33 230.724 2194.39 230.724 Q2199.72 230.724 2202.82 233.154 Q2205.92 235.562 2205.92 239.682 Q2205.92 242.552 2204.28 244.543 Q2202.64 246.511 2199.6 247.274 Z\" fill=\"#000000\" fill-rule=\"evenodd\" fill-opacity=\"1\" /><path clip-path=\"url(#clip410)\" d=\"M2219.63 261.973 L2235.95 261.973 L2235.95 265.909 L2214 265.909 L2214 261.973 Q2216.66 259.219 2221.25 254.589 Q2225.85 249.936 2227.03 248.594 Q2229.28 246.071 2230.16 244.335 Q2231.06 242.575 2231.06 240.886 Q2231.06 238.131 2229.12 236.395 Q2227.2 234.659 2224.09 234.659 Q2221.89 234.659 2219.44 235.423 Q2217.01 236.187 2214.23 237.737 L2214.23 233.015 Q2217.06 231.881 2219.51 231.302 Q2221.96 230.724 2224 230.724 Q2229.37 230.724 2232.57 233.409 Q2235.76 236.094 2235.76 240.585 Q2235.76 242.714 2234.95 244.636 Q2234.16 246.534 2232.06 249.126 Q2231.48 249.798 2228.38 253.015 Q2225.27 256.21 2219.63 261.973 Z\" fill=\"#000000\" fill-rule=\"evenodd\" fill-opacity=\"1\" /><path clip-path=\"url(#clip410)\" d=\"M2244.49 229.937 L2248.19 229.937 Q2251.66 235.4 2253.38 240.631 Q2255.11 245.862 2255.11 251.024 Q2255.11 256.21 2253.38 261.464 Q2251.66 266.719 2248.19 272.159 L2244.49 272.159 Q2247.57 266.858 2249.07 261.626 Q2250.6 256.372 2250.6 251.024 Q2250.6 245.677 2249.07 240.469 Q2247.57 235.261 2244.49 229.937 Z\" fill=\"#000000\" fill-rule=\"evenodd\" fill-opacity=\"1\" /><polyline clip-path=\"url(#clip410)\" style=\"stroke:#0000ff; stroke-linecap:round; stroke-linejoin:round; stroke-width:4; stroke-opacity:1; fill:none\" stroke-dasharray=\"16, 10\" points=\"\n",
       "  1634.86,300.469 1781.33,300.469 \n",
       "  \"/>\n",
       "<path clip-path=\"url(#clip410)\" d=\"M1827.98 284.323 L1827.98 288.883 Q1825.32 287.61 1822.96 286.985 Q1820.6 286.36 1818.4 286.36 Q1814.58 286.36 1812.5 287.841 Q1810.44 289.323 1810.44 292.054 Q1810.44 294.346 1811.8 295.527 Q1813.19 296.684 1817.04 297.402 L1819.86 297.98 Q1825.09 298.976 1827.57 301.499 Q1830.07 303.999 1830.07 308.212 Q1830.07 313.235 1826.69 315.827 Q1823.33 318.42 1816.83 318.42 Q1814.37 318.42 1811.6 317.864 Q1808.84 317.309 1805.88 316.221 L1805.88 311.406 Q1808.73 313.003 1811.46 313.813 Q1814.19 314.624 1816.83 314.624 Q1820.83 314.624 1823.01 313.05 Q1825.18 311.476 1825.18 308.559 Q1825.18 306.013 1823.61 304.577 Q1822.06 303.142 1818.49 302.425 L1815.65 301.869 Q1810.42 300.827 1808.08 298.605 Q1805.74 296.383 1805.74 292.425 Q1805.74 287.841 1808.96 285.202 Q1812.2 282.564 1817.87 282.564 Q1820.3 282.564 1822.82 283.003 Q1825.35 283.443 1827.98 284.323 Z\" fill=\"#000000\" fill-rule=\"evenodd\" fill-opacity=\"1\" /><path clip-path=\"url(#clip410)\" d=\"M1841.39 284.462 L1841.39 291.823 L1850.16 291.823 L1850.16 295.133 L1841.39 295.133 L1841.39 309.207 Q1841.39 312.378 1842.24 313.281 Q1843.12 314.184 1845.79 314.184 L1850.16 314.184 L1850.16 317.749 L1845.79 317.749 Q1840.85 317.749 1838.98 315.92 Q1837.1 314.068 1837.1 309.207 L1837.1 295.133 L1833.98 295.133 L1833.98 291.823 L1837.1 291.823 L1837.1 284.462 L1841.39 284.462 Z\" fill=\"#000000\" fill-rule=\"evenodd\" fill-opacity=\"1\" /><path clip-path=\"url(#clip410)\" d=\"M1867.54 304.716 Q1862.38 304.716 1860.39 305.897 Q1858.4 307.077 1858.4 309.925 Q1858.4 312.193 1859.88 313.536 Q1861.39 314.855 1863.96 314.855 Q1867.5 314.855 1869.63 312.355 Q1871.78 309.832 1871.78 305.665 L1871.78 304.716 L1867.54 304.716 M1876.04 302.957 L1876.04 317.749 L1871.78 317.749 L1871.78 313.813 Q1870.32 316.175 1868.15 317.309 Q1865.97 318.42 1862.82 318.42 Q1858.84 318.42 1856.48 316.198 Q1854.14 313.952 1854.14 310.202 Q1854.14 305.827 1857.06 303.605 Q1860 301.383 1865.81 301.383 L1871.78 301.383 L1871.78 300.966 Q1871.78 298.027 1869.84 296.429 Q1867.91 294.809 1864.42 294.809 Q1862.2 294.809 1860.09 295.341 Q1857.98 295.874 1856.04 296.939 L1856.04 293.003 Q1858.38 292.101 1860.58 291.661 Q1862.78 291.198 1864.86 291.198 Q1870.48 291.198 1873.26 294.114 Q1876.04 297.031 1876.04 302.957 Z\" fill=\"#000000\" fill-rule=\"evenodd\" fill-opacity=\"1\" /><path clip-path=\"url(#clip410)\" d=\"M1889.03 284.462 L1889.03 291.823 L1897.8 291.823 L1897.8 295.133 L1889.03 295.133 L1889.03 309.207 Q1889.03 312.378 1889.88 313.281 Q1890.76 314.184 1893.42 314.184 L1897.8 314.184 L1897.8 317.749 L1893.42 317.749 Q1888.49 317.749 1886.62 315.92 Q1884.74 314.068 1884.74 309.207 L1884.74 295.133 L1881.62 295.133 L1881.62 291.823 L1884.74 291.823 L1884.74 284.462 L1889.03 284.462 Z\" fill=\"#000000\" fill-rule=\"evenodd\" fill-opacity=\"1\" /><path clip-path=\"url(#clip410)\" d=\"M1925.58 303.721 L1925.58 305.804 L1905.99 305.804 Q1906.27 310.202 1908.63 312.517 Q1911.02 314.809 1915.25 314.809 Q1917.71 314.809 1920 314.207 Q1922.31 313.605 1924.58 312.401 L1924.58 316.429 Q1922.29 317.401 1919.88 317.911 Q1917.47 318.42 1915 318.42 Q1908.79 318.42 1905.16 314.809 Q1901.55 311.198 1901.55 305.04 Q1901.55 298.675 1904.97 294.948 Q1908.42 291.198 1914.26 291.198 Q1919.49 291.198 1922.52 294.577 Q1925.58 297.934 1925.58 303.721 M1921.32 302.471 Q1921.27 298.976 1919.35 296.892 Q1917.45 294.809 1914.3 294.809 Q1910.74 294.809 1908.59 296.823 Q1906.46 298.837 1906.13 302.494 L1921.32 302.471 Z\" fill=\"#000000\" fill-rule=\"evenodd\" fill-opacity=\"1\" /><path clip-path=\"url(#clip410)\" d=\"M1969.81 303.721 L1969.81 305.804 L1950.23 305.804 Q1950.51 310.202 1952.87 312.517 Q1955.25 314.809 1959.49 314.809 Q1961.94 314.809 1964.23 314.207 Q1966.55 313.605 1968.82 312.401 L1968.82 316.429 Q1966.53 317.401 1964.12 317.911 Q1961.71 318.42 1959.23 318.42 Q1953.03 318.42 1949.4 314.809 Q1945.78 311.198 1945.78 305.04 Q1945.78 298.675 1949.21 294.948 Q1952.66 291.198 1958.49 291.198 Q1963.72 291.198 1966.76 294.577 Q1969.81 297.934 1969.81 303.721 M1965.55 302.471 Q1965.51 298.976 1963.59 296.892 Q1961.69 294.809 1958.54 294.809 Q1954.97 294.809 1952.82 296.823 Q1950.69 298.837 1950.37 302.494 L1965.55 302.471 Z\" fill=\"#000000\" fill-rule=\"evenodd\" fill-opacity=\"1\" /><path clip-path=\"url(#clip410)\" d=\"M1973.75 291.823 L1978.26 291.823 L1986.36 313.582 L1994.47 291.823 L1998.98 291.823 L1989.26 317.749 L1983.47 317.749 L1973.75 291.823 Z\" fill=\"#000000\" fill-rule=\"evenodd\" fill-opacity=\"1\" /><path clip-path=\"url(#clip410)\" d=\"M2027.03 303.721 L2027.03 305.804 L2007.45 305.804 Q2007.73 310.202 2010.09 312.517 Q2012.47 314.809 2016.71 314.809 Q2019.16 314.809 2021.46 314.207 Q2023.77 313.605 2026.04 312.401 L2026.04 316.429 Q2023.75 317.401 2021.34 317.911 Q2018.93 318.42 2016.46 318.42 Q2010.25 318.42 2006.62 314.809 Q2003.01 311.198 2003.01 305.04 Q2003.01 298.675 2006.43 294.948 Q2009.88 291.198 2015.71 291.198 Q2020.95 291.198 2023.98 294.577 Q2027.03 297.934 2027.03 303.721 M2022.78 302.471 Q2022.73 298.976 2020.81 296.892 Q2018.91 294.809 2015.76 294.809 Q2012.2 294.809 2010.04 296.823 Q2007.91 298.837 2007.59 302.494 L2022.78 302.471 Z\" fill=\"#000000\" fill-rule=\"evenodd\" fill-opacity=\"1\" /><path clip-path=\"url(#clip410)\" d=\"M2055.58 302.101 L2055.58 317.749 L2051.32 317.749 L2051.32 302.239 Q2051.32 298.559 2049.88 296.73 Q2048.45 294.902 2045.58 294.902 Q2042.13 294.902 2040.14 297.101 Q2038.15 299.3 2038.15 303.096 L2038.15 317.749 L2033.86 317.749 L2033.86 291.823 L2038.15 291.823 L2038.15 295.851 Q2039.67 293.513 2041.73 292.355 Q2043.82 291.198 2046.53 291.198 Q2050.99 291.198 2053.28 293.976 Q2055.58 296.73 2055.58 302.101 Z\" fill=\"#000000\" fill-rule=\"evenodd\" fill-opacity=\"1\" /><path clip-path=\"url(#clip410)\" d=\"M2068.28 284.462 L2068.28 291.823 L2077.06 291.823 L2077.06 295.133 L2068.28 295.133 L2068.28 309.207 Q2068.28 312.378 2069.14 313.281 Q2070.02 314.184 2072.68 314.184 L2077.06 314.184 L2077.06 317.749 L2072.68 317.749 Q2067.75 317.749 2065.88 315.92 Q2064 314.068 2064 309.207 L2064 295.133 L2060.88 295.133 L2060.88 291.823 L2064 291.823 L2064 284.462 L2068.28 284.462 Z\" fill=\"#000000\" fill-rule=\"evenodd\" fill-opacity=\"1\" /><path clip-path=\"url(#clip410)\" d=\"M2092.89 281.777 Q2089.79 287.101 2088.28 292.309 Q2086.78 297.517 2086.78 302.864 Q2086.78 308.212 2088.28 313.466 Q2089.81 318.698 2092.89 323.999 L2089.19 323.999 Q2085.71 318.559 2083.98 313.304 Q2082.27 308.05 2082.27 302.864 Q2082.27 297.702 2083.98 292.471 Q2085.69 287.24 2089.19 281.777 L2092.89 281.777 Z\" fill=\"#000000\" fill-rule=\"evenodd\" fill-opacity=\"1\" /><path clip-path=\"url(#clip410)\" d=\"M2117.68 292.587 L2117.68 296.614 Q2115.88 295.689 2113.93 295.226 Q2111.99 294.763 2109.9 294.763 Q2106.73 294.763 2105.14 295.735 Q2103.56 296.707 2103.56 298.651 Q2103.56 300.133 2104.7 300.989 Q2105.83 301.823 2109.26 302.587 L2110.71 302.911 Q2115.25 303.883 2117.15 305.665 Q2119.07 307.425 2119.07 310.596 Q2119.07 314.207 2116.2 316.313 Q2113.35 318.42 2108.35 318.42 Q2106.27 318.42 2104 318.003 Q2101.76 317.61 2099.26 316.8 L2099.26 312.401 Q2101.62 313.628 2103.91 314.253 Q2106.2 314.855 2108.45 314.855 Q2111.46 314.855 2113.08 313.837 Q2114.7 312.795 2114.7 310.92 Q2114.7 309.184 2113.52 308.258 Q2112.36 307.332 2108.4 306.476 L2106.92 306.128 Q2102.96 305.295 2101.2 303.582 Q2099.44 301.846 2099.44 298.837 Q2099.44 295.179 2102.03 293.189 Q2104.63 291.198 2109.4 291.198 Q2111.76 291.198 2113.84 291.545 Q2115.92 291.892 2117.68 292.587 Z\" fill=\"#000000\" fill-rule=\"evenodd\" fill-opacity=\"1\" /><path clip-path=\"url(#clip410)\" d=\"M2125.18 281.777 L2128.89 281.777 Q2132.36 287.24 2134.07 292.471 Q2135.81 297.702 2135.81 302.864 Q2135.81 308.05 2134.07 313.304 Q2132.36 318.559 2128.89 323.999 L2125.18 323.999 Q2128.26 318.698 2129.77 313.466 Q2131.29 308.212 2131.29 302.864 Q2131.29 297.517 2129.77 292.309 Q2128.26 287.101 2125.18 281.777 Z\" fill=\"#000000\" fill-rule=\"evenodd\" fill-opacity=\"1\" /></svg>\n"
      ]
     },
     "execution_count": 10,
     "metadata": {},
     "output_type": "execute_result"
    }
   ],
   "source": [
    "simData = fmiSimulateME(myFMU, tStart, tStop; recordValues=vrs)\n",
    "fmiPlot!(fig, simData; states=false, style=:dash)"
   ]
  },
  {
   "cell_type": "markdown",
   "metadata": {},
   "source": [
    "As expected by overwriting the function, all values are doubled."
   ]
  },
  {
   "cell_type": "markdown",
   "metadata": {},
   "source": [
    "### Unload FMU\n",
    "\n",
    "After plotting the data, the FMU is unloaded and all unpacked data on disc is removed."
   ]
  },
  {
   "cell_type": "code",
   "execution_count": 11,
   "metadata": {
    "execution": {
     "iopub.execute_input": "2022-12-09T13:15:38.754000Z",
     "iopub.status.busy": "2022-12-09T13:15:38.754000Z",
     "iopub.status.idle": "2022-12-09T13:15:38.828000Z",
     "shell.execute_reply": "2022-12-09T13:15:38.828000Z"
    }
   },
   "outputs": [],
   "source": [
    "fmiUnload(myFMU)"
   ]
  },
  {
   "cell_type": "markdown",
   "metadata": {},
   "source": [
    "### Summary\n",
    "\n",
    "In this tutorial it is shown how an existing function of the library can be replaced by an own implementation. Through this possibility, there are almost no limits for the user, whereby the user can customize the function to his liking."
   ]
  }
 ],
 "metadata": {
  "interpreter": {
   "hash": "037537ff7419c497b9325f7d495147943224d408cf5d5ed915294a5b960167b0"
  },
  "jupytext": {
   "cell_metadata_filter": "-all",
   "comment_magics": "false",
   "notebook_metadata_filter": "-all"
  },
  "kernelspec": {
   "display_name": "Julia 1.6.6",
   "language": "julia",
   "name": "julia-1.6"
  },
  "language_info": {
   "file_extension": ".jl",
   "mimetype": "application/julia",
   "name": "julia",
   "version": "1.6.7"
  },
  "nteract": {
   "version": "0.28.0"
  }
 },
 "nbformat": 4,
 "nbformat_minor": 2
}
